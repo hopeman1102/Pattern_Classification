{
 "metadata": {
  "name": "",
  "signature": "sha256:05a61017e84713586c6b8a78f608dc52f73668215c787e3487d9fc30172d0327"
 },
 "nbformat": 3,
 "nbformat_minor": 0,
 "worksheets": [
  {
   "cells": [
    {
     "cell_type": "heading",
     "level": 1,
     "metadata": {},
     "source": [
      "Introduction"
     ]
    },
    {
     "cell_type": "heading",
     "level": 1,
     "metadata": {},
     "source": [
      "Sections"
     ]
    },
    {
     "cell_type": "markdown",
     "metadata": {},
     "source": [
      "- [Cross Validation](Cross-validation)\n",
      "- [Bootstrapping](#Bootstrapping)\n",
      "- [Jackknifing](#Jackknifing)\n",
      "- [A K-fold Cross Validation Example](#A-K-fold-Cross-Validation-Example)\n",
      "    - [Reading in the Iris dataset](#Reading-in-the-Iris-dataset)\n",
      "    - [Resampling into Test and Training datasets](#Resampling-into-Test-and-Training-datasets)\n",
      "    - [Cross Validation](#Cross-Validation)\n",
      "    - [Training the classifier](#Training-the-classifier)\n",
      "    - [Standardization](#Standardization)\n",
      "    - [Dimensionality Reduction: Linear Discriminant Analysis (LDA)](Dimensionality-Reduction:-Linear-Discriminant-Analysis-(LDA))\n",
      "    - [Naive Bayes Classifier](#Naive-Bayes-Classifier)\n",
      "    - [Evaluation](#Evaluation)"
     ]
    },
    {
     "cell_type": "markdown",
     "metadata": {},
     "source": [
      "<br>\n",
      "<br>"
     ]
    },
    {
     "cell_type": "heading",
     "level": 1,
     "metadata": {},
     "source": [
      "Cross Validation"
     ]
    },
    {
     "cell_type": "markdown",
     "metadata": {},
     "source": [
      "[[back to top](#Sections)]"
     ]
    },
    {
     "cell_type": "markdown",
     "metadata": {},
     "source": [
      "<br>\n",
      "<br>"
     ]
    },
    {
     "cell_type": "heading",
     "level": 1,
     "metadata": {},
     "source": [
      "Bootstrapping"
     ]
    },
    {
     "cell_type": "markdown",
     "metadata": {},
     "source": [
      "[[back to top](#Sections)]"
     ]
    },
    {
     "cell_type": "markdown",
     "metadata": {},
     "source": [
      "<br>\n",
      "<br>"
     ]
    },
    {
     "cell_type": "heading",
     "level": 1,
     "metadata": {},
     "source": [
      "Jackknifing"
     ]
    },
    {
     "cell_type": "markdown",
     "metadata": {},
     "source": [
      "[[back to top](#Sections)]"
     ]
    },
    {
     "cell_type": "markdown",
     "metadata": {},
     "source": [
      "<br>\n",
      "<br>"
     ]
    },
    {
     "cell_type": "heading",
     "level": 1,
     "metadata": {},
     "source": [
      "A K-fold Cross Validation Example"
     ]
    },
    {
     "cell_type": "markdown",
     "metadata": {},
     "source": [
      "[[back to top](#Sections)]"
     ]
    },
    {
     "cell_type": "markdown",
     "metadata": {},
     "source": [
      "<br>\n",
      "<br>"
     ]
    },
    {
     "cell_type": "heading",
     "level": 2,
     "metadata": {},
     "source": [
      "Reading in the Iris dataset"
     ]
    },
    {
     "cell_type": "markdown",
     "metadata": {},
     "source": [
      "[[back to top](#Sections)]"
     ]
    },
    {
     "cell_type": "code",
     "collapsed": false,
     "input": [
      "feature_dict = {i:label for i,label in zip(\n",
      "            range(4),\n",
      "              ('sepal length in cm', \n",
      "              'sepal width in cm', \n",
      "              'petal length in cm', \n",
      "              'petal width in cm', ))}"
     ],
     "language": "python",
     "metadata": {},
     "outputs": [],
     "prompt_number": 1
    },
    {
     "cell_type": "code",
     "collapsed": false,
     "input": [
      "import pandas as pd\n",
      "\n",
      "df = pd.io.parsers.read_csv(\n",
      "    filepath_or_buffer='https://archive.ics.uci.edu/ml/machine-learning-databases/iris/iris.data', \n",
      "    header=None, \n",
      "    sep=',', \n",
      "    )\n",
      "df.columns = [l for i,l in sorted(feature_dict.items())] + ['class label']\n",
      "df.dropna(how=\"all\", inplace=True) # to drop the empty line at file-end\n",
      "\n",
      "df.tail()"
     ],
     "language": "python",
     "metadata": {},
     "outputs": [
      {
       "html": [
        "<div style=\"max-height:1000px;max-width:1500px;overflow:auto;\">\n",
        "<table border=\"1\" class=\"dataframe\">\n",
        "  <thead>\n",
        "    <tr style=\"text-align: right;\">\n",
        "      <th></th>\n",
        "      <th>sepal length in cm</th>\n",
        "      <th>sepal width in cm</th>\n",
        "      <th>petal length in cm</th>\n",
        "      <th>petal width in cm</th>\n",
        "      <th>class label</th>\n",
        "    </tr>\n",
        "  </thead>\n",
        "  <tbody>\n",
        "    <tr>\n",
        "      <th>145</th>\n",
        "      <td> 6.7</td>\n",
        "      <td> 3.0</td>\n",
        "      <td> 5.2</td>\n",
        "      <td> 2.3</td>\n",
        "      <td> Iris-virginica</td>\n",
        "    </tr>\n",
        "    <tr>\n",
        "      <th>146</th>\n",
        "      <td> 6.3</td>\n",
        "      <td> 2.5</td>\n",
        "      <td> 5.0</td>\n",
        "      <td> 1.9</td>\n",
        "      <td> Iris-virginica</td>\n",
        "    </tr>\n",
        "    <tr>\n",
        "      <th>147</th>\n",
        "      <td> 6.5</td>\n",
        "      <td> 3.0</td>\n",
        "      <td> 5.2</td>\n",
        "      <td> 2.0</td>\n",
        "      <td> Iris-virginica</td>\n",
        "    </tr>\n",
        "    <tr>\n",
        "      <th>148</th>\n",
        "      <td> 6.2</td>\n",
        "      <td> 3.4</td>\n",
        "      <td> 5.4</td>\n",
        "      <td> 2.3</td>\n",
        "      <td> Iris-virginica</td>\n",
        "    </tr>\n",
        "    <tr>\n",
        "      <th>149</th>\n",
        "      <td> 5.9</td>\n",
        "      <td> 3.0</td>\n",
        "      <td> 5.1</td>\n",
        "      <td> 1.8</td>\n",
        "      <td> Iris-virginica</td>\n",
        "    </tr>\n",
        "  </tbody>\n",
        "</table>\n",
        "</div>"
       ],
       "metadata": {},
       "output_type": "pyout",
       "prompt_number": 28,
       "text": [
        "     sepal length in cm  sepal width in cm  petal length in cm  \\\n",
        "145                 6.7                3.0                 5.2   \n",
        "146                 6.3                2.5                 5.0   \n",
        "147                 6.5                3.0                 5.2   \n",
        "148                 6.2                3.4                 5.4   \n",
        "149                 5.9                3.0                 5.1   \n",
        "\n",
        "     petal width in cm     class label  \n",
        "145                2.3  Iris-virginica  \n",
        "146                1.9  Iris-virginica  \n",
        "147                2.0  Iris-virginica  \n",
        "148                2.3  Iris-virginica  \n",
        "149                1.8  Iris-virginica  "
       ]
      }
     ],
     "prompt_number": 28
    },
    {
     "cell_type": "code",
     "collapsed": false,
     "input": [
      "from sklearn.preprocessing import LabelEncoder\n",
      "\n",
      "X = df[[0,1,2,3]].values \n",
      "y = df['class label'].values\n",
      "\n",
      "enc = LabelEncoder()\n",
      "label_encoder = enc.fit(y)\n",
      "y = label_encoder.transform(y) + 1\n",
      "\n",
      "label_dict = {1: 'Setosa', 2: 'Versicolor', 3:'Virginica'}"
     ],
     "language": "python",
     "metadata": {},
     "outputs": [],
     "prompt_number": 29
    },
    {
     "cell_type": "markdown",
     "metadata": {},
     "source": [
      "<br>\n",
      "<br>"
     ]
    },
    {
     "cell_type": "heading",
     "level": 2,
     "metadata": {},
     "source": [
      "Resampling into Test and Training datasets"
     ]
    },
    {
     "cell_type": "markdown",
     "metadata": {},
     "source": [
      "[[back to top](#Sections)]"
     ]
    },
    {
     "cell_type": "code",
     "collapsed": false,
     "input": [
      "from sklearn.cross_validation import train_test_split\n",
      "\n",
      "X_train, X_test, y_train, y_test = train_test_split(X, y,\n",
      "    test_size=0.40, random_state=12345)"
     ],
     "language": "python",
     "metadata": {},
     "outputs": [],
     "prompt_number": 30
    },
    {
     "cell_type": "markdown",
     "metadata": {},
     "source": [
      "<br>\n",
      "<br>"
     ]
    },
    {
     "cell_type": "heading",
     "level": 2,
     "metadata": {},
     "source": [
      "Cross Validation"
     ]
    },
    {
     "cell_type": "markdown",
     "metadata": {},
     "source": [
      "[[back to top](#Sections)]"
     ]
    },
    {
     "cell_type": "markdown",
     "metadata": {},
     "source": [
      "Accuracy is calculated as the number of correct predictions divided by the number of total predictions"
     ]
    },
    {
     "cell_type": "code",
     "collapsed": false,
     "input": [
      "from sklearn.cross_validation import cross_val_score, KFold\n",
      "from sklearn.pipeline import Pipeline\n",
      "from sklearn.naive_bayes import GaussianNB\n",
      "from sklearn.preprocessing import StandardScaler\n",
      "from sklearn.lda import LDA\n",
      "from sklearn.decomposition import PCA\n",
      "\n",
      "clf_all = Pipeline([\n",
      "    ('scaler', StandardScaler()),           \n",
      "    ('model', GaussianNB())   \n",
      "    ])\n",
      "\n",
      "clf_pca = Pipeline([\n",
      "    ('scaler', StandardScaler()),    \n",
      "    ('dim_red', PCA(n_components=2)),\n",
      "    ('model', GaussianNB())   \n",
      "    ])\n",
      "\n",
      "clf_lda = Pipeline([\n",
      "    ('scaler', StandardScaler()), \n",
      "    ('dim_red', LDA(n_components=2)),\n",
      "    ('model', GaussianNB())   \n",
      "    ])\n",
      "\n",
      "# Constructing the k-fold cross validation iterator (k=5)  \n",
      "\n",
      "cv = KFold(n=X_train.shape[0],  # total number of samples\n",
      "           n_folds=5,           # number of folds the dataset is divided into\n",
      "           shuffle=True,        # shuffles data prior to splitting it into folds\n",
      "           random_state=12345)\n",
      "\n",
      "scores = [\n",
      "    cross_val_score(clf, X_train, y_train, cv=cv, scoring='accuracy')\n",
      "            for clf in [clf_all, clf_pca, clf_lda]\n",
      "    ]"
     ],
     "language": "python",
     "metadata": {},
     "outputs": [],
     "prompt_number": 35
    },
    {
     "cell_type": "code",
     "collapsed": false,
     "input": [
      "print('Scores (all samples):', scores[0])\n",
      "print(\"Accuracy: {:.2%} (+/- {:.2%})\".format(scores[0].mean(), scores[0].std()))"
     ],
     "language": "python",
     "metadata": {},
     "outputs": [
      {
       "output_type": "stream",
       "stream": "stdout",
       "text": [
        "Scores (all samples): [ 1.          0.88888889  0.88888889  1.          0.94444444]\n",
        "Accuracy: 94.44% (+/- 4.97%)\n"
       ]
      }
     ],
     "prompt_number": 23
    },
    {
     "cell_type": "code",
     "collapsed": false,
     "input": [
      "for score,label in zip(scores, \n",
      "                       ['all samples', 'PCA dim. red. (n=2)', 'LDA dim. red. (n=2)']\n",
      "                       ):\n",
      "    print(\"Accuracy: {:.2%} (+/- {:.2%}), {:}\".format(score.mean(), score.std(), label))"
     ],
     "language": "python",
     "metadata": {},
     "outputs": [
      {
       "output_type": "stream",
       "stream": "stdout",
       "text": [
        "Accuracy: 94.44% (+/- 4.97%), all samples\n",
        "Accuracy: 84.44% (+/- 6.48%), PCA dim. red. (n=2)\n",
        "Accuracy: 95.56% (+/- 4.16%), LDA dim. red. (n=2)\n"
       ]
      }
     ],
     "prompt_number": 25
    },
    {
     "cell_type": "markdown",
     "metadata": {},
     "source": [
      "<br>\n",
      "<br>"
     ]
    },
    {
     "cell_type": "heading",
     "level": 2,
     "metadata": {},
     "source": [
      "Training the classifier"
     ]
    },
    {
     "cell_type": "markdown",
     "metadata": {},
     "source": [
      "[[back to top](#Sections)]"
     ]
    },
    {
     "cell_type": "markdown",
     "metadata": {},
     "source": [
      "<br>\n",
      "<br>"
     ]
    },
    {
     "cell_type": "heading",
     "level": 3,
     "metadata": {},
     "source": [
      "Standardization"
     ]
    },
    {
     "cell_type": "markdown",
     "metadata": {},
     "source": [
      "[[back to top](#Sections)]"
     ]
    },
    {
     "cell_type": "code",
     "collapsed": false,
     "input": [
      "std_scale = StandardScaler().fit(X_train)\n",
      "X_train = std_scale.transform(X_train)\n",
      "X_test = std_scale.transform(X_test)"
     ],
     "language": "python",
     "metadata": {},
     "outputs": [],
     "prompt_number": 10
    },
    {
     "cell_type": "markdown",
     "metadata": {},
     "source": [
      "<br>\n",
      "<br>"
     ]
    },
    {
     "cell_type": "heading",
     "level": 3,
     "metadata": {},
     "source": [
      "Dimensionality Reduction: Linear Discriminant Analysis (LDA)"
     ]
    },
    {
     "cell_type": "markdown",
     "metadata": {},
     "source": [
      "[[back to top](#Sections)]"
     ]
    },
    {
     "cell_type": "code",
     "collapsed": false,
     "input": [
      "sklearn_lda = LDA(n_components=2).fit(X_train, y_train)\n",
      "X_train = sklearn_lda.transform(X_train)\n",
      "X_test = sklearn_lda.transform(X_test)"
     ],
     "language": "python",
     "metadata": {},
     "outputs": [],
     "prompt_number": 11
    },
    {
     "cell_type": "markdown",
     "metadata": {},
     "source": [
      "<br>\n",
      "<br>"
     ]
    },
    {
     "cell_type": "heading",
     "level": 3,
     "metadata": {},
     "source": [
      "Naive Bayes Classifier"
     ]
    },
    {
     "cell_type": "markdown",
     "metadata": {},
     "source": [
      "[[back to top](#Sections)]"
     ]
    },
    {
     "cell_type": "code",
     "collapsed": false,
     "input": [
      "gnb_clf = GaussianNB()\n",
      "gnb_clf.fit(X_train, y_train)\n",
      "\n",
      "pred_test = gnb_clf.predict(X_test)"
     ],
     "language": "python",
     "metadata": {},
     "outputs": [],
     "prompt_number": 15
    },
    {
     "cell_type": "markdown",
     "metadata": {},
     "source": [
      "<br>\n",
      "<br>"
     ]
    },
    {
     "cell_type": "heading",
     "level": 3,
     "metadata": {},
     "source": [
      "Evaluation"
     ]
    },
    {
     "cell_type": "markdown",
     "metadata": {},
     "source": [
      "[[back to top](#Sections)]"
     ]
    },
    {
     "cell_type": "code",
     "collapsed": false,
     "input": [
      "from sklearn import metrics\n",
      "\n",
      "pred_test = gnb_clf.predict(X_test)\n",
      "\n",
      "print('Prediction accuracy for the test dataset')\n",
      "print('{:.2%}'.format(metrics.accuracy_score(y_test, pred_test)))\n",
      "\n",
      "print('Confusion Matrix of the GNB-classifier')\n",
      "print(metrics.confusion_matrix(y_test, gnb_clf.predict(X_test)))"
     ],
     "language": "python",
     "metadata": {},
     "outputs": [
      {
       "output_type": "stream",
       "stream": "stdout",
       "text": [
        "Prediction accuracy for the test dataset\n",
        "100.00%\n",
        "Confusion Matrix of the GNB-classifier\n",
        "[[21  0  0]\n",
        " [ 0 22  0]\n",
        " [ 0  0 17]]\n"
       ]
      }
     ],
     "prompt_number": 16
    },
    {
     "cell_type": "code",
     "collapsed": false,
     "input": [
      "# plot decision regions"
     ],
     "language": "python",
     "metadata": {},
     "outputs": []
    }
   ],
   "metadata": {}
  }
 ]
}