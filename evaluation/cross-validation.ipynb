{
 "metadata": {
  "name": "",
  "signature": "sha256:f47cdb88b392068632307f333229ec83e8305108b83c91e0efc2ff0062f3b3c2"
 },
 "nbformat": 3,
 "nbformat_minor": 0,
 "worksheets": [
  {
   "cells": [
    {
     "cell_type": "heading",
     "level": 1,
     "metadata": {},
     "source": [
      "Introduction"
     ]
    },
    {
     "cell_type": "heading",
     "level": 1,
     "metadata": {},
     "source": [
      "Sections"
     ]
    },
    {
     "cell_type": "markdown",
     "metadata": {},
     "source": [
      "- [Cross Validation](Cross-validation)\n",
      "- [Bootstrapping](#Bootstrapping)\n",
      "- [Jackknifing](#Jackknifing)\n",
      "- [A K-fold Cross Validation Example](#A-K-fold-Cross-Validation-Example)\n",
      "    - [Reading in the Wine dataset](#Reading-in-the-Wine-dataset)\n",
      "    - [Resampling into Test and Training datasets](#Resampling-into-Test-and-Training-datasets)\n",
      "    - [Cross Validation](#Cross-Validation)\n",
      "    - [Training the classifier](#Training-the-classifier)\n",
      "    - [Standardization](#Standardization)\n",
      "    - [Dimensionality Reduction: Linear Discriminant Analysis (LDA)](Dimensionality-Reduction:-Linear-Discriminant-Analysis-(LDA))\n",
      "    - [Naive Bayes Classifier](#Naive-Bayes-Classifier)\n",
      "    - [Evaluation](#Evaluation)"
     ]
    },
    {
     "cell_type": "markdown",
     "metadata": {},
     "source": [
      "<br>\n",
      "<br>"
     ]
    },
    {
     "cell_type": "heading",
     "level": 1,
     "metadata": {},
     "source": [
      "Cross Validation"
     ]
    },
    {
     "cell_type": "markdown",
     "metadata": {},
     "source": [
      "[[back to top](#Sections)]"
     ]
    },
    {
     "cell_type": "markdown",
     "metadata": {},
     "source": [
      "<br>\n",
      "<br>"
     ]
    },
    {
     "cell_type": "heading",
     "level": 1,
     "metadata": {},
     "source": [
      "Bootstrapping"
     ]
    },
    {
     "cell_type": "markdown",
     "metadata": {},
     "source": [
      "[[back to top](#Sections)]"
     ]
    },
    {
     "cell_type": "markdown",
     "metadata": {},
     "source": [
      "<br>\n",
      "<br>"
     ]
    },
    {
     "cell_type": "heading",
     "level": 1,
     "metadata": {},
     "source": [
      "Jackknifing"
     ]
    },
    {
     "cell_type": "markdown",
     "metadata": {},
     "source": [
      "[[back to top](#Sections)]"
     ]
    },
    {
     "cell_type": "markdown",
     "metadata": {},
     "source": [
      "<br>\n",
      "<br>"
     ]
    },
    {
     "cell_type": "heading",
     "level": 1,
     "metadata": {},
     "source": [
      "A K-fold Cross Validation Example"
     ]
    },
    {
     "cell_type": "markdown",
     "metadata": {},
     "source": [
      "[[back to top](#Sections)]"
     ]
    },
    {
     "cell_type": "markdown",
     "metadata": {},
     "source": [
      "<br>\n",
      "<br>"
     ]
    },
    {
     "cell_type": "heading",
     "level": 2,
     "metadata": {},
     "source": [
      "Reading in the Wine dataset"
     ]
    },
    {
     "cell_type": "markdown",
     "metadata": {},
     "source": [
      "[[back to top](#Sections)]"
     ]
    },
    {
     "cell_type": "code",
     "collapsed": false,
     "input": [
      "import pandas as pd\n",
      "\n",
      "df = pd.io.parsers.read_csv(\n",
      "    filepath_or_buffer='https://raw.githubusercontent.com/rasbt/pattern_classification/master/data/wine_data.csv', \n",
      "    header=None, \n",
      "    sep=',', \n",
      "    )\n",
      "df.tail()"
     ],
     "language": "python",
     "metadata": {},
     "outputs": [
      {
       "html": [
        "<div style=\"max-height:1000px;max-width:1500px;overflow:auto;\">\n",
        "<table border=\"1\" class=\"dataframe\">\n",
        "  <thead>\n",
        "    <tr style=\"text-align: right;\">\n",
        "      <th></th>\n",
        "      <th>0</th>\n",
        "      <th>1</th>\n",
        "      <th>2</th>\n",
        "      <th>3</th>\n",
        "      <th>4</th>\n",
        "      <th>5</th>\n",
        "      <th>6</th>\n",
        "      <th>7</th>\n",
        "      <th>8</th>\n",
        "      <th>9</th>\n",
        "      <th>10</th>\n",
        "      <th>11</th>\n",
        "      <th>12</th>\n",
        "      <th>13</th>\n",
        "    </tr>\n",
        "  </thead>\n",
        "  <tbody>\n",
        "    <tr>\n",
        "      <th>173</th>\n",
        "      <td> 3</td>\n",
        "      <td> 13.71</td>\n",
        "      <td> 5.65</td>\n",
        "      <td> 2.45</td>\n",
        "      <td> 20.5</td>\n",
        "      <td>  95</td>\n",
        "      <td> 1.68</td>\n",
        "      <td> 0.61</td>\n",
        "      <td> 0.52</td>\n",
        "      <td> 1.06</td>\n",
        "      <td>  7.7</td>\n",
        "      <td> 0.64</td>\n",
        "      <td> 1.74</td>\n",
        "      <td> 740</td>\n",
        "    </tr>\n",
        "    <tr>\n",
        "      <th>174</th>\n",
        "      <td> 3</td>\n",
        "      <td> 13.40</td>\n",
        "      <td> 3.91</td>\n",
        "      <td> 2.48</td>\n",
        "      <td> 23.0</td>\n",
        "      <td> 102</td>\n",
        "      <td> 1.80</td>\n",
        "      <td> 0.75</td>\n",
        "      <td> 0.43</td>\n",
        "      <td> 1.41</td>\n",
        "      <td>  7.3</td>\n",
        "      <td> 0.70</td>\n",
        "      <td> 1.56</td>\n",
        "      <td> 750</td>\n",
        "    </tr>\n",
        "    <tr>\n",
        "      <th>175</th>\n",
        "      <td> 3</td>\n",
        "      <td> 13.27</td>\n",
        "      <td> 4.28</td>\n",
        "      <td> 2.26</td>\n",
        "      <td> 20.0</td>\n",
        "      <td> 120</td>\n",
        "      <td> 1.59</td>\n",
        "      <td> 0.69</td>\n",
        "      <td> 0.43</td>\n",
        "      <td> 1.35</td>\n",
        "      <td> 10.2</td>\n",
        "      <td> 0.59</td>\n",
        "      <td> 1.56</td>\n",
        "      <td> 835</td>\n",
        "    </tr>\n",
        "    <tr>\n",
        "      <th>176</th>\n",
        "      <td> 3</td>\n",
        "      <td> 13.17</td>\n",
        "      <td> 2.59</td>\n",
        "      <td> 2.37</td>\n",
        "      <td> 20.0</td>\n",
        "      <td> 120</td>\n",
        "      <td> 1.65</td>\n",
        "      <td> 0.68</td>\n",
        "      <td> 0.53</td>\n",
        "      <td> 1.46</td>\n",
        "      <td>  9.3</td>\n",
        "      <td> 0.60</td>\n",
        "      <td> 1.62</td>\n",
        "      <td> 840</td>\n",
        "    </tr>\n",
        "    <tr>\n",
        "      <th>177</th>\n",
        "      <td> 3</td>\n",
        "      <td> 14.13</td>\n",
        "      <td> 4.10</td>\n",
        "      <td> 2.74</td>\n",
        "      <td> 24.5</td>\n",
        "      <td>  96</td>\n",
        "      <td> 2.05</td>\n",
        "      <td> 0.76</td>\n",
        "      <td> 0.56</td>\n",
        "      <td> 1.35</td>\n",
        "      <td>  9.2</td>\n",
        "      <td> 0.61</td>\n",
        "      <td> 1.60</td>\n",
        "      <td> 560</td>\n",
        "    </tr>\n",
        "  </tbody>\n",
        "</table>\n",
        "</div>"
       ],
       "metadata": {},
       "output_type": "pyout",
       "prompt_number": 4,
       "text": [
        "     0      1     2     3     4    5     6     7     8     9     10    11  \\\n",
        "173   3  13.71  5.65  2.45  20.5   95  1.68  0.61  0.52  1.06   7.7  0.64   \n",
        "174   3  13.40  3.91  2.48  23.0  102  1.80  0.75  0.43  1.41   7.3  0.70   \n",
        "175   3  13.27  4.28  2.26  20.0  120  1.59  0.69  0.43  1.35  10.2  0.59   \n",
        "176   3  13.17  2.59  2.37  20.0  120  1.65  0.68  0.53  1.46   9.3  0.60   \n",
        "177   3  14.13  4.10  2.74  24.5   96  2.05  0.76  0.56  1.35   9.2  0.61   \n",
        "\n",
        "       12   13  \n",
        "173  1.74  740  \n",
        "174  1.56  750  \n",
        "175  1.56  835  \n",
        "176  1.62  840  \n",
        "177  1.60  560  "
       ]
      }
     ],
     "prompt_number": 4
    },
    {
     "cell_type": "code",
     "collapsed": false,
     "input": [
      "%matplotlib inline"
     ],
     "language": "python",
     "metadata": {},
     "outputs": [],
     "prompt_number": 2
    },
    {
     "cell_type": "code",
     "collapsed": false,
     "input": [
      "from matplotlib import pyplot as plt\n",
      "import numpy as np\n",
      "import math\n",
      "\n",
      "X = df.values[:,1:] # feature vectors\n",
      "y = df.values[:,0]  # class labels\n",
      "\n",
      "fig, axes = plt.subplots(nrows=4, ncols=4, figsize=(12,10))\n",
      "\n",
      "for ax,cnt in zip(axes.ravel(), range(13)):\n",
      "\n",
      "    # set bin sizes\n",
      "    min_b = math.floor(np.min(X[:,cnt]))\n",
      "    max_b = math.ceil(np.max(X[:,cnt]))\n",
      "    bins = np.linspace(min_b, max_b, 25)\n",
      "\n",
      "    # plottling the histograms\n",
      "    for lab,col in zip(range(1,4), ('blue', 'red', 'green')):\n",
      "        ax.hist(X[y==lab, cnt],\n",
      "                   color=col, \n",
      "                   label='class %s' %col, \n",
      "                   bins=bins,\n",
      "                   alpha=0.5,)\n",
      "    ylims = ax.get_ylim()\n",
      "\n",
      "    # plot annotation\n",
      "    leg.get_frame().set_alpha(0.5)\n",
      "    ax.set_ylim([0, max(ylims)+2])\n",
      "    ax.set_xlabel('feature column %s' %cnt)\n",
      "    ax.set_title('Wine histogram #%s' %str(cnt+1))\n",
      "\n",
      "    # hide axis ticks\n",
      "    ax.tick_params(axis=\"both\", which=\"both\", bottom=\"off\", top=\"off\",  \n",
      "            labelbottom=\"on\", left=\"off\", right=\"off\", labelleft=\"on\")\n",
      "\n",
      "    # remove axis spines\n",
      "    ax.spines[\"top\"].set_visible(False)  \n",
      "    ax.spines[\"right\"].set_visible(False) \n",
      "    ax.spines[\"bottom\"].set_visible(False) \n",
      "    ax.spines[\"left\"].set_visible(False)\n",
      "\n",
      "# set y-axis labels\n",
      "for ax in axes:\n",
      "    ax[0].set_ylabel('count')\n",
      "\n",
      "\n",
      "# hide subplots that are not being used\n",
      "for i, ax in enumerate(axes.ravel()):\n",
      "\n",
      "    if i == 12:\n",
      "        ax.legend(loc='upper right', fancybox=True, fontsize=8)\n",
      "    if i > 12:\n",
      "        ax.axis('off')\n",
      "\n",
      "fig.tight_layout()\n",
      "\n",
      "plt.show()"
     ],
     "language": "python",
     "metadata": {},
     "outputs": [
      {
       "metadata": {},
       "output_type": "display_data",
       "png": "[encoded data removed]",
       "text": [
        "<matplotlib.figure.Figure at 0x10a31a630>"
       ]
      }
     ],
     "prompt_number": 39
    },
    {
     "cell_type": "markdown",
     "metadata": {},
     "source": [
      "<br>\n",
      "<br>"
     ]
    },
    {
     "cell_type": "heading",
     "level": 2,
     "metadata": {},
     "source": [
      "Resampling into Test and Training datasets"
     ]
    },
    {
     "cell_type": "markdown",
     "metadata": {},
     "source": [
      "[[back to top](#Sections)]"
     ]
    },
    {
     "cell_type": "code",
     "collapsed": false,
     "input": [
      "from sklearn.cross_validation import train_test_split\n",
      "\n",
      "X_train, X_test, y_train, y_test = train_test_split(df.values[:,1:], df.values[:,0],\n",
      "    test_size=0.30, random_state=123)"
     ],
     "language": "python",
     "metadata": {},
     "outputs": [],
     "prompt_number": 40
    },
    {
     "cell_type": "markdown",
     "metadata": {},
     "source": [
      "<br>\n",
      "<br>"
     ]
    },
    {
     "cell_type": "heading",
     "level": 2,
     "metadata": {},
     "source": [
      "Cross Validation"
     ]
    },
    {
     "cell_type": "markdown",
     "metadata": {},
     "source": [
      "[[back to top](#Sections)]"
     ]
    },
    {
     "cell_type": "markdown",
     "metadata": {},
     "source": [
      "Accuracy is calculated as the number of correct predictions divided by the number of total predictions"
     ]
    },
    {
     "cell_type": "code",
     "collapsed": false,
     "input": [
      "X_train[:,0:1].shape"
     ],
     "language": "python",
     "metadata": {},
     "outputs": [
      {
       "metadata": {},
       "output_type": "pyout",
       "prompt_number": 66,
       "text": [
        "(124, 1)"
       ]
      }
     ],
     "prompt_number": 66
    },
    {
     "cell_type": "code",
     "collapsed": false,
     "input": [
      "np.concatenate((X_train[:,0].reshape(X_train.shape[0],1), X_train[:,0].reshape(X_train.shape[0],1)), axis=1).shape"
     ],
     "language": "python",
     "metadata": {},
     "outputs": [
      {
       "metadata": {},
       "output_type": "pyout",
       "prompt_number": 63,
       "text": [
        "(124, 2)"
       ]
      }
     ],
     "prompt_number": 63
    },
    {
     "cell_type": "code",
     "collapsed": false,
     "input": [
      "class ColumnExtractor(object):\n",
      "    \n",
      "    def __init__(self, cols):\n",
      "        self.cols = cols\n",
      "    def transform(self, X):\n",
      "        col_list = []\n",
      "        for c in self.cols:\n",
      "            col_list.append(X[:, c:c+1])\n",
      "        return np.concatenate(col_list, axis=1)\n",
      "\n",
      "    def fit(self, X, y=None):\n",
      "        return self\n",
      "    \n",
      "#ColumnExtractor(cols=(1,6)).transform(X_train)"
     ],
     "language": "python",
     "metadata": {},
     "outputs": [],
     "prompt_number": 82
    },
    {
     "cell_type": "code",
     "collapsed": false,
     "input": [
      "from sklearn.cross_validation import cross_val_score, KFold\n",
      "from sklearn.pipeline import Pipeline\n",
      "from sklearn.naive_bayes import GaussianNB\n",
      "from sklearn.neighbors import KNeighborsClassifier\n",
      "from sklearn.preprocessing import StandardScaler\n",
      "from sklearn.lda import LDA\n",
      "from sklearn.decomposition import PCA\n",
      "\n",
      "clf_all = Pipeline(steps=[\n",
      "    ('scaler', StandardScaler()),\n",
      "    ('reduce_dim', ColumnExtractor(cols=(0,5))),           \n",
      "    ('classification', GaussianNB())   \n",
      "    ])\n",
      "\n",
      "clf_pca = Pipeline(steps=[\n",
      "    ('scaler', StandardScaler()),    \n",
      "    ('reduce_dim', PCA(n_components=2)),\n",
      "    ('classification', GaussianNB())   \n",
      "    ])\n",
      "\n",
      "clf_lda = Pipeline(steps=[\n",
      "    ('scaler', StandardScaler()), \n",
      "    ('reduce_dim', LDA(n_components=2)),\n",
      "    ('classification', GaussianNB())   \n",
      "    ])\n",
      "\n",
      "# Constructing the k-fold cross validation iterator (k=10)  \n",
      "\n",
      "cv = KFold(n=X_train.shape[0],  # total number of samples\n",
      "           n_folds=10,           # number of folds the dataset is divided into\n",
      "           shuffle=True,\n",
      "           random_state=123)\n",
      "\n",
      "scores = [\n",
      "    cross_val_score(clf, X_train, y_train, cv=cv, scoring='accuracy')\n",
      "            for clf in [clf_all, clf_pca, clf_lda]\n",
      "    ]"
     ],
     "language": "python",
     "metadata": {},
     "outputs": [],
     "prompt_number": 79
    },
    {
     "cell_type": "code",
     "collapsed": false,
     "input": [
      "print('Scores (all samples):', scores[0])\n",
      "print(\"Accuracy: {:.2%} (+/- {:.2%})\".format(scores[0].mean(), scores[0].std()))"
     ],
     "language": "python",
     "metadata": {},
     "outputs": [
      {
       "output_type": "stream",
       "stream": "stdout",
       "text": [
        "Scores (all samples): [ 0.84615385  0.84615385  1.          0.92307692  0.66666667  0.75\n",
        "  0.83333333  0.83333333  0.91666667  0.91666667]\n",
        "Accuracy: 85.32% (+/- 8.99%)\n"
       ]
      }
     ],
     "prompt_number": 80
    },
    {
     "cell_type": "code",
     "collapsed": false,
     "input": [
      "for score,label in zip(scores, \n",
      "                       ['all samples', \n",
      "                        'PCA dim. red. (n=2)', \n",
      "                        'LDA dim. red. (n=2)', \n",
      "                        ]\n",
      "                       ):\n",
      "    print(\"Accuracy: {:.2%} (+/- {:.2%}), {:}\".format(score.mean(), score.std(), label))"
     ],
     "language": "python",
     "metadata": {},
     "outputs": [
      {
       "output_type": "stream",
       "stream": "stdout",
       "text": [
        "Accuracy: 85.32% (+/- 8.99%), all samples\n",
        "Accuracy: 95.90% (+/- 5.55%), PCA dim. red. (n=2)\n",
        "Accuracy: 97.50% (+/- 3.82%), LDA dim. red. (n=2)\n"
       ]
      }
     ],
     "prompt_number": 81
    },
    {
     "cell_type": "markdown",
     "metadata": {},
     "source": [
      "<br>\n",
      "<br>"
     ]
    },
    {
     "cell_type": "heading",
     "level": 2,
     "metadata": {},
     "source": [
      "Training the classifier"
     ]
    },
    {
     "cell_type": "markdown",
     "metadata": {},
     "source": [
      "[[back to top](#Sections)]"
     ]
    },
    {
     "cell_type": "markdown",
     "metadata": {},
     "source": [
      "<br>\n",
      "<br>"
     ]
    },
    {
     "cell_type": "heading",
     "level": 3,
     "metadata": {},
     "source": [
      "Standardization"
     ]
    },
    {
     "cell_type": "markdown",
     "metadata": {},
     "source": [
      "[[back to top](#Sections)]"
     ]
    },
    {
     "cell_type": "code",
     "collapsed": false,
     "input": [
      "std_scale = StandardScaler().fit(X_train)\n",
      "X_train = std_scale.transform(X_train)\n",
      "X_test = std_scale.transform(X_test)"
     ],
     "language": "python",
     "metadata": {},
     "outputs": [],
     "prompt_number": 18
    },
    {
     "cell_type": "markdown",
     "metadata": {},
     "source": [
      "<br>\n",
      "<br>"
     ]
    },
    {
     "cell_type": "heading",
     "level": 3,
     "metadata": {},
     "source": [
      "Dimensionality Reduction: Linear Discriminant Analysis (LDA)"
     ]
    },
    {
     "cell_type": "markdown",
     "metadata": {},
     "source": [
      "[[back to top](#Sections)]"
     ]
    },
    {
     "cell_type": "code",
     "collapsed": false,
     "input": [
      "sklearn_lda = LDA(n_components=2).fit(X_train, y_train)\n",
      "X_train = sklearn_lda.transform(X_train)\n",
      "X_test = sklearn_lda.transform(X_test)"
     ],
     "language": "python",
     "metadata": {},
     "outputs": [],
     "prompt_number": 19
    },
    {
     "cell_type": "markdown",
     "metadata": {},
     "source": [
      "<br>\n",
      "<br>"
     ]
    },
    {
     "cell_type": "heading",
     "level": 3,
     "metadata": {},
     "source": [
      "Naive Bayes Classifier"
     ]
    },
    {
     "cell_type": "markdown",
     "metadata": {},
     "source": [
      "[[back to top](#Sections)]"
     ]
    },
    {
     "cell_type": "code",
     "collapsed": false,
     "input": [
      "gnb_clf = GaussianNB()\n",
      "gnb_clf.fit(X_train, y_train)\n",
      "\n",
      "pred_test = gnb_clf.predict(X_test)"
     ],
     "language": "python",
     "metadata": {},
     "outputs": [],
     "prompt_number": 20
    },
    {
     "cell_type": "markdown",
     "metadata": {},
     "source": [
      "<br>\n",
      "<br>"
     ]
    },
    {
     "cell_type": "heading",
     "level": 3,
     "metadata": {},
     "source": [
      "Evaluation"
     ]
    },
    {
     "cell_type": "markdown",
     "metadata": {},
     "source": [
      "[[back to top](#Sections)]"
     ]
    },
    {
     "cell_type": "code",
     "collapsed": false,
     "input": [
      "from sklearn import metrics\n",
      "\n",
      "pred_test = gnb_clf.predict(X_test)\n",
      "\n",
      "print('Prediction accuracy for the test dataset')\n",
      "print('{:.2%}'.format(metrics.accuracy_score(y_test, pred_test)))\n",
      "\n",
      "print('Confusion Matrix of the GNB-classifier')\n",
      "print(metrics.confusion_matrix(y_test, gnb_clf.predict(X_test)))"
     ],
     "language": "python",
     "metadata": {},
     "outputs": [
      {
       "output_type": "stream",
       "stream": "stdout",
       "text": [
        "Prediction accuracy for the test dataset\n",
        "98.15%\n",
        "Confusion Matrix of the GNB-classifier\n",
        "[[14  0  0]\n",
        " [ 0 18  0]\n",
        " [ 0  1 21]]\n"
       ]
      }
     ],
     "prompt_number": 21
    }
   ],
   "metadata": {}
  }
 ]
}