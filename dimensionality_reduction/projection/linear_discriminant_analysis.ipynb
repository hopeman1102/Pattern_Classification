{
 "metadata": {
  "name": "",
  "signature": "sha256:963f1c574ce8b0edcb1689b32527171b758beb27d4a87536a9239f7dfe13ee8c"
 },
 "nbformat": 3,
 "nbformat_minor": 0,
 "worksheets": [
  {
   "cells": [
    {
     "cell_type": "markdown",
     "metadata": {},
     "source": [
      "[Sebastian Raschka](http://www.sebastianraschka.com)  \n",
      "- Link to the containing GitHub Repository: [https://github.com/rasbt/pattern_classification](https://github.com/rasbt/pattern_classification)  \n",
      "- Link to this IPython Notebook on GitHub: [multiple_discriminant_analysis.ipynb](https://github.com/rasbt/pattern_classification/blob/master/dimensionality_reduction/projection/multiple_discriminant_analysis.ipynb)"
     ]
    },
    {
     "cell_type": "code",
     "collapsed": false,
     "input": [
      "%load_ext watermark"
     ],
     "language": "python",
     "metadata": {},
     "outputs": [],
     "prompt_number": 1
    },
    {
     "cell_type": "code",
     "collapsed": false,
     "input": [
      "%watermark -v -d -u -m"
     ],
     "language": "python",
     "metadata": {},
     "outputs": [
      {
       "output_type": "stream",
       "stream": "stdout",
       "text": [
        "Last updated: 20/07/2014 \n",
        "\n",
        "CPython 3.4.1\n",
        "IPython 2.1.0\n",
        "\n",
        "compiler   : GCC 4.2.1 (Apple Inc. build 5577)\n",
        "system     : Darwin\n",
        "release    : 13.3.0\n",
        "machine    : x86_64\n",
        "processor  : i386\n",
        "CPU cores  : 2\n",
        "interpreter: 64bit\n"
       ]
      }
     ],
     "prompt_number": 2
    },
    {
     "cell_type": "markdown",
     "metadata": {},
     "source": [
      "<font size=\"1.5em\">[More information](http://nbviewer.ipython.org/github/rasbt/python_reference/blob/master/ipython_magic/watermark.ipynb) about the `watermark` magic command extension.</font>"
     ]
    },
    {
     "cell_type": "markdown",
     "metadata": {},
     "source": [
      "<hr>\n",
      "I would be happy to hear your comments and suggestions. \n",
      "Please feel free to drop me a note via\n",
      "[twitter](https://twitter.com/rasbt), [email](mailto:bluewoodtree@gmail.com), or [google+](https://plus.google.com/+SebastianRaschka).\n",
      "<hr>"
     ]
    },
    {
     "cell_type": "heading",
     "level": 1,
     "metadata": {},
     "source": [
      "Linear Discriminant Analysis bit by bit"
     ]
    },
    {
     "cell_type": "markdown",
     "metadata": {},
     "source": [
      "<br>\n",
      "<br>"
     ]
    },
    {
     "cell_type": "heading",
     "level": 3,
     "metadata": {},
     "source": [
      "Sections"
     ]
    },
    {
     "cell_type": "markdown",
     "metadata": {},
     "source": [
      "\n",
      "- [Introduction](#Introduction)\n",
      "\n",
      "    - [Principal Component Analysis (PCA) Vs. Linear Discriminant Analysis (LDA)](#PCA-vs-LDA)\n",
      "    \n",
      "    - [What is a \"good\" feature subspace?](#What-is-a-\"good\"-feature-subspace?)\n",
      "\n",
      "    - [Summarizing the LDA approach in 5 steps](#Summarizing-the-LDA-approach-in-6-steps)\n",
      "\n",
      "- [Preparing the sample data set](#Preparing-the-sample-data-set)\n",
      "\n",
      "- [Step 1: Computing the d-dimensional mean vectors](#Step-1:-Computing-the-d-dimensional-mean-vectors)\n",
      "\n",
      "- [Step 2: Computing the Scatter Matrices](#Step-2:-Computing-the-Scatter-Matrices)"
     ]
    },
    {
     "cell_type": "markdown",
     "metadata": {},
     "source": [
      "<a name=\"introduction\"></a>\n",
      "<br>\n",
      "<br>"
     ]
    },
    {
     "cell_type": "heading",
     "level": 1,
     "metadata": {},
     "source": [
      "Introduction"
     ]
    },
    {
     "cell_type": "markdown",
     "metadata": {},
     "source": [
      "[[back to top](#Sections)]"
     ]
    },
    {
     "cell_type": "markdown",
     "metadata": {},
     "source": [
      "In the fields of machine learning and pattern classification, a typical application of a Linear Discriminant Analysis would be \n",
      "the projection of a multi-dimensional multi-class dataset onto a feature-subspace (\"dimensionality reduction\") that yields a better class separation with minimal loss of information.  \n",
      "The LDA can also be used as a classifier by using Bayes' rule and the class-conditional probability densities.\n",
      "\n",
      "**The general LDA approach is very similar to a Principal Component Analysis (PCA) (for more information, see the previous article [Implementing a Principal Component Analysis (PCA) in Python step by step](http://sebastianraschka.com/Articles/2014_pca_step_by_step.html)), but in addition to finding the component axes that maximize the variance of our data (PCA), we are additionally interested in the axes that maximize the separation of our classes (LDA).**"
     ]
    },
    {
     "cell_type": "markdown",
     "metadata": {},
     "source": [
      "So, in a nutshell, often the purpose of an LDA is to project a feature space (our dataset consisting of $n$ $d$-dimensional samples) onto a smaller subspace that represents our data \"well\" and has a good class separation. \n",
      "Dimensionality reduction does not only help to reduce computational costs for a given classification task, but it can also be helpful to avoid overfitting by minimizing the error in parameter estimation (\"curse of dimensionality\")."
     ]
    },
    {
     "cell_type": "markdown",
     "metadata": {},
     "source": [
      "<br>\n",
      "<br>"
     ]
    },
    {
     "cell_type": "markdown",
     "metadata": {},
     "source": [
      "<a id=\"PCA-vs-LDA\"></a>"
     ]
    },
    {
     "cell_type": "heading",
     "level": 3,
     "metadata": {},
     "source": [
      "Principal Component Analysis (PCA) Vs. Linear Discriminant Analysis (LDA)"
     ]
    },
    {
     "cell_type": "markdown",
     "metadata": {},
     "source": [
      "[[back to top](#Sections)]"
     ]
    },
    {
     "cell_type": "markdown",
     "metadata": {},
     "source": [
      "Both Linear Discriminant Analysis (LDA) and Principal Component Analysis (PCA) are linear transformation methods and closely related to each other. In PCA, we are interested to find the directions (components) that maximize the variance in our dataset, where in LDA, we are additionally interested to find the directions that maximize the separation (or discrimination) between multiple classes (in contrast to PCA, which \"ignores\" the class labels).  \n",
      "\n",
      "***In other words, via PCA, we are projecting the entire dataset without class labels onto a different subspace, and in LDA, we are trying to determine a suitable subspace to distinguish between patterns that belong to different classes. Or, roughly speaking: via PCA, we are trying to find the axes with maximum variances where the data is most spread (within a class, since PCA treats the whole data set as one class), and in LDA we are additionally maximizing the spread between classes. ***  \n",
      "\n",
      "![](../../Images/lda_1.png)\n"
     ]
    },
    {
     "cell_type": "markdown",
     "metadata": {},
     "source": [
      "<br>\n",
      "<br>"
     ]
    },
    {
     "cell_type": "heading",
     "level": 3,
     "metadata": {},
     "source": [
      "What is a \"good\" feature subspace?"
     ]
    },
    {
     "cell_type": "markdown",
     "metadata": {},
     "source": [
      "[[back to top](#Sections)]"
     ]
    },
    {
     "cell_type": "markdown",
     "metadata": {},
     "source": [
      "Let's assume that our goal is to reduce the dimensions of a $d$-dimensional dataset by projecting it onto a $(k)$-dimensional subspace (where $k\\;<\\;d$). \n",
      "So, how do we know what size we should choose for $k$ ($k$ = the number of dimensions of the new feature subspace), and how do we know if we have a feature space that represents our data \"well\"?  \n",
      "\n",
      "Later, we will compute eigenvectors (the components) from our data set and collect them in a so-called scatter-matrices (i.e., the in-between-class scatter matrix and within-class scatter matrix).  \n",
      "Each of these eigenvectors is associated with an eigenvalue, which tells us about the \"length\" or \"magnitude\" of the eigenvectors. \n",
      "\n",
      "If we would observe that all eigenvalues have a similar magnitude, then this may be a good indicator that our data is already projected on a \"good\" feature space.  \n",
      "\n",
      "And in the other scenario, if some of the eigenvalues are much much larger than others, we might be interested in keeping only those eigenvectors with the highest eigenvalues, since they contain more information about our data distribution. Vice versa, eigenvalues that are close to 0 are less informative and we might consider dropping those for constructing the new feature subspace."
     ]
    },
    {
     "cell_type": "markdown",
     "metadata": {},
     "source": [
      "<br>\n",
      "<br>"
     ]
    },
    {
     "cell_type": "heading",
     "level": 3,
     "metadata": {},
     "source": [
      "Summarizing the LDA approach in 5 steps"
     ]
    },
    {
     "cell_type": "markdown",
     "metadata": {},
     "source": [
      "[[back to top](#Sections)]"
     ]
    },
    {
     "cell_type": "markdown",
     "metadata": {},
     "source": [
      "Listed below are the 5 general steps for performing a linear discriminant analysis; we will explore them in more detail in the following sections.\n",
      "\n",
      "**[1.](#Step-1:-Computing-the-d-dimensional-mean-vectors)** Compute the $d$-dimensional mean vectors for the different classes from the dataset\n",
      "2. Compute the scatter matrices (in-between-class and within-class scatter matrix)\n",
      "3. Compute the eigenvectors ($\\pmb e_1, \\; \\pmb e_2, \\; ..., \\; \\pmb e_d $) and corresponding eigenvalues ($\\pmb \\lambda_1, \\; \\pmb \\lambda_2, \\; ..., \\; \\pmb \\lambda_d$) for the scatter matrices\n",
      "4. Sort the eigenvectors by decreasing eigenvalues and choose $k$ eigenvectors with the largest eigenvalues to form a $d \\times k $ dimensional matrix $\\pmb W\\;$ (where every column represents an eigenvector)\n",
      "5. Use this $d \\times k $ eigenvector matrix to transform the samples onto the new subspace. This can be summarized by the mathematical equation: $\\pmb y = \\pmb W^T \\times \\pmb x$ (where $\\pmb x$ is a $d \\times 1$-dimensional vector representing one sample, and $\\pmb y$ is the transformed $k \\times 1$-dimensional sample in the new subspace.)"
     ]
    },
    {
     "cell_type": "markdown",
     "metadata": {},
     "source": [
      "<a name=\"sample_data\"></a>\n",
      "<br>\n",
      "<br>"
     ]
    },
    {
     "cell_type": "heading",
     "level": 1,
     "metadata": {},
     "source": [
      "Preparing the sample data set"
     ]
    },
    {
     "cell_type": "markdown",
     "metadata": {},
     "source": [
      "[[back to top](#Sections)]"
     ]
    },
    {
     "cell_type": "markdown",
     "metadata": {},
     "source": [
      "For the following tutorial, we will be working with the free \"Wine\" Dataset that is deposited on the UCI machine learning repository  \n",
      "(http://archive.ics.uci.edu/ml/datasets/Wine).\n",
      "\n",
      "<br>\n",
      "\n",
      "<font size=\"1\">\n",
      "**Reference:**\n",
      "Forina, M. et al, PARVUS - An Extendible Package for Data\n",
      "Exploration, Classification and Correlation. Institute of Pharmaceutical\n",
      "and Food Analysis and Technologies, Via Brigata Salerno, \n",
      "16147 Genoa, Italy.</font>"
     ]
    },
    {
     "cell_type": "markdown",
     "metadata": {},
     "source": [
      "The Wine dataset consists of 3 different classes where each row correspond to a particular wine sample.\n",
      "\n",
      "The class labels (1, 2, 3) are listed in the first column, and the columns 2-14 correspond to the following 13 attributes (features):\n",
      "\n",
      "For this LDA tutorial, we will only consider the first 3 features:\n",
      "\n",
      "1) Alcohol  \n",
      "2) Malic acid  \n",
      "3) Ash "
     ]
    },
    {
     "cell_type": "markdown",
     "metadata": {},
     "source": [
      "**Why are we choosing a 3-dimensional sample?**\n",
      "\n",
      "The problem of multi-dimensional data is its visualization, which would make it quite tough to follow our examplart Linear Discriminant Analysis (at least visually). We could also choose a 2-dimensional sample data set for the following examples, but since the goal of the LDA in a \"Diminsionality Reduction\" application is to drop at least one of the dimensions, I find it more intuitive and visually appealing to start with a 3-dimensional dataset that we reduce to an 2-dimensional dataset by dropping 1 dimension."
     ]
    },
    {
     "cell_type": "code",
     "collapsed": false,
     "input": [
      "import pandas as pd\n",
      "import numpy as np\n",
      "\n",
      "df = pd.io.parsers.read_csv(\n",
      "    'https://raw.githubusercontent.com/rasbt/pattern_classification/master/data/wine_data.csv',\n",
      "    header=None,\n",
      "    usecols=range(4)\n",
      "    )\n",
      "\n",
      "df.columns=['Class label', 'Alcohol', 'Malic acid', 'Ash']\n",
      "df.head()"
     ],
     "language": "python",
     "metadata": {},
     "outputs": [
      {
       "html": [
        "<div style=\"max-height:1000px;max-width:1500px;overflow:auto;\">\n",
        "<table border=\"1\" class=\"dataframe\">\n",
        "  <thead>\n",
        "    <tr style=\"text-align: right;\">\n",
        "      <th></th>\n",
        "      <th>Class label</th>\n",
        "      <th>Alcohol</th>\n",
        "      <th>Malic acid</th>\n",
        "      <th>Ash</th>\n",
        "    </tr>\n",
        "  </thead>\n",
        "  <tbody>\n",
        "    <tr>\n",
        "      <th>0</th>\n",
        "      <td> 1</td>\n",
        "      <td> 14.23</td>\n",
        "      <td> 1.71</td>\n",
        "      <td> 2.43</td>\n",
        "    </tr>\n",
        "    <tr>\n",
        "      <th>1</th>\n",
        "      <td> 1</td>\n",
        "      <td> 13.20</td>\n",
        "      <td> 1.78</td>\n",
        "      <td> 2.14</td>\n",
        "    </tr>\n",
        "    <tr>\n",
        "      <th>2</th>\n",
        "      <td> 1</td>\n",
        "      <td> 13.16</td>\n",
        "      <td> 2.36</td>\n",
        "      <td> 2.67</td>\n",
        "    </tr>\n",
        "    <tr>\n",
        "      <th>3</th>\n",
        "      <td> 1</td>\n",
        "      <td> 14.37</td>\n",
        "      <td> 1.95</td>\n",
        "      <td> 2.50</td>\n",
        "    </tr>\n",
        "    <tr>\n",
        "      <th>4</th>\n",
        "      <td> 1</td>\n",
        "      <td> 13.24</td>\n",
        "      <td> 2.59</td>\n",
        "      <td> 2.87</td>\n",
        "    </tr>\n",
        "  </tbody>\n",
        "</table>\n",
        "</div>"
       ],
       "metadata": {},
       "output_type": "pyout",
       "prompt_number": 157,
       "text": [
        "   Class label  Alcohol  Malic acid   Ash\n",
        "0            1    14.23        1.71  2.43\n",
        "1            1    13.20        1.78  2.14\n",
        "2            1    13.16        2.36  2.67\n",
        "3            1    14.37        1.95  2.50\n",
        "4            1    13.24        2.59  2.87"
       ]
      }
     ],
     "prompt_number": 157
    },
    {
     "cell_type": "markdown",
     "metadata": {},
     "source": [
      "Since the features were obviously measured in different units (alcohol in volume percent, malic acid in g/l, etc.) we will standardize the features so that they are normally distributed (&mu;=0, &sigma;=1) - one requirement for the LDA to find the optimal discriminant linear function. For more details about the standardization procedure, please see the separate article [About Feature Scaling and Normalization\n",
      "and the effect of standardization for machine learning algorithms](http://sebastianraschka.com/Articles/2014_about_feature_scaling.html).  \n",
      "\n",
      "that LDA will produce the optimal discriminant linear function when each of the classes are normally distributed.\n",
      "\n",
      "Also, we will separate the class labels (variable `y`) and the feature matrix (variable `X`) for our convenience, so that each sample will be represented as a row vector in **X**, with the corresponding class label in **y**:"
     ]
    },
    {
     "cell_type": "markdown",
     "metadata": {},
     "source": [
      "$\\pmb X = \\begin{bmatrix} x_{1_{alc}}\\; x_{1_{malic}} \\; x_{1_{ash}}\\\\ \n",
      "x_{2_{alc}}\\; x_{2_{malic}} \\; x_{2_{ash}}\\\\ \n",
      "...  \\\\\n",
      "x_{178_{alc}}\\; x_{178_{malic}} \\; x_{178_{ash}}\\end{bmatrix}, \\;\\;\n",
      "\\pmb y = \\begin{bmatrix} \\omega_1\\\\ \n",
      "\\omega_1\\\\ \n",
      "...  \\\\\n",
      "\\omega_3\\end{bmatrix}$"
     ]
    },
    {
     "cell_type": "code",
     "collapsed": false,
     "input": [
      "from sklearn import preprocessing\n",
      "\n",
      "X = df.values[:,1:]\n",
      "y = df.values[:,0]\n",
      "\n",
      "std_scale = preprocessing.StandardScaler()\n",
      "X = std_scale.fit_transform(X)"
     ],
     "language": "python",
     "metadata": {},
     "outputs": [],
     "prompt_number": 158
    },
    {
     "cell_type": "markdown",
     "metadata": {},
     "source": [
      "<a name=\"sample_data\"></a>\n",
      "<br>\n",
      "<br>"
     ]
    },
    {
     "cell_type": "markdown",
     "metadata": {},
     "source": [
      "Just to get a rough idea how the samples of our three classes $\\omega_1$, $\\omega_2$ and $\\omega_3$ are distributed, let us plot them in a 3D scatter plot."
     ]
    },
    {
     "cell_type": "code",
     "collapsed": false,
     "input": [
      "%matplotlib inline"
     ],
     "language": "python",
     "metadata": {},
     "outputs": [],
     "prompt_number": 159
    },
    {
     "cell_type": "code",
     "collapsed": false,
     "input": [
      "from matplotlib import pyplot as plt\n",
      "from mpl_toolkits.mplot3d import Axes3D\n",
      "from mpl_toolkits.mplot3d import proj3d\n",
      "\n",
      "fig = plt.figure(figsize=(8,8))\n",
      "ax = fig.add_subplot(111, projection='3d')\n",
      "plt.rcParams['legend.fontsize'] = 10   \n",
      "\n",
      "colors = ('red', 'blue', 'green')\n",
      "markers = ('o', 's', '^')\n",
      "for i in range(3):\n",
      "    ax.plot(X[y==i+1, 0],\n",
      "            X[y==i+1, 1],\n",
      "            X[y==i+1, 2],\n",
      "            color=colors[i],\n",
      "            marker=markers[i],\n",
      "            alpha=0.5, \n",
      "            label='class %s' %(i+1),\n",
      "            ls=''\n",
      "            )\n",
      "\n",
      "plt.title('3 standardized features from the Wine dataset')\n",
      "ax.legend(loc='upper right')\n",
      "ax.set_xlabel('alcohol')\n",
      "ax.set_ylabel('malic acid')\n",
      "ax.set_zlabel('ash')\n",
      "\n",
      "plt.show()"
     ],
     "language": "python",
     "metadata": {},
     "outputs": [
      {
       "metadata": {},
       "output_type": "display_data",
       "png": "[encoded data removed]",
       "text": [
        "<matplotlib.figure.Figure at 0x107c1f5c0>"
       ]
      }
     ],
     "prompt_number": 160
    },
    {
     "cell_type": "markdown",
     "metadata": {},
     "source": [
      "<a name=\"sample_data\"></a>\n",
      "<br>\n",
      "<br>"
     ]
    },
    {
     "cell_type": "heading",
     "level": 1,
     "metadata": {},
     "source": [
      "Step 1: Computing the d-dimensional mean vectors"
     ]
    },
    {
     "cell_type": "markdown",
     "metadata": {},
     "source": [
      "[[back to top](#Sections)]"
     ]
    },
    {
     "cell_type": "markdown",
     "metadata": {},
     "source": [
      "In this step, we will compute the mean vectors $\\pmb m_i$, $(i = 1,2,3)$ for the 3 different classes:\n",
      "    \n",
      "$\\pmb m_i = \\begin{bmatrix} \n",
      "\\mu_{\\omega_i (alc)}\\\\ \n",
      "\\mu_{\\omega_i (mal)}\\\\ \n",
      "\\mu_{\\omega_i (ash)}\\end{bmatrix}$    "
     ]
    },
    {
     "cell_type": "code",
     "collapsed": false,
     "input": [
      "c1_mean = np.mean(X[y==1], axis=0)\n",
      "c2_mean = np.mean(X[y==2], axis=0)\n",
      "c3_mean = np.mean(X[y==3], axis=0)\n",
      "\n",
      "print('Mean Vector Class 1:', c1_mean)\n",
      "print('Mean Vector Class 2:', c2_mean)\n",
      "print('Mean Vector Class 3:', c3_mean)"
     ],
     "language": "python",
     "metadata": {},
     "outputs": [
      {
       "output_type": "stream",
       "stream": "stdout",
       "text": [
        "Mean Vector Class 1: [ 0.91919498 -0.29234227  0.32560449]\n",
        "Mean Vector Class 2: [-0.89171997 -0.36236171 -0.44495778]\n",
        "Mean Vector Class 3: [ 0.18915862  0.89533073  0.25794454]\n"
       ]
      }
     ],
     "prompt_number": 161
    },
    {
     "cell_type": "markdown",
     "metadata": {},
     "source": [
      "<a name=\"sample_data\"></a>\n",
      "<br>\n",
      "<br>"
     ]
    },
    {
     "cell_type": "markdown",
     "metadata": {},
     "source": [
      "<a name=\"sc_matrix\"></a>"
     ]
    },
    {
     "cell_type": "heading",
     "level": 1,
     "metadata": {},
     "source": [
      "\n",
      "Step 2: Computing the Scatter Matrices"
     ]
    },
    {
     "cell_type": "markdown",
     "metadata": {},
     "source": [
      "[[back to top](#Sections)]"
     ]
    },
    {
     "cell_type": "markdown",
     "metadata": {},
     "source": [
      "<br>\n",
      "<br>"
     ]
    },
    {
     "cell_type": "markdown",
     "metadata": {},
     "source": [
      "\n",
      "### 2.1 Within-class scatter matrix $S_W$"
     ]
    },
    {
     "cell_type": "markdown",
     "metadata": {},
     "source": [
      "The **within-class scatter** matrix $S_W$ is computed by the following equation:  \n",
      "\n",
      "$S_W = \\sum\\limits_{i=1}^{c} S_i$\n",
      "\n",
      "where  \n",
      "$S_i = \\sum\\limits_{\\pmb x \\in D_i}^n (\\pmb x - \\pmb m_i)\\;(\\pmb x - \\pmb m_i)^T$  \n",
      "(scatter matrix for every class) \n",
      "\n",
      "and $\\pmb m_i$ is the mean vector    \n",
      "$\\pmb m_i = \\frac{1}{n_i} \\sum\\limits_{\\pmb x \\in D_i}^n \\; \\pmb x_k$"
     ]
    },
    {
     "cell_type": "code",
     "collapsed": false,
     "input": [
      "scatter_matrix_w1 = np.zeros((3,3))\n",
      "for i in range(X[y == 1].shape[1]):\n",
      "    scatter_matrix_w1 += (X[y == 1][i].reshape(3,1) - \\\n",
      "                        c1_mean).dot((X[y == 1][i].reshape(3,1) - c1_mean).T)\n",
      "print('within-class Scatter Matrix 1:\\n', scatter_matrix_w1)"
     ],
     "language": "python",
     "metadata": {},
     "outputs": [
      {
       "output_type": "stream",
       "stream": "stdout",
       "text": [
        "within-class Scatter Matrix 1:\n",
        " [[ 6.5889918  -0.68632047  1.85233692]\n",
        " [-0.68632047  6.78910684  4.53096992]\n",
        " [ 1.85233692  4.53096992  8.04138704]]\n"
       ]
      }
     ],
     "prompt_number": 176
    },
    {
     "cell_type": "code",
     "collapsed": false,
     "input": [
      "scatter_matrix_w2 = np.zeros((3,3))\n",
      "for i in range(X[y == 2].shape[1]):\n",
      "    scatter_matrix_w2 += (X[y == 1][i].reshape(3,1) - \\\n",
      "                        c2_mean).dot((X[y == 2][i].reshape(3,1) - c2_mean).T)\n",
      "print('within-class Scatter Matrix 2:\\n', scatter_matrix_w2)"
     ],
     "language": "python",
     "metadata": {},
     "outputs": [
      {
       "output_type": "stream",
       "stream": "stdout",
       "text": [
        "within-class Scatter Matrix 2:\n",
        " [[ -1.20540603  -5.84605635 -19.97736471]\n",
        " [  0.64449993  -0.17753366  -0.73582424]\n",
        " [  0.79073826  -2.29132051 -10.68587406]]\n"
       ]
      }
     ],
     "prompt_number": 177
    },
    {
     "cell_type": "code",
     "collapsed": false,
     "input": [
      "scatter_matrix_w3 = np.zeros((3,3))\n",
      "for i in range(X[y == 3].shape[1]):\n",
      "    scatter_matrix_w3 += (X[y == 3][i].reshape(3,1) - \\\n",
      "                        c3_mean).dot((X[y == 3][i].reshape(3,1) - c3_mean).T)\n",
      "print('within-class Scatter Matrix 3:\\n', scatter_matrix_w3)"
     ],
     "language": "python",
     "metadata": {},
     "outputs": [
      {
       "output_type": "stream",
       "stream": "stdout",
       "text": [
        "within-class Scatter Matrix 3:\n",
        " [[ 4.53382819  4.10958317  3.30818702]\n",
        " [ 4.10958317  6.96351867  3.70253349]\n",
        " [ 3.30818702  3.70253349  2.68772244]]\n"
       ]
      }
     ],
     "prompt_number": 178
    },
    {
     "cell_type": "markdown",
     "metadata": {},
     "source": [
      "<br>\n",
      "<br>"
     ]
    },
    {
     "cell_type": "markdown",
     "metadata": {},
     "source": [
      "\n",
      "### 2.1 Between-class scatter matrix $S_B$"
     ]
    },
    {
     "cell_type": "markdown",
     "metadata": {},
     "source": [
      "The **between-class scatter** matrix $S_B$ is computed by the following equation:  \n",
      "\n",
      "$S_B = \\sum\\limits_{i=1}^{c} (\\pmb m_i - \\pmb m) (\\pmb m_i - \\pmb m)^T$\n",
      "\n",
      "where  \n",
      " $\\pmb m$ is the overall mean."
     ]
    },
    {
     "cell_type": "code",
     "collapsed": false,
     "input": [
      "overall_mean = (c1_mean + c2_mean + c3_mean)/3\n",
      "\n",
      "S_B1 = (c1_mean - overall_mean).reshape(3,1).dot((c1_mean - overall_mean).reshape(3,1).T)\n",
      "S_B2 = (c2_mean - overall_mean).reshape(3,1).dot((c2_mean - overall_mean).reshape(3,1).T)\n",
      "S_B3 = (c3_mean - overall_mean).reshape(3,1).dot((c3_mean - overall_mean).reshape(3,1).T)\n",
      "\n",
      "S_B = S_B1 + S_B2 +S_B3\n",
      "\n",
      "print('between-class Scatter Matrix (S_B):\\n', S_B)"
     ],
     "language": "python",
     "metadata": {},
     "outputs": [
      {
       "output_type": "stream",
       "stream": "stdout",
       "text": [
        "between-class Scatter Matrix (S_B):\n",
        " [[ 1.66022153  0.2063892   0.73485634]\n",
        " [ 0.2063892   0.99908672  0.28587713]\n",
        " [ 0.73485634  0.28587713  0.36413858]]\n"
       ]
      }
     ],
     "prompt_number": 186
    },
    {
     "cell_type": "markdown",
     "metadata": {},
     "source": [
      "<br>\n",
      "<br>"
     ]
    },
    {
     "cell_type": "markdown",
     "metadata": {},
     "source": [
      "#3. Solving the generalized eigenvalue problem for the matrix $S_{W}^{-1}S_B$"
     ]
    },
    {
     "cell_type": "markdown",
     "metadata": {},
     "source": [
      "Next, we will solve the generalized eigenvalue problem for the matrix $S_{W}^{-1}S_B$ , which yields Fisher's Linear Discriminant.$"
     ]
    },
    {
     "cell_type": "code",
     "collapsed": false,
     "input": [
      "eig_vals, eig_vecs = np.linalg.eig(np.linalg.inv(S_W).dot(S_B))\n",
      "\n",
      "for i in range(len(eig_vals)):\n",
      "    eigvec_sc = eig_vecs[:,i].reshape(1,3).T    \n",
      "    print('\\nEigenvector {}: \\n{}'.format(i+1, eigvec_sc))\n",
      "    print('Eigenvalue {}: {}'.format(i+1, eig_vals[i]))"
     ],
     "language": "python",
     "metadata": {},
     "outputs": [
      {
       "output_type": "stream",
       "stream": "stdout",
       "text": [
        "\n",
        "Eigenvector 1: \n",
        "[[ 0.57236122]\n",
        " [ 0.51617256]\n",
        " [ 0.63715659]]\n",
        "Eigenvalue 1: 0.03378000706101407\n",
        "\n",
        "Eigenvector 2: \n",
        "[[ 0.7930585 ]\n",
        " [-0.50793104]\n",
        " [-0.3362503 ]]\n",
        "Eigenvalue 2: -8.62925241947319e-18\n",
        "\n",
        "Eigenvector 3: \n",
        "[[ 0.07469644]\n",
        " [-0.84256002]\n",
        " [ 0.53339765]]\n",
        "Eigenvalue 3: 1.9792131928293954e-18\n"
       ]
      }
     ],
     "prompt_number": 26
    },
    {
     "cell_type": "markdown",
     "metadata": {},
     "source": [
      "### Checking the eigenvector-eigenvalue calculation\n",
      "\n",
      "Let us quickly check that the eigenvector-eigenvalue calculation is correct and satisfy the equation\n",
      "\n",
      "$\\pmb A\\pmb{v} =  \\lambda\\pmb{v}$  \n",
      "\n",
      "<br>\n",
      "where  \n",
      "$\\pmb A = S_{W}^{-1}S_B\\\\\n",
      "\\pmb{v} = \\; Eigenvector\\\\\n",
      "\\lambda = \\; Eigenvalue$"
     ]
    },
    {
     "cell_type": "code",
     "collapsed": false,
     "input": [
      "for i in range(len(eig_vals)):\n",
      "    eigv = eig_vecs[:,i].reshape(1,3).T\n",
      "    np.testing.assert_array_almost_equal(np.linalg.inv(S_W).dot(S_B).dot(eigv), eig_vals[i] * eigv, \n",
      "                                         decimal=6, err_msg='', verbose=True)\n",
      "print('ok')"
     ],
     "language": "python",
     "metadata": {},
     "outputs": [
      {
       "output_type": "stream",
       "stream": "stdout",
       "text": [
        "ok\n"
       ]
      }
     ],
     "prompt_number": 28
    },
    {
     "cell_type": "markdown",
     "metadata": {},
     "source": [
      "### Visualizing the eigenvectors"
     ]
    },
    {
     "cell_type": "markdown",
     "metadata": {},
     "source": [
      "And before we move on to the next step, just to satisfy our own curiosity, we plot the eigenvectors centered at the overall sample mean."
     ]
    },
    {
     "cell_type": "code",
     "collapsed": false,
     "input": [
      "%pylab inline\n",
      "\n",
      "from matplotlib import pyplot as plt\n",
      "from mpl_toolkits.mplot3d import Axes3D\n",
      "from mpl_toolkits.mplot3d import proj3d\n",
      "from matplotlib.patches import FancyArrowPatch\n",
      "\n",
      "\n",
      "class Arrow3D(FancyArrowPatch):\n",
      "    def __init__(self, xs, ys, zs, *args, **kwargs):\n",
      "        FancyArrowPatch.__init__(self, (0,0), (0,0), *args, **kwargs)\n",
      "        self._verts3d = xs, ys, zs\n",
      "\n",
      "    def draw(self, renderer):\n",
      "        xs3d, ys3d, zs3d = self._verts3d\n",
      "        xs, ys, zs = proj3d.proj_transform(xs3d, ys3d, zs3d, renderer.M)\n",
      "        self.set_positions((xs[0],ys[0]),(xs[1],ys[1]))\n",
      "        FancyArrowPatch.draw(self, renderer)\n",
      "\n",
      "fig = plt.figure(figsize=(7,7))\n",
      "ax = fig.add_subplot(111, projection='3d')\n",
      "\n",
      "ax.plot(class1_sample[0,:], class1_sample[1,:], class1_sample[2,:], 'o', markersize=8, color='green', alpha=0.2)\n",
      "ax.plot(class2_sample[0,:], class2_sample[1,:], class2_sample[2,:], 's', markersize=8, color='blue', alpha=0.2)\n",
      "ax.plot([overall_mean[0]], [overall_mean[1]], [overall_mean[2]], 'o', markersize=10, color='red', alpha=0.5)\n",
      "for v in eig_vecs.T:\n",
      "    a = Arrow3D([float(overall_mean[0]), v[0]], [float(overall_mean[1]), v[1]], [float(overall_mean[2]), v[2]],\\\n",
      "                mutation_scale=20, lw=3, arrowstyle=\"-|>\", color=\"r\")\n",
      "    ax.add_artist(a)\n",
      "ax.set_xlabel('x_values')\n",
      "ax.set_ylabel('y_values')\n",
      "ax.set_zlabel('z_values')\n",
      "\n",
      "plt.title('Eigenvectors')\n",
      "\n",
      "plt.show()"
     ],
     "language": "python",
     "metadata": {},
     "outputs": [
      {
       "output_type": "stream",
       "stream": "stdout",
       "text": [
        "Populating the interactive namespace from numpy and matplotlib\n"
       ]
      },
      {
       "metadata": {},
       "output_type": "display_data",
       "png": "[encoded data removed]",
       "text": [
        "<matplotlib.figure.Figure at 0x105285438>"
       ]
      }
     ],
     "prompt_number": 32
    },
    {
     "cell_type": "markdown",
     "metadata": {},
     "source": [
      "<a name=\"sort_eig\"></a>"
     ]
    },
    {
     "cell_type": "markdown",
     "metadata": {},
     "source": [
      "\n",
      "#4.1. Sorting the eigenvectors by decreasing eigenvalues\n",
      "Remember from the introduction that we are not only interested in merely projecting the data into a subspace that improves the class separability, but also reduces the dimensionality of our feature space, (where the eigenvectors will form the axes of this new feature subspace). \n",
      "\n",
      "However, the eigenvectors only define the directions of the new axis, since they have all the same unit length 1."
     ]
    },
    {
     "cell_type": "markdown",
     "metadata": {},
     "source": [
      "So, in order to decide which eigenvector(s) we want to drop for our lower-dimensional subspace, we have to take a look at the corresponding eigenvalues of the eigenvectors. Roughly speaking, the eigenvectors with the lowest eigenvalues bear the least information about the distribution of the data, and those are the ones we want to drop.  \n",
      "The common approach is to rank the eigenvectors from highest to lowest corresponding eigenvalue and choose the top $k$ eigenvectors."
     ]
    },
    {
     "cell_type": "code",
     "collapsed": false,
     "input": [
      "# Make a list of (eigenvalue, eigenvector) tuples\n",
      "eig_pairs = [(np.abs(eig_vals[i]), eig_vecs[:,i]) for i in range(len(eig_vals))]\n",
      "\n",
      "# Sort the (eigenvalue, eigenvector) tuples from high to low\n",
      "eig_pairs.sort()\n",
      "eig_pairs.reverse()\n",
      "\n",
      "# Visually confirm that the list is correctly sorted by decreasing eigenvalues\n",
      "for i in eig_pairs:\n",
      "    print(i[0])"
     ],
     "language": "python",
     "metadata": {},
     "outputs": [
      {
       "output_type": "stream",
       "stream": "stdout",
       "text": [
        "0.033780007061\n",
        "8.62925241947e-18\n",
        "1.97921319283e-18\n"
       ]
      }
     ],
     "prompt_number": 35
    },
    {
     "cell_type": "markdown",
     "metadata": {},
     "source": [
      "#4.2. Choosing *k* eigenvectors with the largest eigenvalues\n",
      "For our simple example, where we are reducing a 3-dimensional feature space to a 2-dimensional feature subspace, we are combining the two eigenvectors with the highest eigenvalues to construct our $d \\times k$-dimensional eigenvector matrix $\\pmb W$."
     ]
    },
    {
     "cell_type": "code",
     "collapsed": false,
     "input": [
      "matrix_w = np.hstack((eig_pairs[0][1].reshape(3,1), eig_pairs[1][1].reshape(3,1)))\n",
      "print('Matrix W:\\n', matrix_w)"
     ],
     "language": "python",
     "metadata": {},
     "outputs": [
      {
       "output_type": "stream",
       "stream": "stdout",
       "text": [
        "Matrix W:\n",
        " [[ 0.57236122  0.7930585 ]\n",
        " [ 0.51617256 -0.50793104]\n",
        " [ 0.63715659 -0.3362503 ]]\n"
       ]
      }
     ],
     "prompt_number": 36
    },
    {
     "cell_type": "markdown",
     "metadata": {},
     "source": [
      "<a name='transform'></a>"
     ]
    },
    {
     "cell_type": "markdown",
     "metadata": {},
     "source": [
      "\n",
      "#5. Transforming the samples onto the new subspace\n"
     ]
    },
    {
     "cell_type": "markdown",
     "metadata": {},
     "source": [
      "In the last step, we use the $2 \\times 3$-dimensional matrix $\\pmb W$ that we just computed to transform our samples onto the new subspace via the equation  $\\pmb y = \\pmb W^T \\times \\pmb x$."
     ]
    },
    {
     "cell_type": "code",
     "collapsed": false,
     "input": [
      "c1_transformed = matrix_w.T.dot(class1_sample)\n",
      "assert c1_transformed.shape == (2,20), \"The matrix is not 2x20 dimensional.\"\n",
      "\n",
      "c2_transformed = matrix_w.T.dot(class2_sample)\n",
      "assert c2_transformed.shape == (2,20), \"The matrix is not 2x20 dimensional.\""
     ],
     "language": "python",
     "metadata": {},
     "outputs": [],
     "prompt_number": 51
    },
    {
     "cell_type": "code",
     "collapsed": false,
     "input": [
      "def plot_mda():\n",
      "    plt.plot(c1_transformed[0,:], c1_transformed[1,], 'o', markersize=7, color='blue', alpha=0.5, label='class1')\n",
      "    plt.plot(c2_transformed[0,:], c2_transformed[1,], '^', markersize=7, color='red', alpha=0.5, label='class2')\n",
      "    plt.xlim([-5,5])\n",
      "    plt.ylim([-5,5])\n",
      "    plt.xlabel('x_values')\n",
      "    plt.ylabel('y_values')\n",
      "    plt.legend()\n",
      "    plt.title('3D samples onto the new 2D-subspace after MDA')\n",
      "    \n",
      "    plt.show()\n",
      "    \n",
      "plot_mda()"
     ],
     "language": "python",
     "metadata": {},
     "outputs": [
      {
       "metadata": {},
       "output_type": "display_data",
       "png": "[encoded data removed]",
       "text": [
        "<matplotlib.figure.Figure at 0x1074a8ef0>"
       ]
      }
     ],
     "prompt_number": 68
    },
    {
     "cell_type": "markdown",
     "metadata": {},
     "source": [
      "<a name=\"sklearn_pca\"> </a>"
     ]
    },
    {
     "cell_type": "markdown",
     "metadata": {},
     "source": [
      "\n",
      "# Using the PCA() class from the `scikit-learn` (`sklearn`) library to compare it with our MDA results"
     ]
    },
    {
     "cell_type": "markdown",
     "metadata": {},
     "source": [
      "To compare the subspace that we obtained via the Multiple Discriminant Analysis, we will use the `PCA` class from the `scikit-learn` machine-learning library. The documentation can be found here:  \n",
      "[http://scikit-learn.org/stable/modules/generated/sklearn.decomposition.PCA.html](http://scikit-learn.org/stable/modules/generated/sklearn.decomposition.PCA.html).  \n",
      "\n",
      "For our convenience, we can directly specify to how many components we want to reduce our input dataset via the `n_components` parameter. "
     ]
    },
    {
     "cell_type": "markdown",
     "metadata": {},
     "source": [
      "    n_components : int, None or string\n",
      "    \n",
      "    Number of components to keep. if n_components is not set all components are kept:\n",
      "        n_components == min(n_samples, n_features)\n",
      "        if n_components == \u2018mle\u2019, Minka\u2019s MLE is used to guess the dimension if 0 < n_components < 1, \n",
      "        select the number of components such that the amount of variance that needs to be explained \n",
      "        is greater than the percentage specified by n_components"
     ]
    },
    {
     "cell_type": "markdown",
     "metadata": {},
     "source": [
      "Next, we just need to use the `.fit_transform()` in order to perform the dimensionality reduction."
     ]
    },
    {
     "cell_type": "markdown",
     "metadata": {},
     "source": [
      "But before we do thos, let us quickly recapitulate the purposes of PCA and MDA: PCA finds the axes with maximum variance for the whole data set where MDA tries to find the axes for best class seperability. In practice, often a MDA is done followed by a PCA for dimensionality reduction.\n",
      "![](https://raw.githubusercontent.com/rasbt/pattern_classification/master/Images/mda_overview.png)"
     ]
    },
    {
     "cell_type": "code",
     "collapsed": false,
     "input": [
      "from sklearn.decomposition import PCA as sklearnPCA\n",
      "\n",
      "sklearn_pca = sklearnPCA(n_components=2)\n",
      "sklearn_transf = sklearn_pca.fit_transform(np.hstack((class1_sample,class2_sample)).T)\n",
      "\n",
      "plt.plot(sklearn_transf[0:20,0],sklearn_transf[0:20,1], 'o', markersize=7, color='blue', alpha=0.5, label='class1')\n",
      "plt.plot(sklearn_transf[20:40,0], sklearn_transf[20:40,1], '^', markersize=7, color='red', alpha=0.5, label='class2')\n",
      "\n",
      "plt.xlabel('x_values')\n",
      "plt.ylabel('y_values')\n",
      "plt.xlim([-5,5])\n",
      "plt.ylim([-5,5])\n",
      "plt.legend()\n",
      "plt.title('3D samples onto the new 2D-subspace after PCA')\n",
      "\n",
      "plt.show()\n",
      "plot_mda()"
     ],
     "language": "python",
     "metadata": {},
     "outputs": [
      {
       "metadata": {},
       "output_type": "display_data",
       "png": "[encoded data removed]",
       "text": [
        "<matplotlib.figure.Figure at 0x10767dd68>"
       ]
      },
      {
       "metadata": {},
       "output_type": "display_data",
       "png": "[encoded data removed]",
       "text": [
        "<matplotlib.figure.Figure at 0x10529cd30>"
       ]
      }
     ],
     "prompt_number": 72
    },
    {
     "cell_type": "markdown",
     "metadata": {},
     "source": [
      "<br>\n",
      "The effect is even a little bit more pronounced when I repeated the procedure for the famous Iris dataset ([http://archive.ics.uci.edu/ml/datasets/Iris](http://archive.ics.uci.edu/ml/datasets/Iris)), where I used either MDA or PCA to project the 4-dimensional dataset onto 2-dimensional subspaces."
     ]
    },
    {
     "cell_type": "markdown",
     "metadata": {},
     "source": [
      "![](https://raw.githubusercontent.com/rasbt/pattern_classification/master/Images/pca_iris.png)\n",
      "\n",
      "![](https://raw.githubusercontent.com/rasbt/pattern_classification/master/Images/mda_iris.png)\n"
     ]
    },
    {
     "cell_type": "code",
     "collapsed": false,
     "input": [],
     "language": "python",
     "metadata": {},
     "outputs": []
    }
   ],
   "metadata": {}
  }
 ]
}