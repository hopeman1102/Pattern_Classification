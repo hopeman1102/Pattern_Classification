{
 "metadata": {
  "name": "",
  "signature": "sha256:620acfaf41ceca3f37015c9881c4660f25b8adc72bfcb87772cb361dc3b861af"
 },
 "nbformat": 3,
 "nbformat_minor": 0,
 "worksheets": [
  {
   "cells": [
    {
     "cell_type": "markdown",
     "metadata": {},
     "source": [
      "[Sebastian Raschka](http://www.sebastianraschka.com)  \n",
      "- Link to the containing GitHub Repository: [https://github.com/rasbt/pattern_classification](https://github.com/rasbt/pattern_classification)  \n",
      "- Link to this IPython Notebook on GitHub: [linear_discriminant_analysis.ipynb](https://github.com/rasbt/pattern_classification/blob/master/dimensionality_reduction/projection/linear_discriminant_analysis.ipynb)"
     ]
    },
    {
     "cell_type": "code",
     "collapsed": false,
     "input": [
      "%load_ext watermark"
     ],
     "language": "python",
     "metadata": {},
     "outputs": [],
     "prompt_number": 1
    },
    {
     "cell_type": "code",
     "collapsed": false,
     "input": [
      "%watermark -v -d -u -p pandas,scikit-learn,numpy,matplotlib "
     ],
     "language": "python",
     "metadata": {},
     "outputs": [
      {
       "output_type": "stream",
       "stream": "stdout",
       "text": [
        "Last updated: 04/08/2014 \n",
        "\n",
        "CPython 3.4.1\n",
        "IPython 2.1.0\n",
        "\n",
        "pandas 0.14.0\n",
        "scikit-learn 0.15.0b1\n",
        "numpy 1.8.1\n",
        "matplotlib 1.3.1\n"
       ]
      }
     ],
     "prompt_number": 2
    },
    {
     "cell_type": "markdown",
     "metadata": {},
     "source": [
      "<font size=\"1.5em\">[More information](http://nbviewer.ipython.org/github/rasbt/python_reference/blob/master/ipython_magic/watermark.ipynb) about the `watermark` magic command extension.</font>"
     ]
    },
    {
     "cell_type": "markdown",
     "metadata": {},
     "source": [
      "<hr>\n",
      "I would be happy to hear your comments and suggestions. \n",
      "Please feel free to drop me a note via\n",
      "[twitter](https://twitter.com/rasbt), [email](mailto:bluewoodtree@gmail.com), or [google+](https://plus.google.com/+SebastianRaschka).\n",
      "<hr>"
     ]
    },
    {
     "cell_type": "heading",
     "level": 1,
     "metadata": {},
     "source": [
      "Linear Discriminant Analysis bit by bit"
     ]
    },
    {
     "cell_type": "markdown",
     "metadata": {},
     "source": [
      "<br>\n",
      "<br>"
     ]
    },
    {
     "cell_type": "heading",
     "level": 3,
     "metadata": {},
     "source": [
      "Sections"
     ]
    },
    {
     "cell_type": "markdown",
     "metadata": {},
     "source": [
      "\n",
      "- [Introduction](#Introduction)\n",
      "\n",
      "    - [Principal Component Analysis vs. Linear Discriminant Analysis](#Principal-Component-Analysis-vs.-Linear-Discriminant-Analysis)\n",
      "    \n",
      "    - [What is a \"good\" feature subspace?](#What-is-a-\"good\"-feature-subspace?)\n",
      "\n",
      "    - [Summarizing the LDA approach in 5 steps](#Summarizing-the-LDA-approach-in-6-steps)\n",
      "\n",
      "- [Preparing the sample data set](#Preparing-the-sample-data-set)\n",
      "\n",
      "    - [About the Iris dataset](#About-the-Iris-dataset)\n",
      "\n",
      "    - [Reading in the dataset](#Reading-in-the-dataset)\n",
      "    \n",
      "    - [Histograms and feature selection](#Histograms-and-feature-selection)\n",
      "    \n",
      "    - [Standardization](#Standardization-and-mean-centering)\n",
      "    \n",
      "- [LDA in 5 steps](#LDA-in-5-steps)\n",
      "\n",
      "    - [Step 1: Computing the d-dimensional mean vectors](#Step-1:-Computing-the-d-dimensional-mean-vectors)\n",
      "\n",
      "    - [Step 2: Computing the Scatter Matrices](#Step-2:-Computing-the-Scatter-Matrices)\n",
      "\n",
      "    - [Step 3: Solving the generalized eigenvalue problem for the matrix $S_{W}^{-1}S_B$](#Step-3:-Solving-the-generalized-eigenvalue-problem-for-the-matrix-$S_{W}^{-1}S_B$)\n",
      "    \n",
      "    - [Step 4: Selecting linear discriminants for the new feature subspace](#Step-4:-Selecting-linear-discriminants-for-the-new-feature-subspace)\n",
      "    \n",
      "    - [Step 5: Transforming the samples onto the new subspace](#Step-5:-Transforming-the-samples-onto-the-new-subspace)\n",
      "\n",
      "- [A comparison of PCA and LDA](#A-comparison-of-PCA-and-LDA)\n",
      "\n",
      "- [LDA via scikit-learn](#LDA-via-scikit-learn)"
     ]
    },
    {
     "cell_type": "markdown",
     "metadata": {},
     "source": [
      "<br>\n",
      "<br>"
     ]
    },
    {
     "cell_type": "heading",
     "level": 1,
     "metadata": {},
     "source": [
      "Introduction"
     ]
    },
    {
     "cell_type": "markdown",
     "metadata": {},
     "source": [
      "[[back to top](#Sections)]"
     ]
    },
    {
     "cell_type": "markdown",
     "metadata": {},
     "source": [
      "Linear Discriminant Analysis (LDA) is most commonly used as dimensionality reduction technique in the pre-processing step for pattern-classification and machine learning applications. \n",
      "The goal is to project a dataset onto a lower-dimensional space with good class-separability in order avoid overfitting (\"curse of dimensionality\") and also reduce computational costs.\n",
      "\n",
      "Ronald A. Fisher formulated the *Linear Discriminant* in 1936 ([The Use of Multiple  Measurements in Taxonomic Problems](http://onlinelibrary.wiley.com/doi/10.1111/j.1469-1809.1936.tb02137.x/abstract)), and it also has some practical uses as classifier. The original Linear discriminant was described for a 2-class problem, and it was then later generalized as \"multi-class Linear Discriminant Analysis\" or \"Multiple Discriminant Analysis\" by C. R. Rao in 1948 ([The utilization of multiple measurements in problems of biological classification](http://www.jstor.org/stable/2983775))\n"
     ]
    },
    {
     "cell_type": "markdown",
     "metadata": {},
     "source": [
      "**The general LDA approach is very similar to a Principal Component Analysis (for more information about the PCA, see the previous article [Implementing a Principal Component Analysis (PCA) in Python step by step](http://sebastianraschka.com/Articles/2014_pca_step_by_step.html)), but in addition to finding the component axes that maximize the variance of our data (PCA), we are additionally interested in the axes that maximize the separation between multiple classes (LDA).**"
     ]
    },
    {
     "cell_type": "markdown",
     "metadata": {},
     "source": [
      "So, in a nutshell, often the goal of an LDA is to project a feature space (a dataset n-dimensional samples) onto a smaller subspace $k$ (where $k \\leq n-1$) while maintaining the class-discriminatory information.   \n",
      "In general, dimensionality reduction does not only help reducing computational costs for a given classification task, but it can also be helpful to avoid overfitting by minimizing the error in parameter estimation (\"curse of dimensionality\")."
     ]
    },
    {
     "cell_type": "markdown",
     "metadata": {},
     "source": [
      "<br>\n",
      "<br>"
     ]
    },
    {
     "cell_type": "heading",
     "level": 2,
     "metadata": {},
     "source": [
      "Principal Component Analysis vs. Linear Discriminant Analysis"
     ]
    },
    {
     "cell_type": "markdown",
     "metadata": {},
     "source": [
      "[[back to top](#Sections)]"
     ]
    },
    {
     "cell_type": "markdown",
     "metadata": {},
     "source": [
      "Both Linear Discriminant Analysis (LDA) and Principal Component Analysis (PCA) are linear transformation techniques that are commonly used for dimensionality reduction. PCA can be described as an \"unsupervised\" algorithm, since it \"ignores\" class labels and its goal is to find the directions (the so-called principal components) that maximize the variance in a dataset.\n",
      "In contrast to PCA, LDA is \"supervised\" and computes the directions (\"linear discriminants\") that  will represent the axes that that maximize the separation between multiple classes.\n",
      "\n",
      "Although it might sound intuitive that LDA is superior to PCA for a multi-class classification task where the class labels are known, this might not always the case.  \n",
      "For example, comparisons between classification accuracies for image recognition after using PCA or LDA show that PCA tends to outperform LDA if the number of samples per class is relatively small ([PCA vs. LDA](http://ieeexplore.ieee.org/xpl/articleDetails.jsp?arnumber=908974), A.M. Martinez et al., 2001).\n",
      "In practice, it is also not uncommon to use both LDA and PCA in combination: E.g., PCA for dimensionality reduction followed by an LDA.\n",
      "<br>\n",
      "<br>\n",
      "\n",
      "\n",
      "\n",
      "![](../../Images/lda_1.png)\n"
     ]
    },
    {
     "cell_type": "markdown",
     "metadata": {},
     "source": [
      "<br>\n",
      "<br>"
     ]
    },
    {
     "cell_type": "heading",
     "level": 2,
     "metadata": {},
     "source": [
      "What is a \"good\" feature subspace?"
     ]
    },
    {
     "cell_type": "markdown",
     "metadata": {},
     "source": [
      "[[back to top](#Sections)]"
     ]
    },
    {
     "cell_type": "markdown",
     "metadata": {},
     "source": [
      "Let's assume that our goal is to reduce the dimensions of a $d$-dimensional dataset by projecting it onto a $(k)$-dimensional subspace (where $k\\;<\\;d$). \n",
      "So, how do we know what size we should choose for $k$ ($k$ = the number of dimensions of the new feature subspace), and how do we know if we have a feature space that represents our data \"well\"?  \n",
      "\n",
      "Later, we will compute eigenvectors (the components) from our data set and collect them in a so-called scatter-matrices (i.e., the in-between-class scatter matrix and within-class scatter matrix).  \n",
      "Each of these eigenvectors is associated with an eigenvalue, which tells us about the \"length\" or \"magnitude\" of the eigenvectors. \n",
      "\n",
      "If we would observe that all eigenvalues have a similar magnitude, then this may be a good indicator that our data is already projected on a \"good\" feature space.  \n",
      "\n",
      "And in the other scenario, if some of the eigenvalues are much much larger than others, we might be interested in keeping only those eigenvectors with the highest eigenvalues, since they contain more information about our data distribution. Vice versa, eigenvalues that are close to 0 are less informative and we might consider dropping those for constructing the new feature subspace."
     ]
    },
    {
     "cell_type": "markdown",
     "metadata": {},
     "source": [
      "<br>\n",
      "<br>"
     ]
    },
    {
     "cell_type": "heading",
     "level": 2,
     "metadata": {},
     "source": [
      "Summarizing the LDA approach in 5 steps"
     ]
    },
    {
     "cell_type": "markdown",
     "metadata": {},
     "source": [
      "[[back to top](#Sections)]"
     ]
    },
    {
     "cell_type": "markdown",
     "metadata": {},
     "source": [
      "Listed below are the 5 general steps for performing a linear discriminant analysis; we will explore them in more detail in the following sections.\n",
      "\n",
      "1. Compute the $d$-dimensional mean vectors for the different classes from the dataset.\n",
      "2. Compute the scatter matrices (in-between-class and within-class scatter matrix).\n",
      "3. Compute the eigenvectors ($\\pmb e_1, \\; \\pmb e_2, \\; ..., \\; \\pmb e_d $) and corresponding eigenvalues ($\\pmb \\lambda_1, \\; \\pmb \\lambda_2, \\; ..., \\; \\pmb \\lambda_d$) for the scatter matrices.\n",
      "4. Sort the eigenvectors by decreasing eigenvalues and choose $k$ eigenvectors with the largest eigenvalues to form a $d \\times k $ dimensional matrix $\\pmb W\\;$ (where every column represents an eigenvector).\n",
      "5. Use this $d \\times k $ eigenvector matrix to transform the samples onto the new subspace. This can be summarized by the mathematical equation: $\\pmb y = \\pmb W^T \\times \\pmb x$ (where $\\pmb x$ is a $d \\times 1$-dimensional vector representing one sample, and $\\pmb y$ is the transformed $k \\times 1$-dimensional sample in the new subspace)."
     ]
    },
    {
     "cell_type": "markdown",
     "metadata": {},
     "source": [
      "<a name=\"sample_data\"></a>\n",
      "<br>\n",
      "<br>"
     ]
    },
    {
     "cell_type": "heading",
     "level": 1,
     "metadata": {},
     "source": [
      "Preparing the sample data set"
     ]
    },
    {
     "cell_type": "markdown",
     "metadata": {},
     "source": [
      "[[back to top](#Sections)]"
     ]
    },
    {
     "cell_type": "markdown",
     "metadata": {},
     "source": [
      "<a name=\"sample_data\"></a>\n",
      "<br>\n",
      "<br>"
     ]
    },
    {
     "cell_type": "heading",
     "level": 2,
     "metadata": {},
     "source": [
      "About the Iris dataset"
     ]
    },
    {
     "cell_type": "markdown",
     "metadata": {},
     "source": [
      "[[back to top](#Sections)]"
     ]
    },
    {
     "cell_type": "markdown",
     "metadata": {},
     "source": [
      "For the following tutorial, we will be working with the famous \"Iris\" dataset that has been deposited on the UCI machine learning repository  \n",
      "(https://archive.ics.uci.edu/ml/datasets/Iris).\n",
      "\n",
      "\n",
      "\n",
      "<font size=\"1\">\n",
      "**Reference:**\n",
      "Bache, K. & Lichman, M. (2013). UCI Machine Learning Repository. Irvine, CA: University of California, School of Information and Computer Science.</font>"
     ]
    },
    {
     "cell_type": "markdown",
     "metadata": {},
     "source": [
      "The iris dataset contains measurements for 150 iris flowers from  three different species.\n",
      "\n",
      "The three classes in the Iris dataset:\n",
      "\n",
      "1. Iris-setosa (n=50)\n",
      "2. Iris-versicolor (n=50)\n",
      "3. Iris-virginica (n=50)\n",
      "\n",
      "The four features of the Iris dataset:\n",
      "\n",
      "1.\tsepal length in cm\n",
      "2.\tsepal width in cm\n",
      "3.\tpetal length in cm\n",
      "4.\tpetal width in cm\n"
     ]
    },
    {
     "cell_type": "markdown",
     "metadata": {},
     "source": [
      "![](../../Images/iris_petal_sepal.png)"
     ]
    },
    {
     "cell_type": "code",
     "collapsed": false,
     "input": [
      "feature_dict = {i:label for i,label in zip(\n",
      "                range(4),\n",
      "                  ('sepal length in cm', \n",
      "                  'sepal width in cm', \n",
      "                  'petal length in cm', \n",
      "                  'petal width in cm', ))}"
     ],
     "language": "python",
     "metadata": {},
     "outputs": [],
     "prompt_number": 3
    },
    {
     "cell_type": "markdown",
     "metadata": {},
     "source": [
      "<a name=\"sample_data\"></a>\n",
      "<br>\n",
      "<br>"
     ]
    },
    {
     "cell_type": "heading",
     "level": 2,
     "metadata": {},
     "source": [
      "Reading in the dataset"
     ]
    },
    {
     "cell_type": "markdown",
     "metadata": {},
     "source": [
      "[[back to top](#Sections)]"
     ]
    },
    {
     "cell_type": "code",
     "collapsed": false,
     "input": [
      "import pandas as pd\n",
      "\n",
      "df = pd.io.parsers.read_csv(\n",
      "    filepath_or_buffer='https://archive.ics.uci.edu/ml/machine-learning-databases/iris/iris.data', \n",
      "    header=None, \n",
      "    sep=',', \n",
      "    )\n",
      "df.columns = [l for i,l in sorted(feature_dict.items())] + ['class label']\n",
      "df.dropna(how=\"all\", inplace=True) # to drop the empty line at file-end\n",
      "\n",
      "df.tail()"
     ],
     "language": "python",
     "metadata": {},
     "outputs": [
      {
       "output_type": "stream",
       "stream": "stderr",
       "text": [
        "/Users/sebastian/miniconda3/envs/py34/lib/python3.4/site-packages/pandas/io/excel.py:626: UserWarning: Installed openpyxl is not supported at this time. Use >=1.6.1 and <2.0.0.\n",
        "  .format(openpyxl_compat.start_ver, openpyxl_compat.stop_ver))\n"
       ]
      },
      {
       "html": [
        "<div style=\"max-height:1000px;max-width:1500px;overflow:auto;\">\n",
        "<table border=\"1\" class=\"dataframe\">\n",
        "  <thead>\n",
        "    <tr style=\"text-align: right;\">\n",
        "      <th></th>\n",
        "      <th>sepal length in cm</th>\n",
        "      <th>sepal width in cm</th>\n",
        "      <th>petal length in cm</th>\n",
        "      <th>petal width in cm</th>\n",
        "      <th>class label</th>\n",
        "    </tr>\n",
        "  </thead>\n",
        "  <tbody>\n",
        "    <tr>\n",
        "      <th>145</th>\n",
        "      <td> 6.7</td>\n",
        "      <td> 3.0</td>\n",
        "      <td> 5.2</td>\n",
        "      <td> 2.3</td>\n",
        "      <td> Iris-virginica</td>\n",
        "    </tr>\n",
        "    <tr>\n",
        "      <th>146</th>\n",
        "      <td> 6.3</td>\n",
        "      <td> 2.5</td>\n",
        "      <td> 5.0</td>\n",
        "      <td> 1.9</td>\n",
        "      <td> Iris-virginica</td>\n",
        "    </tr>\n",
        "    <tr>\n",
        "      <th>147</th>\n",
        "      <td> 6.5</td>\n",
        "      <td> 3.0</td>\n",
        "      <td> 5.2</td>\n",
        "      <td> 2.0</td>\n",
        "      <td> Iris-virginica</td>\n",
        "    </tr>\n",
        "    <tr>\n",
        "      <th>148</th>\n",
        "      <td> 6.2</td>\n",
        "      <td> 3.4</td>\n",
        "      <td> 5.4</td>\n",
        "      <td> 2.3</td>\n",
        "      <td> Iris-virginica</td>\n",
        "    </tr>\n",
        "    <tr>\n",
        "      <th>149</th>\n",
        "      <td> 5.9</td>\n",
        "      <td> 3.0</td>\n",
        "      <td> 5.1</td>\n",
        "      <td> 1.8</td>\n",
        "      <td> Iris-virginica</td>\n",
        "    </tr>\n",
        "  </tbody>\n",
        "</table>\n",
        "</div>"
       ],
       "metadata": {},
       "output_type": "pyout",
       "prompt_number": 4,
       "text": [
        "     sepal length in cm  sepal width in cm  petal length in cm  \\\n",
        "145                 6.7                3.0                 5.2   \n",
        "146                 6.3                2.5                 5.0   \n",
        "147                 6.5                3.0                 5.2   \n",
        "148                 6.2                3.4                 5.4   \n",
        "149                 5.9                3.0                 5.1   \n",
        "\n",
        "     petal width in cm     class label  \n",
        "145                2.3  Iris-virginica  \n",
        "146                1.9  Iris-virginica  \n",
        "147                2.0  Iris-virginica  \n",
        "148                2.3  Iris-virginica  \n",
        "149                1.8  Iris-virginica  "
       ]
      }
     ],
     "prompt_number": 4
    },
    {
     "cell_type": "markdown",
     "metadata": {},
     "source": [
      "$\\pmb X = \\begin{bmatrix} x_{1_{\\text{sepal length}}} & x_{1_{\\text{sepal width}}} & x_{1_{\\text{petal length}}} & x_{1_{\\text{petal width}}}\\\\ \n",
      "x_{2_{\\text{sepal length}}} & x_{2_{\\text{sepal width}}} & x_{2_{\\text{petal length}}} & x_{2_{\\text{petal width}}}\\\\ \n",
      "...  \\\\\n",
      "x_{150_{\\text{sepal length}}} & x_{150_{\\text{sepal width}}} & x_{150_{\\text{petal length}}} & x_{150_{\\text{petal width}}}\\\\ \n",
      "\\end{bmatrix}, \\;\\;\n",
      "\\pmb y = \\begin{bmatrix} \\omega_{\\text{setosa}}\\\\ \n",
      "\\omega_{\\text{setosa}}\\\\ \n",
      "...  \\\\\n",
      "\\omega_{\\text{virginica}}\\end{bmatrix}$"
     ]
    },
    {
     "cell_type": "markdown",
     "metadata": {},
     "source": [
      "<a name=\"sample_data\"></a>\n",
      "<br>\n",
      "<br>"
     ]
    },
    {
     "cell_type": "markdown",
     "metadata": {},
     "source": [
      "Since it is more convenient to work with numerical values, we will use the `LabelEncode` from the `scikit-learn` library to convert the class labels into numbers: `1, 2, and 3`."
     ]
    },
    {
     "cell_type": "code",
     "collapsed": false,
     "input": [
      "from sklearn.preprocessing import LabelEncoder\n",
      "\n",
      "X = df[[0,1,2,3]].values \n",
      "y = df['class label'].values \n",
      "\n",
      "enc = LabelEncoder()\n",
      "label_encoder = enc.fit(y)\n",
      "y = label_encoder.transform(y) + 1\n",
      "\n",
      "label_dict = {1: 'Setosa', 2: 'Versicolor', 3:'Virginica'}"
     ],
     "language": "python",
     "metadata": {},
     "outputs": [],
     "prompt_number": 5
    },
    {
     "cell_type": "markdown",
     "metadata": {},
     "source": [
      "$\\pmb y = \\begin{bmatrix}{\\text{setosa}}\\\\ \n",
      "{\\text{setosa}}\\\\ \n",
      "...  \\\\\n",
      "{\\text{virginica}}\\end{bmatrix} \\quad \\Rightarrow\n",
      "\\begin{bmatrix} {\\text{1}}\\\\ \n",
      "{\\text{1}}\\\\ \n",
      "...  \\\\\n",
      "{\\text{3}}\\end{bmatrix}$\n",
      "\n"
     ]
    },
    {
     "cell_type": "markdown",
     "metadata": {},
     "source": [
      "<a name=\"sample_data\"></a>\n",
      "<br>\n",
      "<br>"
     ]
    },
    {
     "cell_type": "heading",
     "level": 2,
     "metadata": {},
     "source": [
      "Histograms and feature selection"
     ]
    },
    {
     "cell_type": "markdown",
     "metadata": {},
     "source": [
      "[[back to top](#Sections)]"
     ]
    },
    {
     "cell_type": "markdown",
     "metadata": {},
     "source": [
      "Just to get a rough idea how the samples of our three classes $\\omega_1$, $\\omega_2$ and $\\omega_3$ are distributed, let us visualize the distributions of the four different features in 1-dimensional histograms."
     ]
    },
    {
     "cell_type": "code",
     "collapsed": false,
     "input": [
      "%matplotlib inline"
     ],
     "language": "python",
     "metadata": {},
     "outputs": [],
     "prompt_number": 6
    },
    {
     "cell_type": "code",
     "collapsed": false,
     "input": [
      "from matplotlib import pyplot as plt\n",
      "import numpy as np\n",
      "import math\n",
      "\n",
      "fig, axes = plt.subplots(nrows=2, ncols=2, figsize=(12,6))\n",
      "\n",
      "for ax,cnt in zip(axes.ravel(), range(4)):  \n",
      "    \n",
      "    # set bin sizes\n",
      "    min_b = math.floor(np.min(X[:,cnt]))\n",
      "    max_b = math.ceil(np.max(X[:,cnt]))\n",
      "    bins = np.linspace(min_b, max_b, 25)\n",
      "    \n",
      "    # plottling the histograms\n",
      "    for lab,col in zip(range(1,4), ('blue', 'red', 'green')):\n",
      "        ax.hist(X[y==lab, cnt],\n",
      "                   color=col, \n",
      "                   label='class %s' %label_dict[lab], \n",
      "                   bins=bins,\n",
      "                   alpha=0.5,)\n",
      "    ylims = ax.get_ylim()\n",
      "    \n",
      "    # plot annotation\n",
      "    leg = ax.legend(loc='upper right', fancybox=True, fontsize=8)\n",
      "    leg.get_frame().set_alpha(0.5)\n",
      "    ax.set_ylim([0, max(ylims)+2])\n",
      "    ax.set_xlabel(feature_dict[cnt])\n",
      "    ax.set_title('Iris histogram #%s' %str(cnt+1))\n",
      "    \n",
      "    # hide axis ticks\n",
      "    ax.tick_params(axis=\"both\", which=\"both\", bottom=\"off\", top=\"off\",  \n",
      "            labelbottom=\"on\", left=\"off\", right=\"off\", labelleft=\"on\")\n",
      "\n",
      "    # remove axis spines\n",
      "    ax.spines[\"top\"].set_visible(False)  \n",
      "    ax.spines[\"right\"].set_visible(False) \n",
      "    ax.spines[\"bottom\"].set_visible(False) \n",
      "    ax.spines[\"left\"].set_visible(False)    \n",
      " \n",
      "axes[0][0].set_ylabel('count')\n",
      "axes[1][0].set_ylabel('count')\n",
      "    \n",
      "fig.tight_layout()       \n",
      "        \n",
      "plt.show()"
     ],
     "language": "python",
     "metadata": {},
     "outputs": [
      {
       "metadata": {},
       "output_type": "display_data",
       "png": "[encoded data removed]",
       "text": [
        "<matplotlib.figure.Figure at 0x1075bfdd8>"
       ]
      }
     ],
     "prompt_number": 7
    },
    {
     "cell_type": "markdown",
     "metadata": {},
     "source": [
      "From just looking at these simple graphical representations of the features, we can already tell that the petal lengths and widths are likely better suited as potential features two separate between the three flower classes. In practice, instead of reducing the dimensionality via a projection (here: LDA), a good alternative would be a feature selection technique. For low-dimensional datasets like Iris, a glance at those histograms would already be very informative. Another simple, but very useful technique would be to use feature selection algorithms, which I have described in more detail in another article: [Feature Selection Algorithms in Python](http://sebastianraschka.com/Articles/2014_sequential_sel_algos.html)"
     ]
    },
    {
     "cell_type": "markdown",
     "metadata": {},
     "source": [
      "<a name=\"sample_data\"></a>\n",
      "<br>\n",
      "<br>"
     ]
    },
    {
     "cell_type": "heading",
     "level": 2,
     "metadata": {},
     "source": [
      "Standardization"
     ]
    },
    {
     "cell_type": "markdown",
     "metadata": {},
     "source": [
      "[[back to top](#Sections)]"
     ]
    },
    {
     "cell_type": "markdown",
     "metadata": {},
     "source": [
      "Normalization is one important part of every data pre-processing step and typically a requirement for best performances of many machine learning algorithms.\n",
      "The two most popular approaches for data normalization are the so-called \"standardization\" and \"min-max scaling\".\n",
      "\n",
      "- **Standardization** (or Z-score normalization): Rescaling of the features so that they'll have the properties of a standard normal distribution with &mu;=0 and &sigma;=1 (i.e., unit variance centered around the mean).  \n",
      "\n",
      "- **Min-max scaling**: Rescaling of the features to unit range, typically a range between 0 and 1. Quite often, min-max scaling is also just called \"normalization\", which can be quite confusing depending on the context where the term is being used. Via Min-max scaling, \n",
      "\n",
      "Both are very important procedures, so that I have also a separate article about it with more details: [About Feature Scaling and Normalization](http://sebastianraschka.com/Articles/2014_about_feature_scaling.html).\n",
      "\n",
      "In our case, although the features are already on the same scale (measured in centimeters), we still want to scale the features to unit variance (&sigma;=1, &mu;=0)."
     ]
    },
    {
     "cell_type": "code",
     "collapsed": false,
     "input": [
      "from sklearn import preprocessing\n",
      "preprocessing.scale(X, axis=0, with_mean=True, with_std=True, copy=False)\n",
      "print()"
     ],
     "language": "python",
     "metadata": {},
     "outputs": [
      {
       "output_type": "stream",
       "stream": "stdout",
       "text": [
        "\n"
       ]
      }
     ],
     "prompt_number": 13
    },
    {
     "cell_type": "markdown",
     "metadata": {},
     "source": [
      "<a name=\"sample_data\"></a>\n",
      "<br>\n",
      "<br>"
     ]
    },
    {
     "cell_type": "heading",
     "level": 1,
     "metadata": {},
     "source": [
      "LDA in 5 steps"
     ]
    },
    {
     "cell_type": "markdown",
     "metadata": {},
     "source": [
      "[[back to top](#Sections)]"
     ]
    },
    {
     "cell_type": "markdown",
     "metadata": {},
     "source": [
      "After we went through several preparation steps, our data is finally ready for the actual LDA. In practice, LDA for dimensionality reduction would be just another preprocessing step for a typical machine learning or pattern classification task."
     ]
    },
    {
     "cell_type": "markdown",
     "metadata": {},
     "source": [
      "<a name=\"sample_data\"></a>\n",
      "<br>\n",
      "<br>"
     ]
    },
    {
     "cell_type": "heading",
     "level": 2,
     "metadata": {},
     "source": [
      "Step 1: Computing the d-dimensional mean vectors"
     ]
    },
    {
     "cell_type": "markdown",
     "metadata": {},
     "source": [
      "[[back to top](#Sections)]"
     ]
    },
    {
     "cell_type": "markdown",
     "metadata": {},
     "source": [
      "In this first step, we will start off with a simple computation of the mean vectors $\\pmb m_i$, $(i = 1,2,3)$ of the 3 different flower classes:\n",
      "    \n",
      "$\\pmb m_i = \\begin{bmatrix} \n",
      "\\mu_{\\omega_i (\\text{sepal length)}}\\\\ \n",
      "\\mu_{\\omega_i (\\text{sepal width})}\\\\ \n",
      "\\mu_{\\omega_i (\\text{petal length)}}\\\\\n",
      "\\mu_{\\omega_i (\\text{petal width})}\\\\\n",
      "\\end{bmatrix} \\; , \\quad \\text{with} \\quad i = 1,2,3$"
     ]
    },
    {
     "cell_type": "code",
     "collapsed": false,
     "input": [
      "np.set_printoptions(precision=4)\n",
      "\n",
      "mean_vectors = []\n",
      "for cl in range(1,4):\n",
      "    mean_vectors.append(np.mean(X[y==cl], axis=0))\n",
      "    print('Mean Vector class %s: %s\\n' %(cl, mean_vectors[cl-1]))"
     ],
     "language": "python",
     "metadata": {},
     "outputs": [
      {
       "output_type": "stream",
       "stream": "stdout",
       "text": [
        "Mean Vector class 1: [-1.0146  0.8423 -1.3049 -1.2551]\n",
        "\n",
        "Mean Vector class 2: [ 0.1123 -0.6572  0.2851  0.1674]\n",
        "\n",
        "Mean Vector class 3: [ 0.9023 -0.1851  1.0198  1.0877]\n",
        "\n"
       ]
      }
     ],
     "prompt_number": 14
    },
    {
     "cell_type": "markdown",
     "metadata": {},
     "source": [
      "<a name=\"sample_data\"></a>\n",
      "<br>\n",
      "<br>"
     ]
    },
    {
     "cell_type": "markdown",
     "metadata": {},
     "source": [
      "<a name=\"sc_matrix\"></a>"
     ]
    },
    {
     "cell_type": "heading",
     "level": 2,
     "metadata": {},
     "source": [
      "\n",
      "Step 2: Computing the Scatter Matrices"
     ]
    },
    {
     "cell_type": "markdown",
     "metadata": {},
     "source": [
      "[[back to top](#Sections)]"
     ]
    },
    {
     "cell_type": "markdown",
     "metadata": {},
     "source": [
      "Now, we will compute the two *4x4*-dimensional matrices: The within-class and the between-class scatter matrix."
     ]
    },
    {
     "cell_type": "markdown",
     "metadata": {},
     "source": [
      "<br>\n",
      "<br>"
     ]
    },
    {
     "cell_type": "heading",
     "level": 3,
     "metadata": {},
     "source": [
      "2.1 Within-class scatter matrix $S_W$"
     ]
    },
    {
     "cell_type": "markdown",
     "metadata": {},
     "source": [
      "[[back to top](#Sections)]"
     ]
    },
    {
     "cell_type": "markdown",
     "metadata": {},
     "source": [
      "The **within-class scatter** matrix $S_W$ is computed by the following equation:  \n",
      "\n",
      "$S_W = \\sum\\limits_{i=1}^{c}  S_i$\n",
      "\n",
      "where  \n",
      "$S_i = \\sum\\limits_{\\pmb x \\in D_i}^n (\\pmb x - \\pmb m_i)\\;(\\pmb x - \\pmb m_i)^T$  \n",
      "(scatter matrix for every class) \n",
      "\n",
      "and $\\pmb m_i$ is the mean vector    \n",
      "$\\pmb m_i = \\frac{1}{n_i} \\sum\\limits_{\\pmb x \\in D_i}^n \\; \\pmb x_k$"
     ]
    },
    {
     "cell_type": "code",
     "collapsed": false,
     "input": [
      "S_W = np.zeros((4,4))\n",
      "for cl,mv in zip(range(1,4), mean_vectors):\n",
      "    class_sc_mat = np.zeros((4,4))                  # scatter matrix for every class\n",
      "    for row in X[y == cl]:\n",
      "        row, mv = row.reshape(4,1), mv.reshape(4,1) # make column vectors\n",
      "        class_sc_mat += (row-mv).dot((row-mv).T)\n",
      "    S_W += class_sc_mat                             # sum class scatter matrices\n",
      "print('within-class Scatter Matrix:\\n', S_W)"
     ],
     "language": "python",
     "metadata": {},
     "outputs": [
      {
       "output_type": "stream",
       "stream": "stdout",
       "text": [
        "within-class Scatter Matrix:\n",
        " [[ 57.1941  38.3652  16.9598   9.0095]\n",
        " [ 38.3652  91.2179  10.685   14.9475]\n",
        " [ 16.9598  10.685    8.8022   4.6754]\n",
        " [  9.0095  14.9475   4.6754  10.6746]]\n"
       ]
      }
     ],
     "prompt_number": 15
    },
    {
     "cell_type": "markdown",
     "metadata": {},
     "source": [
      "<br>"
     ]
    },
    {
     "cell_type": "heading",
     "level": 3,
     "metadata": {},
     "source": [
      "2.1 b"
     ]
    },
    {
     "cell_type": "markdown",
     "metadata": {},
     "source": [
      "Alternatively, we could also compute the class-covariance matrices by adding the scaling factor $\\frac{1}{N-1}$ to the within-class scatter matrix, so that our equation becomes\n",
      "\n",
      "$\\Sigma_i = \\frac{1}{N_{i}-1} \\sum\\limits_{\\pmb x \\in D_i}^n (\\pmb x - \\pmb m_i)\\;(\\pmb x - \\pmb m_i)^T$.\n",
      "\n",
      "and $S_W = \\sum\\limits_{i=1}^{c} (N_{i}-1) \\Sigma_i$\n",
      "\n",
      "where $N_{i}$ is the sample size of the respective class (here: 50), and in this particular case, we can drop the term ($N_{i}-1)$ \n",
      "since all classes have the same sample size.\n",
      "\n",
      "However, the resulting eigenspaces will be identical (identical eigenvectors, only the eigenvalues are scaled differently by a constant factor)."
     ]
    },
    {
     "cell_type": "markdown",
     "metadata": {},
     "source": [
      "<br>\n",
      "<br>"
     ]
    },
    {
     "cell_type": "heading",
     "level": 3,
     "metadata": {},
     "source": [
      "2.1 Between-class scatter matrix $S_B$"
     ]
    },
    {
     "cell_type": "markdown",
     "metadata": {},
     "source": [
      "[[back to top](#Sections)]"
     ]
    },
    {
     "cell_type": "markdown",
     "metadata": {},
     "source": [
      "The **between-class scatter** matrix $S_B$ is computed by the following equation:  \n",
      "\n",
      "$S_B =  \\sum\\limits_{i=1}^{c} N_{i} (\\pmb m_i - \\pmb m) (\\pmb m_i - \\pmb m)^T$\n",
      "\n",
      "where  \n",
      " $\\pmb m$ is the overall mean, and $\\pmb m_{i}$ and $N_{i}$ are the sample mean and sizes of the respective classes."
     ]
    },
    {
     "cell_type": "code",
     "collapsed": false,
     "input": [
      "overall_mean = np.mean(mean_vectors, axis=0)\n",
      "\n",
      "S_B = np.zeros((4,4))\n",
      "for i,mean_vec in enumerate(mean_vectors):  \n",
      "    n = X[y==i+1,:].shape[0]\n",
      "    mean_vec = mean_vec.reshape(4,1) # make column vector\n",
      "    S_B += n * (mean_vec - overall_mean).dot((mean_vec - overall_mean).T)\n",
      "    \n",
      "print('between-class Scatter Matrix:\\n', S_B)"
     ],
     "language": "python",
     "metadata": {},
     "outputs": [
      {
       "output_type": "stream",
       "stream": "stdout",
       "text": [
        "between-class Scatter Matrix:\n",
        " [[ 371.2234 -219.0824  455.2134  454.734 ]\n",
        " [-219.0824  235.1285 -295.0497 -273.7166]\n",
        " [ 455.2134 -295.0497  564.7914  558.9527]\n",
        " [ 454.734  -273.7166  558.9527  557.3016]]\n"
       ]
      }
     ],
     "prompt_number": 16
    },
    {
     "cell_type": "markdown",
     "metadata": {},
     "source": [
      "<br>\n",
      "<br>"
     ]
    },
    {
     "cell_type": "heading",
     "level": 2,
     "metadata": {},
     "source": [
      "Step 3: Solving the generalized eigenvalue problem for the matrix $S_{W}^{-1}S_B$"
     ]
    },
    {
     "cell_type": "markdown",
     "metadata": {},
     "source": [
      "[[back to top](#Sections)]"
     ]
    },
    {
     "cell_type": "markdown",
     "metadata": {},
     "source": [
      "Next, we will solve the generalized eigenvalue problem for the matrix $S_{W}^{-1}S_B$ to obtain the linear discriminants."
     ]
    },
    {
     "cell_type": "code",
     "collapsed": false,
     "input": [
      "eig_vals, eig_vecs = np.linalg.eig(np.linalg.inv(S_W).dot(S_B))\n",
      "\n",
      "for i in range(len(eig_vals)):\n",
      "    eigvec_sc = eig_vecs[:,i].reshape(4,1)   \n",
      "    print('\\nEigenvector {}: \\n{}'.format(i+1, eigvec_sc.real))\n",
      "    print('Eigenvalue {:}: {:.2e}'.format(i+1, eig_vals[i].real))"
     ],
     "language": "python",
     "metadata": {},
     "outputs": [
      {
       "output_type": "stream",
       "stream": "stdout",
       "text": [
        "\n",
        "Eigenvector 1: \n",
        "[[ 0.1498]\n",
        " [ 0.1482]\n",
        " [-0.8511]\n",
        " [-0.4808]]\n",
        "Eigenvalue 1: 1.29e+02\n",
        "\n",
        "Eigenvector 2: \n",
        "[[ 0.0095]\n",
        " [ 0.3272]\n",
        " [-0.5748]\n",
        " [ 0.75  ]]\n",
        "Eigenvalue 2: 1.11e+00\n",
        "\n",
        "Eigenvector 3: \n",
        "[[-0.7115]\n",
        " [ 0.169 ]\n",
        " [ 0.6818]\n",
        " [-0.0203]]\n",
        "Eigenvalue 3: -2.33e-14\n",
        "\n",
        "Eigenvector 4: \n",
        "[[ 0.0486]\n",
        " [ 0.1433]\n",
        " [ 0.7131]\n",
        " [-0.6845]]\n",
        "Eigenvalue 4: 2.03e-14\n"
       ]
      }
     ],
     "prompt_number": 17
    },
    {
     "cell_type": "markdown",
     "metadata": {},
     "source": [
      "<br>\n",
      "<br>"
     ]
    },
    {
     "cell_type": "markdown",
     "metadata": {},
     "source": [
      "After this decomposition of our square matrix into eigenvectors and eigenvalues, let us briefly recapitulate how we can interpret those results. As we remember from our first linear algebra class in high school or college, both eigenvectors and eigenvalues are providing us with information about the distortion of a linear transformation: The eigenvectors are basically the direction of this distortion, and the eigenvalues are the scaling factor for the eigenvectors that describing the magnitude of the distortion.  \n",
      "\n",
      "If we are performing the LDA for dimensionality reduction, the eigenvectors are important since they will form the new axes of our new feature subspace; the associated eigenvalues are of particular interest since they will tell us how \"informative\" the new \"axes\" are.  \n",
      "\n",
      "Let us briefly double-check our calculation and talk more about the eigenvalues in the next section."
     ]
    },
    {
     "cell_type": "markdown",
     "metadata": {},
     "source": [
      "<br>\n",
      "<br>"
     ]
    },
    {
     "cell_type": "heading",
     "level": 3,
     "metadata": {},
     "source": [
      "Checking the eigenvector-eigenvalue calculation"
     ]
    },
    {
     "cell_type": "markdown",
     "metadata": {},
     "source": [
      "[[back to top](#Sections)]"
     ]
    },
    {
     "cell_type": "markdown",
     "metadata": {},
     "source": [
      "\n",
      "\n",
      "A quick check that the eigenvector-eigenvalue calculation is correct and satisfy the equation:\n",
      "\n",
      "$\\pmb A\\pmb{v} =  \\lambda\\pmb{v}$  \n",
      "\n",
      "<br>\n",
      "where  \n",
      "$\\pmb A = S_{W}^{-1}S_B\\\\\n",
      "\\pmb{v} = \\; \\text{Eigenvector}\\\\\n",
      "\\lambda = \\; \\text{Eigenvalue}$"
     ]
    },
    {
     "cell_type": "code",
     "collapsed": false,
     "input": [
      "for i in range(len(eig_vals)):\n",
      "    eigv = eig_vecs[:,i].reshape(4,1) \n",
      "    np.testing.assert_array_almost_equal(np.linalg.inv(S_W).dot(S_B).dot(eigv), \n",
      "                                         eig_vals[i] * eigv, \n",
      "                                         decimal=6, err_msg='', verbose=True)\n",
      "print('ok')"
     ],
     "language": "python",
     "metadata": {},
     "outputs": [
      {
       "output_type": "stream",
       "stream": "stdout",
       "text": [
        "ok\n"
       ]
      }
     ],
     "prompt_number": 18
    },
    {
     "cell_type": "markdown",
     "metadata": {},
     "source": [
      "<br>\n",
      "<br>"
     ]
    },
    {
     "cell_type": "heading",
     "level": 2,
     "metadata": {},
     "source": [
      "Step 4: Selecting linear discriminants for the new feature subspace"
     ]
    },
    {
     "cell_type": "markdown",
     "metadata": {},
     "source": [
      "[[back to top](#Sections)]"
     ]
    },
    {
     "cell_type": "markdown",
     "metadata": {},
     "source": [
      "<br>\n",
      "<br>"
     ]
    },
    {
     "cell_type": "heading",
     "level": 3,
     "metadata": {},
     "source": [
      "4.1. Sorting the eigenvectors by decreasing eigenvalues"
     ]
    },
    {
     "cell_type": "markdown",
     "metadata": {},
     "source": [
      "[[back to top](#Sections)]"
     ]
    },
    {
     "cell_type": "markdown",
     "metadata": {},
     "source": [
      "\n",
      "\n",
      "Remember from the introduction that we are not only interested in merely projecting the data into a subspace that improves the class separability, but also reduces the dimensionality of our feature space, (where the eigenvectors will form the axes of this new feature subspace). \n",
      "\n",
      "However, the eigenvectors only define the directions of the new axis, since they have all the same unit length 1."
     ]
    },
    {
     "cell_type": "markdown",
     "metadata": {},
     "source": [
      "So, in order to decide which eigenvector(s) we want to drop for our lower-dimensional subspace, we have to take a look at the corresponding eigenvalues of the eigenvectors. Roughly speaking, the eigenvectors with the lowest eigenvalues bear the least information about the distribution of the data, and those are the ones we want to drop.  \n",
      "The common approach is to rank the eigenvectors from highest to lowest corresponding eigenvalue and choose the top $k$ eigenvectors."
     ]
    },
    {
     "cell_type": "code",
     "collapsed": false,
     "input": [
      "# Make a list of (eigenvalue, eigenvector) tuples\n",
      "eig_pairs = [(np.abs(eig_vals[i]), eig_vecs[:,i]) for i in range(len(eig_vals))]\n",
      "\n",
      "# Sort the (eigenvalue, eigenvector) tuples from high to low\n",
      "eig_pairs = sorted(eig_pairs, key=lambda k: k[0], reverse=True)\n",
      "\n",
      "# Visually confirm that the list is correctly sorted by decreasing eigenvalues\n",
      "\n",
      "print('Eigenvalues in decreasing order:\\n')\n",
      "for i in eig_pairs:\n",
      "    print(i[0])"
     ],
     "language": "python",
     "metadata": {},
     "outputs": [
      {
       "output_type": "stream",
       "stream": "stdout",
       "text": [
        "Eigenvalues in decreasing order:\n",
        "\n",
        "129.087831199\n",
        "1.11026745536\n",
        "2.33339480916e-14\n",
        "2.02985080349e-14\n"
       ]
      }
     ],
     "prompt_number": 19
    },
    {
     "cell_type": "markdown",
     "metadata": {},
     "source": [
      "<br>\n",
      "<br>"
     ]
    },
    {
     "cell_type": "markdown",
     "metadata": {},
     "source": [
      "If we take a look at the eigenvalues, we can already see that 2 eigenvalues are close to 0 and conclude that the eigenpairs are less informative than the other two. Let's express the \"explained variance\" as percentage:"
     ]
    },
    {
     "cell_type": "code",
     "collapsed": false,
     "input": [
      "print('Variance explained:\\n')\n",
      "eigv_sum = sum(eig_vals)\n",
      "for i,j in enumerate(eig_pairs):\n",
      "    print('eigenvalue {0:}: {1:.2%}'.format(i+1, (j[0]/eigv_sum).real))"
     ],
     "language": "python",
     "metadata": {},
     "outputs": [
      {
       "output_type": "stream",
       "stream": "stdout",
       "text": [
        "Variance explained:\n",
        "\n",
        "eigenvalue 1: 99.15%\n",
        "eigenvalue 2: 0.85%\n",
        "eigenvalue 3: 0.00%\n",
        "eigenvalue 4: 0.00%\n"
       ]
      }
     ],
     "prompt_number": 20
    },
    {
     "cell_type": "markdown",
     "metadata": {},
     "source": [
      "<br>\n",
      "<br>"
     ]
    },
    {
     "cell_type": "markdown",
     "metadata": {},
     "source": [
      "The first eigenpair is by far the most informative one, and we won't loose much information if we would form a 1D-feature spaced based on this eigenpair."
     ]
    },
    {
     "cell_type": "markdown",
     "metadata": {},
     "source": [
      "<br>\n",
      "<br>"
     ]
    },
    {
     "cell_type": "heading",
     "level": 3,
     "metadata": {},
     "source": [
      "4.2. Choosing *k* eigenvectors with the largest eigenvalues"
     ]
    },
    {
     "cell_type": "markdown",
     "metadata": {},
     "source": [
      "[[back to top](#Sections)]"
     ]
    },
    {
     "cell_type": "markdown",
     "metadata": {},
     "source": [
      "After sorting the eigenpairs by decreasing eigenvalues, it is now time to construct our $d \\times k$-dimensional eigenvector matrix $\\pmb W$ (here $2 \\times 4$: based on the 2 most informative eigenpairs) and thereby reducing the initial 4-dimensional feature space into a 2-dimensional feature subspace."
     ]
    },
    {
     "cell_type": "code",
     "collapsed": false,
     "input": [
      "W = np.hstack((eig_pairs[0][1].reshape(4,1), eig_pairs[1][1].reshape(4,1)))\n",
      "print('Matrix W:\\n', W.real.T)"
     ],
     "language": "python",
     "metadata": {},
     "outputs": [
      {
       "output_type": "stream",
       "stream": "stdout",
       "text": [
        "Matrix W:\n",
        " [[ 0.1498  0.1482 -0.8511 -0.4808]\n",
        " [ 0.0095  0.3272 -0.5748  0.75  ]]\n"
       ]
      }
     ],
     "prompt_number": 21
    },
    {
     "cell_type": "markdown",
     "metadata": {},
     "source": [
      "<br>\n",
      "<br>"
     ]
    },
    {
     "cell_type": "heading",
     "level": 1,
     "metadata": {},
     "source": [
      "Step 5: Transforming the samples onto the new subspace"
     ]
    },
    {
     "cell_type": "markdown",
     "metadata": {},
     "source": [
      "[[back to top](#Sections)]"
     ]
    },
    {
     "cell_type": "markdown",
     "metadata": {},
     "source": [
      "In the last step, we use the $2 \\times 4$-dimensional matrix $\\pmb W$ that we just computed to transform our samples onto the new subspace via the equation   \n",
      "\n",
      "$\\pmb y = \\pmb W^T \\times \\pmb x$."
     ]
    },
    {
     "cell_type": "code",
     "collapsed": false,
     "input": [
      "X_lda = W.T.dot(X.T).T\n",
      "assert X_lda.shape == (150,2), \"The matrix is not 2x150 dimensional.\""
     ],
     "language": "python",
     "metadata": {},
     "outputs": [],
     "prompt_number": 22
    },
    {
     "cell_type": "code",
     "collapsed": false,
     "input": [
      "from matplotlib import pyplot as plt\n",
      "\n",
      "def plot_step_lda():\n",
      "    \n",
      "    ax = plt.subplot(111)\n",
      "    for label,marker,color in zip(\n",
      "        range(1,4),('^', 's', 'o'),('blue', 'red', 'green')):\n",
      "\n",
      "        plt.scatter(x=X_lda[:,0].real[y == label],\n",
      "                y=X_lda[:,1].real[y == label],\n",
      "                marker=marker,\n",
      "                color=color,\n",
      "                alpha=0.5,\n",
      "                label=label_dict[label]\n",
      "                )\n",
      "\n",
      "    plt.xlabel('LD1')\n",
      "    plt.ylabel('LD2')\n",
      "\n",
      "    leg = plt.legend(loc='upper right', fancybox=True)\n",
      "    leg.get_frame().set_alpha(0.5)\n",
      "    plt.title('LDA: Iris projection onto the first 2 linear discriminants')\n",
      "    \n",
      "    # hide axis ticks\n",
      "    plt.tick_params(axis=\"both\", which=\"both\", bottom=\"off\", top=\"off\",  \n",
      "            labelbottom=\"on\", left=\"off\", right=\"off\", labelleft=\"on\")\n",
      "\n",
      "    # remove axis spines\n",
      "    ax.spines[\"top\"].set_visible(False)  \n",
      "    ax.spines[\"right\"].set_visible(False) \n",
      "    ax.spines[\"bottom\"].set_visible(False) \n",
      "    ax.spines[\"left\"].set_visible(False)    \n",
      " \n",
      "    plt.grid()\n",
      "    plt.tight_layout\n",
      "    plt.show()\n",
      "    \n",
      "plot_step_lda()"
     ],
     "language": "python",
     "metadata": {},
     "outputs": [
      {
       "metadata": {},
       "output_type": "display_data",
       "png": "[encoded data removed]",
       "text": [
        "<matplotlib.figure.Figure at 0x1075bf8d0>"
       ]
      }
     ],
     "prompt_number": 23
    },
    {
     "cell_type": "markdown",
     "metadata": {},
     "source": [
      "The scatter plot above represents our new feature subspace that we constructed via LDA. We can see that the first linear discriminant \"LD1\" separates the classes quite nicely. However, the second discriminant, \"LD2\", does not add much valuable information, which we've already concluded when we looked at the ranked eigenvalues is step 4."
     ]
    },
    {
     "cell_type": "markdown",
     "metadata": {},
     "source": [
      "<br>\n",
      "<br>"
     ]
    },
    {
     "cell_type": "heading",
     "level": 1,
     "metadata": {},
     "source": [
      "A comparison of PCA and LDA"
     ]
    },
    {
     "cell_type": "markdown",
     "metadata": {},
     "source": [
      "[[back to top](#Sections)]"
     ]
    },
    {
     "cell_type": "markdown",
     "metadata": {},
     "source": [
      "In order to compare the feature subspace that we obtained via the Linear Discriminant Analysis, we will use the `PCA` class from the `scikit-learn` machine-learning library. The documentation can be found here:  \n",
      "[http://scikit-learn.org/stable/modules/generated/sklearn.decomposition.PCA.html](http://scikit-learn.org/stable/modules/generated/sklearn.decomposition.PCA.html).  \n",
      "\n",
      "For our convenience, we can directly specify to how many components we want to retain in our input dataset via the `n_components` parameter. "
     ]
    },
    {
     "cell_type": "markdown",
     "metadata": {},
     "source": [
      "    n_components : int, None or string\n",
      "    \n",
      "    Number of components to keep. if n_components is not set all components are kept:\n",
      "        n_components == min(n_samples, n_features)\n",
      "        if n_components == \u2018mle\u2019, Minka\u2019s MLE is used to guess the dimension if 0 < n_components < 1, \n",
      "        select the number of components such that the amount of variance that needs to be explained \n",
      "        is greater than the percentage specified by n_components"
     ]
    },
    {
     "cell_type": "markdown",
     "metadata": {},
     "source": [
      "<br>\n",
      "<br>"
     ]
    },
    {
     "cell_type": "markdown",
     "metadata": {},
     "source": [
      "But before we skip to the results of the respective linear transformations, let us quickly recapitulate the purposes of PCA and LDA: PCA finds the axes with maximum variance for the whole data set where LDA tries to find the axes for best class seperability. In practice, often a LDA is done followed by a PCA for dimensionality reduction."
     ]
    },
    {
     "cell_type": "markdown",
     "metadata": {},
     "source": [
      "<br>\n",
      "<br>"
     ]
    },
    {
     "cell_type": "markdown",
     "metadata": {},
     "source": [
      "\n",
      "![](https://raw.githubusercontent.com/rasbt/pattern_classification/master/Images/lda_1.png)"
     ]
    },
    {
     "cell_type": "markdown",
     "metadata": {},
     "source": [
      "<br>\n",
      "<br>"
     ]
    },
    {
     "cell_type": "code",
     "collapsed": false,
     "input": [
      "from sklearn.decomposition import PCA as sklearnPCA\n",
      "\n",
      "sklearn_pca = sklearnPCA(n_components=2)\n",
      "X_pca = sklearn_pca.fit_transform(X)\n",
      "\n",
      "def plot_pca():\n",
      "\n",
      "    ax = plt.subplot(111)\n",
      "    \n",
      "    for label,marker,color in zip(\n",
      "        range(1,4),('^', 's', 'o'),('blue', 'red', 'green')):\n",
      "\n",
      "        plt.scatter(x=X_pca[:,0][y == label],\n",
      "                y=X_pca[:,1][y == label],\n",
      "                marker=marker,\n",
      "                color=color,\n",
      "                alpha=0.5,\n",
      "                label=label_dict[label]\n",
      "                )\n",
      "\n",
      "    plt.xlabel('PC1')\n",
      "    plt.ylabel('PC2')\n",
      "\n",
      "    leg = plt.legend(loc='upper right', fancybox=True)\n",
      "    leg.get_frame().set_alpha(0.5)\n",
      "    plt.title('PCA: Iris projection onto the first 2 principal components')\n",
      "\n",
      "    # hide axis ticks\n",
      "    plt.tick_params(axis=\"both\", which=\"both\", bottom=\"off\", top=\"off\",  \n",
      "            labelbottom=\"on\", left=\"off\", right=\"off\", labelleft=\"on\")\n",
      "\n",
      "    # remove axis spines\n",
      "    ax.spines[\"top\"].set_visible(False)  \n",
      "    ax.spines[\"right\"].set_visible(False) \n",
      "    ax.spines[\"bottom\"].set_visible(False) \n",
      "    ax.spines[\"left\"].set_visible(False)    \n",
      "    \n",
      "    plt.tight_layout\n",
      "    plt.grid()\n",
      "    \n",
      "    plt.show()"
     ],
     "language": "python",
     "metadata": {},
     "outputs": [],
     "prompt_number": 24
    },
    {
     "cell_type": "code",
     "collapsed": false,
     "input": [
      "plot_pca()\n",
      "plot_step_lda()"
     ],
     "language": "python",
     "metadata": {},
     "outputs": [
      {
       "metadata": {},
       "output_type": "display_data",
       "png": "[encoded data removed]",
       "text": [
        "<matplotlib.figure.Figure at 0x10759d9e8>"
       ]
      },
      {
       "metadata": {},
       "output_type": "display_data",
       "png": "[encoded data removed]",
       "text": [
        "<matplotlib.figure.Figure at 0x105a0b7f0>"
       ]
      }
     ],
     "prompt_number": 25
    },
    {
     "cell_type": "markdown",
     "metadata": {},
     "source": [
      "<br>\n",
      "<br>"
     ]
    },
    {
     "cell_type": "markdown",
     "metadata": {},
     "source": [
      "The two plots above nicely confirm what we have discussed before: Where the PCA accounts for the most variance in the whole dataset, the LDA gives us the axes that account for the most variance between the individual classes."
     ]
    },
    {
     "cell_type": "markdown",
     "metadata": {},
     "source": [
      "<br>\n",
      "<br>"
     ]
    },
    {
     "cell_type": "heading",
     "level": 1,
     "metadata": {},
     "source": [
      "LDA via scikit-learn"
     ]
    },
    {
     "cell_type": "markdown",
     "metadata": {},
     "source": [
      "[[back to top](#Sections)]"
     ]
    },
    {
     "cell_type": "markdown",
     "metadata": {},
     "source": [
      "Now, After we have seen how an Linear Discriminant Analysis works in this step-wise approach, there is also a more convenient way via the `LDA` class implemented in the [`scikit-learn`](http://scikit-learn.org/stable/) machine learning library. Unfortunately, the current `scikit-learn.lda` implementation won't yield the same results that obtained from our manual approach. This issue came up while writing this article and is now under [discussion](https://github.com/scikit-learn/scikit-learn/issues/3500). The authors of `scikit-learn` agree that the `LDA` class needs some dusting off, and in the current 0.15 version it does a lot of extra processing besides the \"vanilla\" LDA algorithm so that we have to apply a PCA to get to the \"original\" LDA results.\n"
     ]
    },
    {
     "cell_type": "code",
     "collapsed": false,
     "input": [
      "from sklearn.lda import LDA\n",
      "\n",
      "# LDA\n",
      "sklearn_lda = LDA(n_components=2)\n",
      "X_lda_sklearn = sklearn_lda.fit_transform(X, y)\n",
      "\n",
      "# PCA\n",
      "sklearn_pca = sklearnPCA(n_components=2)\n",
      "X_ldapca_sklearn = sklearn_pca.fit_transform(X_lda_sklearn)"
     ],
     "language": "python",
     "metadata": {},
     "outputs": [],
     "prompt_number": 32
    },
    {
     "cell_type": "code",
     "collapsed": false,
     "input": [
      "def plot_scikit_lda(X, title, mirror=1):\n",
      "    \n",
      "    ax = plt.subplot(111)\n",
      "    for label,marker,color in zip(\n",
      "        range(1,4),('^', 's', 'o'),('blue', 'red', 'green')):\n",
      "        \n",
      "        plt.scatter(x=X[:,0][y == label]*mirror,\n",
      "                y=X[:,1][y == label],\n",
      "                marker=marker,\n",
      "                color=color,\n",
      "                alpha=0.5,\n",
      "                label=label_dict[label]\n",
      "                )\n",
      "\n",
      "    plt.xlabel('LD1')\n",
      "    plt.ylabel('LD2')\n",
      "\n",
      "    leg = plt.legend(loc='upper right', fancybox=True)\n",
      "    leg.get_frame().set_alpha(0.5)\n",
      "    plt.title(title)\n",
      "    \n",
      "    # hide axis ticks\n",
      "    plt.tick_params(axis=\"both\", which=\"both\", bottom=\"off\", top=\"off\",  \n",
      "            labelbottom=\"on\", left=\"off\", right=\"off\", labelleft=\"on\")\n",
      "\n",
      "    # remove axis spines\n",
      "    ax.spines[\"top\"].set_visible(False)  \n",
      "    ax.spines[\"right\"].set_visible(False) \n",
      "    ax.spines[\"bottom\"].set_visible(False) \n",
      "    ax.spines[\"left\"].set_visible(False)    \n",
      " \n",
      "    plt.grid()\n",
      "    plt.tight_layout\n",
      "    plt.show()"
     ],
     "language": "python",
     "metadata": {},
     "outputs": [],
     "prompt_number": 35
    },
    {
     "cell_type": "code",
     "collapsed": false,
     "input": [
      "plot_step_lda()\n",
      "plot_scikit_lda(X_ldapca_sklearn, title='LDA+PCA via scikit-learn', mirror=(-1))\n",
      "plot_scikit_lda(X_lda_sklearn, title='Default LDA via scikit-learn')"
     ],
     "language": "python",
     "metadata": {},
     "outputs": [
      {
       "metadata": {},
       "output_type": "display_data",
       "png": "[encoded data removed]",
       "text": [
        "<matplotlib.figure.Figure at 0x108da85c0>"
       ]
      },
      {
       "metadata": {},
       "output_type": "display_data",
       "png": "[encoded data removed]",
       "text": [
        "<matplotlib.figure.Figure at 0x108f2f9b0>"
       ]
      },
      {
       "metadata": {},
       "output_type": "display_data",
       "png": "[encoded data removed]",
       "text": [
        "<matplotlib.figure.Figure at 0x1083856a0>"
       ]
      }
     ],
     "prompt_number": 36
    },
    {
     "cell_type": "markdown",
     "metadata": {},
     "source": [
      "<br>\n",
      "<br>"
     ]
    },
    {
     "cell_type": "markdown",
     "metadata": {},
     "source": [
      "If this raised any concern about the correct implementation of our step-wise LDA implementation, you can confirm the results in e.g., MATLAB, SPSS, or R. Below is an exemplary LDA performed in R (the code was kindly provided by [Vahid Mirjalili](http://www.vahidmirjalili.com)."
     ]
    },
    {
     "cell_type": "code",
     "collapsed": false,
     "input": [
      "# LDA in R\n",
      "\n",
      "library(MASS)\n",
      "data(iris)\n",
      "\n",
      "lda.iris <- lda(Species ~ ., iris, prior = c(1,1,1)/3)\n",
      "lda.pred <- predict(lda.iris, iris)\n",
      "\n",
      "\n",
      "plot(lda.pred$x,\n",
      "     pch=as.numeric(lda.pred$class)+16,\n",
      "     cex=1.6,\n",
      "     col=lda.pred$class)\n",
      "\n",
      "legend(\"bottomright\",\n",
      "        col=c(\"black\", \"red\", \"green\"),\n",
      "        pch=c(2,5,1),\n",
      "        legend=c(\"Setosa\", \"Versicolor\", \"Virginica\"))\n",
      "\n",
      "title(main=\"Iris LDA projection via R\")"
     ],
     "language": "python",
     "metadata": {},
     "outputs": []
    },
    {
     "cell_type": "markdown",
     "metadata": {},
     "source": [
      "![](../../Images/lda_in_R.png)"
     ]
    },
    {
     "cell_type": "code",
     "collapsed": false,
     "input": [],
     "language": "python",
     "metadata": {},
     "outputs": []
    }
   ],
   "metadata": {}
  }
 ]
}