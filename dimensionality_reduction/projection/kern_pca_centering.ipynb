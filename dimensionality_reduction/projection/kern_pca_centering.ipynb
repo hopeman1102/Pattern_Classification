{
 "metadata": {
  "name": "",
  "signature": "sha256:fffdd74b6827290c551fec8828258892696c75e37bf9de42a2b63c27ba4f2354"
 },
 "nbformat": 3,
 "nbformat_minor": 0,
 "worksheets": [
  {
   "cells": [
    {
     "cell_type": "code",
     "collapsed": false,
     "input": [
      "%load_ext watermark"
     ],
     "language": "python",
     "metadata": {},
     "outputs": [],
     "prompt_number": 1
    },
    {
     "cell_type": "code",
     "collapsed": false,
     "input": [
      "%watermark -d -a \"Sebastian Raschka\" -v"
     ],
     "language": "python",
     "metadata": {},
     "outputs": [
      {
       "output_type": "stream",
       "stream": "stdout",
       "text": [
        "Sebastian Raschka 16/09/2014 \n",
        "\n",
        "CPython 3.4.1\n",
        "IPython 2.0.0\n"
       ]
      }
     ],
     "prompt_number": 2
    },
    {
     "cell_type": "markdown",
     "metadata": {},
     "source": [
      "<br>\n",
      "<br>"
     ]
    },
    {
     "cell_type": "heading",
     "level": 1,
     "metadata": {},
     "source": [
      "Gaussian Radius Basis Function Kernel PCA with and without Kernel matrix centering"
     ]
    },
    {
     "cell_type": "heading",
     "level": 3,
     "metadata": {},
     "source": [
      "Sections"
     ]
    },
    {
     "cell_type": "markdown",
     "metadata": {},
     "source": [
      "- [Example Data](#Example-Data)\n",
      "- [With Kernel Matrix Centering](#With-Kernel-Matrix-Centering)\n",
      "- [Without Kernel Matrix Centering](#Without-Kernel-Matrix-Centering)"
     ]
    },
    {
     "cell_type": "markdown",
     "metadata": {},
     "source": [
      "<br>\n",
      "<br>"
     ]
    },
    {
     "cell_type": "heading",
     "level": 1,
     "metadata": {},
     "source": [
      "Example data"
     ]
    },
    {
     "cell_type": "markdown",
     "metadata": {},
     "source": [
      "[[back to top](#Sections)]"
     ]
    },
    {
     "cell_type": "code",
     "collapsed": false,
     "input": [
      "%matplotlib inline"
     ],
     "language": "python",
     "metadata": {},
     "outputs": [],
     "prompt_number": 3
    },
    {
     "cell_type": "code",
     "collapsed": false,
     "input": [
      "import matplotlib.pyplot as plt\n",
      "\n",
      "from sklearn.datasets import make_moons\n",
      "X, y = make_moons(n_samples=100, random_state=123)\n",
      "\n",
      "plt.figure(figsize=(8,6))\n",
      "\n",
      "plt.scatter(X[y==0, 0], X[y==0, 1], color='red', alpha=0.5)\n",
      "plt.scatter(X[y==1, 0], X[y==1, 1], color='blue', alpha=0.5)\n",
      "\n",
      "plt.title('A nonlinear 2Ddataset')\n",
      "plt.ylabel('y coordinate')\n",
      "plt.xlabel('x coordinate')\n",
      "\n",
      "plt.show()"
     ],
     "language": "python",
     "metadata": {},
     "outputs": [
      {
       "output_type": "stream",
       "stream": "stderr",
       "text": [
        "/Users/sebastian/miniconda3/envs/py34/lib/python3.4/site-packages/sklearn/datasets/samples_generator.py:612: DeprecationWarning: using a non-integer number instead of an integer will result in an error in the future\n",
        "  y = np.hstack([np.zeros(n_samples_in, dtype=np.intp),\n"
       ]
      },
      {
       "metadata": {},
       "output_type": "display_data",
       "png": "[encoded data removed]",
       "text": [
        "<matplotlib.figure.Figure at 0x1064a2898>"
       ]
      }
     ],
     "prompt_number": 4
    },
    {
     "cell_type": "markdown",
     "metadata": {},
     "source": [
      "<br>\n",
      "<br>"
     ]
    },
    {
     "cell_type": "heading",
     "level": 1,
     "metadata": {},
     "source": [
      "With Kernel Matrix Centering"
     ]
    },
    {
     "cell_type": "markdown",
     "metadata": {},
     "source": [
      "[[back to top](#Sections)]"
     ]
    },
    {
     "cell_type": "code",
     "collapsed": false,
     "input": [
      "from scipy.spatial.distance import pdist, squareform\n",
      "from scipy import exp\n",
      "from scipy.linalg import eigh\n",
      "import numpy as np\n",
      "\n",
      "def stepwise_kpca(X, gamma, n_components):\n",
      "    \"\"\"\n",
      "    Implementation of a RBF kernel PCA.\n",
      "    \n",
      "    Arguments:\n",
      "        X: A MxN dataset as NumPy array where the samples are stored as rows (M),\n",
      "           and the attributes defined as columns (N).\n",
      "        gamma: A free parameter (coefficient) for the RBF kernel.\n",
      "        n_components: The number of components to be returned.\n",
      "    \n",
      "    \"\"\"\n",
      "    # Calculating the squared Euclidean distances for every pair of points\n",
      "    # in the MxN dimensional dataset.\n",
      "    sq_dists = pdist(X, 'sqeuclidean')\n",
      "\n",
      "    # Converting the pairwise distances into a symmetric MxM matrix.\n",
      "    mat_sq_dists = squareform(sq_dists)\n",
      "\n",
      "    # Computing the MxM kernel matrix.\n",
      "    K = exp(-gamma * mat_sq_dists)\n",
      "\n",
      "    # Centering the symmetric NxN kernel matrix.\n",
      "    N = K.shape[0]\n",
      "    one_n = np.ones((N,N)) / N\n",
      "    K = K - one_n.dot(K) - K.dot(one_n) + one_n.dot(K).dot(one_n)\n",
      "\n",
      "    # Obtaining eigenvalues in descending order with corresponding \n",
      "    # eigenvectors from the symmetric matrix.\n",
      "    eigvals, eigvecs = eigh(K)\n",
      "\n",
      "    # Obtaining the i eigenvectors that corresponds to the i highest eigenvalues.\n",
      "    X_pc = np.column_stack((eigvecs[:,-i] for i in range(1,n_components+1)))\n",
      "    \n",
      "    return X_pc"
     ],
     "language": "python",
     "metadata": {},
     "outputs": [],
     "prompt_number": 5
    },
    {
     "cell_type": "code",
     "collapsed": false,
     "input": [
      "import numpy as np\n",
      "\n",
      "X_pc = stepwise_kpca(X, gamma=15, n_components=1)\n",
      "\n",
      "plt.figure(figsize=(8,6))\n",
      "plt.scatter(X_pc[y==0, 0], np.zeros((50)), color='red', alpha=0.5)\n",
      "plt.scatter(X_pc[y==1, 0], np.zeros((50)), color='blue', alpha=0.5)\n",
      "\n",
      "plt.title('First principal component after RBF Kernel PCA')\n",
      "plt.text(-0.17, 0.007, 'gamma = 15', fontsize=12)\n",
      "plt.xlabel('PC1')\n",
      "plt.show()"
     ],
     "language": "python",
     "metadata": {},
     "outputs": [
      {
       "metadata": {},
       "output_type": "display_data",
       "png": "[encoded data removed]",
       "text": [
        "<matplotlib.figure.Figure at 0x107978be0>"
       ]
      }
     ],
     "prompt_number": 6
    },
    {
     "cell_type": "markdown",
     "metadata": {},
     "source": [
      "<br>\n",
      "<br>"
     ]
    },
    {
     "cell_type": "heading",
     "level": 1,
     "metadata": {},
     "source": [
      "Without Kernel Matrix Centering"
     ]
    },
    {
     "cell_type": "markdown",
     "metadata": {},
     "source": [
      "[[back to top](#Sections)]"
     ]
    },
    {
     "cell_type": "code",
     "collapsed": false,
     "input": [
      "from scipy.spatial.distance import pdist, squareform\n",
      "from scipy import exp\n",
      "from scipy.linalg import eigh\n",
      "\n",
      "def stepwise_kpca_no_center(X, gamma, n_components):\n",
      "    \"\"\"\n",
      "    Implementation of a RBF kernel PCA.\n",
      "    \n",
      "    Arguments:\n",
      "        X: A MxN dataset as NumPy array where the samples are stored as rows (M),\n",
      "           and the attributes defined as columns (N).\n",
      "        gamma: A free parameter (coefficient) for the RBF kernel.\n",
      "        n_components: The number of components to be returned.\n",
      "    \n",
      "    \"\"\"\n",
      "    # Calculating the squared Euclidean distances for every pair of points\n",
      "    # in the MxN dimensional dataset.\n",
      "    sq_dists = pdist(X, 'sqeuclidean')\n",
      "\n",
      "    # Converting the pairwise distances into a symmetric MxM matrix.\n",
      "    mat_sq_dists = squareform(sq_dists)\n",
      "\n",
      "    # Computing the MxM kernel matrix.\n",
      "    K = exp(-gamma * mat_sq_dists)\n",
      "\n",
      "    # Obtaining eigenvalues in descending order with corresponding \n",
      "    # eigenvectors from the symmetric matrix.\n",
      "    eigvals, eigvecs = eigh(K)\n",
      "\n",
      "    # Obtaining the i eigenvectors that corresponds to the i highest eigenvalues.\n",
      "    X_pc = np.column_stack((eigvecs[:,-i] for i in range(1,n_components+1)))\n",
      "    \n",
      "    return X_pc"
     ],
     "language": "python",
     "metadata": {},
     "outputs": [],
     "prompt_number": 7
    },
    {
     "cell_type": "code",
     "collapsed": false,
     "input": [
      "import numpy as np\n",
      "\n",
      "X_pc = stepwise_kpca_no_center(X, gamma=15, n_components=1)\n",
      "\n",
      "plt.figure(figsize=(8,6))\n",
      "plt.scatter(X_pc[y==0, 0], np.zeros((50)), color='red', alpha=0.5)\n",
      "plt.scatter(X_pc[y==1, 0], np.zeros((50)), color='blue', alpha=0.5)\n",
      "\n",
      "plt.title('First principal component after RBF Kernel PCA')\n",
      "plt.text(0.02, 0.007, 'gamma = 15', fontsize=12)\n",
      "plt.xlabel('PC1')\n",
      "plt.show()"
     ],
     "language": "python",
     "metadata": {},
     "outputs": [
      {
       "metadata": {},
       "output_type": "display_data",
       "png": "[encoded data removed]",
       "text": [
        "<matplotlib.figure.Figure at 0x107de24e0>"
       ]
      }
     ],
     "prompt_number": 8
    }
   ],
   "metadata": {}
  }
 ]
}