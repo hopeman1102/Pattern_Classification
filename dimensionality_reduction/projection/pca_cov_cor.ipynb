{
 "metadata": {
  "name": "",
  "signature": "sha256:56709ceecd983f46c6b61ba41807386ad61f623f06a1092950cf41e8c2ae9abf"
 },
 "nbformat": 3,
 "nbformat_minor": 0,
 "worksheets": [
  {
   "cells": [
    {
     "cell_type": "code",
     "collapsed": false,
     "input": [
      "%load_ext watermark"
     ],
     "language": "python",
     "metadata": {},
     "outputs": [],
     "prompt_number": 1
    },
    {
     "cell_type": "code",
     "collapsed": false,
     "input": [
      "%watermark -a 'Sebastian Raschka' -v -d"
     ],
     "language": "python",
     "metadata": {},
     "outputs": [
      {
       "output_type": "stream",
       "stream": "stdout",
       "text": [
        "Sebastian Raschka 28/10/2014 \n",
        "\n",
        "CPython 3.4.1\n",
        "IPython 2.3.0\n"
       ]
      }
     ],
     "prompt_number": 2
    },
    {
     "cell_type": "heading",
     "level": 1,
     "metadata": {},
     "source": [
      "Principal Component Analysis - Standardized Data, Covariance, and Correlation"
     ]
    },
    {
     "cell_type": "markdown",
     "metadata": {},
     "source": [
      "<br>\n",
      "<br>"
     ]
    },
    {
     "cell_type": "markdown",
     "metadata": {},
     "source": [
      "This is a short follow-up to a previous article [Implementing a Principal Component Analysis (PCA) in Python step by step](http://sebastianraschka.com/Articles/2014_pca_step_by_step.html); the purpose of this document is to show that a Principal Component Analysis based on the covariance matrix of the standardized data yields similar results to an PCA using the correlation matrix (the correlation matrix can be defined as the standardized covariance matrix). \n"
     ]
    },
    {
     "cell_type": "markdown",
     "metadata": {},
     "source": [
      "A common application of PCA is to reduce the dimensions of the dataset with minimal loss of information where the entire dataset ($d$ dimensions) is projected onto a new subspace ($k$ dimensions where $k < d$). \n",
      "This method of projection is useful in order to reduce the computational costs and the error of parameter estimation (\"curse of dimensionality\"). The standard PCA approach can be summarized in six simple steps:\n",
      "\n",
      "\n",
      "1. Compute the covariance matrix of the original or standardized $d$-dimensional dataset $\\textbf{X}$ (here: $d = 3$); alternatively, compute the correlation matrix.\n",
      "2. Eigendecomposition: Compute the eigenvectors and eigenvalues of the covariance matrix (or correlation matrix).\n",
      "3. Sort the eigenvalues in descending order.\n",
      "4. Choose the $k$ eigenvectors that correspond to the $k$ largest eigenvalues where $k$ is the number of dimensions of the new feature subspace ($k \\le d$). \n",
      "5. Construct the projection matrix  $\\textbf{W}$ from the $k$ selected eigenvectors.\n",
      "6. Transform the original dataset $\\textbf{X}$ to obtain the $k$ dimensional feature subspace $\\textbf{Y}$ ($\\textbf{Y} = \\textbf{W}^T \\cdot \\textbf{X}$).\n"
     ]
    },
    {
     "cell_type": "markdown",
     "metadata": {},
     "source": [
      "**Whether to standardize the data prior to a PCA on the covariance matrix (or correlation matrix) depends on the measurement scales of the original features. Since PCA yields a feature subspace that maximizes the variance along the axes, it makes sense to standardize the data if it was measured on different scales.**"
     ]
    },
    {
     "cell_type": "markdown",
     "metadata": {},
     "source": [
      "<br>\n",
      "<br>"
     ]
    },
    {
     "cell_type": "heading",
     "level": 2,
     "metadata": {},
     "source": [
      "Sections"
     ]
    },
    {
     "cell_type": "markdown",
     "metadata": {},
     "source": [
      "- [Dataset](#Dataset)\n",
      "- [PCA Based on the Covariance Matrix of the Raw Data](#PCA-Based-on-the-Covariance-Matrix-of-the-Raw-Data)\n",
      "- [PCA Based on the Covariance Matrix of the Standardized Data](#PCA-Based-on-the-Covariance-Matrix-of-the-Standardized-Data)\n",
      "- [PCA Based on the Correlation Matrix](#PCA-Based-on-the-Covariance-Matrix-of-the-Standardized-Data)\n",
      "- [Results](#Results)"
     ]
    },
    {
     "cell_type": "markdown",
     "metadata": {},
     "source": [
      "<br>\n",
      "<br>"
     ]
    },
    {
     "cell_type": "heading",
     "level": 2,
     "metadata": {},
     "source": [
      "Dataset"
     ]
    },
    {
     "cell_type": "markdown",
     "metadata": {},
     "source": [
      "The [Iris flower dataset](http://en.wikipedia.org/wiki/Iris_flower_data_set) will be used for this example. The dataset consists of 150 samples with 4 different features that have all been measured in the unit centimeter. For demonstration purposes, the first feature will be converted to inches and the second feature to meters, respectively."
     ]
    },
    {
     "cell_type": "code",
     "collapsed": false,
     "input": [
      "from sklearn.datasets import load_iris\n",
      "from sklearn.preprocessing import StandardScaler\n",
      "import numpy as np\n",
      "import matplotlib.pyplot as plt\n",
      "\n",
      "data = load_iris()\n",
      "X = data.data\n",
      "\n",
      "# convert features in column 1 from cm to inches\n",
      "X[:,0] /= 2.54\n",
      "# convert features in column 2 from cm to meters\n",
      "X[:,1] /= 100"
     ],
     "language": "python",
     "metadata": {},
     "outputs": [],
     "prompt_number": 4
    },
    {
     "cell_type": "markdown",
     "metadata": {},
     "source": [
      "<br>\n",
      "<br>"
     ]
    },
    {
     "cell_type": "heading",
     "level": 2,
     "metadata": {},
     "source": [
      "PCA Based on the Covariance Matrix of the Raw Data"
     ]
    },
    {
     "cell_type": "markdown",
     "metadata": {},
     "source": [
      "[[back-to-top](#Sections)]"
     ]
    },
    {
     "cell_type": "code",
     "collapsed": false,
     "input": [
      "%matplotlib inline"
     ],
     "language": "python",
     "metadata": {},
     "outputs": [],
     "prompt_number": 5
    },
    {
     "cell_type": "code",
     "collapsed": false,
     "input": [
      "def pca_raw_cov(X):\n",
      "    # Compute the covariance matrix\n",
      "    cov_mat = np.cov(X.T)\n",
      "\n",
      "    # Eigendecomposition of the covariance matrix\n",
      "    eig_val_cov, eig_vec_cov = np.linalg.eig(cov_mat)\n",
      "\n",
      "    # Make a list of (eigenvalue, eigenvector) tuples\n",
      "    # and sort the (eigenvalue, eigenvector) tuples from high to low\n",
      "    eig_pairs_cov = [(np.abs(eig_val_cov[i]), eig_vec_cov[:,i]) for i in range(len(eig_val_cov))]\n",
      "    eig_pairs_cov.sort()\n",
      "    eig_pairs_cov.reverse()\n",
      "\n",
      "    # Construct the transformation matrix W from the eigenvalues that correspond to\n",
      "    # the k largest eigenvalues (here: k = 2)\n",
      "    matrix_w_cov = np.hstack((eig_pairs_cov[0][1].reshape(4,1), eig_pairs_cov[1][1].reshape(4,1)))\n",
      "\n",
      "    # Transform the data using matrix W\n",
      "    X_raw_transf = matrix_w_cov.T.dot(X.T).T\n",
      "\n",
      "    # Plot the data\n",
      "    plt.scatter(X_raw_transf[:,0], X_raw_transf[:,1])\n",
      "    plt.title('PCA based on the covariance matrix of the raw data')\n",
      "    plt.show()"
     ],
     "language": "python",
     "metadata": {},
     "outputs": [],
     "prompt_number": 6
    },
    {
     "cell_type": "markdown",
     "metadata": {},
     "source": [
      "<br>\n",
      "<br>"
     ]
    },
    {
     "cell_type": "heading",
     "level": 2,
     "metadata": {},
     "source": [
      "PCA Based on the Covariance Matrix of the Standardized Data"
     ]
    },
    {
     "cell_type": "markdown",
     "metadata": {},
     "source": [
      "[[back-to-top](#Sections)]"
     ]
    },
    {
     "cell_type": "code",
     "collapsed": false,
     "input": [
      "def pca_standardize_cov(X):\n",
      "\n",
      "    # Standardize data\n",
      "    X_std = StandardScaler().fit_transform(X)\n",
      "\n",
      "    # Compute the covariance matrix\n",
      "    cov_mat = np.cov(X_std.T)\n",
      "\n",
      "    # Eigendecomposition of the covariance matrix\n",
      "    eig_val_cov, eig_vec_cov = np.linalg.eig(cov_mat)\n",
      "\n",
      "    # Make a list of (eigenvalue, eigenvector) tuples\n",
      "    # and sort the (eigenvalue, eigenvector) tuples from high to low\n",
      "    eig_pairs_cov = [(np.abs(eig_val_cov[i]), eig_vec_cov[:,i]) for i in range(len(eig_val_cov))]\n",
      "    eig_pairs_cov.sort()\n",
      "    eig_pairs_cov.reverse()\n",
      "\n",
      "    # Construct the transformation matrix W from the eigenvalues that correspond to\n",
      "    # the k largest eigenvalues (here: k = 2)\n",
      "    matrix_w_cov = np.hstack((eig_pairs_cov[0][1].reshape(4,1), eig_pairs_cov[1][1].reshape(4,1)))\n",
      "\n",
      "    # Transform the data using matrix W\n",
      "    X_std_transf = matrix_w_cov.T.dot(X_std.T).T\n",
      "\n",
      "    # Plot the data\n",
      "    plt.scatter(X_std_transf[:,0], X_std_transf[:,1])\n",
      "    plt.title('PCA based on the covariance matrix after standardizing the data')\n",
      "    plt.show()"
     ],
     "language": "python",
     "metadata": {},
     "outputs": [],
     "prompt_number": 7
    },
    {
     "cell_type": "markdown",
     "metadata": {},
     "source": [
      "<br>\n",
      "<br>"
     ]
    },
    {
     "cell_type": "heading",
     "level": 2,
     "metadata": {},
     "source": [
      "PCA Based on the Correlation Matrix"
     ]
    },
    {
     "cell_type": "markdown",
     "metadata": {},
     "source": [
      "[[back-to-top](#Sections)]"
     ]
    },
    {
     "cell_type": "code",
     "collapsed": false,
     "input": [
      "def pca_cor(X):\n",
      "    # Compute the correlation matrix\n",
      "    cor_mat = np.corrcoef(X.T)\n",
      "\n",
      "    # Eigendecomposition of the correlation matrix\n",
      "    eig_val_cor, eig_vec_cor = np.linalg.eig(cor_mat)\n",
      "\n",
      "    # Make a list of (eigenvalue, eigenvector) tuples\n",
      "    # and sort the (eigenvalue, eigenvector) tuples from high to low\n",
      "    eig_pairs_cor = [(np.abs(eig_val_cor[i]), eig_vec_cor[:,i]) for i in range(len(eig_val_cor))]\n",
      "    eig_pairs_cor.sort()\n",
      "    eig_pairs_cor.reverse()\n",
      "\n",
      "    # Construct the transformation matrix W from the eigenvalues that correspond to\n",
      "    # the k largest eigenvalues (here: k = 2)\n",
      "    matrix_w_cor = np.hstack((eig_pairs_cor[0][1].reshape(4,1), eig_pairs_cor[1][1].reshape(4,1)))\n",
      "\n",
      "    # Transform the data using matrix W\n",
      "    X_transf = matrix_w_cor.T.dot(X.T).T\n",
      "\n",
      "    # Plot the data\n",
      "    plt.scatter(X_transf[:,0], X_transf[:,1])\n",
      "    plt.title('PCA based on the correlation matrix of the raw data')\n",
      "    plt.show()"
     ],
     "language": "python",
     "metadata": {},
     "outputs": [],
     "prompt_number": 8
    },
    {
     "cell_type": "markdown",
     "metadata": {},
     "source": [
      "<br>\n",
      "<br>"
     ]
    },
    {
     "cell_type": "heading",
     "level": 2,
     "metadata": {},
     "source": [
      "Results"
     ]
    },
    {
     "cell_type": "markdown",
     "metadata": {},
     "source": [
      "[[back-to-top](#Sections)]"
     ]
    },
    {
     "cell_type": "code",
     "collapsed": false,
     "input": [
      "pca_raw_cov(X)\n",
      "pca_standardize_cov(X)\n",
      "pca_cor(X)"
     ],
     "language": "python",
     "metadata": {},
     "outputs": [
      {
       "metadata": {},
       "output_type": "display_data",
       "png": "[encoded data removed]",
       "text": [
        "<matplotlib.figure.Figure at 0x1068b8320>"
       ]
      },
      {
       "metadata": {},
       "output_type": "display_data",
       "png": "[encoded data removed]",
       "text": [
        "<matplotlib.figure.Figure at 0x1068b82b0>"
       ]
      },
      {
       "metadata": {},
       "output_type": "display_data",
       "png": "[encoded data removed]",
       "text": [
        "<matplotlib.figure.Figure at 0x106c4ceb8>"
       ]
      }
     ],
     "prompt_number": 9
    },
    {
     "cell_type": "markdown",
     "metadata": {},
     "source": [
      "The plot of the transformed data shows that PCA based on the correlation matrix produces similar results to a PCA based on the covariance matrix of the standardized data."
     ]
    }
   ],
   "metadata": {}
  }
 ]
}