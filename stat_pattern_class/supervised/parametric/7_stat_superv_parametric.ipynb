{
 "metadata": {
  "name": "",
  "signature": "sha256:5932fd5fb31f155b0a6dd3d88ecc11e6af56399d0c22997511b4c289ee32df9f"
 },
 "nbformat": 3,
 "nbformat_minor": 0,
 "worksheets": [
  {
   "cells": [
    {
     "cell_type": "markdown",
     "metadata": {},
     "source": [
      "*Sebastian Raschka*  \n",
      "last modified: 04/03/2014"
     ]
    },
    {
     "cell_type": "markdown",
     "metadata": {},
     "source": [
      "<hr>\n",
      "I am really looking forward to your comments and suggestions to improve and extend this tutorial! Just send me a quick note   \n",
      "via Twitter: [@rasbt](https://twitter.com/rasbt)  \n",
      "or Email: [bluewoodtree@gmail.com](mailto:bluewoodtree@gmail.com)\n",
      "<hr>"
     ]
    },
    {
     "cell_type": "markdown",
     "metadata": {},
     "source": [
      "### Problem Category\n",
      "- Statistical Pattern Recognition   \n",
      "- Supervised Learning  \n",
      "- Parametric Learning  \n",
      "- Bayes Decision Theory  \n",
      "- Multivariate data (2-dimensional)\n",
      "- 2-class problem\n",
      "- equal variances\n",
      "- equal prior probabilities\n",
      "- Gaussian model (2 parameters)\n",
      "- no conditional Risk (1-0 loss functions)\n",
      "<hr>"
     ]
    },
    {
     "cell_type": "markdown",
     "metadata": {},
     "source": [
      "<p><a name=\"sections\"></a>\n",
      "<br></p>"
     ]
    },
    {
     "cell_type": "markdown",
     "metadata": {},
     "source": [
      "\n",
      "\n",
      "# Sections\n",
      "\n",
      "\n",
      "<p>&#8226; <a href=\"#given\">Given information</a><br>\n",
      "&#8226; <a href=\"#deriving_db\">Deriving the decision boundary</a><br>\n",
      "&#8226; <a href=\"#classify_rand\">Classifying some random example data</a><br>\n",
      "&#8226; <a href=\"#chern_err\">Calculating the Chernoff theoretical bounds for P(error)</a><br>\n",
      "&#8226; <a href=\"#emp_err\">Calculating the empirical error rate</a><br>\n",
      "\n",
      "  \n",
      "\n",
      "  \n",
      "  \n",
      "\n",
      "\n",
      "\n",
      "<hr>"
     ]
    },
    {
     "cell_type": "markdown",
     "metadata": {},
     "source": [
      "<p><a name=\"given\"></a>\n",
      "<br></p>\n"
     ]
    },
    {
     "cell_type": "markdown",
     "metadata": {},
     "source": [
      "## Given information:"
     ]
    },
    {
     "cell_type": "markdown",
     "metadata": {},
     "source": [
      "\n",
      "[<a href=\"#sections\">back to top</a>] <br>\n",
      "\n",
      "<br> "
     ]
    },
    {
     "cell_type": "markdown",
     "metadata": {},
     "source": [
      "\n",
      "\n",
      "\n",
      "####model: continuous univariate normal (Gaussian) model for the class-conditional densities\n",
      "\n",
      "\n",
      "$p(\\vec{x} | \\omega_j) \\sim N(\\vec{\\mu}|\\Sigma)$ \n",
      "\n",
      "$p(\\vec{x} | \\omega_j) \\sim \\frac{1}{(2\\pi)^{d/2} |\\Sigma|^{1/2}} \\exp{ \\bigg[-\\frac{1}{2} (\\vec{x}-\\vec{\\mu})^t \\Sigma^{-1}(\\vec{x}-\\vec{\\mu}) \\bigg] }$\n",
      "\n",
      "\n",
      "\n",
      "\n",
      "####Prior probabilities:\n",
      "\n",
      "$P(\\omega_1) = P(\\omega_2) = 0.5$\n",
      "\n",
      "\n",
      " "
     ]
    },
    {
     "cell_type": "markdown",
     "metadata": {},
     "source": [
      "The samples are of 2-dimensional feature vectors:\n",
      "\n",
      "$\\vec{x} = \\bigg[ \n",
      "\\begin{array}{c}\n",
      "x_1 \\\\\n",
      "x_2 \\\\\n",
      "\\end{array} \\bigg]$"
     ]
    },
    {
     "cell_type": "markdown",
     "metadata": {},
     "source": [
      "#### Means of the sample distributions for 2-dimensional features:\n",
      "\n",
      "$\\vec{\\mu}_{\\,1} = \\bigg[ \n",
      "\\begin{array}{c}\n",
      "0 \\\\\n",
      "0 \\\\\n",
      "\\end{array} \\bigg]$,\n",
      "$\\; \\vec{\\mu}_{\\,2} = \\bigg[ \n",
      "\\begin{array}{c}\n",
      "1 \\\\\n",
      "1 \\\\\n",
      "\\end{array} \\bigg]$\n",
      "\n",
      "#### Covariance matrices for the statistically independend and identically distributed ('i.i.d') features: \n",
      "\n",
      "$\\Sigma_i = \\bigg[ \n",
      "\\begin{array}{cc}\n",
      "\\sigma_{11}^2 & \\sigma_{12}^2\\\\\n",
      "\\sigma_{21}^2 & \\sigma_{22}^2 \\\\\n",
      "\\end{array} \\bigg], \\; \n",
      "\\Sigma_1 = \\Sigma_2 = I = \\bigg[ \n",
      "\\begin{array}{cc}\n",
      "1 & 0\\\\\n",
      "0 & 1 \\\\\n",
      "\\end{array} \\bigg], \\;$"
     ]
    },
    {
     "cell_type": "markdown",
     "metadata": {},
     "source": [
      "####Class conditional probabilities:\n",
      "\n",
      "$p(\\vec{x}\\;|\\;\\omega_1) \\sim N \\bigg( \\vec{\\mu_1} = \\;  \\bigg[ \n",
      "\\begin{array}{c}\n",
      "0 \\\\\n",
      "0 \\\\\n",
      "\\end{array} \\bigg], \\Sigma = I \\bigg)$\n",
      "\n",
      "$p(\\vec{x}\\;|\\;\\omega_2) \\sim N \\bigg( \\vec{\\mu_2} = \\;  \\bigg[ \n",
      "\\begin{array}{c}\n",
      "1 \\\\\n",
      "1 \\\\\n",
      "\\end{array} \\bigg], \\Sigma = I \\bigg)$"
     ]
    },
    {
     "cell_type": "markdown",
     "metadata": {},
     "source": [
      "<p><a name=\"deriving_db\"></a>\n",
      "<br></p>\n"
     ]
    },
    {
     "cell_type": "markdown",
     "metadata": {},
     "source": [
      "## Deriving the decision boundary"
     ]
    },
    {
     "cell_type": "markdown",
     "metadata": {},
     "source": [
      "[<a href=\"#sections\">back to top</a>] <br>"
     ]
    },
    {
     "cell_type": "markdown",
     "metadata": {},
     "source": [
      "\n",
      "### Bayes' Rule:\n",
      "\n",
      "\n",
      "$P(\\omega_j|x) = \\frac{p(x|\\omega_j) * P(\\omega_j)}{p(x)}$ \n"
     ]
    },
    {
     "cell_type": "markdown",
     "metadata": {},
     "source": [
      "### Discriminant Functions:\n",
      "\n",
      "The goal is to maximize the discriminant function, which we define as the posterior probability here to perform a **minimum-error classification** (Bayes classifier).\n",
      "\n",
      "$g_1(\\vec{x}) = P(\\omega_1 | \\; \\vec{x}), \\quad  g_2(\\vec{x}) = P(\\omega_2 | \\; \\vec{x})$\n",
      "\n",
      "$\\Rightarrow g_1(\\vec{x}) = P(\\vec{x}|\\;\\omega_1) \\;\\cdot\\; P(\\omega_1) \\quad | \\; ln \\\\\n",
      "\\quad g_2(\\vec{x}) = P(\\vec{x}|\\;\\omega_2) \\;\\cdot\\; P(\\omega_2) \\quad | \\; ln$\n",
      "\n",
      "<br>\n",
      "We can drop the prior probabilities (since we have equal priors in this case): \n",
      "\n",
      "$\\Rightarrow g_1(\\vec{x}) = ln(P(\\vec{x}|\\;\\omega_1))\\\\\n",
      "\\quad g_2(\\vec{x}) = ln(P(\\vec{x}|\\;\\omega_2))$"
     ]
    },
    {
     "cell_type": "markdown",
     "metadata": {},
     "source": [
      "$\\Rightarrow g_1(\\vec{x}) = \\frac{1}{2\\sigma^2} \\bigg[\\; \\vec{x}^{\\,t} - 2 \\vec{\\mu_1}^{\\,t} \\vec{x} + \\vec{\\mu_1}^{\\,t} \\bigg] \\mu_1 \\\\ \n",
      "= - \\frac{1}{2} \\bigg[ \\vec{x}^{\\,t} \\vec{x} -2 \\; [0 \\;\\; 0] \\;\\; \\vec{x} +  [0 \\;\\; 0] \\;\\; \\bigg[ \n",
      "\\begin{array}{c}\n",
      "0 \\\\\n",
      "0 \\\\\n",
      "\\end{array} \\bigg] \\bigg] \\\\\n",
      "= -\\frac{1}{2} \\vec{x}^{\\,t} \\vec{x}$"
     ]
    },
    {
     "cell_type": "markdown",
     "metadata": {},
     "source": [
      "$\\Rightarrow g_2(\\vec{x}) = \\frac{1}{2\\sigma^2} \\bigg[\\; \\vec{x}^{\\,t} - 2 \\vec{\\mu_2}^{\\,t} \\vec{x} + \\vec{\\mu_2}^{\\,t} \\bigg] \\mu_2 \\\\ \n",
      "= - \\frac{1}{2} \\bigg[ \\vec{x}^{\\,t} \\vec{x} -2 \\; 2\\;  [1 \\;\\; 1] \\;\\; \\vec{x} +  [1 \\;\\; 1] \\;\\; \\bigg[ \n",
      "\\begin{array}{c}\n",
      "1 \\\\\n",
      "1 \\\\\n",
      "\\end{array} \\bigg] \\bigg] \\\\\n",
      "= -\\frac{1}{2} \\; \\bigg[ \\; \\vec{x}^{\\,t} \\vec{x} - 2\\;  [1 \\;\\; 1] \\;\\; \\vec{x} + 2\\; \\bigg] \\;$"
     ]
    },
    {
     "cell_type": "markdown",
     "metadata": {},
     "source": [
      "### Decision Boundary\n",
      "\n",
      "$g_1(\\vec{x}) = g_2(\\vec{x})$ "
     ]
    },
    {
     "cell_type": "markdown",
     "metadata": {},
     "source": [
      "$\\Rightarrow  -\\frac{1}{2} \\vec{x}^{\\,t} \\vec{x} = -\\frac{1}{2} \\; \\bigg[ \\; \\vec{x}^{\\,t} \\vec{x} - 2\\;  [1 \\;\\; 1] \\;\\; \\vec{x} + 2\\; \\bigg] \\;$ "
     ]
    },
    {
     "cell_type": "markdown",
     "metadata": {},
     "source": [
      "$\\Rightarrow -2[1\\;\\; 1] \\vec{x} + 2 = 0$\n",
      "\n",
      "$\\Rightarrow [-2\\;\\; -2] \\;\\;\\vec{x} + 2 = 0$\n",
      "\n",
      "$\\Rightarrow -2x_1 - 2x_2 + 2 = 0$\n",
      "\n",
      "$\\Rightarrow -x_1 - x_2 + 1 = 0$"
     ]
    },
    {
     "cell_type": "markdown",
     "metadata": {},
     "source": [
      "<p><a name=\"classify_rand\"></a>\n",
      "<br></p>\n"
     ]
    },
    {
     "cell_type": "markdown",
     "metadata": {},
     "source": [
      "\n",
      "## Classifying some random example data\n",
      "\n"
     ]
    },
    {
     "cell_type": "markdown",
     "metadata": {},
     "source": [
      "[<a href=\"#sections\">back to top</a>] <br>"
     ]
    },
    {
     "cell_type": "code",
     "collapsed": false,
     "input": [
      "%pylab inline\n",
      "\n",
      "import numpy as np\n",
      "from matplotlib import pyplot as plt\n",
      "\n",
      "def decision_boundary(x_1):\n",
      "    \"\"\" Calculates the x_2 value for plotting the decision boundary.\"\"\"\n",
      "    return -x_1 + 1\n",
      "\n",
      "# Generate 100 random patterns for class1\n",
      "mu_vec1 = np.array([0,0])\n",
      "cov_mat1 = np.array([[1,0],[0,1]])\n",
      "x1_samples = np.random.multivariate_normal(mu_vec1, cov_mat1, 100)\n",
      "mu_vec1 = mu_vec1.reshape(1,2).T # to 1-col vector\n",
      "\n",
      "# Generate 100 random patterns for class2\n",
      "mu_vec2 = np.array([1,1])\n",
      "cov_mat2 = np.array([[1,0],[0,1]])\n",
      "x2_samples = np.random.multivariate_normal(mu_vec2, cov_mat2, 100)\n",
      "mu_vec2 = mu_vec2.reshape(1,2).T # to 1-col vector\n",
      "\n",
      "# Scatter plot\n",
      "f, ax = plt.subplots(figsize=(7, 7))\n",
      "ax.scatter(x1_samples[:,0], x1_samples[:,1], marker='o', color='green', s=40, alpha=0.5)\n",
      "ax.scatter(x2_samples[:,0], x2_samples[:,1], marker='^', color='blue', s=40, alpha=0.5)\n",
      "plt.legend(['Class1 (w1)', 'Class2 (w2)'], loc='upper right') \n",
      "plt.title('Densities of 2 classes with 100 bivariate random patterns each')\n",
      "plt.ylabel('x2')\n",
      "plt.xlabel('x1')\n",
      "ftext = 'p(x|w1) ~ N(mu1=(0,0)^t, cov1=I)\\np(x|w2) ~ N(mu2=(1,1)^t, cov2=I)'\n",
      "plt.figtext(.15,.8, ftext, fontsize=11, ha='left')\n",
      "plt.ylim([-3,4])\n",
      "plt.xlim([-3,4])\n",
      "\n",
      "\n",
      "\n",
      "# Plot decision boundary\n",
      "x_1 = np.arange(-5, 5, 0.1)\n",
      "bound = decision_boundary(x_1)\n",
      "plt.annotate('R1', xy=(-2, 2), xytext=(-2, 2), size=20)\n",
      "plt.annotate('R2', xy=(2.5, 2.5), xytext=(2.5, 2.5), size=20)\n",
      "plt.plot(x_1, bound, color='r', alpha=0.8, linestyle=':', linewidth=3)\n",
      "\n",
      "x_vec = np.linspace(*ax.get_xlim())\n",
      "x_1 = np.arange(0, 100, 0.05)\n",
      "\n",
      "plt.show()"
     ],
     "language": "python",
     "metadata": {},
     "outputs": [
      {
       "output_type": "stream",
       "stream": "stdout",
       "text": [
        "Populating the interactive namespace from numpy and matplotlib\n"
       ]
      },
      {
       "output_type": "stream",
       "stream": "stderr",
       "text": [
        "WARNING: pylab import has clobbered these variables: ['f']\n",
        "`%matplotlib` prevents importing * from pylab and numpy\n"
       ]
      },
      {
       "metadata": {},
       "output_type": "display_data",
       "png": "[encoded data removed]",
       "text": [
        "<matplotlib.figure.Figure at 0x1064429d0>"
       ]
      }
     ],
     "prompt_number": 16
    },
    {
     "cell_type": "markdown",
     "metadata": {},
     "source": [
      "<p><a name=\"chern_err\"></a>\n",
      "<br></p>\n"
     ]
    },
    {
     "cell_type": "markdown",
     "metadata": {},
     "source": [
      "\n",
      "## Calculating the Chernoff theoretical bounds for P(error)\n",
      "\n"
     ]
    },
    {
     "cell_type": "markdown",
     "metadata": {},
     "source": [
      "[<a href=\"#sections\">back to top</a>] <br>"
     ]
    },
    {
     "cell_type": "markdown",
     "metadata": {},
     "source": [
      "$P(error) \\le p^{\\beta}(\\omega_1) \\; p^{1-\\beta}(\\omega_2) \\; e^{-(\\beta(1-\\beta))}$"
     ]
    },
    {
     "cell_type": "markdown",
     "metadata": {},
     "source": [
      "$\\Rightarrow 0.5^\\beta \\cdot 0.5^{(1-\\beta)} \\; e^{-(\\beta(1-\\beta))}$\n",
      "\n",
      "$\\Rightarrow 0.5 \\cdot e^{-\\beta(1-\\beta)}$"
     ]
    },
    {
     "cell_type": "markdown",
     "metadata": {},
     "source": [
      "$min[P(\\omega_1), \\; P(\\omega_2)] \\le 0.5 \\; e^{-(\\beta(1-\\beta))} \\quad for \\; P(\\omega_1), \\; P(\\omega_2) \\ge \\; 0 \\; and \\; 0 \\; \\le \\; \\beta \\; \\le 1$"
     ]
    },
    {
     "cell_type": "markdown",
     "metadata": {},
     "source": [
      "### Plotting the Chernoff Bound for $0 \\le \\beta \\le 1$"
     ]
    },
    {
     "cell_type": "code",
     "collapsed": false,
     "input": [
      "def chernoff_bound(beta):\n",
      "    return 0.5 * np.exp(-beta * (1-beta))\n",
      "\n",
      "betas = np.arange(0, 1, 0.01)\n",
      "c_bound = chernoff_bound(betas)\n",
      "\n",
      "plt.plot(betas, c_bound)\n",
      "plt.title('Chernoff Bound')\n",
      "plt.ylabel('P(error)')\n",
      "plt.xlabel('parameter beta')\n",
      "\n",
      "plt.show()"
     ],
     "language": "python",
     "metadata": {},
     "outputs": [
      {
       "metadata": {},
       "output_type": "display_data",
       "png": "[encoded data removed]",
       "text": [
        "<matplotlib.figure.Figure at 0x106a93cd0>"
       ]
      }
     ],
     "prompt_number": 19
    },
    {
     "cell_type": "markdown",
     "metadata": {},
     "source": [
      "#### Finding the global minimum: "
     ]
    },
    {
     "cell_type": "code",
     "collapsed": false,
     "input": [
      "from scipy.optimize import minimize\n",
      "\n",
      "x0 = [0.39] # initial guess (here: guessed based on the plot)\n",
      "res = minimize(chernoff_bound, x0, method='Nelder-Mead')\n",
      "print(res)"
     ],
     "language": "python",
     "metadata": {},
     "outputs": [
      {
       "output_type": "stream",
       "stream": "stdout",
       "text": [
        " success: True\n",
        "     nit: 12\n",
        " message: 'Optimization terminated successfully.'\n",
        "     fun: 0.38940039155946954\n",
        "    nfev: 24\n",
        "  status: 0\n",
        "       x: array([ 0.49999219])\n"
       ]
      }
     ],
     "prompt_number": 29
    },
    {
     "cell_type": "markdown",
     "metadata": {},
     "source": [
      "<p><a name=\"emp_err\"></a>\n",
      "<br></p>\n"
     ]
    },
    {
     "cell_type": "markdown",
     "metadata": {},
     "source": [
      "\n",
      "## Calculating the empirical error rate\n",
      "\n"
     ]
    },
    {
     "cell_type": "markdown",
     "metadata": {},
     "source": [
      "[<a href=\"#sections\">back to top</a>] <br>"
     ]
    },
    {
     "cell_type": "code",
     "collapsed": false,
     "input": [
      "def decision_rule(x_vec):\n",
      "    \"\"\" Returns value for the decision rule of 2-d row vectors \"\"\"\n",
      "    x_1 = x_vec[0]\n",
      "    x_2 = x_vec[1]\n",
      "    return -x_1 - x_2 + 1\n",
      "\n",
      "w1_as_w2, w2_as_w1 = 0, 0\n",
      "\n",
      "for x in x1_samples:\n",
      "    if decision_rule(x) < 0:\n",
      "        w1_as_w2 += 1\n",
      "for x in x2_samples:\n",
      "    if decision_rule(x) > 0:\n",
      "        w2_as_w1 += 1\n",
      "\n",
      "emp_err = (w1_as_w2 + w2_as_w1) / float(len(x1_samples) + len(x2_samples))\n",
      "    \n",
      "print('Empirical Error: {}%'.format(emp_err * 100))"
     ],
     "language": "python",
     "metadata": {},
     "outputs": [
      {
       "output_type": "stream",
       "stream": "stdout",
       "text": [
        "Empirical Error: 23.0%\n"
       ]
      }
     ],
     "prompt_number": 17
    }
   ],
   "metadata": {}
  }
 ]
}