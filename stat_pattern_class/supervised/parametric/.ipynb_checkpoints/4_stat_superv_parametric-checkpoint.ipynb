{
 "metadata": {
  "name": ""
 },
 "nbformat": 3,
 "nbformat_minor": 0,
 "worksheets": [
  {
   "cells": [
    {
     "cell_type": "markdown",
     "metadata": {},
     "source": [
      "*Sebastian Raschka*  \n",
      "last modified: 03/30/2014"
     ]
    },
    {
     "cell_type": "markdown",
     "metadata": {},
     "source": [
      "### Problem Category\n",
      "- Statistical Pattern Recognition   \n",
      "- Supervised Learning  \n",
      "- Parametric Learning  \n",
      "- Bayes Decision Theory  \n",
      "- Univariate data  \n",
      "- 2-class problem\n",
      "- different variances\n",
      "- different priors\n",
      "- Gaussian model (2 parameters)\n",
      "- With conditional Risk (loss functions)\n",
      "<hr>"
     ]
    },
    {
     "cell_type": "markdown",
     "metadata": {},
     "source": [
      "## Given Information:\n",
      "\n",
      "\n",
      "\n",
      "\n",
      "####model: continuous univariate normal (Gaussian) density\n",
      "\n",
      "\n",
      "$ p(x | \\omega_j) \\sim N(\\mu|\\sigma^2) $ \n",
      "$ p(x | \\omega_j) \\sim \\frac{1}{\\sqrt{2\\pi\\sigma^2}} \\exp{ \\bigg[-\\frac{1}{2}\\bigg( \\frac{x-\\mu}{\\sigma}\\bigg)^2 \\bigg] } $\n",
      "\n",
      "\n",
      "####parameters:\n",
      "\n",
      "\n",
      "$ P(\\omega_1) = \\frac{2}{3}, \\quad P(\\omega_2) = \\frac{1}{3} $\n",
      "\n",
      "\n",
      "\\begin{equation}\n",
      "\\lambda = \\begin{pmatrix}\n",
      "\\lambda_{11} \\quad \\lambda_{12} \\\\\n",
      "\\lambda_{21} \\quad \\lambda_{22}\n",
      "\\end{pmatrix}\n",
      "= \\begin{pmatrix}\n",
      "0 \\quad 1 \\\\\n",
      "2 \\quad 0 \\\\\n",
      "\\end{pmatrix}\\\\\n",
      "\\end{equation}\n",
      "\n",
      "$ \\sigma_1^2 = 0.25, \\quad \\sigma_2^2 = 0.04 $\n",
      "\n",
      "$ \\mu_1 = 2, \\quad \\mu_2 = 1.5 $\n",
      "\n",
      "\n",
      "<br>"
     ]
    },
    {
     "cell_type": "markdown",
     "metadata": {},
     "source": [
      "### Bayes' Rule:\n",
      "\n",
      "\n",
      "$ P(\\omega_j|x) = \\frac{p(x|\\omega_j) * P(\\omega_j)}{p(x)}$ \n"
     ]
    },
    {
     "cell_type": "markdown",
     "metadata": {},
     "source": [
      "### Risk Functions:\n",
      "\n",
      "$ R(\\alpha_1|x) = \\lambda_{11}P(\\omega_1|x) + \\lambda_{12}P(\\omega_2|x) $\n",
      "\n",
      "$ R(\\alpha_2|x) = \\lambda_{21}P(\\omega_1|x) + \\lambda_{22}P(\\omega_2|x) $\n",
      "\n"
     ]
    },
    {
     "cell_type": "markdown",
     "metadata": {},
     "source": [
      "###Decision Rule:\n",
      "\n",
      "Decide $ \\omega_1 $ if $ R(\\alpha_2|x) > R(\\alpha_1|x) $ else decide $ \\omega_2 $."
     ]
    },
    {
     "cell_type": "markdown",
     "metadata": {},
     "source": [
      "$ \\Rightarrow \\lambda_{21}P(\\omega_1|x) + \\lambda_{22}P(\\omega_2|x) > \\lambda_{11}P(\\omega_1|x) + \\lambda_{12}P(\\omega_2|x) $\n",
      "\n",
      "$ \\Rightarrow (\\lambda_{21} - \\lambda_{11}) \\; P(\\omega_1|x) > (\\lambda_{12} - \\lambda_{22}) \\; P(\\omega_2|x) $\n",
      "\n",
      "$ \\Rightarrow \\frac{P(\\omega_1|x)}{P(\\omega_2|x)} > \\frac{(\\lambda_{12} - \\lambda_{22})}{(\\lambda_{21} - \\lambda_{11})} $\n",
      "\n",
      "$ \\Rightarrow \\frac{p(x|\\omega_1) \\; P{(\\omega_1)}}{p(x|\\omega_2) \\; P{(\\omega_2)}} > \\frac{(\\lambda_{12} - \\lambda_{22})}{(\\lambda_{21} - \\lambda_{11})} $\n",
      "\n",
      "$ \\Rightarrow \\frac{p(x|\\omega_1)}{p(x|\\omega_2)} > \\frac{(\\lambda_{12} - \\lambda_{22}) \\; P{(\\omega_2)}}{(\\lambda_{21} - \\lambda_{11}) \\; P{(\\omega_1)}} $\n"
     ]
    },
    {
     "cell_type": "markdown",
     "metadata": {},
     "source": [
      "\n",
      "$ \\Rightarrow \\frac{p(x|\\omega_1)}{P(x|\\omega_2)} > \\frac{(1 - 0) \\; (1/3)}{(2 - 0) \\; (2/3)} $\n",
      "\n",
      "$ \\Rightarrow \\frac{p(x|\\omega_1)}{P(x|\\omega_2)} > \\frac{1}{4} $\n"
     ]
    },
    {
     "cell_type": "markdown",
     "metadata": {},
     "source": [
      "\n",
      "<br>\n",
      "\n",
      "\n",
      "$ \\Rightarrow  \\Bigg( \\frac{1}{\\sqrt{2\\pi\\sigma_1^2}} \\exp{ \\bigg[-\\frac{1}{2}\\bigg( \\frac{x-\\mu_1}{\\sigma_1}\\bigg)^2 \\bigg] } \\Bigg) \\Bigg/  \\Bigg( \\frac{1}{\\sqrt{2\\pi\\sigma_2^2}}  \\exp{ \\bigg[-\\frac{1}{2}\\bigg( \\frac{x-\\mu_2}{\\sigma_2}\\bigg)^2 \\bigg] } \\Bigg)> \\frac{1}{4} \\quad \\bigg| \\quad \\sigma_1^2 = 0.25, \\quad \\sigma_2^2 = 0.04, \\quad \\mu_1 = 2, \\quad \\mu_2 = 1.5 $"
     ]
    },
    {
     "cell_type": "markdown",
     "metadata": {},
     "source": [
      "$ \\Rightarrow  \\Bigg( \\frac{1}{\\sqrt{2\\pi0.25}} \\exp{ \\bigg[-\\frac{1}{2}\\bigg( \\frac{x-2}{0.5}\\bigg)^2 \\bigg] } \\Bigg) \\Bigg/  \\Bigg( \\frac{1}{\\sqrt{2\\pi0.04}}  \\exp{ \\bigg[-\\frac{1}{2}\\bigg( \\frac{x-1.5}{0.2}\\bigg)^2 \\bigg] } \\Bigg)> \\frac{1}{4}  $"
     ]
    },
    {
     "cell_type": "markdown",
     "metadata": {},
     "source": [
      "$ \\Rightarrow  \\Bigg( 2 \\; \\cdot \\;\\frac{1}{\\sqrt{2\\pi}} \\exp{ \\bigg[-2 \\; \\cdot \\; (x-2)^2 \\bigg] } \\Bigg) \\Bigg/  \\Bigg( 5 \\; \\cdot \\; \\frac{1}{\\sqrt{2\\pi}}  \\exp{ \\bigg[-12.5 \\; \\cdot \\; (x-1.5)^2 \\bigg] } \\Bigg)> \\frac{1}{4}  $"
     ]
    },
    {
     "cell_type": "markdown",
     "metadata": {},
     "source": [
      "$ \\Rightarrow \\frac{2}{5} \\Bigg( \\exp{ \\bigg[-2 \\; \\cdot \\; (x-2)^2 \\bigg] } \\Bigg) \\Bigg/ \\Bigg( \\exp{ \\bigg[-12.5 \\; \\cdot \\; (x-1.5)^2 \\bigg] } \\Bigg) \\Bigg) > \\frac{1}{4} \\quad \\bigg| \\quad ln $"
     ]
    },
    {
     "cell_type": "markdown",
     "metadata": {},
     "source": [
      "$ \\Rightarrow \\bigg(-2(x-2)^2 \\bigg) - \\bigg(-12.5 (x-1.5)^2 \\bigg) > ln(\\frac{5}{8}) $"
     ]
    },
    {
     "cell_type": "markdown",
     "metadata": {},
     "source": [
      "$ \\Rightarrow -2(x-2)^2 + 12.5 (x-1.5)^2  - 0.47 > 0 $"
     ]
    },
    {
     "cell_type": "markdown",
     "metadata": {},
     "source": [
      "$ \\Rightarrow -2x^2 + 8x -8 + 12.5x^2 - 37.5x + 27.655 > 0 $"
     ]
    },
    {
     "cell_type": "markdown",
     "metadata": {},
     "source": [
      "$ \\Rightarrow 10.5 x^2-29.5 x+19.655 > 0$"
     ]
    },
    {
     "cell_type": "markdown",
     "metadata": {},
     "source": [
      "$ \\Rightarrow x = 1.08625 \\quad and \\quad x = 1.72328 $"
     ]
    },
    {
     "cell_type": "markdown",
     "metadata": {},
     "source": [
      "## Plotting the Class Conditional Densities and Decision Boundary"
     ]
    },
    {
     "cell_type": "code",
     "collapsed": false,
     "input": [
      "%pylab inline\n",
      "\n",
      "import numpy as np\n",
      "from matplotlib import pyplot as plt\n",
      "\n",
      "def pdf(x, mu, sigma_sqr):\n",
      "    \"\"\"\n",
      "    Calculates the normal distribution's probability density \n",
      "    function (PDF).  \n",
      "        \n",
      "    \"\"\"\n",
      "    term1 = 1.0 / ( math.sqrt(2*np.pi * sigma_sqr))\n",
      "    term2 = np.exp( (-1/2.0) * ( ((x-mu)**2 / sigma_sqr) ))\n",
      "    return term1 * term2\n",
      "\n",
      "# generating some sample data\n",
      "x = np.arange(0, 50, 0.05)\n",
      "\n",
      "def posterior(likelihood, prior):\n",
      "    \"\"\"\n",
      "    Calculates the posterior probability (after Bayes Rule) without\n",
      "    the scale factor p(x) (=evidence).  \n",
      "        \n",
      "    \"\"\"\n",
      "    return likelihood * prior\n",
      "\n",
      "# probability density functions\n",
      "posterior1 = posterior(pdf(x, mu=2, sigma_sqr=0.25), prior=2/3.0)\n",
      "posterior2 = posterior(pdf(x, mu=1.5, sigma_sqr=0.04), prior=1/3.0)\n",
      "\n",
      "# Class conditional densities (likelihoods)\n",
      "plt.plot(x, posterior1)\n",
      "plt.plot(x, posterior2)\n",
      "plt.title('Posterior Probabilities w. Decision Boundary')\n",
      "plt.ylabel('P(w)')\n",
      "plt.xlabel('random variable x')\n",
      "plt.legend(['P(w_1|x)', 'p(w_2|x)'], loc='upper right')\n",
      "plt.ylim([0,1])\n",
      "plt.xlim([0,4])\n",
      "plt.axvline(1.08625, color='r', alpha=0.8, linestyle=':', linewidth=2)\n",
      "plt.axvline(1.72328, color='r', alpha=0.8, linestyle=':', linewidth=2)\n",
      "plt.annotate('R1', xy=(0.5, 0.8), xytext=(0.5, 0.8))\n",
      "plt.annotate('R2', xy=(1.3, 0.8), xytext=(1.3, 0.8))\n",
      "plt.annotate('R1', xy=(2.3, 0.8), xytext=(2.3, 0.8))\n",
      "plt.show()"
     ],
     "language": "python",
     "metadata": {},
     "outputs": [
      {
       "output_type": "stream",
       "stream": "stdout",
       "text": [
        "Populating the interactive namespace from numpy and matplotlib\n"
       ]
      },
      {
       "metadata": {},
       "output_type": "display_data",
       "png": "[encoded data removed]",
       "text": [
        "<matplotlib.figure.Figure at 0x10071cdd8>"
       ]
      }
     ],
     "prompt_number": 19
    }
   ],
   "metadata": {}
  }
 ]
}