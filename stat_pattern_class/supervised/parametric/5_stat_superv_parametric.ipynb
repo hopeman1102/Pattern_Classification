{
 "metadata": {
  "name": "",
  "signature": "sha256:00fa113a2f63fba2468d61ede814d40fc8fa22189297592205f2b9f5e2c4dc80"
 },
 "nbformat": 3,
 "nbformat_minor": 0,
 "worksheets": [
  {
   "cells": [
    {
     "cell_type": "markdown",
     "metadata": {},
     "source": [
      "*Sebastian Raschka*  \n",
      "last modified: 03/31/2014"
     ]
    },
    {
     "cell_type": "markdown",
     "metadata": {},
     "source": [
      "<hr>\n",
      "I am really looking forward to your comments and suggestions to improve and extend this tutorial! Just send me a quick note   \n",
      "via Twitter: [@rasbt](https://twitter.com/rasbt)  \n",
      "or Email: [bluewoodtree@gmail.com](mailto:bluewoodtree@gmail.com)\n",
      "<hr>"
     ]
    },
    {
     "cell_type": "markdown",
     "metadata": {},
     "source": [
      "### Problem Category\n",
      "- Statistical Pattern Recognition   \n",
      "- Supervised Learning  \n",
      "- Parametric Learning  \n",
      "- Bayes Decision Theory  \n",
      "- Multivariate data (2-dimensional)\n",
      "- 2-class problem\n",
      "- different variances\n",
      "- equal prior probabilities\n",
      "- Gaussian model (2 parameters)\n",
      "- with conditional Risk (1-0 loss functions)\n",
      "<hr>"
     ]
    },
    {
     "cell_type": "markdown",
     "metadata": {},
     "source": [
      "<p><a name=\"sections\"></a>\n",
      "<br></p>\n",
      "\n",
      "# Sections\n",
      "\n",
      "\n",
      "<p>&#8226; <a href=\"#given\">Given information</a><br>\n",
      "&#8226; <a href=\"#deriving_db\">Deriving the decision boundary</a><br>\n",
      "&#8226; <a href=\"#classify_rand\">Classifying some random example data</a><br>\n",
      "&#8226; <a href=\"#emp_err\">Calculating the empirical error rate</a><br>\n",
      "\n",
      "  \n",
      "\n",
      "  \n",
      "  \n",
      "\n",
      "\n",
      "\n",
      "<hr>"
     ]
    },
    {
     "cell_type": "markdown",
     "metadata": {},
     "source": [
      "<p><a name=\"given\"></a>\n",
      "<br></p>\n",
      "\n",
      "## Given information:\n",
      "\n",
      "[<a href=\"#sections\">back to top</a>] <br>\n",
      "\n",
      "<br> \n",
      "####model: continuous univariate normal (Gaussian) model for the class-conditional densities\n",
      "\n",
      "\n",
      "$ p(\\pmb{x} | \\omega_j) \\sim N(\\pmb{\\mu}|\\Sigma) $ \n",
      "\n",
      "$ p(\\pmb{x} | \\omega_j) \\sim \\frac{1}{(2\\pi)^{d/2} |\\Sigma|^{1/2}} \\exp{ \\bigg[-\\frac{1}{2} (\\pmb{x}-\\pmb{\\mu})^t \\Sigma^{-1}(\\pmb{x}-\\pmb{\\mu}) \\bigg] } $\n",
      "\n",
      "\n",
      "\n",
      "\n",
      "####Prior probabilities:\n",
      "\n",
      "$ P(\\omega_1) = P(\\omega_2) = 0.5 $\n",
      "\n",
      "<br>\n",
      "\n",
      "####Loss functions:\n",
      "\n",
      "where \n",
      "\n",
      "$ \\lambda(\\alpha_i|\\omega_j) = \\lambda_{ij}$,  \n",
      "\n",
      "the loss occured if $action_i$ is taken if the actual true class is $ \\omega_j$ (assuming that $action_i$ classifies sample as $\\omega_i$)\n",
      "\n",
      "\\begin{equation}\n",
      "\\lambda = \\begin{pmatrix}\n",
      "\\lambda_{11} \\quad \\lambda_{12} \\\\\n",
      "\\lambda_{21} \\quad \\lambda_{22}\n",
      "\\end{pmatrix}\n",
      "= \\begin{pmatrix}\n",
      "0 \\quad 1 \\\\\n",
      "1 \\quad 0 \\\\\n",
      "\\end{pmatrix}\\\\\n",
      "\\end{equation}\n",
      "\n"
     ]
    },
    {
     "cell_type": "markdown",
     "metadata": {},
     "source": [
      "The samples are of 2-dimensional feature vectors:\n",
      "\n",
      "$ \\pmb{x} = \\bigg[ \n",
      "\\begin{array}{c}\n",
      "x_1 \\\\\n",
      "x_2 \\\\\n",
      "\\end{array} \\bigg] $"
     ]
    },
    {
     "cell_type": "markdown",
     "metadata": {},
     "source": [
      "#### Means of the sample distributions for 2-dimensional features:\n",
      "\n",
      "$ \\pmb{\\mu}_{\\,1} = \\bigg[ \n",
      "\\begin{array}{c}\n",
      "0 \\\\\n",
      "0 \\\\\n",
      "\\end{array} \\bigg] $,\n",
      "$ \\; \\pmb{\\mu}_{\\,2} = \\bigg[ \n",
      "\\begin{array}{c}\n",
      "1 \\\\\n",
      "2 \\\\\n",
      "\\end{array} \\bigg] $\n",
      "\n",
      "#### Covariance matrices for the statistically independend and identically distributed ('i.i.d') features: \n",
      "\n",
      "$ \\Sigma_i = \\bigg[ \n",
      "\\begin{array}{cc}\n",
      "\\sigma_{11}^2 & \\sigma_{12}^2\\\\\n",
      "\\sigma_{21}^2 & \\sigma_{22}^2 \\\\\n",
      "\\end{array} \\bigg], \\; \n",
      "\\Sigma_1 = \\bigg[ \n",
      "\\begin{array}{cc}\n",
      "1 & 0\\\\\n",
      "0 & 1 \\\\\n",
      "\\end{array} \\bigg], \\;  \n",
      "\\Sigma_1 = \\bigg[ \n",
      "\\begin{array}{cc}\n",
      "2 & 0\\\\\n",
      "0 & 2 \\\\\n",
      "\\end{array} \\bigg] $"
     ]
    },
    {
     "cell_type": "markdown",
     "metadata": {},
     "source": [
      "<p><a name=\"deriving_db\"></a>\n",
      "<br></p>\n",
      "\n",
      "## Deriving the decision boundary\n",
      "[<a href=\"#sections\">back to top</a>] <br>\n",
      "\n",
      "### Bayes' Rule:\n",
      "\n",
      "\n",
      "$ P(\\omega_j|x) = \\frac{p(x|\\omega_j) * P(\\omega_j)}{p(x)}$ \n"
     ]
    },
    {
     "cell_type": "markdown",
     "metadata": {},
     "source": [
      "### Risk Functions:\n",
      "\n",
      "$ R(\\alpha_1|\\;\\pmb{x}) = \\lambda_{11}P(\\omega_1|\\;\\pmb{x}) + \\lambda_{12}P(\\omega_2|\\;\\pmb{x}) $\n",
      "\n",
      "$ R(\\alpha_2|\\;\\pmb{x}) = \\lambda_{21}P(\\omega_1|\\;\\pmb{x}) + \\lambda_{22}P(\\omega_2|\\;\\pmb{x}) $\n",
      "\n",
      "<br>\n",
      "with 1-0 loss function:\n",
      "\n",
      "$ R(\\alpha_1|\\; \\pmb{x}) = P(\\omega_2|\\;\\pmb{x}) = 1 -  P(\\omega_1|\\;\\pmb{x})  $\n",
      "\n",
      "$ R(\\alpha_2|\\;\\pmb{x}) = P(\\omega_1|\\;\\pmb{x}) = 1 -  P(\\omega_2|\\;\\pmb{x}) $"
     ]
    },
    {
     "cell_type": "markdown",
     "metadata": {},
     "source": [
      "### Discriminant Functions:\n",
      "\n",
      "The **objective function** is to maximize the discriminant function, which we define as the posterior probability here to perform a **minimum-error classification** (Bayes classifier).\n",
      "\n",
      "$ g_1(\\pmb{x}) = P(\\omega_1 | \\; \\pmb{x}), \\quad  g_2(\\pmb{x}) = P(\\omega_2 | \\; \\pmb{x})$\n",
      "\n",
      "$ \\Rightarrow g_1(\\pmb{x}) = P(\\pmb{x}\\;|\\;\\omega_1) \\;\\cdot\\; P(\\omega_1) \\quad | \\; ln \\\\\n",
      "\\quad g_2(\\pmb{x}) = P(\\pmb{x}\\;|\\;\\omega_2) \\;\\cdot\\; P(\\omega_2) \\quad | \\; ln $\n",
      "\n",
      "<br>\n",
      "We can drop the prior probabilities (since we have equal priors in this case): \n",
      "\n",
      "$ \\Rightarrow g_1(\\pmb{x}) = ln(P(\\pmb{x}\\;|\\;\\omega_1))  \\\\\n",
      "\\quad g_2(\\pmb{x}) = ln(P(\\pmb{x}\\;|\\;\\omega_2))  $"
     ]
    },
    {
     "cell_type": "markdown",
     "metadata": {},
     "source": [
      "The equations for the general multivariate normal case with arbitrary covariance matrices (i.e., different covariance matrices for each case):"
     ]
    },
    {
     "cell_type": "markdown",
     "metadata": {},
     "source": [
      "$ \\Rightarrow g_1(\\pmb{x}) = \\pmb{x}^{\\,t} - \\frac{1}{2} \\Sigma_1^{-1} \\pmb{x} + \\bigg( \\Sigma_1^{-1} \\pmb{\\mu}_{\\,1}\\bigg)^t + \\bigg( -\\frac{1}{2} \\pmb{\\mu}_{\\,1}^{\\,t} \\Sigma_{1}^{-1} \\pmb{\\mu}_{\\,1} -\\frac{1}{2} ln(|\\Sigma_1|)\\bigg)   \\\\\n",
      "\\quad g_2(\\pmb{x}) = \\pmb{x}^{\\,t} - \\frac{1}{2} \\Sigma_2^{-1} \\pmb{x} + \\bigg( \\Sigma_2^{-1} \\pmb{\\mu}_{\\,2}\\bigg)^t + \\bigg( -\\frac{1}{2} \\pmb{\\mu}_{\\,2}^{\\,t} \\Sigma_{2}^{-1} \\pmb{\\mu}_{\\,2} -\\frac{1}{2} ln(|\\Sigma_2|)\\bigg)  $"
     ]
    },
    {
     "cell_type": "markdown",
     "metadata": {},
     "source": [
      "<hr>\n",
      "**Let:**\n",
      "\n",
      "$\\pmb{W}_{\\,i} = - \\frac{1}{2} \\Sigma_i^{-1}\\\\\n",
      "\\pmb{w}{\\,i} =   \\Sigma_i^{-1} \\pmb{\\mu}_{\\,i} \\\\\n",
      "\\omega_{i0} = \\bigg( -\\frac{1}{2} \\pmb{\\mu}_{\\,i}^{\\,t} \\Sigma_{i}^{-1} \\pmb{\\mu}_{\\,i} -\\frac{1}{2} ln(|\\Sigma_i|)\\bigg)$\n",
      "<hr>"
     ]
    },
    {
     "cell_type": "markdown",
     "metadata": {},
     "source": [
      "$ \\pmb{W}_{\\,1} = \\bigg[ \n",
      "\\begin{array}{cc}\n",
      "(1/4) & 0\\\\\n",
      "0 & (1/4) \\\\\n",
      "\\end{array} \\bigg] $\n",
      "\n",
      "$ \\pmb{w}_{\\,1} = \\bigg[ \n",
      "\\begin{array}{cc}\n",
      "(1/4) & 0\\\\\n",
      "0 & (1/4) \\\\\n",
      "\\end{array} \\bigg] \\cdot \\bigg[ \n",
      "\\begin{array}{c}\n",
      "0 \\\\\n",
      "0 \\\\\n",
      "\\end{array} \\bigg] = \\bigg[ \n",
      "\\begin{array}{c}\n",
      "0 \\\\\n",
      "0 \\\\\n",
      "\\end{array} \\bigg]$ "
     ]
    },
    {
     "cell_type": "markdown",
     "metadata": {},
     "source": [
      "$ \\omega_{10} = -\\frac{1}{2} [0 \\quad 0 ] \\bigg[ \n",
      "\\begin{array}{cc}\n",
      "(1/4) & 0\\\\\n",
      "0 & (1/4) \\\\\n",
      "\\end{array} \\bigg] \\cdot \\bigg[ \n",
      "\\begin{array}{c}\n",
      "0 \\\\\n",
      "0 \\\\\n",
      "\\end{array} \\bigg] \n",
      "- ln(2) = -ln(2)$"
     ]
    },
    {
     "cell_type": "markdown",
     "metadata": {},
     "source": [
      "$ \\pmb{W}_{\\,2} = \\bigg[ \n",
      "\\begin{array}{cc}\n",
      "(-1/2) & 0\\\\\n",
      "0 & (-1/2) \\\\\n",
      "\\end{array} \\bigg] $\n",
      "\n",
      "$ \\pmb{w}_{\\,2} = \\bigg[ \n",
      "\\begin{array}{c}\n",
      "1 \\\\\n",
      "2 \\\\\n",
      "\\end{array} \\bigg]$ "
     ]
    },
    {
     "cell_type": "markdown",
     "metadata": {},
     "source": [
      "$ \\omega_{20} = -\\frac{1}{2} [1 \\quad 2 ] \\bigg[ \n",
      "\\begin{array}{cc}\n",
      "(1/4) & 0\\\\\n",
      "0 & (1/4) \\\\\n",
      "\\end{array} \\bigg] \\cdot \\bigg[ \n",
      "\\begin{array}{c}\n",
      "1 \\\\\n",
      "2 \\\\\n",
      "\\end{array} \\bigg] \n",
      "- \\frac{1}{2}ln(1) = -2.5$"
     ]
    },
    {
     "cell_type": "markdown",
     "metadata": {},
     "source": [
      "$ \\Rightarrow g_1(\\pmb{x}) = \\pmb{x}^{\\,t} \\bigg[ \n",
      "\\begin{array}{cc}\n",
      "(1/4) & 0\\\\\n",
      "0 & (1/4) \\\\\n",
      "\\end{array} \\bigg] \n",
      "\\pmb{x} + \\bigg[\n",
      "\\begin{array}{c}\n",
      "0 \\\\\n",
      "0 \\\\\n",
      "\\end{array} \\bigg]^t \\pmb x- ln(2) = \\pmb{x}^{\\,t} - \\frac{1}{4} \\pmb{x} - ln(2)$"
     ]
    },
    {
     "cell_type": "markdown",
     "metadata": {},
     "source": [
      "$ \\Rightarrow g_2(\\pmb{x}) = \\pmb{x}^{\\,t} \\bigg[ \n",
      "\\begin{array}{cc}\n",
      "(-1/2) & 0\\\\\n",
      "0 & (-1/2) \\\\\n",
      "\\end{array} \\bigg] \n",
      "\\pmb{x} + \\bigg[\n",
      "\\begin{array}{c}\n",
      "1 \\\\\n",
      "2 \\\\\n",
      "\\end{array} \\bigg]^t \\pmb{x} -2.5 = \\pmb{x}^{\\,t} - \\frac{1}{2} \\pmb{x} + [1 \\quad 2] \\; \\pmb{x} - 2.5$"
     ]
    },
    {
     "cell_type": "markdown",
     "metadata": {},
     "source": [
      "### Decision Boundary\n",
      "\n",
      "$g_1(\\pmb{x}) = g_2(\\pmb{x}) $ \n",
      "\n",
      "$ \\Rightarrow \\pmb{x}^{\\,t} \\cdot (- \\frac{1}{4} \\pmb{x}) - ln(2) = \\pmb{x}^{\\,t} - \\frac{1}{2} \\pmb{x} + [1 \\quad 2] \\; \\pmb{x} - 2.5 \\quad \\bigg| \\; \\cdot \\; 4$\n",
      "\n",
      "$ \\Rightarrow \\pmb{x}^{\\,t} \\cdot (-  \\pmb{x}) - 4ln(2) = \\pmb{x}^{\\,t} - 2 \\pmb{x}+ 4 \\;( [1 \\quad 2] \\; \\pmb{x}) - 10 $"
     ]
    },
    {
     "cell_type": "markdown",
     "metadata": {},
     "source": [
      "$ \\Rightarrow [x_1 \\quad x_2] \\cdot \\bigg(-\\bigg[ \\begin{array}{c}\n",
      "x_1 \\\\\n",
      "x_2 \\\\\n",
      "\\end{array}\\bigg] \\bigg) -4ln(2) = [x_1 \\quad x_2] \\cdot \\bigg(-\\bigg[ \\begin{array}{c}\n",
      "2x_1 \\\\\n",
      "2x_2 \\\\\n",
      "\\end{array}\\bigg] \\bigg) + [4 \\quad 8] \\cdot \n",
      "\\bigg[ \\begin{array}{c}\n",
      "x_1 \\\\\n",
      "x_2 \\\\\n",
      "\\end{array}\\bigg] -10$"
     ]
    },
    {
     "cell_type": "markdown",
     "metadata": {},
     "source": [
      "$ \\Rightarrow -x_1^2 - x_2^2 - 4ln(2) = -2x_1^2 - 2x_2^2 + 4x_1 + 8x_2 -10 $\n",
      "\n",
      "$ \\Rightarrow x_1^2 + x_2^2 -4x_1 - 8x_2 - 4ln(2) + 10 = 0 $"
     ]
    },
    {
     "cell_type": "markdown",
     "metadata": {},
     "source": [
      "<p><a name=\"classify_rand\"></a>\n",
      "<br></p>\n",
      "\n",
      "## Classifying some random example data\n",
      "\n",
      "[<a href=\"#sections\">back to top</a>] <br>"
     ]
    },
    {
     "cell_type": "code",
     "collapsed": false,
     "input": [
      "%pylab inline\n",
      "\n",
      "import numpy as np\n",
      "from matplotlib import pyplot as plt\n",
      "\n",
      "def decision_boundary(x_1):\n",
      "    \"\"\" Calculates the x_2 value for plotting the decision boundary.\"\"\"\n",
      "    return 4 - np.sqrt(-x_1**2 + 4*x_1 + 6 + np.log(16))\n",
      "\n",
      "def decision_rule(x_vec)\n",
      "x_1^2 + x_2^2 - -4x_1 - 8x_2 - 4ln(2) + 10 = 0\n",
      "\n",
      "\n",
      "# Generate 100 random patterns for class1\n",
      "mu_vec1 = np.array([0,0])\n",
      "cov_mat1 = np.array([[2,0],[0,2]])\n",
      "x1_samples = np.random.multivariate_normal(mu_vec1, cov_mat1, 100)\n",
      "mu_vec1 = mu_vec1.reshape(1,2).T # to 1-col vector\n",
      "\n",
      "# Generate 100 random patterns for class2\n",
      "mu_vec2 = np.array([1,2])\n",
      "cov_mat2 = np.array([[1,0],[0,1]])\n",
      "x2_samples = np.random.multivariate_normal(mu_vec2, cov_mat2, 100)\n",
      "mu_vec2 = mu_vec2.reshape(1,2).T # to 1-col vector\n",
      "\n",
      "# Scatter plot\n",
      "f, ax = plt.subplots(figsize=(7, 7))\n",
      "ax.scatter(x1_samples[:,0], x1_samples[:,1], marker='o', color='green', s=40, alpha=0.5)\n",
      "ax.scatter(x2_samples[:,0], x2_samples[:,1], marker='^', color='blue', s=40, alpha=0.5)\n",
      "plt.legend(['Class1 (w1)', 'Class2 (w2)'], loc='upper right') \n",
      "plt.title('Densities of 2 classes with 100 bivariate random patterns each')\n",
      "plt.ylabel('x2')\n",
      "plt.xlabel('x1')\n",
      "ftext = 'p(x|w1) ~ N(mu1=(0,0)^t, cov1=2*I)\\np(x|w2) ~ N(mu2=(1,2)^t, cov2=I)'\n",
      "plt.figtext(.15,.8, ftext, fontsize=11, ha='left')\n",
      "\n",
      "# Plot decision boundary\n",
      "x_1 = np.arange(-5, 5, 0.1)\n",
      "bound = decision_boundary(x_1)\n",
      "plt.plot(x_1, bound, 'r--', lw=4)\n",
      "\n",
      "x_vec = np.linspace(*ax.get_xlim())\n",
      "x_1 = np.arange(0, 100, 0.05)\n",
      "\n",
      "plt.show()"
     ],
     "language": "python",
     "metadata": {},
     "outputs": [
      {
       "output_type": "stream",
       "stream": "stdout",
       "text": [
        "Populating the interactive namespace from numpy and matplotlib\n"
       ]
      },
      {
       "output_type": "stream",
       "stream": "stderr",
       "text": [
        "-c:8: RuntimeWarning: invalid value encountered in sqrt\n"
       ]
      },
      {
       "metadata": {},
       "output_type": "display_data",
       "png": "[encoded data removed]",
       "text": [
        "<matplotlib.figure.Figure at 0x106215210>"
       ]
      }
     ],
     "prompt_number": 1
    },
    {
     "cell_type": "markdown",
     "metadata": {},
     "source": [
      "<p><a name=\"emp_err\"></a>\n",
      "<br></p>\n",
      "\n",
      "## Calculating the empirical error rate\n",
      "\n",
      "[<a href=\"#sections\">back to top</a>] <br>"
     ]
    },
    {
     "cell_type": "code",
     "collapsed": false,
     "input": [
      "def decision_rule(x_vec):\n",
      "    \"\"\" Returns value for the decision rule of 2-d row vectors \"\"\"\n",
      "    x_1 = x_vec[0]\n",
      "    x_2 = x_vec[1]\n",
      "    return x_1**2 + x_2**2 -4*x_1 - 8*x_2 - 4*np.log(2) + 10\n",
      "\n",
      "w1_as_w2, w2_as_w1 = 0, 0\n",
      "\n",
      "for x in x1_samples:\n",
      "    if decision_rule(x) < 0:\n",
      "        w1_as_w2 += 1\n",
      "for x in x2_samples:\n",
      "    if decision_rule(x) > 0:\n",
      "        w2_as_w1 += 1\n",
      "\n",
      "emp_err = (w1_as_w2 + w2_as_w1) / float(len(x1_samples) + len(x2_samples))\n",
      "    \n",
      "print('Empirical Error: {}%'.format(emp_err * 100))"
     ],
     "language": "python",
     "metadata": {},
     "outputs": [
      {
       "output_type": "stream",
       "stream": "stdout",
       "text": [
        "Empirical Error: 19.5%\n"
       ]
      }
     ],
     "prompt_number": 17
    }
   ],
   "metadata": {}
  }
 ]
}