{
 "metadata": {
  "name": "",
  "signature": "sha256:f751a52ddfdbccd38e0e8f754e35a9cd79ffbec60fb4ec7f1a35f016921cfe60"
 },
 "nbformat": 3,
 "nbformat_minor": 0,
 "worksheets": [
  {
   "cells": [
    {
     "cell_type": "markdown",
     "metadata": {},
     "source": [
      "Sebastian Raschka\n",
      "Last updated: 04/06/2014\n",
      "<hr>\n"
     ]
    },
    {
     "cell_type": "markdown",
     "metadata": {},
     "source": [
      "# 1)\n",
      "### Description of Task 1): \n",
      "[65 points] Consider the dataset available here: [project_data.txt](./data/project_data.txt). It consists of two-dimensional patterns, $\\vec{x} = [x_1, x_2]^t$ , pertaining to 3 classes $(\\omega_1,\\omega_2,\\omega_3)$. The feature values are indicated in the first two columns while the class labels are specified in the last column. The priors of all 3 classes are the same. Randomly partition this dataset into a training set (70% of each class) and a test set (30% of each class)."
     ]
    },
    {
     "cell_type": "markdown",
     "metadata": {},
     "source": [
      "### About the dataset"
     ]
    },
    {
     "cell_type": "markdown",
     "metadata": {},
     "source": [
      "The data set consists of 1500 rows and 3 columns, where  \n",
      "- column1: x_1 values  \n",
      "- column2: x_2 values  \n",
      "- column3: class labels  \n",
      "\n",
      "**Excerpt from the dataset: **   \n",
      "<code>    1.8569 -3.4702 1  \n",
      "    -0.2096 -2.8342 1  \n",
      "    -1.0265 2.1614 1  \n",
      "    [...]  \n",
      "    9.3851 4.0336 2  \n",
      "    10.1375 1.1495 2  \n",
      "    11.7569 0.8005 2  \n",
      "    [...]  \n",
      "    3.9854 5.1360 3  \n",
      "    2.7592 5.9536 3  \n",
      "    4.1379 4.3258 3  \n",
      "    [...]  </code>"
     ]
    },
    {
     "cell_type": "markdown",
     "metadata": {},
     "source": [
      "### Reading in and analyzing the dataset"
     ]
    },
    {
     "cell_type": "code",
     "collapsed": false,
     "input": [
      "import numpy as np\n",
      "\n",
      "all_projdata = np.genfromtxt('./data/project_data.txt', delimiter=' ')\n",
      "\n",
      "# Test if the data is read in in the correct dimensions:\n",
      "assert(all_projdata.shape == (1500, 3))\n",
      "assert(all_projdata[all_projdata[:,2] == 1].shape == (500,3))\n",
      "assert(all_projdata[all_projdata[:,2] == 2].shape == (500,3))\n",
      "assert(all_projdata[all_projdata[:,2] == 3].shape == (500,3))\n",
      "\n",
      "# Print min and max values of the 2 dimensions:\n",
      "print(\"Range of x_1: ({}, {})\".format(min(all_projdata[:,0]), max(all_projdata[:,0])))\n",
      "print(\"Range of x_2: ({}, {})\".format(min(all_projdata[:,1]), max(all_projdata[:,1])))\n",
      "\n"
     ],
     "language": "python",
     "metadata": {},
     "outputs": [
      {
       "output_type": "stream",
       "stream": "stdout",
       "text": [
        "Range of x_1: (-6.8114, 17.4559)\n",
        "Range of x_2: (-7.9943, 11.9156)\n"
       ]
      }
     ],
     "prompt_number": 67
    },
    {
     "cell_type": "markdown",
     "metadata": {},
     "source": [
      "### Dividing the dataset radomly in training (70%) and test (30%) sets"
     ]
    },
    {
     "cell_type": "code",
     "collapsed": false,
     "input": [
      "test_set = np.zeros(shape=(450, 3))\n",
      "training_set = np.zeros(shape=(1050, 3))\n",
      "\n",
      "for i in range(0, 1500, 500):\n",
      "    #print(i, i+500 * 0.3)\n",
      "    #print(i+500 * 0.3, i + 500)\n",
      "    np.random.shuffle(all_projdata[i:i+500,:])\n",
      "    \n",
      "    # needs to be fixed below here...\n",
      "    all_projdata[i:i+500*0.3,:]\n",
      "    all_projdata[i+500*0.3:i+500,:]\n",
      "    #test_set[0:500*0.3,:] = all_projdata[i:i+500*0.3,:] \n",
      "    #training_set[0:500*0.7,:] = all_projdata[i+500*0.3:i+500,:]\n"
     ],
     "language": "python",
     "metadata": {},
     "outputs": [
      {
       "output_type": "stream",
       "stream": "stdout",
       "text": [
        "0 150.0\n",
        "500 650.0\n",
        "1000 1150.0\n"
       ]
      }
     ],
     "prompt_number": 77
    }
   ],
   "metadata": {}
  }
 ]
}