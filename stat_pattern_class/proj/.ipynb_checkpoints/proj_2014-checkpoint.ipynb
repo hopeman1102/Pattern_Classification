{
 "metadata": {
  "name": "",
  "signature": "sha256:d6e960c62befa28abe732f80fc595d7ae1be0adcc98eabebf583830935826394"
 },
 "nbformat": 3,
 "nbformat_minor": 0,
 "worksheets": [
  {
   "cells": [
    {
     "cell_type": "markdown",
     "metadata": {},
     "source": [
      "Sebastian Raschka\n",
      "Last updated: 04/06/2014\n",
      "<hr>\n"
     ]
    },
    {
     "cell_type": "markdown",
     "metadata": {},
     "source": [
      "# 1)\n",
      "### Description of Task 1): \n",
      "[65 points] Consider the dataset available here: [project_data.txt](./data/project_data.txt). It consists of two-dimensional patterns, $\\vec{x} = [x_1, x_2]^t$ , pertaining to 3 classes $(\\omega_1,\\omega_2,\\omega_3)$. The feature values are indicated in the first two columns while the class labels are specified in the last column. The priors of all 3 classes are the same. Randomly partition this dataset into a training set (70% of each class) and a test set (30% of each class)."
     ]
    },
    {
     "cell_type": "markdown",
     "metadata": {},
     "source": [
      "### About the dataset"
     ]
    },
    {
     "cell_type": "markdown",
     "metadata": {},
     "source": [
      "The data set consists of 1500 rows and 3 columns, where  \n",
      "- column1: x_1 values  \n",
      "- column2: x_2 values  \n",
      "- column3: class labels  \n",
      "\n",
      "**Excerpt from the dataset: **   \n",
      "<code>    1.8569 -3.4702 1  \n",
      "    -0.2096 -2.8342 1  \n",
      "    -1.0265 2.1614 1  \n",
      "    [...]  \n",
      "    9.3851 4.0336 2  \n",
      "    10.1375 1.1495 2  \n",
      "    11.7569 0.8005 2  \n",
      "    [...]  \n",
      "    3.9854 5.1360 3  \n",
      "    2.7592 5.9536 3  \n",
      "    4.1379 4.3258 3  \n",
      "    [...]  </code>"
     ]
    },
    {
     "cell_type": "markdown",
     "metadata": {},
     "source": [
      "### Reading in and analyzing the dataset"
     ]
    },
    {
     "cell_type": "code",
     "collapsed": false,
     "input": [
      "import numpy as np\n",
      "\n",
      "all_projdata = np.genfromtxt('./data/project_data.txt', delimiter=' ')\n",
      "\n",
      "# Test if the data is read in in the correct dimensions:\n",
      "assert(all_projdata.shape == (1500, 3))\n",
      "assert(all_projdata[all_projdata[:,2] == 1].shape == (500,3))\n",
      "assert(all_projdata[all_projdata[:,2] == 2].shape == (500,3))\n",
      "assert(all_projdata[all_projdata[:,2] == 3].shape == (500,3))\n",
      "\n",
      "# Print min and max values of the 2 dimensions:\n",
      "print(\"Range of x_1: ({}, {})\".format(min(all_projdata[:,0]), max(all_projdata[:,0])))\n",
      "print(\"Range of x_2: ({}, {})\".format(min(all_projdata[:,1]), max(all_projdata[:,1])))\n",
      "\n"
     ],
     "language": "python",
     "metadata": {},
     "outputs": [
      {
       "output_type": "stream",
       "stream": "stdout",
       "text": [
        "Range of x_1: (-6.8114, 17.4559)\n",
        "Range of x_2: (-7.9943, 11.9156)\n"
       ]
      }
     ],
     "prompt_number": 2
    },
    {
     "cell_type": "markdown",
     "metadata": {},
     "source": [
      "### Dividing the dataset radomly in training (70%) and test (30%) sets"
     ]
    },
    {
     "cell_type": "code",
     "collapsed": false,
     "input": [
      "test_set = np.zeros(shape=(450, 3))\n",
      "training_set = np.zeros(shape=(1050, 3))\n",
      "\n",
      "np.random.shuffle(all_projdata)\n",
      "\n",
      "for i in range(1,4):\n",
      "    print(all_projdata[all_projdata[:,2] == i].shape)\n"
     ],
     "language": "python",
     "metadata": {},
     "outputs": [
      {
       "output_type": "stream",
       "stream": "stdout",
       "text": [
        "[[ 13.2166  -2.3269   2.    ]\n",
        " [  7.5037  -3.8741   2.    ]\n",
        " [ -2.4585   0.5493   1.    ]\n",
        " ..., \n",
        " [  2.1977   2.829    3.    ]\n",
        " [  6.7492   1.0612   3.    ]\n",
        " [ -2.5017   0.3914   1.    ]]\n",
        "(500, 3)\n"
       ]
      },
      {
       "metadata": {},
       "output_type": "pyout",
       "prompt_number": 25,
       "text": [
        "'\\n#for i in range(0, 1500, 500):\\nfor i in range(3):\\n    #print(i*500, (i*500) + 500*0.3)\\n    #print(i*500 + 500*0.3, i*500 + 500*0.3 + 500*0.7)\\n  \\n    #print(training_set.shape[0]/3 * i)\\n    np.random.shuffle(all_projdata[i*500:i*500+500,:])\\n    test_set[test_set.shape[0]/3*i:test_set.shape[0]/3*i+150,:] = all_projdata[i*500:(i*500)+500*0.3,:]\\n    training_set[training_set.shape[0]/3*i:test_set.shape[0]/3*i+350,:] = all_projdata[i*500 + 500*0.3:i*500 + 500*0.3 + 500*0.7,]\\n    #all_projdata[i*500:(i*500)+500*0.3,:]\\n    \\n    # needs to be fixed below here...\\n    #all_projdata[i:i+500*0.3,:]\\n    #all_projdata[i+500*0.3:i+500,:]\\n    #test_set[0:500*0.3,:] = all_projdata[i:i+500*0.3,:] \\n    #training_set[0:500*0.7,:] = all_projdata[i+500*0.3:i+500,:]\\n'"
       ]
      }
     ],
     "prompt_number": 25
    },
    {
     "cell_type": "code",
     "collapsed": false,
     "input": [
      "tet = 3\n",
      "tet /= 3\n",
      "tet"
     ],
     "language": "python",
     "metadata": {},
     "outputs": [
      {
       "metadata": {},
       "output_type": "pyout",
       "prompt_number": 7,
       "text": [
        "1.0"
       ]
      }
     ],
     "prompt_number": 7
    },
    {
     "cell_type": "code",
     "collapsed": false,
     "input": [],
     "language": "python",
     "metadata": {},
     "outputs": []
    }
   ],
   "metadata": {}
  }
 ]
}