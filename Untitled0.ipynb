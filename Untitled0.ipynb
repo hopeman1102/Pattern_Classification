{
 "metadata": {
  "name": "",
  "signature": "sha256:38a3d48a78633a623b432582ec631685d8ae4c54446778be22a344ad65557f71"
 },
 "nbformat": 3,
 "nbformat_minor": 0,
 "worksheets": [
  {
   "cells": [
    {
     "cell_type": "markdown",
     "metadata": {},
     "source": [
      "Just to recall the equations that we are using:\n",
      "\n",
      "Standardization: \\begin{equation} z = \\frac{x - \\mu}{\\sigma}\\end{equation} \n",
      "\n",
      "Min-Max scaling: \\begin{equation} X_{norm} = \\frac{X - X_{min}}{X_{max}-X_{min}} \\end{equation}\n",
      "\n",
      "with\n",
      "\n",
      "\\begin{equation}\\mu = \\frac{1}{N} \\sum_{i=1}^N (x_i)\\end{equation}\n",
      "\n",
      "\\begin{equation}\\sigma = \\sqrt{\\frac{1}{N} \\sum_{i=1}^N (x_i - \\mu)^2}\\end{equation}\n",
      "\n"
     ]
    }
   ],
   "metadata": {}
  }
 ]
}