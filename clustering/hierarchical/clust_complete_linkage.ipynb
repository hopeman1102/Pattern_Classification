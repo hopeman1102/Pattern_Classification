{
 "metadata": {
  "name": "",
  "signature": "sha256:7fa276d8888155435dd15faacd7bcce4b38d80a87ee03bd8ab4d1c1e402706bd"
 },
 "nbformat": 3,
 "nbformat_minor": 0,
 "worksheets": [
  {
   "cells": [
    {
     "cell_type": "markdown",
     "metadata": {},
     "source": [
      "[[<- back to pattern_classification](https://github.com/rasbt/pattern_classification)]"
     ]
    },
    {
     "cell_type": "code",
     "collapsed": false,
     "input": [
      "%load_ext watermark"
     ],
     "language": "python",
     "metadata": {},
     "outputs": [],
     "prompt_number": 1
    },
    {
     "cell_type": "code",
     "collapsed": false,
     "input": [
      "%watermark -a \"Sebastian Raschka\" -d -v"
     ],
     "language": "python",
     "metadata": {},
     "outputs": [
      {
       "output_type": "stream",
       "stream": "stdout",
       "text": [
        "Sebastian Raschka 07/11/2014 \n",
        "\n",
        "CPython 3.4.2\n",
        "IPython 2.0.0\n"
       ]
      }
     ],
     "prompt_number": 2
    },
    {
     "cell_type": "heading",
     "level": 1,
     "metadata": {},
     "source": [
      "Hierarchical Agglomerative Clustering - Complete Linkage Clustering"
     ]
    },
    {
     "cell_type": "heading",
     "level": 3,
     "metadata": {},
     "source": [
      "- A quick Python tutorial"
     ]
    },
    {
     "cell_type": "markdown",
     "metadata": {},
     "source": [
      "<br>\n",
      "<br>"
     ]
    },
    {
     "cell_type": "heading",
     "level": 2,
     "metadata": {},
     "source": [
      "Sections"
     ]
    },
    {
     "cell_type": "markdown",
     "metadata": {},
     "source": [
      "- [Generating some Sample Data](#Generating-some-Sample-Data)\n",
      "- [Pair-wise Distance Matrix, Rows](#Pair-wise-Distance-Matrix,-Rows)\n",
      "- [Apply Clustering - Complete Linkage](#Apply-Clustering---Complete-Linkage)\n",
      "- [Heatmaps](#Heatmaps)\n",
      "    - [Heatmap of the Original Data](#Heatmap-of-the-Original-Data)\n",
      "    - [Heatmap after Row-Clustering](#Heatmap-after-Row-Clustering)\n",
      "    - [Heatmap plus Row-Dendrogram](#[Heatmap-plus-Row-Dendrogram)\n",
      "    - [Adding a Column Dendrogram](#Adding-a-Column-Dendrogram)"
     ]
    },
    {
     "cell_type": "markdown",
     "metadata": {},
     "source": [
      "<br>\n",
      "<br>"
     ]
    },
    {
     "cell_type": "markdown",
     "metadata": {},
     "source": [
      "**This is a more technical-oriented tutorial that was born out of necessity to plot a heatmap including the dendrograms from a complete linkage clustering. Since I couldn't find any good resource online, I thought that it might be worthwhile sharing it. **"
     ]
    },
    {
     "cell_type": "markdown",
     "metadata": {},
     "source": [
      "**Therefore, the theoretical aspects are a little bit brief, but nonetheless, here is a short introduction of what it is all about.**\n",
      "\n",
      "Complete linkage is one implementation of hierarchical agglomerative clustering. The principle of hierarchical agglomerative clustering is to start with a singleton cluster, and pair-wise combine (merge) clusters until all clusters have been combined into a single cluster. This results in a \"cluster tree,\" which is also called *dendrogram*.\n",
      "\n",
      "Complete linkage compares the most dissimilar members between clusters in each iteration. The two clusters which have the most similar *dissimilar members* are merged into a new cluster.  \n",
      "\\begin{equation}\n",
      "d(C,D) = \\max[dist(C_i, D_j)]\n",
      "\\end{equation}\n",
      "for all $i$  points in cluster $C$ and $j$ points in cluster $D$.).\n",
      "\n",
      "\n",
      "In contrast, the *single linkage* algorithm compares the two mist similar members instead of the most dissimilar ones.\n",
      "\\begin{equation}\n",
      "d(C,D) = \\min[dist(C_i, D_j)]\n",
      "\\end{equation}\n",
      "for all $i$  points in cluster $C$ and $j$ points in cluster $D$.).\n",
      "\n",
      "Other implementations like `centroid`, `average` etc. please see the [`scipy.cluster.hierarchy.linkage` documentation](http://docs.scipy.org/doc/scipy/reference/generated/scipy.cluster.hierarchy.linkage.html#scipy.cluster.hierarchy.linkage)."
     ]
    },
    {
     "cell_type": "markdown",
     "metadata": {},
     "source": [
      "**(A more detailed article about prototype-based, hierarchical, and density-based clustering is in the planning stage)**"
     ]
    },
    {
     "cell_type": "markdown",
     "metadata": {},
     "source": [
      "<br>\n",
      "<br>"
     ]
    },
    {
     "cell_type": "heading",
     "level": 3,
     "metadata": {},
     "source": [
      "Generating some Sample Data"
     ]
    },
    {
     "cell_type": "markdown",
     "metadata": {},
     "source": [
      "[[back to top](#Sections)]"
     ]
    },
    {
     "cell_type": "markdown",
     "metadata": {},
     "source": [
      "First, we generate some random sample data to work with. Like in a typical application, the rows represent different observations (Samples 1-5), and the columns are the different features (*X, Y, Z*). "
     ]
    },
    {
     "cell_type": "code",
     "collapsed": false,
     "input": [
      "import pandas as pd\n",
      "import numpy as np\n",
      "\n",
      "np.random.seed(123)\n",
      "\n",
      "variables = ['X', 'Y', 'Z']\n",
      "labels = ['Sample1','Sample2','Sample3','Sample4','Sample5']\n",
      "\n",
      "X = np.random.random_sample([5,3])*10\n",
      "df = pd.DataFrame(X, columns=variables, index=labels)\n",
      "df"
     ],
     "language": "python",
     "metadata": {},
     "outputs": [
      {
       "output_type": "stream",
       "stream": "stderr",
       "text": [
        "/Users/sebastian/miniconda3/envs/py34/lib/python3.4/site-packages/pandas/io/excel.py:626: UserWarning: Installed openpyxl is not supported at this time. Use >=1.6.1 and <2.0.0.\n",
        "  .format(openpyxl_compat.start_ver, openpyxl_compat.stop_ver))\n"
       ]
      },
      {
       "html": [
        "<div style=\"max-height:1000px;max-width:1500px;overflow:auto;\">\n",
        "<table border=\"1\" class=\"dataframe\">\n",
        "  <thead>\n",
        "    <tr style=\"text-align: right;\">\n",
        "      <th></th>\n",
        "      <th>X</th>\n",
        "      <th>Y</th>\n",
        "      <th>Z</th>\n",
        "    </tr>\n",
        "  </thead>\n",
        "  <tbody>\n",
        "    <tr>\n",
        "      <th>Sample1</th>\n",
        "      <td> 6.964692</td>\n",
        "      <td> 2.861393</td>\n",
        "      <td> 2.268515</td>\n",
        "    </tr>\n",
        "    <tr>\n",
        "      <th>Sample2</th>\n",
        "      <td> 5.513148</td>\n",
        "      <td> 7.194690</td>\n",
        "      <td> 4.231065</td>\n",
        "    </tr>\n",
        "    <tr>\n",
        "      <th>Sample3</th>\n",
        "      <td> 9.807642</td>\n",
        "      <td> 6.848297</td>\n",
        "      <td> 4.809319</td>\n",
        "    </tr>\n",
        "    <tr>\n",
        "      <th>Sample4</th>\n",
        "      <td> 3.921175</td>\n",
        "      <td> 3.431780</td>\n",
        "      <td> 7.290497</td>\n",
        "    </tr>\n",
        "    <tr>\n",
        "      <th>Sample5</th>\n",
        "      <td> 4.385722</td>\n",
        "      <td> 0.596779</td>\n",
        "      <td> 3.980443</td>\n",
        "    </tr>\n",
        "  </tbody>\n",
        "</table>\n",
        "</div>"
       ],
       "metadata": {},
       "output_type": "pyout",
       "prompt_number": 3,
       "text": [
        "                X         Y         Z\n",
        "Sample1  6.964692  2.861393  2.268515\n",
        "Sample2  5.513148  7.194690  4.231065\n",
        "Sample3  9.807642  6.848297  4.809319\n",
        "Sample4  3.921175  3.431780  7.290497\n",
        "Sample5  4.385722  0.596779  3.980443"
       ]
      }
     ],
     "prompt_number": 3
    },
    {
     "cell_type": "markdown",
     "metadata": {},
     "source": [
      "<br>\n",
      "<br>"
     ]
    },
    {
     "cell_type": "heading",
     "level": 3,
     "metadata": {},
     "source": [
      "Pair-wise Distance Matrix, Rows"
     ]
    },
    {
     "cell_type": "markdown",
     "metadata": {},
     "source": [
      "[[back to top](#Sections)]"
     ]
    },
    {
     "cell_type": "markdown",
     "metadata": {},
     "source": [
      "First, we calculate the pair-wise distances for every row (i.e, between every sample across the different variables). We will use the default euclidean distance measure. The other available distance measures are listed in the [`scipy.spatial.distance.pdist` documentation](http://docs.scipy.org/doc/scipy-0.14.0/reference/generated/scipy.spatial.distance.pdist.html#scipy.spatial.distance.pdist) with a nice and short explanatory paragraph. In addition, we use the [`squareform`](http://docs.scipy.org/doc/scipy-0.14.0/reference/generated/scipy.spatial.distance.squareform.html#scipy.spatial.distance.squareform) function to return a symmetrical metrics of the pair-wise distances."
     ]
    },
    {
     "cell_type": "code",
     "collapsed": false,
     "input": [
      "from scipy.spatial.distance import pdist,squareform\n",
      "\n",
      "row_dist = pd.DataFrame(squareform(pdist(df, metric='euclidean')), columns=labels, index=labels)\n",
      "row_dist"
     ],
     "language": "python",
     "metadata": {},
     "outputs": [
      {
       "html": [
        "<div style=\"max-height:1000px;max-width:1500px;overflow:auto;\">\n",
        "<table border=\"1\" class=\"dataframe\">\n",
        "  <thead>\n",
        "    <tr style=\"text-align: right;\">\n",
        "      <th></th>\n",
        "      <th>Sample1</th>\n",
        "      <th>Sample2</th>\n",
        "      <th>Sample3</th>\n",
        "      <th>Sample4</th>\n",
        "      <th>Sample5</th>\n",
        "    </tr>\n",
        "  </thead>\n",
        "  <tbody>\n",
        "    <tr>\n",
        "      <th>Sample1</th>\n",
        "      <td> 0.000000</td>\n",
        "      <td> 4.973534</td>\n",
        "      <td> 5.516653</td>\n",
        "      <td> 5.899885</td>\n",
        "      <td> 3.835396</td>\n",
        "    </tr>\n",
        "    <tr>\n",
        "      <th>Sample2</th>\n",
        "      <td> 4.973534</td>\n",
        "      <td> 0.000000</td>\n",
        "      <td> 4.347073</td>\n",
        "      <td> 5.104311</td>\n",
        "      <td> 6.698233</td>\n",
        "    </tr>\n",
        "    <tr>\n",
        "      <th>Sample3</th>\n",
        "      <td> 5.516653</td>\n",
        "      <td> 4.347073</td>\n",
        "      <td> 0.000000</td>\n",
        "      <td> 7.244262</td>\n",
        "      <td> 8.316594</td>\n",
        "    </tr>\n",
        "    <tr>\n",
        "      <th>Sample4</th>\n",
        "      <td> 5.899885</td>\n",
        "      <td> 5.104311</td>\n",
        "      <td> 7.244262</td>\n",
        "      <td> 0.000000</td>\n",
        "      <td> 4.382864</td>\n",
        "    </tr>\n",
        "    <tr>\n",
        "      <th>Sample5</th>\n",
        "      <td> 3.835396</td>\n",
        "      <td> 6.698233</td>\n",
        "      <td> 8.316594</td>\n",
        "      <td> 4.382864</td>\n",
        "      <td> 0.000000</td>\n",
        "    </tr>\n",
        "  </tbody>\n",
        "</table>\n",
        "</div>"
       ],
       "metadata": {},
       "output_type": "pyout",
       "prompt_number": 4,
       "text": [
        "          Sample1   Sample2   Sample3   Sample4   Sample5\n",
        "Sample1  0.000000  4.973534  5.516653  5.899885  3.835396\n",
        "Sample2  4.973534  0.000000  4.347073  5.104311  6.698233\n",
        "Sample3  5.516653  4.347073  0.000000  7.244262  8.316594\n",
        "Sample4  5.899885  5.104311  7.244262  0.000000  4.382864\n",
        "Sample5  3.835396  6.698233  8.316594  4.382864  0.000000"
       ]
      }
     ],
     "prompt_number": 4
    },
    {
     "cell_type": "markdown",
     "metadata": {},
     "source": [
      "<br>\n",
      "<br>"
     ]
    },
    {
     "cell_type": "heading",
     "level": 3,
     "metadata": {},
     "source": [
      "Apply Clustering - Complete Linkage"
     ]
    },
    {
     "cell_type": "markdown",
     "metadata": {},
     "source": [
      "[[back to top](#Sections)]"
     ]
    },
    {
     "cell_type": "markdown",
     "metadata": {},
     "source": [
      "When we apply the complete linkage agglomeration to our clusters, the `linkage` function returns a so-called `linkage matrix`. \n",
      "This `linkage matrix` consists of several rows where each row consists of 1 merge. The first and second column denote the most dissimilar members in each cluster, and the third row reports the distance between those members. The last column returns the count of members in the clusters."
     ]
    },
    {
     "cell_type": "code",
     "collapsed": false,
     "input": [
      "from scipy.cluster.hierarchy import linkage\n",
      "\n",
      "row_clusters = linkage(row_dist, method='complete')\n",
      "pd.DataFrame(row_clusters, \n",
      "             columns=['row label 1', 'row label 2', 'distance', 'no. of items in clust.'],\n",
      "             index=['cluster %d' %(i+1) for i in range(row_clusters.shape[0])])"
     ],
     "language": "python",
     "metadata": {},
     "outputs": [
      {
       "html": [
        "<div style=\"max-height:1000px;max-width:1500px;overflow:auto;\">\n",
        "<table border=\"1\" class=\"dataframe\">\n",
        "  <thead>\n",
        "    <tr style=\"text-align: right;\">\n",
        "      <th></th>\n",
        "      <th>row label 1</th>\n",
        "      <th>row label 2</th>\n",
        "      <th>distance</th>\n",
        "      <th>no. of items in clust.</th>\n",
        "    </tr>\n",
        "  </thead>\n",
        "  <tbody>\n",
        "    <tr>\n",
        "      <th>cluster 1</th>\n",
        "      <td> 0</td>\n",
        "      <td> 4</td>\n",
        "      <td>  6.521973</td>\n",
        "      <td> 2</td>\n",
        "    </tr>\n",
        "    <tr>\n",
        "      <th>cluster 2</th>\n",
        "      <td> 1</td>\n",
        "      <td> 2</td>\n",
        "      <td>  6.729603</td>\n",
        "      <td> 2</td>\n",
        "    </tr>\n",
        "    <tr>\n",
        "      <th>cluster 3</th>\n",
        "      <td> 3</td>\n",
        "      <td> 5</td>\n",
        "      <td>  8.539247</td>\n",
        "      <td> 3</td>\n",
        "    </tr>\n",
        "    <tr>\n",
        "      <th>cluster 4</th>\n",
        "      <td> 6</td>\n",
        "      <td> 7</td>\n",
        "      <td> 12.444824</td>\n",
        "      <td> 5</td>\n",
        "    </tr>\n",
        "  </tbody>\n",
        "</table>\n",
        "</div>"
       ],
       "metadata": {},
       "output_type": "pyout",
       "prompt_number": 5,
       "text": [
        "           row label 1  row label 2   distance  no. of items in clust.\n",
        "cluster 1            0            4   6.521973                       2\n",
        "cluster 2            1            2   6.729603                       2\n",
        "cluster 3            3            5   8.539247                       3\n",
        "cluster 4            6            7  12.444824                       5"
       ]
      }
     ],
     "prompt_number": 5
    },
    {
     "cell_type": "code",
     "collapsed": false,
     "input": [
      "%pylab inline\n",
      "from scipy.cluster.hierarchy import dendrogram\n",
      "row_dendr = dendrogram(row_clusters)"
     ],
     "language": "python",
     "metadata": {},
     "outputs": [
      {
       "output_type": "stream",
       "stream": "stdout",
       "text": [
        "Populating the interactive namespace from numpy and matplotlib\n"
       ]
      },
      {
       "metadata": {},
       "output_type": "display_data",
       "png": "[encoded data removed]",
       "text": [
        "<matplotlib.figure.Figure at 0x1050ac9b0>"
       ]
      }
     ],
     "prompt_number": 6
    },
    {
     "cell_type": "markdown",
     "metadata": {},
     "source": [
      "<br>\n",
      "<br>"
     ]
    },
    {
     "cell_type": "heading",
     "level": 2,
     "metadata": {},
     "source": [
      "Heatmaps"
     ]
    },
    {
     "cell_type": "markdown",
     "metadata": {},
     "source": [
      "[[back to top](#Sections)]"
     ]
    },
    {
     "cell_type": "code",
     "collapsed": false,
     "input": [
      "%matplotlib inline\n",
      "import matplotlib.pyplot as plt"
     ],
     "language": "python",
     "metadata": {},
     "outputs": [],
     "prompt_number": 7
    },
    {
     "cell_type": "markdown",
     "metadata": {},
     "source": [
      "<br>\n",
      "<br>"
     ]
    },
    {
     "cell_type": "heading",
     "level": 3,
     "metadata": {},
     "source": [
      "Heatmap of the Original Data"
     ]
    },
    {
     "cell_type": "markdown",
     "metadata": {},
     "source": [
      "[[back to top](#Sections)]"
     ]
    },
    {
     "cell_type": "markdown",
     "metadata": {},
     "source": [
      "This section is about the visualization of our hierarchical clustering. Here, we will plot simple heatmaps for each scenario: The original data, the data after row clustering, and eventually the data after we applied row and column clustering."
     ]
    },
    {
     "cell_type": "code",
     "collapsed": false,
     "input": [
      "fig = plt.figure()\n",
      "\n",
      "ax = fig.add_subplot(111)\n",
      "\n",
      "cax = ax.matshow(df, interpolation='nearest', cmap='hot_r')\n",
      "fig.colorbar(cax)\n",
      "\n",
      "ax.set_xticklabels([''] + list(df.columns))\n",
      "ax.set_yticklabels([''] + list(df.index))\n",
      "\n",
      "plt.show()"
     ],
     "language": "python",
     "metadata": {},
     "outputs": [
      {
       "metadata": {},
       "output_type": "display_data",
       "png": "[encoded data removed]",
       "text": [
        "<matplotlib.figure.Figure at 0x1089dce10>"
       ]
      }
     ],
     "prompt_number": 8
    },
    {
     "cell_type": "markdown",
     "metadata": {},
     "source": [
      "<br>\n",
      "<br>"
     ]
    },
    {
     "cell_type": "heading",
     "level": 3,
     "metadata": {},
     "source": [
      "Heatmap after Row-Clustering"
     ]
    },
    {
     "cell_type": "markdown",
     "metadata": {},
     "source": [
      "[[back to top](#Sections)]"
     ]
    },
    {
     "cell_type": "code",
     "collapsed": false,
     "input": [
      "# reorder rows with respect to the clustering\n",
      "df_rowclust = df.loc[row_dendr['leaves']]\n",
      "\n",
      "# plot\n",
      "fig = plt.figure()\n",
      "ax = fig.add_subplot(111)\n",
      "\n",
      "cax = ax.matshow(df_rowclust, interpolation='nearest', cmap='hot_r')\n",
      "fig.colorbar(cax)\n",
      "\n",
      "ax.set_xticklabels([''] + list(df_rowclust.columns))\n",
      "ax.set_yticklabels([''] + list(df_rowclust.index))\n",
      "\n",
      "plt.show()"
     ],
     "language": "python",
     "metadata": {},
     "outputs": [
      {
       "metadata": {},
       "output_type": "display_data",
       "png": "[encoded data removed]",
       "text": [
        "<matplotlib.figure.Figure at 0x1089dce48>"
       ]
      }
     ],
     "prompt_number": 9
    },
    {
     "cell_type": "markdown",
     "metadata": {},
     "source": [
      "<br>\n",
      "<br>"
     ]
    },
    {
     "cell_type": "heading",
     "level": 3,
     "metadata": {},
     "source": [
      "Heatmap plus Row-Dendrogram"
     ]
    },
    {
     "cell_type": "markdown",
     "metadata": {},
     "source": [
      "[[back to top](#Sections)]"
     ]
    },
    {
     "cell_type": "code",
     "collapsed": false,
     "input": [
      "from scipy.cluster import hierarchy\n",
      "# makes dendrogram black (1)\n",
      "hierarchy.set_link_color_palette(['black'])\n",
      "\n",
      "# plot row dendrogram\n",
      "fig = plt.figure(figsize=(8,8))\n",
      "axd = fig.add_axes([0.09,0.1,0.2,0.6])\n",
      "dendr = dendrogram(row_clusters, orientation='right',\n",
      "                   color_threshold=np.inf) # makes dendrogram black (2))\n",
      "axd.set_xticks([])\n",
      "axd.set_yticks([])\n",
      "\n",
      "\n",
      "# remove axes spines from dendrogram\n",
      "for i in axd.spines.values():\n",
      "        i.set_visible(False)\n",
      "\n",
      "\n",
      "# plot heatmap\n",
      "axm = fig.add_axes([0.26,0.1,0.6,0.6]) # x-pos, y-pos, width, height\n",
      "cax = axm.matshow(df_rowclust, interpolation='nearest', cmap='hot_r')\n",
      "fig.colorbar(cax)\n",
      "axm.set_xticklabels([''] + list(df_rowclust.columns))\n",
      "axm.set_yticklabels([''] + list(df_rowclust.index))\n",
      "\n",
      "plt.show()"
     ],
     "language": "python",
     "metadata": {},
     "outputs": [
      {
       "metadata": {},
       "output_type": "display_data",
       "png": "[encoded data removed]",
       "text": [
        "<matplotlib.figure.Figure at 0x108bc6780>"
       ]
      }
     ],
     "prompt_number": 10
    },
    {
     "cell_type": "markdown",
     "metadata": {},
     "source": [
      "<br>\n",
      "<br>"
     ]
    },
    {
     "cell_type": "heading",
     "level": 3,
     "metadata": {},
     "source": [
      "Adding a Column Dendrogram"
     ]
    },
    {
     "cell_type": "markdown",
     "metadata": {},
     "source": [
      "[[back to top](#Sections)]"
     ]
    },
    {
     "cell_type": "code",
     "collapsed": false,
     "input": [
      "# Compute pairwise distances for columns\n",
      "col_dists = squareform(pdist(df.T, metric='euclidean'))\n",
      "col_clusters = linkage(col_dists, method='complete')\n",
      "\n",
      "# plot column dendrogram\n",
      "fig = plt.figure(figsize=(8,8))\n",
      "\n",
      "axd2 = fig.add_axes([0.38,0.74,0.36,0.10]) \n",
      "col_dendr = dendrogram(col_clusters, orientation='top',\n",
      "                       color_threshold=np.inf) # makes dendrogram black)\n",
      "axd2.set_xticks([])\n",
      "axd2.set_yticks([])\n",
      "\n",
      "# plot row dendrogram\n",
      "axd1 = fig.add_axes([0.09,0.1,0.2,0.6])\n",
      "row_dendr = dendrogram(row_clusters, orientation='right',  \n",
      "                       color_threshold=np.inf) # makes dendrogram black\n",
      "axd1.set_xticks([])\n",
      "axd1.set_yticks([])\n",
      "\n",
      "# remove axes spines from dendrogram\n",
      "for i,j in zip(axd1.spines.values(), axd2.spines.values()):\n",
      "        i.set_visible(False)\n",
      "        j.set_visible(False)\n",
      "        \n",
      "\n",
      "# reorder columns and rows with respect to the clustering\n",
      "df_rowclust = df.loc[row_dendr['leaves']]\n",
      "df_colrowclust = df_rowclust.loc[:][col_dendr['leaves']]\n",
      "        \n",
      "# plot heatmap\n",
      "axm = fig.add_axes([0.26,0.1,0.6,0.6])\n",
      "cax = axm.matshow(df_colrowclust, interpolation='nearest', cmap='hot_r')\n",
      "fig.colorbar(cax)\n",
      "axm.set_xticklabels([''] + list(df_rowclust.columns))\n",
      "axm.set_yticklabels([''] + list(df_rowclust.index))\n",
      "\n",
      "plt.show()"
     ],
     "language": "python",
     "metadata": {},
     "outputs": [
      {
       "metadata": {},
       "output_type": "display_data",
       "png": "[encoded data removed]",
       "text": [
        "<matplotlib.figure.Figure at 0x109604978>"
       ]
      }
     ],
     "prompt_number": 17
    },
    {
     "cell_type": "code",
     "collapsed": false,
     "input": [],
     "language": "python",
     "metadata": {},
     "outputs": []
    }
   ],
   "metadata": {}
  }
 ]
}