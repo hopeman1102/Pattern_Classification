{
 "metadata": {
  "name": "",
  "signature": "sha256:55bcd14f2534e3c4d1305defd8f3463f9885b410bf6c5bdecd57030c8ae5b85d"
 },
 "nbformat": 3,
 "nbformat_minor": 0,
 "worksheets": [
  {
   "cells": [
    {
     "cell_type": "markdown",
     "metadata": {},
     "source": [
      "[[back to pattern_classification](https://github.com/rasbt/pattern_classification)]"
     ]
    },
    {
     "cell_type": "code",
     "collapsed": false,
     "input": [
      "%load_ext watermark"
     ],
     "language": "python",
     "metadata": {},
     "outputs": [],
     "prompt_number": 1
    },
    {
     "cell_type": "code",
     "collapsed": false,
     "input": [
      "%watermark -d -u -v -p scikit-learn,pandas,scipy,matplotlib"
     ],
     "language": "python",
     "metadata": {},
     "outputs": [
      {
       "output_type": "stream",
       "stream": "stdout",
       "text": [
        "Last updated: 15/08/2014 \n",
        "\n",
        "CPython 3.4.1\n",
        "IPython 2.0.0\n",
        "\n",
        "scikit-learn 0.15.1\n",
        "pandas 0.14.0\n",
        "scipy 0.14.0\n",
        "matplotlib 1.3.1\n"
       ]
      }
     ],
     "prompt_number": 2
    },
    {
     "cell_type": "markdown",
     "metadata": {},
     "source": [
      "<font size=\"1.5em\">[More information](https://github.com/rasbt/watermark) about the `watermark` magic command extension.</font>\n",
      "\n",
      "\n"
     ]
    },
    {
     "cell_type": "markdown",
     "metadata": {},
     "source": [
      "<hr>\n",
      "I would be happy to hear your comments and suggestions. \n",
      "Please feel free to drop me a note via\n",
      "[twitter](https://twitter.com/rasbt), [email](mailto:bluewoodtree@gmail.com), or [google+](https://plus.google.com/+SebastianRaschka).\n",
      "<hr>"
     ]
    },
    {
     "cell_type": "heading",
     "level": 1,
     "metadata": {},
     "source": [
      "Streamline your cross-validation and classification workflow  \n"
     ]
    },
    {
     "cell_type": "heading",
     "level": 2,
     "metadata": {},
     "source": [
      "- scikit-learn's Pipeline in action"
     ]
    },
    {
     "cell_type": "markdown",
     "metadata": {},
     "source": [
      "<br>\n",
      "<br>"
     ]
    },
    {
     "cell_type": "heading",
     "level": 1,
     "metadata": {},
     "source": [
      "Sections"
     ]
    },
    {
     "cell_type": "markdown",
     "metadata": {},
     "source": [
      "- [An example for using Pipelines in Cross-validation and classification](#An-example-for-using-Pipelines-in-Cross-validation-and-classification)\n",
      "    - [Key concepts and links for further reading](#Key-concepts-and-links-for-further-reading)\n",
      "    - [Reading in the Iris dataset](#Reading-in-the-Iris-dataset)\n",
      "    - [Exploratory visualization](#Exploratory-visualization)\n",
      "    - [Preparing a Test and Training dataset](#Preparing-a-Test-and-Training-dataset)\n",
      "    - [Cross-Validation and Pipelines](#Cross-Validation-and-Pipelines)\n",
      "        - [Custom Pipeline objects](#Custom-Pipeline-objects)\n",
      "        - [Running the cross-validation](#Running-the-cross-validation)\n",
      "    - [Training the Naive Bayes classifier](#Training-the-Naive-Bayes-classifier)"
     ]
    },
    {
     "cell_type": "markdown",
     "metadata": {},
     "source": [
      "<br>\n",
      "<br>"
     ]
    },
    {
     "cell_type": "heading",
     "level": 1,
     "metadata": {},
     "source": [
      "Introduction"
     ]
    },
    {
     "cell_type": "markdown",
     "metadata": {},
     "source": [
      "[[back to overview](#Sections)]"
     ]
    },
    {
     "cell_type": "markdown",
     "metadata": {},
     "source": [
      "The `Pipeline` class in scikit-learn's [`pipeline`](http://scikit-learn.org/stable/modules/generated/sklearn.pipeline.Pipeline.html) module offers a convenient way to execute a chain of normalization and pre-processing steps, as well as predictors and classifiers on a dataset. \n",
      "\n",
      "Such a pipeline is especially useful in the context of cross-validation, where we are interested in testing and comparing different feature selection techniques, dimensionality reduction approaches, and classifiers. All in all, `Pipeline`s are not only a great time-saver, but they also allow us to write clutter-free code and stay organized in the attempt to find the ideal combination of techniques for solving a pattern classification task.\n",
      "\n",
      "In the current implementation of `Pipeline` the different steps in the chain have to be classes that have `fit` and `transform` methods (or, alternatively, a `fit_transform` method instead of `transform`).\n",
      "\n",
      "But before we get bogged down into details, let us prepare the Iris dataset in order to have a look at a `Pipeline` in action."
     ]
    },
    {
     "cell_type": "markdown",
     "metadata": {},
     "source": [
      "<br>\n",
      "<br>"
     ]
    },
    {
     "cell_type": "markdown",
     "metadata": {},
     "source": [
      "An example of a simple pipeline that consists of three steps: standardizing the dataset, dimensionality reduction via PCA, and training a naive Bayes classifier:"
     ]
    },
    {
     "cell_type": "code",
     "collapsed": false,
     "input": [
      "clf = Pipeline(steps=[\n",
      "    ('scaler', StandardScaler()),    \n",
      "    ('reduce_dim', PCA(n_components=2)),\n",
      "    ('classifier', GaussianNB())   \n",
      "    ])\n",
      "\n",
      "clf.fit(X_train, y_train)      # fitting on the training dataset\n",
      "pred = clf_lda.predict(X_test) # classifying the test dataset"
     ],
     "language": "python",
     "metadata": {},
     "outputs": []
    },
    {
     "cell_type": "markdown",
     "metadata": {},
     "source": [
      "<br>\n",
      "<br>"
     ]
    },
    {
     "cell_type": "heading",
     "level": 1,
     "metadata": {},
     "source": [
      "An example for using Pipelines in Cross-validation and classification"
     ]
    },
    {
     "cell_type": "markdown",
     "metadata": {},
     "source": [
      "[[back to overview](#Sections)]"
     ]
    },
    {
     "cell_type": "markdown",
     "metadata": {},
     "source": [
      "Since I don't want to distract from the main topic of this article, the `Pipeline`s, I want to keep the descriptions about the other steps and concepts as concise as possible. Below is a list of the particular topics with links to other articles for further reading."
     ]
    },
    {
     "cell_type": "markdown",
     "metadata": {},
     "source": [
      "<br>\n",
      "<br>"
     ]
    },
    {
     "cell_type": "heading",
     "level": 2,
     "metadata": {},
     "source": [
      "Key concepts and links for further reading"
     ]
    },
    {
     "cell_type": "markdown",
     "metadata": {},
     "source": [
      "[[back to overview](#Sections)]"
     ]
    },
    {
     "cell_type": "markdown",
     "metadata": {},
     "source": [
      "<hr>\n",
      "\n",
      "####The Iris dataset\n",
      "A dataset of 150 flowers from three iris classes with 4 different features.  \n",
      "\n",
      "- [About the Iris dataset](http://sebastianraschka.com/Articles/2014_python_lda.html#about-the-iris-dataset)\n",
      "\n",
      "\n",
      "####Cross-validation\n",
      "Cross-validation is a statistical technique to estimate the prediction error rate by splitting the data into training, cross-validation, and test datasets. A prediction model is obtained using the training set, and model parameters are optimized by the cross-validation set, while the test set is held primarily for empirical error estimation.  \n",
      "\n",
      "- Separate article in preparation\n",
      "\n",
      "####Feature Scaling and Standardization\n",
      "A data pre-processing step for re-scaling features from different measurements to match proportions of a standard normal distribution (unit variance centered at mean=0).\n",
      "\n",
      "- [About Feature Scaling and Normalization](http://sebastianraschka.com/Articles/2014_about_feature_scaling.html)\n",
      "\n",
      "####Principal Component Analysis (PCA)\n",
      "A linear transformation technique that is commonly used to project a dataset (without utilizing class labels) onto a new feature space or feature subspace (for dimensionality reduction) where the new component axes are the directions that maximize the variance/spread of the data.\n",
      "\n",
      "- [Implementing a Principal Component Analysis (PCA) in Python step by step](http://sebastianraschka.com/Articles/2014_pca_step_by_step.html)\n",
      "\n",
      "####Linear Discriminant Analysis (LDA)\n",
      "A linear transformation technique (related to Principal Component Analysis) that is commonly used to project a dataset onto a new feature space or feature subspace, where the new component axes maximize the spread between multiple classes, or for classification of data.\n",
      "\n",
      "- [Linear Discriminant Analysis bit by bit](http://sebastianraschka.com/Articles/2014_python_lda.html)\n",
      "\n",
      "####Naive Bayes classifier\n",
      "A classifier based on a statistical model (i.e., Bayes theorem: calculating posterior probabilities based on the prior probability and the so-called likelihood) in the field of pattern classification. Naive Bayes assumes that all attributes are conditionally independent, thereby, computing the likelihood is simplified to the product of the conditional probabilities of observing individual attributes given a particular class label.\n",
      "\n",
      "- Separate article in preparation\n",
      "\n",
      "\n",
      "<hr>"
     ]
    },
    {
     "cell_type": "markdown",
     "metadata": {},
     "source": [
      "<br>\n",
      "<br>"
     ]
    },
    {
     "cell_type": "heading",
     "level": 2,
     "metadata": {},
     "source": [
      "Reading in the Iris dataset"
     ]
    },
    {
     "cell_type": "markdown",
     "metadata": {},
     "source": [
      "[[back to overview](#Sections)]"
     ]
    },
    {
     "cell_type": "code",
     "collapsed": false,
     "input": [
      "import pandas as pd\n",
      "\n",
      "df = pd.io.parsers.read_csv(\n",
      "    filepath_or_buffer='https://archive.ics.uci.edu/ml/machine-learning-databases/iris/iris.data', \n",
      "    header=None, \n",
      "    sep=',', \n",
      "    )\n",
      "df.dropna(how=\"all\", inplace=True) # to drop the empty line at file-end\n",
      "\n",
      "feature_dict = {i:label for i,label in zip(\n",
      "            range(4),\n",
      "              ('sepal length in cm', \n",
      "              'sepal width in cm', \n",
      "              'petal length in cm', \n",
      "              'petal width in cm', ))}"
     ],
     "language": "python",
     "metadata": {},
     "outputs": [
      {
       "output_type": "stream",
       "stream": "stderr",
       "text": [
        "/Users/sebastian/miniconda3/envs/py34/lib/python3.4/site-packages/pandas/io/excel.py:626: UserWarning: Installed openpyxl is not supported at this time. Use >=1.6.1 and <2.0.0.\n",
        "  .format(openpyxl_compat.start_ver, openpyxl_compat.stop_ver))\n"
       ]
      }
     ],
     "prompt_number": 3
    },
    {
     "cell_type": "markdown",
     "metadata": {},
     "source": [
      "<br>\n",
      "<br>"
     ]
    },
    {
     "cell_type": "markdown",
     "metadata": {},
     "source": [
      "Since it is more convenient to work with numerical values, we will use the `LabelEncoder` from the scikit-learn library to convert the class labels into numbers: 1, 2, and 3."
     ]
    },
    {
     "cell_type": "code",
     "collapsed": false,
     "input": [
      "from sklearn.preprocessing import LabelEncoder\n",
      "\n",
      "X = df[[0,1,2,3]].values \n",
      "y = df[4].values\n",
      "\n",
      "enc = LabelEncoder()\n",
      "label_encoder = enc.fit(y)\n",
      "y = label_encoder.transform(y) + 1\n",
      "\n",
      "label_dict = {1: 'Setosa', 2: 'Versicolor', 3:'Virginica'}"
     ],
     "language": "python",
     "metadata": {},
     "outputs": [],
     "prompt_number": 4
    },
    {
     "cell_type": "markdown",
     "metadata": {},
     "source": [
      "<br>\n",
      "<br>"
     ]
    },
    {
     "cell_type": "heading",
     "level": 2,
     "metadata": {},
     "source": [
      "Exploratory visualization"
     ]
    },
    {
     "cell_type": "markdown",
     "metadata": {},
     "source": [
      "[[back to overview](#Sections)]"
     ]
    },
    {
     "cell_type": "code",
     "collapsed": false,
     "input": [
      "%matplotlib inline"
     ],
     "language": "python",
     "metadata": {},
     "outputs": [],
     "prompt_number": 5
    },
    {
     "cell_type": "code",
     "collapsed": false,
     "input": [
      "from matplotlib import pyplot as plt\n",
      "import numpy as np\n",
      "import math\n",
      "\n",
      "fig, axes = plt.subplots(nrows=2, ncols=2, figsize=(12,6))\n",
      "\n",
      "for ax,cnt in zip(axes.ravel(), range(4)):\n",
      "\n",
      "    # set bin sizes\n",
      "    min_b = math.floor(np.min(X[:,cnt]))\n",
      "    max_b = math.ceil(np.max(X[:,cnt]))\n",
      "    bins = np.linspace(min_b, max_b, 25)\n",
      "\n",
      "    # plottling the histograms\n",
      "    for lab,col in zip(range(1,4), ('blue', 'red', 'green')):\n",
      "        ax.hist(X[y==lab, cnt],\n",
      "                   color=col, \n",
      "                   label='class %s' %label_dict[lab], \n",
      "                   bins=bins,\n",
      "                   alpha=0.5,)\n",
      "    ylims = ax.get_ylim()\n",
      "\n",
      "    # plot annotation\n",
      "    leg = ax.legend(loc='upper right', fancybox=True, fontsize=8)\n",
      "    leg.get_frame().set_alpha(0.5)\n",
      "    ax.set_ylim([0, max(ylims)+2])\n",
      "    ax.set_xlabel(feature_dict[cnt])\n",
      "    ax.set_title('Iris histogram #%s' %str(cnt+1))\n",
      "\n",
      "    # hide axis ticks\n",
      "    ax.tick_params(axis=\"both\", which=\"both\", bottom=\"off\", top=\"off\",  \n",
      "            labelbottom=\"on\", left=\"off\", right=\"off\", labelleft=\"on\")\n",
      "\n",
      "    # remove axis spines\n",
      "    ax.spines[\"top\"].set_visible(False)  \n",
      "    ax.spines[\"right\"].set_visible(False) \n",
      "    ax.spines[\"bottom\"].set_visible(False) \n",
      "    ax.spines[\"left\"].set_visible(False)\n",
      "\n",
      "axes[0][0].set_ylabel('count')\n",
      "axes[1][0].set_ylabel('count')\n",
      "\n",
      "fig.tight_layout()\n",
      "\n",
      "plt.show()"
     ],
     "language": "python",
     "metadata": {},
     "outputs": [
      {
       "metadata": {},
       "output_type": "display_data",
       "png": "[encoded data removed]",
       "text": [
        "<matplotlib.figure.Figure at 0x107281080>"
       ]
      }
     ],
     "prompt_number": 9
    },
    {
     "cell_type": "markdown",
     "metadata": {},
     "source": [
      "Above, we used simple 1D-histograms as a quick exploratory tool to get a rough idea how the classes are separated for each particular feature.   \n",
      "We can see that the petal dimensions (petal width and petal width) are much more useful features than the sepal dimensions, which have a large overlap between the 3 different Iris species. "
     ]
    },
    {
     "cell_type": "markdown",
     "metadata": {},
     "source": [
      "<br>\n",
      "<br>"
     ]
    },
    {
     "cell_type": "heading",
     "level": 2,
     "metadata": {},
     "source": [
      "Preparing a Test and Training dataset"
     ]
    },
    {
     "cell_type": "markdown",
     "metadata": {},
     "source": [
      "[[back to overview](#Sections)]"
     ]
    },
    {
     "cell_type": "markdown",
     "metadata": {},
     "source": [
      "In this step, we split our dataset into two subsets: A training dataset (60% of the samples) and a test dataset (40% of the samples from the original dataset). "
     ]
    },
    {
     "cell_type": "code",
     "collapsed": false,
     "input": [
      "from sklearn.cross_validation import train_test_split\n",
      "\n",
      "X_train, X_test, y_train, y_test = train_test_split(X, y,\n",
      "    test_size=0.40, random_state=12345)"
     ],
     "language": "python",
     "metadata": {},
     "outputs": [],
     "prompt_number": 10
    },
    {
     "cell_type": "markdown",
     "metadata": {},
     "source": [
      "<br>\n",
      "<br>"
     ]
    },
    {
     "cell_type": "heading",
     "level": 2,
     "metadata": {},
     "source": [
      "Cross-Validation and Pipelines"
     ]
    },
    {
     "cell_type": "markdown",
     "metadata": {},
     "source": [
      "[[back to overview](#Sections)]"
     ]
    },
    {
     "cell_type": "markdown",
     "metadata": {},
     "source": [
      "It is important to note that the test set should only be used once for evaluating the prediction error of a classifier after training it on the training dataset; repetitive evaluations of different models using the same test dataset would be prone to overfitting.  \n",
      "A common approach to compare and evaluate different pre-processing techniques and models is cross-validation. Here, we will use a variant called \"k-fold cross-validation\" in order to compare different preprocessing steps and demonstrate the usefulness of a `Pipeline`.\n",
      "\n",
      "In k-fold cross-validation, the original training dataset is split into *k* different subsets (the so-called \"folds\") where 1 fold is retained for testing the classifier and the other k-1 folds are used for training.\n",
      "\n",
      "E.g., if we'd choose k=4 (4 folds) the classifier will be trained on the remaining using 3 different training set subsets and evaluated on the 4th fold (the test fold). This procedure is then repeated 4 times until every fold has been used as the test set once so that we can eventually calculate the average error rate of our model from the error rate of every iteration, which gives us an idea of how well our model generalizes (a more detailed article about different cross validation methods is in preparation).\n",
      "\n",
      "![](../../Images/cross-validation-001_small.png)"
     ]
    },
    {
     "cell_type": "markdown",
     "metadata": {},
     "source": [
      "<br>\n",
      "<br>"
     ]
    },
    {
     "cell_type": "heading",
     "level": 3,
     "metadata": {},
     "source": [
      "Custom Pipeline objects"
     ]
    },
    {
     "cell_type": "markdown",
     "metadata": {},
     "source": [
      "[[back to overview](#Sections)]"
     ]
    },
    {
     "cell_type": "markdown",
     "metadata": {},
     "source": [
      "Now, after we successfully prepared our example dataset, let us come back to the pipelines. Pipelines, as we have heard before, are extremely useful in a cross-validation task in order to compare different models. "
     ]
    },
    {
     "cell_type": "markdown",
     "metadata": {},
     "source": [
      "And we can also write our own classes that can be used in such a pipeline. If we think [back to the histograms](#Exploratory-visualization) of our Iris dataset, one interesting exploration could be to select the features \"petal length\" and \"petal width\" and compare a classifier trained on this subset against classifiers that were trained on the whole dataset, or classifiers that were trained on datasets after dimensionality reduction (e.g., Linear Discriminant Analysis or Principal Component Analysis).\n",
      "\n",
      "Below, we will write a simple `ColumnSelector` that will return a subset of certain features (columns) from a NumPy array that represents our dataset.\n",
      "\n",
      "The requirement for a valid `Pipeline` object is that it responds to the `transform` method with exception of the last object (the final estimator), which has to respond to the `fit` function.\n"
     ]
    },
    {
     "cell_type": "code",
     "collapsed": false,
     "input": [
      "class ColumnSelector(object):\n",
      "    \"\"\" A feature selector for scikit-learn's Pipeline class that returns\n",
      "        specified columns from a numpy array.\n",
      "    \n",
      "    \"\"\"\n",
      "    \n",
      "    def __init__(self, cols):\n",
      "        self.cols = cols\n",
      "        \n",
      "    def transform(self, X, y=None):\n",
      "        return X[:, self.cols]\n",
      "\n",
      "    def fit(self, X, y=None):\n",
      "        return self"
     ],
     "language": "python",
     "metadata": {},
     "outputs": [],
     "prompt_number": 11
    },
    {
     "cell_type": "markdown",
     "metadata": {},
     "source": [
      "I thought that it was worthwhile to create a central module for such helper functions and classes ([https://github.com/rasbt/mlxtend](https://github.com/rasbt/mlxtend)) from which they could not only be easily imported but also collected, documented, and optimized. I am happy about any suggestions, ideas, and contributions!"
     ]
    },
    {
     "cell_type": "markdown",
     "metadata": {},
     "source": [
      "<br>\n",
      "<br>"
     ]
    },
    {
     "cell_type": "heading",
     "level": 3,
     "metadata": {},
     "source": [
      "Running the cross-validation"
     ]
    },
    {
     "cell_type": "markdown",
     "metadata": {},
     "source": [
      "[[back to overview](#Sections)]"
     ]
    },
    {
     "cell_type": "markdown",
     "metadata": {},
     "source": [
      "For a simple example, let us do cross-validation to compare different preprocessing steps for training a naive Bayes classifier.\n",
      "\n",
      "- on the whole feature set\n",
      "- on a 2D feature subset consisting of the features \"petal width\" and \"petal length\"\n",
      "- on a 2D subset after dimensionality reduction via Principal Component Analysis\n",
      "- on a 2D subset after dimensionality reduction via Linear Discriminant Analysis"
     ]
    },
    {
     "cell_type": "code",
     "collapsed": false,
     "input": [
      "from sklearn.cross_validation import cross_val_score, KFold\n",
      "from sklearn.pipeline import Pipeline\n",
      "from sklearn.naive_bayes import GaussianNB\n",
      "from sklearn.preprocessing import StandardScaler\n",
      "from sklearn.lda import LDA\n",
      "from sklearn.decomposition import PCA\n",
      "\n",
      "clf_all = Pipeline(steps=[\n",
      "    ('scaler', StandardScaler()),           \n",
      "    ('classifier', GaussianNB())   \n",
      "    ])\n",
      "\n",
      "clf_petal = Pipeline(steps=[\n",
      "    ('scaler', StandardScaler()),\n",
      "    ('reduce_dim', ColumnSelector(cols=(2,3))),    \n",
      "    ('classifier', GaussianNB())   \n",
      "    ]) \n",
      "\n",
      "clf_pca = Pipeline(steps=[\n",
      "    ('scaler', StandardScaler()),    \n",
      "    ('reduce_dim', PCA(n_components=2)),\n",
      "    ('classifier', GaussianNB())   \n",
      "    ])\n",
      "\n",
      "clf_lda = Pipeline(steps=[\n",
      "    ('scaler', StandardScaler()), \n",
      "    ('reduce_dim', LDA(n_components=2)),\n",
      "    ('classifier', GaussianNB())   \n",
      "    ])\n",
      "\n",
      "# Constructing the k-fold cross validation iterator (k=5)  \n",
      "\n",
      "cv = KFold(n=X_train.shape[0],  # total number of samples\n",
      "           n_folds=5,           # number of folds the dataset is divided into\n",
      "           random_state=12345)\n",
      "\n",
      "scores = [\n",
      "    cross_val_score(clf, X_train, y_train, cv=cv, scoring='accuracy')\n",
      "            for clf in [clf_all, clf_petal, clf_pca, clf_lda]\n",
      "    ]"
     ],
     "language": "python",
     "metadata": {},
     "outputs": [],
     "prompt_number": 12
    },
    {
     "cell_type": "code",
     "collapsed": false,
     "input": [
      "for score,label in zip(scores, \n",
      "                       ['all attributes', \n",
      "                        'Petal dimensions (column 3 & 4)',\n",
      "                        'PCA dim. red. (n=2)', \n",
      "                        'LDA dim. red. (n=2)', \n",
      "                        ]\n",
      "                       ):\n",
      "    print(\"Accuracy: {:.2%} (+/- {:.2%}), {:}\".format(score.mean(), score.std(), label))"
     ],
     "language": "python",
     "metadata": {},
     "outputs": [
      {
       "output_type": "stream",
       "stream": "stdout",
       "text": [
        "Accuracy: 94.44% (+/- 3.51%), all attributes\n",
        "Accuracy: 94.44% (+/- 6.09%), Petal dimensions (column 3 & 4)\n",
        "Accuracy: 85.56% (+/- 9.69%), PCA dim. red. (n=2)\n",
        "Accuracy: 96.67% (+/- 4.44%), LDA dim. red. (n=2)\n"
       ]
      }
     ],
     "prompt_number": 13
    },
    {
     "cell_type": "markdown",
     "metadata": {},
     "source": [
      "<br>\n",
      "<br>"
     ]
    },
    {
     "cell_type": "markdown",
     "metadata": {},
     "source": [
      "In general, the prediction accuracy is calculated as the number of correct classification divided by the number of total classification. In this case, the accuracies displayed above represent the averages from all 5 iterations in a cross-validation procedure.\n",
      "\n",
      "Here, the accuracies differ only slightly. Interestingly, the prediction accuracies are the same for the whole dataset and our feature subset that consists of only the petal widths and lengths. This indicates that we might lose minimum information by removing the sepal measurements (but note that the standard error increased). LDA tends to outperform PCA in this case, which is not unexpected: In contrast to PCA, LDA tries to maximize class separability for a supervised dataset."
     ]
    },
    {
     "cell_type": "markdown",
     "metadata": {},
     "source": [
      "<br>\n",
      "<br>"
     ]
    },
    {
     "cell_type": "heading",
     "level": 2,
     "metadata": {},
     "source": [
      "Training the Naive Bayes classifier"
     ]
    },
    {
     "cell_type": "markdown",
     "metadata": {},
     "source": [
      "[[back to overview](#Sections)]"
     ]
    },
    {
     "cell_type": "markdown",
     "metadata": {},
     "source": [
      "Conviniently, we can reuse the pipeline objects from our cross-validation above to train the classifier on the whole training dataset and evaluate its performance on the separate test dataset.  \n",
      "Since the LDA-approach for preprocessing seemed to have performed best in cross validation, let us have a look how it performs on the \"real\" test dataset."
     ]
    },
    {
     "cell_type": "code",
     "collapsed": false,
     "input": [
      "from sklearn import metrics\n",
      "\n",
      "clf_lda.fit(X_train, y_train)\n",
      "pred_test = clf_lda.predict(X_test)\n",
      "\n",
      "print('Prediction accuracy for the test dataset')\n",
      "print('{:.2%}'.format(metrics.accuracy_score(y_test, pred_test)))\n",
      "\n",
      "print('\\nConfusion Matrix of the Naive Bayes classifier')\n",
      "print(metrics.confusion_matrix(y_test, clf_lda.predict(X_test)))"
     ],
     "language": "python",
     "metadata": {},
     "outputs": [
      {
       "output_type": "stream",
       "stream": "stdout",
       "text": [
        "Prediction accuracy for the test dataset\n",
        "100.00%\n",
        "\n",
        "Confusion Matrix of the Naive Bayes classifier\n",
        "[[21  0  0]\n",
        " [ 0 22  0]\n",
        " [ 0  0 17]]\n"
       ]
      }
     ],
     "prompt_number": 14
    }
   ],
   "metadata": {}
  }
 ]
}