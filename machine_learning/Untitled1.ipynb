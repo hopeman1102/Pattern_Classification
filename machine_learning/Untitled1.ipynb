{
 "metadata": {
  "name": "",
  "signature": "sha256:725173adc058e54805e40adae0247ba914a2304820de3eb1055614965f0ed2e8"
 },
 "nbformat": 3,
 "nbformat_minor": 0,
 "worksheets": [
  {
   "cells": [
    {
     "cell_type": "code",
     "collapsed": false,
     "input": [
      "import numpy as np\n",
      "\n",
      "# load class labels from column 1\n",
      "y_wine = np.loadtxt(open(\"../data/wine_data.csv\",\"rb\"), \n",
      "        delimiter=\",\", skiprows=0, usecols=range(1))\n",
      "\n",
      "# load the 13 attributes\n",
      "X_wine = np.loadtxt(open(\"../data/wine_data.csv\",\"rb\"), \n",
      "        delimiter=\",\", skiprows=0, usecols=range(1,14))\n",
      "\n",
      "# print 1st wine sample\n",
      "#float_formatter = lambda x: '{:.2f}'.format(x)\n",
      "#np.set_printoptions(formatter={'float_kind':float_formatter})\n",
      "print('Class label:{}\\n{}'.format(y_wine[0], X_wine[0]))"
     ],
     "language": "python",
     "metadata": {},
     "outputs": []
    },
    {
     "cell_type": "heading",
     "level": 3,
     "metadata": {},
     "source": [
      "Without float_formatter"
     ]
    },
    {
     "cell_type": "code",
     "collapsed": false,
     "input": [],
     "language": "python",
     "metadata": {},
     "outputs": []
    },
    {
     "cell_type": "heading",
     "level": 3,
     "metadata": {},
     "source": [
      "With float_formatter"
     ]
    },
    {
     "cell_type": "code",
     "collapsed": false,
     "input": [],
     "language": "python",
     "metadata": {},
     "outputs": []
    }
   ],
   "metadata": {}
  }
 ]
}