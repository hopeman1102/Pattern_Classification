{
 "metadata": {
  "name": "",
  "signature": "sha256:b1f30b79bf7509b02ebad08de7f7b33688bdfb35d35b6bb23f17713c66bc4a24"
 },
 "nbformat": 3,
 "nbformat_minor": 0,
 "worksheets": []
}