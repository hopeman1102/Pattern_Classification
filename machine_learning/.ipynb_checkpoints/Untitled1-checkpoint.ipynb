{
 "metadata": {
  "name": "",
  "signature": "sha256:0391237dbace5dd7e63b61496e86698bb38a273e2e60aabf14e5aecdadc02d9b"
 },
 "nbformat": 3,
 "nbformat_minor": 0,
 "worksheets": [
  {
   "cells": [
    {
     "cell_type": "heading",
     "level": 1,
     "metadata": {},
     "source": [
      "Float Printer"
     ]
    },
    {
     "cell_type": "code",
     "collapsed": false,
     "input": [
      "import numpy as np\n",
      "data = np.array([[1.0, 2.0, 3.0]])"
     ],
     "language": "python",
     "metadata": {},
     "outputs": [],
     "prompt_number": 1
    },
    {
     "cell_type": "heading",
     "level": 3,
     "metadata": {},
     "source": [
      "Without float_formatter"
     ]
    },
    {
     "cell_type": "code",
     "collapsed": false,
     "input": [
      "# print 1st wine sample\n",
      "print('Class label:{}\\n{}'.format(y_wine[0], X_wine[0]))"
     ],
     "language": "python",
     "metadata": {},
     "outputs": []
    },
    {
     "cell_type": "heading",
     "level": 3,
     "metadata": {},
     "source": [
      "With float_formatter"
     ]
    },
    {
     "cell_type": "code",
     "collapsed": false,
     "input": [
      "# print 1st wine sample\n",
      "float_printer = lambda x: '{:.2f}'.format(x)\n",
      "np.set_printoptions(formatter={'float_kind':float_printer})\n",
      "print('Class label:{}\\n{}'.format(y_wine[0], X_wine[0]))"
     ],
     "language": "python",
     "metadata": {},
     "outputs": []
    }
   ],
   "metadata": {}
  }
 ]
}