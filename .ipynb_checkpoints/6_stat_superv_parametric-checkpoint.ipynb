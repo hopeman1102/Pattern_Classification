{
 "metadata": {
  "name": "",
  "signature": "sha256:b8352123e173b7bc2c382e4259e63e30b35fe05e6850c2740398037a51ed2459"
 },
 "nbformat": 3,
 "nbformat_minor": 0,
 "worksheets": [
  {
   "cells": [
    {
     "cell_type": "markdown",
     "metadata": {},
     "source": [
      "*Sebastian Raschka*  \n",
      "last modified: 03/31/2014"
     ]
    },
    {
     "cell_type": "markdown",
     "metadata": {},
     "source": [
      "<hr>\n",
      "I am really looking forward to your comments and suggestions to improve and extend this tutorial! Just send me a quick note   \n",
      "via Twitter: [@rasbt](https://twitter.com/rasbt)  \n",
      "or Email: [bluewoodtree@gmail.com](mailto:bluewoodtree@gmail.com)\n",
      "<hr>"
     ]
    },
    {
     "cell_type": "markdown",
     "metadata": {},
     "source": [
      "### Problem Category\n",
      "- Statistical Pattern Recognition   \n",
      "- Supervised Learning  \n",
      "- Parametric Learning  \n",
      "- Bayes Decision Theory  \n",
      "- Univariate data  \n",
      "- 2-class problem\n",
      "- different variances\n",
      "- equal priors\n",
      "- Cauchy model (2 parameters)\n",
      "- With conditional Risk (1-0 loss functions)\n",
      "<hr>"
     ]
    },
    {
     "cell_type": "markdown",
     "metadata": {},
     "source": [
      "<p><a name=\"sections\"></a>\n",
      "<br></p>"
     ]
    },
    {
     "cell_type": "markdown",
     "metadata": {},
     "source": [
      "\n",
      "\n",
      "# Sections\n",
      "\n",
      "\n",
      "<p>&#8226; <a href=\"#given\">Given information</a><br>\n",
      "&#8226; <a href=\"#deriving_db\">Deriving the decision boundary</a><br>\n",
      "&#8226; <a href=\"#plotting_db\">Plotting the posterior probabilities and decision boundary</a><br>\n",
      "&#8226; <a href=\"#classify_rand\">Classifying some random example data</a><br>\n",
      "&#8226; <a href=\"#emp_err\">Calculating the empirical error rate</a><br>\n",
      "\n",
      "  \n",
      "\n",
      "  \n",
      "  \n",
      "\n",
      "\n",
      "\n",
      "<hr>"
     ]
    },
    {
     "cell_type": "markdown",
     "metadata": {},
     "source": [
      "<p><a name=\"given\"></a>\n",
      "<br></p>"
     ]
    },
    {
     "cell_type": "markdown",
     "metadata": {},
     "source": [
      "\n",
      "## Given information:"
     ]
    },
    {
     "cell_type": "markdown",
     "metadata": {},
     "source": [
      "[<a href=\"#sections\">back to top</a>] <br>\n"
     ]
    },
    {
     "cell_type": "markdown",
     "metadata": {},
     "source": [
      "\n",
      "\n",
      "\n",
      "\n",
      "\n",
      "####model: continuous univariate Cauchy distribution for the class-conditional densities\n",
      "\n",
      "\n",
      "$p(x | \\omega_j) = \\frac{1}{\\pi b} \\; \\dot \\; \\frac{1}{1 \\; + \\; \\bigg(\\frac{x - a_i}{b} \\bigg)^2} \\quad i = 1, 2$ \n",
      "\n",
      "####Prior probabilities:\n",
      "\n",
      "\n",
      "$P(\\omega_1) = P(\\omega_2) = 0.5$\n",
      "\n",
      "\n",
      "####Loss functions:\n",
      "\n",
      "where \n",
      "\n",
      "$\\lambda(\\alpha_i|\\omega_j) = \\lambda_{ij}$,  \n",
      "\n",
      "the loss occured if $action_i$ is taken if the actual true class is $ \\omega_j$ (assuming that $action_i$ classifies sample as $\\omega_i$)\n",
      "\n",
      "$\\begin{equation}\n",
      "\\lambda = \\begin{pmatrix}\n",
      "\\lambda_{11} \\quad \\lambda_{12} \\\\\n",
      "\\lambda_{21} \\quad \\lambda_{22}\n",
      "\\end{pmatrix}\n",
      "= \\begin{pmatrix}\n",
      "0 \\quad 1 \\\\\n",
      "1 \\quad 0 \\\\\n",
      "\\end{pmatrix}\\\\\n",
      "\\end{equation}$\n",
      "\n",
      "#### Parameters\n",
      "\n",
      "$a_1 = 0, \\quad a_2 = 2 ,\\quad b=0.5$\n",
      "\n",
      "\n",
      "<br>"
     ]
    },
    {
     "cell_type": "markdown",
     "metadata": {},
     "source": [
      "<p><a name=\"deriving_db\"></a>\n",
      "<br></p>"
     ]
    },
    {
     "cell_type": "markdown",
     "metadata": {},
     "source": [
      "## Deriving the decision boundary"
     ]
    },
    {
     "cell_type": "markdown",
     "metadata": {},
     "source": [
      "[<a href=\"#sections\">back to top</a>] <br>"
     ]
    },
    {
     "cell_type": "markdown",
     "metadata": {},
     "source": [
      "\n",
      "\n",
      "\n",
      "\n",
      "\n",
      "### Bayes' Rule:\n",
      "\n",
      "\n",
      "$P(\\omega_j|x) = \\frac{p(x|\\omega_j) * P(\\omega_j)}{p(x)}$ \n"
     ]
    },
    {
     "cell_type": "markdown",
     "metadata": {},
     "source": [
      "### Risk Functions:\n",
      "\n",
      "$R(\\alpha_1|x) = \\lambda_{11}P(\\omega_1|x) + \\lambda_{12}P(\\omega_2|x)$\n",
      "\n",
      "$R(\\alpha_2|x) = \\lambda_{21}P(\\omega_1|x) + \\lambda_{22}P(\\omega_2|x)$\n",
      "\n"
     ]
    },
    {
     "cell_type": "markdown",
     "metadata": {},
     "source": [
      "###Decision Rule:\n",
      "\n",
      "Decide $\\omega_1 $ if $ R(\\alpha_2|x) > R(\\alpha_1|x) $ else decide $ \\omega_2$."
     ]
    },
    {
     "cell_type": "markdown",
     "metadata": {},
     "source": [
      "$\\Rightarrow \\lambda_{21}P(\\omega_1|x) + \\lambda_{22}P(\\omega_2|x) > \\lambda_{11}P(\\omega_1|x) + \\lambda_{12}P(\\omega_2|x)$\n",
      "\n",
      "$\\Rightarrow (\\lambda_{21} - \\lambda_{11}) \\; P(\\omega_1|x) > (\\lambda_{12} - \\lambda_{22}) \\; P(\\omega_2|x)$\n",
      "\n",
      "$\\Rightarrow \\frac{P(\\omega_1|x)}{P(\\omega_2|x)} > \\frac{(\\lambda_{12} - \\lambda_{22})}{(\\lambda_{21} - \\lambda_{11})} $\n",
      "\n",
      "$\\Rightarrow \\frac{p(x|\\omega_1) \\; P{(\\omega_1)}}{p(x|\\omega_2) \\; P{(\\omega_2)}} > \\frac{(\\lambda_{12} - \\lambda_{22})}{(\\lambda_{21} - \\lambda_{11})}$\n",
      "\n",
      "$\\Rightarrow \\frac{p(x|\\omega_1)}{p(x|\\omega_2)} > \\frac{(\\lambda_{12} - \\lambda_{22}) \\; P{(\\omega_2)}}{(\\lambda_{21} - \\lambda_{11}) \\; P{(\\omega_1)}}$\n"
     ]
    },
    {
     "cell_type": "markdown",
     "metadata": {},
     "source": [
      "\n",
      "$\\Rightarrow \\frac{p(x|\\omega_1)}{P(x|\\omega_2)} > \\frac{(1 - 0) \\; (0.5)}{(1 - 0) \\; (0.5)}$\n",
      "\n",
      "$\\Rightarrow \\frac{p(x|\\omega_1)}{P(x|\\omega_2)} > 1$\n"
     ]
    },
    {
     "cell_type": "markdown",
     "metadata": {},
     "source": [
      "$\\Rightarrow \\frac{1}{\\pi b} \\; \\dot \\; \\frac{1}{1 \\; + \\; \\bigg(\\frac{x - a_1}{b} \\bigg)^2} > \\frac{1}{\\pi b} \\; \\dot \\; \\frac{1}{1 \\; + \\; \\bigg(\\frac{x - a_2}{b} \\bigg)^2}$"
     ]
    },
    {
     "cell_type": "markdown",
     "metadata": {},
     "source": [
      "$\\Rightarrow  \\frac{1}{1 \\; + \\; \\bigg(\\frac{x - a_1}{b} \\bigg)^2} > \\frac{1}{1 \\; + \\; \\bigg(\\frac{x - a_2}{b} \\bigg)^2}$"
     ]
    },
    {
     "cell_type": "markdown",
     "metadata": {},
     "source": [
      "$\\Rightarrow  \\bigg(\\frac{x - a_1}{b} \\bigg)^2 > \\bigg(\\frac{x - a_2}{b} \\bigg)^2$"
     ]
    },
    {
     "cell_type": "markdown",
     "metadata": {},
     "source": [
      "$\\Rightarrow x-a_1 > x-a_2$"
     ]
    },
    {
     "cell_type": "markdown",
     "metadata": {},
     "source": [
      "$\\Rightarrow x < \\frac{a_1+a_2}{2}$"
     ]
    },
    {
     "cell_type": "markdown",
     "metadata": {},
     "source": [
      "Decide $\\omega_1 $ if $ x < \\frac{a_1+a_2}{2}$ else decide $\\omega_2$."
     ]
    },
    {
     "cell_type": "markdown",
     "metadata": {},
     "source": [
      "<p><a name=\"plotting_db\"></a>\n",
      "<br></p>\n"
     ]
    },
    {
     "cell_type": "markdown",
     "metadata": {},
     "source": [
      "\n",
      "## Plotting the class posterior probabilities and decision boundary\n",
      "\n"
     ]
    },
    {
     "cell_type": "markdown",
     "metadata": {},
     "source": [
      "[<a href=\"#sections\">back to top</a>] <br>"
     ]
    },
    {
     "cell_type": "code",
     "collapsed": false,
     "input": [
      "%pylab inline\n",
      "\n",
      "import numpy as np\n",
      "from matplotlib import pyplot as plt\n",
      "\n",
      "def cauchy(x, a, b):\n",
      "    \"\"\"\n",
      "    Calculates the Cauchy distribution's probability density \n",
      "    function.  \n",
      "        \n",
      "    \"\"\"\n",
      "    term1 = 1 / (np.pi * b)\n",
      "    term2 = 1 / (1 + ((x - a)/b)**2)\n",
      "    return term1 * term2\n",
      "\n",
      "def decision_boundary(a1, a2):\n",
      "    return (a1 + a2) / 2\n",
      "\n",
      "def posterior(likelihood, prior):\n",
      "    \"\"\"\n",
      "    Calculates the posterior probability (after Bayes Rule) without\n",
      "    the scale factor p(x) (=evidence).  \n",
      "        \n",
      "    \"\"\"\n",
      "    return likelihood * prior\n",
      "\n",
      "# generating some sample data for plotting the posterior probabilities\n",
      "x = np.arange(-10, 10, 0.05)\n",
      "\n",
      "# probability density functions\n",
      "posterior1 = posterior(cauchy(x, a=0, b=0.5), prior=0.5)\n",
      "posterior2 = posterior(cauchy(x, a=2, b=0.5), prior=0.5)\n",
      "\n",
      "# plotting probability density functions\n",
      "plt.plot(x, posterior1)\n",
      "plt.plot(x, posterior2)\n",
      "plt.title('Posterior Probabilities w. Decision Boundary for a Cauchy Distribution')\n",
      "plt.ylabel('P(w)')\n",
      "plt.xlabel('random variable x')\n",
      "plt.legend(['P(w_1|x)', 'P(w_2|x)'], loc='upper right')\n",
      "plt.ylim([0,0.4])\n",
      "plt.xlim([-4,6])\n",
      "\n",
      "# plotting the decision boundary\n",
      "bound = decision_boundary(a1=0, a2=2)\n",
      "plt.vlines(bound, -10, 10, color='r', alpha=0.8, linestyle=':', linewidth=2)\n",
      "plt.annotate('R1', xy=(0.0, 0.35), xytext=(0.0, 0.35))\n",
      "plt.annotate('R2', xy=(2.0, 0.35), xytext=(2.0, 0.35))\n",
      "plt.show()"
     ],
     "language": "python",
     "metadata": {},
     "outputs": [
      {
       "output_type": "stream",
       "stream": "stdout",
       "text": [
        "Populating the interactive namespace from numpy and matplotlib\n"
       ]
      },
      {
       "metadata": {},
       "output_type": "display_data",
       "png": "[encoded data removed]",
       "text": [
        "<matplotlib.figure.Figure at 0x104770e90>"
       ]
      }
     ],
     "prompt_number": 12
    },
    {
     "cell_type": "markdown",
     "metadata": {},
     "source": [
      "<p><a name=\"classify_rand\"></a>\n",
      "<br></p>"
     ]
    },
    {
     "cell_type": "markdown",
     "metadata": {},
     "source": [
      "\n",
      "\n",
      "## Classifying some random example data\n"
     ]
    },
    {
     "cell_type": "markdown",
     "metadata": {},
     "source": [
      "\n",
      "[<a href=\"#sections\">back to top</a>] <br>"
     ]
    },
    {
     "cell_type": "code",
     "collapsed": false,
     "input": [
      "import math \n",
      "import random as rnd\n",
      "\n",
      "def cauchy(location, scale):\n",
      "    \"\"\"\n",
      "    Generates random cauchy distributed data\n",
      "    reference: http://www.johndcook.com/python_cauchy_rng.html\n",
      "    \n",
      "    \"\"\"\n",
      "    p = 0.0\n",
      "    while p == 0.0:\n",
      "        p = rnd.random()\n",
      "        \n",
      "    return location + scale*math.tan(math.pi*(p - 0.5))\n",
      "\n",
      "\n",
      "# Parameters\n",
      "a_1 = 0\n",
      "a_2 = 2\n",
      "b = 0.5\n",
      "\n",
      "# Generating 20 Cauchy distributed random samples for class 1 & 2\n",
      "x1_samples = [cauchy(a_1, b) for i in range(20)]\n",
      "x2_samples = [cauchy(a_2, b) for i in range(20)]\n",
      "y = [0.1 for i in range(20)]\n",
      "\n",
      "plt.scatter(x1_samples, y, marker='o', color='green', s=40, alpha=0.5)\n",
      "plt.scatter(x2_samples, y, marker='^', color='blue', s=40, alpha=0.5)\n",
      "plt.ylim([0,0.4])\n",
      "plt.xlim([-4,6])\n",
      "\n",
      "# Plotting the decision boundary\n",
      "bound = decision_boundary(a1=0, a2=2)\n",
      "plt.vlines(bound, -10, 10, color='r', alpha=0.8, linestyle=':', linewidth=2)\n",
      "plt.annotate('R1', xy=(0.0, 0.2), xytext=(0.0, 0.2))\n",
      "plt.annotate('R2', xy=(2.0, 0.2), xytext=(2.0, 0.2))\n",
      "\n",
      "# Plot annotation\n",
      "plt.title('Classifying random example data from 2 classes')\n",
      "plt.ylabel('')\n",
      "plt.xlabel('random variable x')\n",
      "plt.legend(['w_1', 'w_2'], loc='upper right')\n",
      "\n",
      "plt.show()"
     ],
     "language": "python",
     "metadata": {},
     "outputs": [
      {
       "metadata": {},
       "output_type": "display_data",
       "png": "[encoded data removed]",
       "text": [
        "<matplotlib.figure.Figure at 0x106394890>"
       ]
      }
     ],
     "prompt_number": 23
    },
    {
     "cell_type": "markdown",
     "metadata": {},
     "source": [
      "<p><a name=\"emp_err\"></a>\n",
      "<br></p>\n"
     ]
    },
    {
     "cell_type": "markdown",
     "metadata": {},
     "source": [
      "\n",
      "## Calculating the empirical error rate\n",
      "\n"
     ]
    },
    {
     "cell_type": "markdown",
     "metadata": {},
     "source": [
      "[<a href=\"#sections\">back to top</a>] <br>"
     ]
    },
    {
     "cell_type": "code",
     "collapsed": false,
     "input": [
      "w1_as_w2, w2_as_w1 = 0, 0\n",
      "for x1,x2 in zip(x1_samples, x2_samples):\n",
      "    if x1 > decision_boundary(a1=0, a2=2):\n",
      "        w1_as_w2 += 1\n",
      "    if x2 <= decision_boundary(a1=0, a2=2):\n",
      "        w2_as_w1 += 1\n",
      "  \n",
      "emp_err =  (w1_as_w2 + w2_as_w1) / float(len(x1_samples) + len(x2_samples))\n",
      "    \n",
      "print('Empirical Error: {}%'.format(emp_err * 100))"
     ],
     "language": "python",
     "metadata": {},
     "outputs": [
      {
       "output_type": "stream",
       "stream": "stdout",
       "text": [
        "Empirical Error: 10.0%\n"
       ]
      }
     ],
     "prompt_number": 21
    },
    {
     "cell_type": "markdown",
     "metadata": {},
     "source": [
      "## Calculating the Bayes Error\n"
     ]
    },
    {
     "cell_type": "markdown",
     "metadata": {},
     "source": [
      "$P(error) = \\int_{x=-\\infty}^{\\infty} P(error/x) \\; \\cdot \\; p(x) \\; dx$\n",
      "\n",
      "\n",
      "$P(error|x) = \\left\\{ \n",
      "\\begin{array}{l l}\n",
      "P(\\omega_1 | x) & \\quad \\text{if $x > \\frac{a_1 + a_2}{2}$}\\\\\n",
      "P(\\omega_2 | x) & \\quad \\text{if $x < \\frac{a_1 + a_2}{2}$}\\end{array} \\right.$ "
     ]
    },
    {
     "cell_type": "markdown",
     "metadata": {},
     "source": [
      "$\\Rightarrow \\int_{x=-\\infty}^{\\frac{a_1+a_2}{2}} P(\\omega_2|x) \\; \\cdot \\; p(x) \\; dx  + \\int_{x=\\frac{a_1+a_2}{2}}^{\\infty} P(\\omega_1|x) \\; \\cdot \\; p(x) \\; dx$"
     ]
    },
    {
     "cell_type": "markdown",
     "metadata": {},
     "source": [
      "$\\Rightarrow \\int_{x=-\\infty}^{\\frac{a_1+a_2}{2}} p(x|\\omega_2) \\; \\cdot \\; P(\\omega_2) \\; dx  + \\int_{x=\\frac{a_1+a_2}{2}}^{\\infty} p(x|\\omega_1) \\; \\cdot \\; P(\\omega_1) \\; dx$"
     ]
    },
    {
     "cell_type": "markdown",
     "metadata": {},
     "source": [
      "$\\Rightarrow \\int_{x=-\\infty}^{\\frac{a_1+a_2}{2}} \\frac{1}{\\pi b} \\; \\dot \\; \\frac{1}{1 \\; + \\; \\bigg(\\frac{x - a_2}{b} \\bigg)^2} \\; \\frac{1}{2} \\; dx  + \\int_{x=\\frac{a_1+a_2}{2}}^{\\infty} \\frac{1}{\\pi b} \\; \\dot \\; \\frac{1}{1 \\; + \\; \\bigg(\\frac{x - a_1}{b} \\bigg)^2} \\; \\frac{1}{2} \\; dx$"
     ]
    },
    {
     "cell_type": "markdown",
     "metadata": {},
     "source": [
      "$\\Rightarrow \\frac{1}{2} - \\frac{1}{\\pi} \\; tan^{-1} \\bigg| \\frac{a_2 - a_1}{2b} \\bigg|$"
     ]
    },
    {
     "cell_type": "code",
     "collapsed": false,
     "input": [
      "def bayes_error(a1, a2, b):\n",
      "    \"\"\" Calculates the Bayes Error for 2 Cauchy densities .\"\"\"\n",
      "    term1 = 1/2.0 - 1/np.pi\n",
      "    term2 = np.arctan(np.fabs((a2-a1)/(2*b)))\n",
      "    return term1 * term2\n",
      "\n",
      "print('Bayes Error: {:.2f}%'.format(100* bayes_error(0, 2, 0.5)))\n",
      "    "
     ],
     "language": "python",
     "metadata": {},
     "outputs": [
      {
       "output_type": "stream",
       "stream": "stdout",
       "text": [
        "Bayes Error: 20.12%\n"
       ]
      }
     ],
     "prompt_number": 11
    },
    {
     "cell_type": "code",
     "collapsed": false,
     "input": [],
     "language": "python",
     "metadata": {},
     "outputs": []
    }
   ],
   "metadata": {}
  }
 ]
}