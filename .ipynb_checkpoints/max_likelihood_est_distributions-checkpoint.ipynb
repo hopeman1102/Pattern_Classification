{
 "metadata": {
  "name": "",
  "signature": "sha256:9cd13085bfa4ea75e252a21f638767479b3307809e1e5749ad606e0e2fd6d166"
 },
 "nbformat": 3,
 "nbformat_minor": 0,
 "worksheets": [
  {
   "cells": [
    {
     "cell_type": "markdown",
     "metadata": {},
     "source": [
      "Sebastian Raschka   \n",
      "last updated: 04/22/2014  \n",
      "\n",
      "[Link to this IPython Notebook on GitHub](https://github.com/rasbt/pattern_classification/blob/master/stat_pattern_class/supervised/parametric/parameter_estimation/max_likelihood_est_distributions.ipynb)"
     ]
    },
    {
     "cell_type": "markdown",
     "metadata": {},
     "source": [
      "<hr>\n",
      "I am really looking forward to your comments and suggestions to improve and extend this tutorial! Just send me a quick note   \n",
      "via Twitter: [@rasbt](https://twitter.com/rasbt)  \n",
      "or Email: [bluewoodtree@gmail.com](mailto:bluewoodtree@gmail.com)\n",
      "<hr>"
     ]
    },
    {
     "cell_type": "markdown",
     "metadata": {},
     "source": [
      "# How to compute Maximum Likelihood Estimates (MLE) for different distributions\n",
      "\n",
      "<a name ='sections'></a>\n",
      "<br>\n",
      "<br>\n",
      "#Sections\n",
      "\n",
      "- [Introduction](#introduction)\n",
      "- [General Concept](#general_concept)\n",
      "- [Multivariate Gaussian Distribution](#multi_gauss)\n",
      "- [Univariate Rayleigh Distribution](#uni_rayleigh)\n",
      "\n",
      "\n"
     ]
    },
    {
     "cell_type": "markdown",
     "metadata": {},
     "source": [
      "<br>\n",
      "<br>\n",
      "<a name='introduction'></a>\n",
      "# Introduction"
     ]
    },
    {
     "cell_type": "markdown",
     "metadata": {},
     "source": [
      "Popular applications for Maximum Likelihood Estimates are the typical statistical pattern classification tasks, and in the past, I posted some [examples](https://github.com/rasbt/pattern_classification#param) using Bayes' classifiers for which the **probabilistic models and parameters were known**. In those cases, the design of the classifier was rather easy, however, in real applications, we are rarely given this information; this is where the Maximum Likelihood Estimate comes into play."
     ]
    },
    {
     "cell_type": "markdown",
     "metadata": {},
     "source": [
      "An introduction about how to use the Maximum Likelihood Estimate for pattern classification task can be found in an [earlier article](http://nbviewer.ipython.org/github/rasbt/pattern_classification/blob/master/parameter_estimation_techniques/maximum_likelihood_estimate.ipynb?create=1)"
     ]
    },
    {
     "cell_type": "markdown",
     "metadata": {},
     "source": [
      "However, the Maximum Likelihood Estimate still **requires partial knowledge** about the problem: We have to assume that the **model of the class conditional densities is known** (e.g., that the data follows typical Gaussian distribution). In contrast, non-parametric approaches like the Parzen-window technqiue do not require prior information about the distribution of the data (I will discuss this technique in more detail in a future article, the IPython notebook is already in preparation).  "
     ]
    },
    {
     "cell_type": "markdown",
     "metadata": {},
     "source": [
      "**To summarize the problem:** Using MLE, we want to estimate the values of the parameters of a given distribution for the class-conditional densities, for example, the *mean* and *variance* assuming that the class-conditional densities are *normal*  distributed (Gaussian) with $p(\\pmb x \\; | \\; \\omega_i) \\sim N(\\mu, \\sigma^2)$."
     ]
    },
    {
     "cell_type": "markdown",
     "metadata": {},
     "source": [
      "\n",
      "<a name='general_concept'></a>\n",
      "<br>\n",
      "<br>\n",
      "#General Concept"
     ]
    },
    {
     "cell_type": "markdown",
     "metadata": {},
     "source": [
      "For the Maximum Likelihood Estimate (MLE), we assume that we have a set of *i.i.d.* (independent and identically distributed) samples    \n",
      "$D = \\left\\{ \\pmb x_1, \\pmb x_2,..., \\pmb x_n \\right\\} $."
     ]
    },
    {
     "cell_type": "markdown",
     "metadata": {},
     "source": [
      "<br>\n",
      "<br>\n",
      "### Likelihood of $ \\pmb \\theta $"
     ]
    },
    {
     "cell_type": "markdown",
     "metadata": {},
     "source": [
      "The probability of observing $D = \\left\\{ \\pmb x_1, \\pmb x_2,..., \\pmb x_n \\right\\} $ is: \n",
      "<br>\n",
      "<br>\n",
      "$p(D\\; | \\;  \\pmb \\theta\\;) = p(\\pmb x_1 \\; | \\; \\pmb \\theta\\;)\\; \\cdot \\; p(\\pmb x_2 \\; | \\;\\pmb \\theta\\;) \\; \\cdot \\;...  \\; p(\\pmb x_n \\; | \\; \\pmb \\theta\\;) \\\\ \n",
      "= \\prod_{k=1}^{n} \\; p(\\pmb x_k \\pmb \\; | \\; \\pmb \\theta \\;)$  \n",
      "<br>\n",
      "Where $p(D\\; | \\;  \\pmb  \\theta\\;)$ is also called the ***likelihood of $\\pmb\\ \\theta$***."
     ]
    },
    {
     "cell_type": "markdown",
     "metadata": {},
     "source": [
      "For convenience, we take the natural logarithm:  \n",
      "\n",
      "\n",
      "\n",
      "$p(D|\\theta) = \\prod_{k=1}^{n} p(x_k|\\theta) \\\\\n",
      "\\Rightarrow L(\\theta) = \\sum_{k=1}^{n} ln \\; p(x_k|\\theta)$    "
     ]
    },
    {
     "cell_type": "markdown",
     "metadata": {},
     "source": [
      "<a name='multi_gauss'></a>\n",
      "<br>\n",
      "<br>\n",
      "# Multivariate Gaussian Distribution"
     ]
    },
    {
     "cell_type": "markdown",
     "metadata": {},
     "source": [
      "####Probability Density Function:\n",
      "\n",
      "$ p(\\pmb x) \\sim N(\\pmb \\mu|\\Sigma) $\n",
      "\n",
      "$ p(\\pmb x) \\sim \\frac{1}{(2\\pi)^{d/2} \\; |\\Sigma|^{1/2}} exp \\bigg[ -\\frac{1}{2}(\\pmb x - \\pmb \\mu)^t \\Sigma^{-1}(\\pmb x - \\pmb \\mu) \\bigg]$\n"
     ]
    },
    {
     "cell_type": "markdown",
     "metadata": {},
     "source": [
      "<hr>"
     ]
    },
    {
     "cell_type": "markdown",
     "metadata": {},
     "source": [
      "\n",
      "$\\Rightarrow p(D\\; | \\;  \\pmb \\theta\\;) = \\prod_{k=1}^{n} \\; p(\\pmb x_k \\pmb \\; | \\; \\pmb \\theta \\;) \\\\\n",
      "\\Rightarrow p(D\\; | \\;  \\pmb \\theta\\;) =  \\prod_{k=1}^{n} \\; \\frac{1}{(2\\pi)^{d/2} \\; |\\Sigma|^{1/2}} exp \\bigg[ -\\frac{1}{2}(\\pmb x - \\pmb \\mu)^t \\Sigma^{-1}(\\pmb x - \\pmb \\mu) \\bigg]$"
     ]
    },
    {
     "cell_type": "markdown",
     "metadata": {},
     "source": [
      "#### Natural logarithm:"
     ]
    },
    {
     "cell_type": "markdown",
     "metadata": {},
     "source": [
      "$ l(\\pmb\\theta) =  \\sum\\limits_{k=1}^{n} - \\frac{1}{2}(\\pmb x - \\pmb \\mu)^t \\pmb \\Sigma^{-1} \\; (\\pmb x - \\pmb \\mu) - \\frac{d}{2} \\; ln \\; 2\\pi - \\frac{1}{2} \\;ln \\; |\\pmb\\Sigma|$"
     ]
    },
    {
     "cell_type": "markdown",
     "metadata": {},
     "source": [
      "The 2 parameters that we want to estimate are $\\pmb \\mu_i$ and $\\pmb \\Sigma_i$, are   \n",
      "\n",
      "\n",
      "$\\pmb \\theta_i = \\bigg[ \\begin{array}{c}\n",
      "\\ \\theta_{i1} \\\\\n",
      "\\ \\theta_{i2} \\\\\n",
      "\\end{array} \\bigg]=\n",
      "\\bigg[ \\begin{array}{c}\n",
      "\\pmb \\mu_i \\\\\n",
      "\\pmb \\Sigma_i \\\\\n",
      "\\end{array} \\bigg]$ "
     ]
    },
    {
     "cell_type": "markdown",
     "metadata": {},
     "source": [
      "<br>\n",
      "<br>\n",
      "### Maximum Likelihood Estimate (MLE):"
     ]
    },
    {
     "cell_type": "markdown",
     "metadata": {},
     "source": [
      "In order to obtain the MLE $\\boldsymbol{\\hat{\\theta}}$, we maximize $l (\\pmb  \\theta)$, which can be done via differentiation:\n",
      "\n",
      "with \n",
      "$\\nabla_{\\pmb \\theta} \\equiv \\begin{bmatrix}  \n",
      "\\frac{\\partial \\; }{\\partial \\; \\theta_1} \\\\ \n",
      "\\frac{\\partial \\; }{\\partial \\; \\theta_2}\n",
      "\\end{bmatrix} = \\begin{bmatrix} \n",
      "\\frac{\\partial \\; }{\\partial \\; \\pmb \\mu} \\\\ \n",
      "\\frac{\\partial \\; }{\\partial \\; \\pmb \\sigma}\n",
      "\\end{bmatrix}$"
     ]
    },
    {
     "cell_type": "markdown",
     "metadata": {},
     "source": [
      "$\\Rightarrow \\nabla_{\\pmb \\theta} l = \\sum\\limits_{k=1}^n \\nabla_{\\pmb \\theta} \\;ln\\; p(\\pmb x| \\pmb \\theta) = 0 $"
     ]
    },
    {
     "cell_type": "markdown",
     "metadata": {},
     "source": [
      "### 1st parameter $\\theta_1 = \\pmb \\mu$\n",
      "\n",
      "${\\hat{\\pmb\\mu}} = \\frac{1}{n} \\sum\\limits_{k=1}^{n} \\pmb x_k$"
     ]
    },
    {
     "cell_type": "markdown",
     "metadata": {},
     "source": [
      "### 2nd parameter $\\theta_2 = \\Sigma$"
     ]
    },
    {
     "cell_type": "markdown",
     "metadata": {},
     "source": [
      "${\\hat{\\pmb\\Sigma}} = \\frac{1}{n} \\sum\\limits_{k=1}^{n} (\\pmb x_k - \\hat{\\mu})(\\pmb x_k - \\hat{\\mu})^t$"
     ]
    },
    {
     "cell_type": "markdown",
     "metadata": {},
     "source": [
      "## Code for multivariate Gaussian MLE"
     ]
    },
    {
     "cell_type": "code",
     "collapsed": false,
     "input": [
      "# loading packages\n",
      "\n",
      "import numpy as np\n",
      "from matplotlib import pyplot as plt\n",
      "from mpl_toolkits.mplot3d import Axes3D\n",
      "%pylab inline\n"
     ],
     "language": "python",
     "metadata": {},
     "outputs": [
      {
       "output_type": "stream",
       "stream": "stdout",
       "text": [
        "Populating the interactive namespace from numpy and matplotlib\n"
       ]
      }
     ],
     "prompt_number": 1
    },
    {
     "cell_type": "code",
     "collapsed": false,
     "input": [
      "def mle_gauss_mu(samples):\n",
      "    \"\"\"\n",
      "    Calculates the Maximum Likelihood Estimate for a mean vector\n",
      "    from a multivariate Gaussian distribution.\n",
      "    \n",
      "    Keyword arguments:\n",
      "        samples (numpy array): Training samples for the MLE.\n",
      "            Every sample point represents a row; dimensions by column.\n",
      "            \n",
      "    Returns a row vector (numpy.array) as the MLE mean estimate.\n",
      "    \n",
      "    \"\"\"\n",
      "    \n",
      "    dimensions = samples.shape[1]\n",
      "    mu_est = np.zeros((dimensions,1))\n",
      "    for dim in range(dimensions):\n",
      "        mu_est = np.zeros((dimensions,1))\n",
      "        col_mean = sum(samples[:,dim])/len(samples[:,dim])\n",
      "        mu_est[dim] = col_mean\n",
      "    return mu_est"
     ],
     "language": "python",
     "metadata": {},
     "outputs": [],
     "prompt_number": 2
    },
    {
     "cell_type": "code",
     "collapsed": false,
     "input": [
      "def mle_gausscov(samples, mu_est):\n",
      "    \"\"\"\n",
      "    Calculates the Maximum Likelihood Estimate for the covariance matrix.\n",
      "    \n",
      "    Keyword Arguments:\n",
      "        x_samples: np.array of the samples for 1 class, n x d dimensional \n",
      "        mu_est: np.array of the mean MLE, d x 1 dimensional\n",
      "        \n",
      "    Returns the MLE for the covariance matrix as d x d numpy array.\n",
      "    \n",
      "    \"\"\"\n",
      "    dimensions = samples.shape[1]\n",
      "    assert (dimensions == mu_est.shape[0]), \"columns of sample set and rows of'\\\n",
      "                'mu vector (i.e., dimensions) must be equal.\"\n",
      "    cov_est = np.zeros((dimensions,dimensions))\n",
      "    for x_vec in samples:\n",
      "        x_vec = x_vec.reshape(dimensions,1)\n",
      "        cov_est += (x_vec - mu_est).dot((x_vec - mu_est).T)\n",
      "    return cov_est / len(samples)"
     ],
     "language": "python",
     "metadata": {},
     "outputs": [],
     "prompt_number": 3
    },
    {
     "cell_type": "markdown",
     "metadata": {},
     "source": [
      "## Sample training data for MLE"
     ]
    },
    {
     "cell_type": "markdown",
     "metadata": {},
     "source": [
      "$\\pmb \\mu = \\Bigg[ \\begin{array}{c}\n",
      "\\ 0 \\\\\n",
      "\\ 0\n",
      "\\end{array} \\Bigg]\\;, \\quad \\quad \n",
      "\\pmb \\Sigma = \\Bigg[ \\begin{array}{ccc}\n",
      "\\ 1 & 0 & 0 \\\\\n",
      "\\ 0 & 1 & 0\n",
      "\\end{array} \\Bigg] \\quad$\n"
     ]
    },
    {
     "cell_type": "code",
     "collapsed": false,
     "input": [
      "# true parameters and 100 3D training data points\n",
      "\n",
      "mu_vec = np.array([[0],[0]])\n",
      "cov_mat = np.eye(2)\n",
      "\n",
      "multi_gauss = np.random.multivariate_normal(mu_vec.ravel(), cov_mat, 100)\n",
      "print('Dimensions: {}x{}'.format(multi_gauss.shape[0], multi_gauss.shape[1]))"
     ],
     "language": "python",
     "metadata": {},
     "outputs": [
      {
       "output_type": "stream",
       "stream": "stdout",
       "text": [
        "Dimensions: 100x2\n"
       ]
      }
     ],
     "prompt_number": 5
    },
    {
     "cell_type": "markdown",
     "metadata": {},
     "source": [
      "### Estimate parameters via MLE"
     ]
    },
    {
     "cell_type": "code",
     "collapsed": false,
     "input": [
      "import prettytable\n",
      "\n",
      "mu_mle = mle_gauss_mu(multi_gauss)\n",
      "mu_mle_comp = prettytable.PrettyTable([\"mu\", \"true_param\", \"MLE_param\"])\n",
      "mu_mle_comp.add_row([\"\",mu_vec, mu_mle])\n",
      "print(mu_mle_comp)\n",
      "\n",
      "cov_mle = mle_gauss_mu(multi_gauss)"
     ],
     "language": "python",
     "metadata": {},
     "outputs": [
      {
       "output_type": "stream",
       "stream": "stdout",
       "text": [
        "+----+------------+-----------------+\n",
        "| mu | true_param |    MLE_param    |\n",
        "+----+------------+-----------------+\n",
        "|    |    [[0]    |  [[ 0.        ] |\n",
        "|    |    [0]]    |  [ 0.03498709]] |\n",
        "+----+------------+-----------------+\n"
       ]
      }
     ],
     "prompt_number": 6
    },
    {
     "cell_type": "code",
     "collapsed": false,
     "input": [
      "import prettytable\n",
      "\n",
      "cov_mle = mle_gausscov(multi_gauss, mu_mle)\n",
      "mle_gausscov_comp = prettytable.PrettyTable([\"covariance\", \"true_param\", \"MLE_param\"])\n",
      "mle_gausscov_comp.add_row([\"\",cov_mat, cov_mle])\n",
      "print(mle_gausscov_comp)"
     ],
     "language": "python",
     "metadata": {},
     "outputs": [
      {
       "output_type": "stream",
       "stream": "stdout",
       "text": [
        "+------------+-------------+-----------------------------+\n",
        "| covariance |  true_param |          MLE_param          |\n",
        "+------------+-------------+-----------------------------+\n",
        "|            |  [[ 1.  0.] |  [[ 0.83464323 -0.25781011] |\n",
        "|            |  [ 0.  1.]] |  [-0.25781011  1.33440804]] |\n",
        "+------------+-------------+-----------------------------+\n"
       ]
      }
     ],
     "prompt_number": 26
    },
    {
     "cell_type": "code",
     "collapsed": false,
     "input": [
      "### Implementing the Multivariate Gaussian Density Function\n",
      "\n",
      "def pdf_multivariate_gauss(x, mu, cov):\n",
      "    '''\n",
      "    Caculate the multivariate normal density (pdf)\n",
      "\n",
      "    Keyword arguments:\n",
      "        x = numpy array of a \"d x 1\" sample vector\n",
      "        mu = numpy array of a \"d x 1\" mean vector\n",
      "        cov = \"numpy array of a d x d\" covariance matrix\n",
      "    '''\n",
      "    assert(mu.shape[0] > mu.shape[1]), 'mu must be a row vector'\n",
      "    assert(x.shape[0] > x.shape[1]), 'x must be a row vector'\n",
      "    assert(cov.shape[0] == cov.shape[1]), 'covariance matrix must be square'\n",
      "    assert(mu.shape[0] == cov.shape[0]), 'cov_mat and mu_vec must have the same dimensions'\n",
      "    assert(mu.shape[0] == x.shape[0]), 'mu and x must have the same dimensions'\n",
      "    part1 = 1 / ( ((2* np.pi)**(len(mu)/2)) * (np.linalg.det(cov)**(1/2)) )\n",
      "    part2 = (-1/2) * ((x-mu).T.dot(np.linalg.inv(cov))).dot((x-mu))\n",
      "    return float(part1 * np.exp(part2))"
     ],
     "language": "python",
     "metadata": {},
     "outputs": [],
     "prompt_number": 8
    },
    {
     "cell_type": "code",
     "collapsed": false,
     "input": [
      "# Plotting the Multivariate Gaussian Density Function\n",
      "\n",
      "fig = plt.figure(figsize=(10, 7))\n",
      "ax = fig.gca(projection='3d')\n",
      "\n",
      "X = np.linspace(-5, 5, 100)\n",
      "Y = np.linspace(-5, 5, 100)\n",
      "X,Y = np.meshgrid(X,Y)\n",
      "\n",
      "Z_mle = []\n",
      "for i,j in zip(X.ravel(),Y.ravel()):\n",
      "    Z_mle.append(pdf_multivariate_gauss(np.array([[i],[j]]), mu_mle, cov_mle))\n",
      "Z_mle = np.asarray(Z_mle).reshape(len(Z_mle)**0.5, len(Z_mle)**0.5)   \n",
      "surf = ax.plot_surface(X, Y, Z_mle, rstride=1, cstride=1, cmap=plt.cm.coolwarm,\n",
      "        linewidth=0, antialiased=False)\n",
      "\n",
      "ax.zaxis.set_major_locator(plt.LinearLocator(10))\n",
      "ax.zaxis.set_major_formatter(plt.FormatStrFormatter('%.02f'))\n",
      "\n",
      "ax.set_xlabel('X')\n",
      "ax.set_ylabel('Y')\n",
      "ax.set_zlabel('p(x)')\n",
      "\n",
      "plt.title('Predicted bivariate Gaussian densities')\n",
      "\n",
      "fig.colorbar(surf, shrink=0.5, aspect=7, cmap=plt.cm.coolwarm)\n",
      "\n",
      "plt.show()"
     ],
     "language": "python",
     "metadata": {},
     "outputs": [
      {
       "metadata": {},
       "output_type": "display_data",
       "png": "[encoded data removed]",
       "text": [
        "<matplotlib.figure.Figure at 0x10563b748>"
       ]
      }
     ],
     "prompt_number": 48
    },
    {
     "cell_type": "markdown",
     "metadata": {},
     "source": [
      "<a name='uni_rayleigh'></a>\n",
      "<br>\n",
      "<br>\n",
      "# Univariate Rayleigh Distribution"
     ]
    },
    {
     "cell_type": "markdown",
     "metadata": {},
     "source": [
      "### Probability Density Function\n",
      "\n",
      "$p(x|\\theta) =  \\Bigg\\{ \\begin{array}{c}\n",
      "  2\\theta xe^{- \\theta x^2},\\quad \\quad x \\geq0, \\\\\n",
      "  0,\\quad otherwise. \\\\\n",
      "  \\end{array}$\n"
     ]
    },
    {
     "cell_type": "markdown",
     "metadata": {},
     "source": [
      "<hr>"
     ]
    },
    {
     "cell_type": "markdown",
     "metadata": {},
     "source": [
      "#### Derive a formula for the maximum likelihood estimate of $\\theta$ , i.e., $\\hat{{\\theta}}_{mle}$."
     ]
    },
    {
     "cell_type": "markdown",
     "metadata": {},
     "source": [
      "$p(D|\\theta) = \\prod_{k=1}^{n} p(x_k|\\theta) $\n"
     ]
    },
    {
     "cell_type": "markdown",
     "metadata": {},
     "source": [
      "$= \\prod_{k=1}^{n}  2 \\theta x_ke^{- \\theta x_{k}^{2}}  $"
     ]
    },
    {
     "cell_type": "markdown",
     "metadata": {},
     "source": [
      "#### Taking the natural logarithm to get the log-likelihood:"
     ]
    },
    {
     "cell_type": "markdown",
     "metadata": {},
     "source": [
      "$\\Rightarrow L(\\theta) = \\sum_{k=1}^{n} ln \\; p(x_k|\\theta)$\n"
     ]
    },
    {
     "cell_type": "markdown",
     "metadata": {},
     "source": [
      "$= \\sum_{k=1}^{n} ln \\bigg( 2 \\theta x_ke^{- \\theta x_{k}^{2}} \\bigg) \\\\ \n",
      "= \\sum_{k=1}^{n} ln (2 \\theta x_k) - ( \\theta x_{k}^{2})$\n",
      "<br>\n"
     ]
    },
    {
     "cell_type": "markdown",
     "metadata": {},
     "source": [
      "#### Differentiating the log-likelihood:"
     ]
    },
    {
     "cell_type": "markdown",
     "metadata": {},
     "source": [
      "\n",
      "$\\Rightarrow \\frac{\\partial L}{\\partial (\\theta)} = \\frac{\\partial}{\\partial (\\theta)} \\sum_{k=1}^{n} ln (2 \\theta x_k) - ( \\theta x_{k}^{2})$"
     ]
    },
    {
     "cell_type": "markdown",
     "metadata": {},
     "source": [
      "\n",
      "\n",
      "$= \\sum_{k=1}^{n}  \\frac{\\partial}{\\partial (\\theta)}ln (2 \\theta x) - ( \\theta x_{k}^{2})\\\\\n",
      "= \\sum_{k=1}^{n}  \\frac{2x_k}{2\\theta x_k} - x_{k}^{2} \\\\\n",
      "= \\sum_{k=1}^{n} \\frac{1}{\\theta} - x_{k}^{2}$\n",
      "\n",
      "#### Getting the maximum for $p(D|\\theta)$\n",
      "\n",
      "$\\Rightarrow \\sum_{k=1}^{n} \\frac{1}{\\theta} - x_{k}^{2} = 0 \\\\\n",
      "\\sum_{k=1}^{n} \\frac{1}{\\theta} = \\sum_{k=1}^{n} x_{k}^{2}$\n",
      "\n",
      "$\\frac{n}{\\theta} = \\sum_{k=1}^{n} x_{k}^{2} \\\\\n",
      "\\frac{\\theta}{n} = \\frac{1}{\\sum_{k=1}^{n} x_{k}^{2}} \\\\\n",
      "\\theta = \\frac{n}{\\sum_{k=1}^{n} x_{k}^{2}}$"
     ]
    },
    {
     "cell_type": "markdown",
     "metadata": {},
     "source": [
      "<br>\n",
      "<br>\n",
      "## Code for univariate Rayleigh MLE"
     ]
    },
    {
     "cell_type": "code",
     "collapsed": false,
     "input": [
      "# loading packages\n",
      "\n",
      "import numpy as np\n",
      "from matplotlib import pyplot as plt\n",
      "%pylab inline"
     ],
     "language": "python",
     "metadata": {},
     "outputs": [
      {
       "output_type": "stream",
       "stream": "stdout",
       "text": [
        "Populating the interactive namespace from numpy and matplotlib\n"
       ]
      }
     ],
     "prompt_number": 2
    },
    {
     "cell_type": "code",
     "collapsed": false,
     "input": [
      "def comp_theta_mle(d):\n",
      "    \"\"\"\n",
      "    Computes the Maximum Likelihood Estimate for a given 1D training\n",
      "    dataset for a Rayleigh distribution.\n",
      "    \n",
      "    \"\"\"\n",
      "    theta = len(d) / sum([x**2  for x in d])\n",
      "    return theta    "
     ],
     "language": "python",
     "metadata": {},
     "outputs": [],
     "prompt_number": 3
    },
    {
     "cell_type": "code",
     "collapsed": false,
     "input": [
      "def likelihood_ray(x, theta):\n",
      "    \"\"\"\n",
      "    Computes the class-conditional probability for an univariate\n",
      "    Rayleigh distribution\n",
      "    \n",
      "    \"\"\"\n",
      "    return 2*theta*x*np.exp(-theta*(x**2))"
     ],
     "language": "python",
     "metadata": {},
     "outputs": [],
     "prompt_number": 4
    },
    {
     "cell_type": "code",
     "collapsed": false,
     "input": [
      "training_data = [12, 17, 20, 24, 25, 30, 32, 50]\n",
      "\n",
      "theta = comp_theta_mle(training_data)\n",
      "\n",
      "print(\"Theta MLE:\", theta)"
     ],
     "language": "python",
     "metadata": {},
     "outputs": [
      {
       "output_type": "stream",
       "stream": "stdout",
       "text": [
        "Theta MLE: 0.00123877361412\n"
       ]
      }
     ],
     "prompt_number": 8
    },
    {
     "cell_type": "code",
     "collapsed": false,
     "input": [
      "x_range = np.arange(0, 20, 0.1)\n",
      "y_range = [likelihood_ray(x, theta) for x in x_range]\n",
      "\n",
      "x_range = np.arange(0, 150, 0.1)\n",
      "y_range = [likelihood_ray(x, theta) for x in x_range]\n",
      "\n",
      "plt.figure(figsize=(10,8))\n",
      "plt.plot(x_range, y_range, lw=2)\n",
      "plt.title('Probability density function for the Rayleigh distribution')\n",
      "plt.ylabel('p(x|theta)')\n",
      "\n",
      "ftext = 'theta = {:.5f}'.format(theta)\n",
      "plt.figtext(.15,.8, ftext, fontsize=11, ha='left')\n",
      "\n",
      "\n",
      "plt.ylim([0,0.04])\n",
      "plt.xlim([0,120])\n",
      "plt.xlabel('random variable x')\n",
      "\n",
      "plt.show()"
     ],
     "language": "python",
     "metadata": {},
     "outputs": [
      {
       "metadata": {},
       "output_type": "display_data",
       "png": "[encoded data removed]",
       "text": [
        "<matplotlib.figure.Figure at 0x106371b10>"
       ]
      }
     ],
     "prompt_number": 11
    },
    {
     "cell_type": "code",
     "collapsed": false,
     "input": [],
     "language": "python",
     "metadata": {},
     "outputs": []
    }
   ],
   "metadata": {}
  }
 ]
}