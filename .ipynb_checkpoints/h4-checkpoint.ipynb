{
 "metadata": {
  "name": "",
  "signature": "sha256:df451b9d46e3d7e65f4f8d6519376c91c30d8c55beb797fa245e0a189aa61595"
 },
 "nbformat": 3,
 "nbformat_minor": 0,
 "worksheets": [
  {
   "cells": [
    {
     "cell_type": "markdown",
     "metadata": {},
     "source": [
      "Sebastian Raschka  \n",
      "last updated: 04/21/2014"
     ]
    },
    {
     "cell_type": "markdown",
     "metadata": {},
     "source": [
      "# Sections"
     ]
    },
    {
     "cell_type": "markdown",
     "metadata": {},
     "source": [
      "- [Task 1](#task1)\n",
      "    - [Task 1 Description](#task1_descr)\n",
      "    - [Generating Random Training Points](#gen_training)\n",
      "    - [1 a) Density funcions for different window widths](#task1a)\n",
      "    - [1 b) Increasing the sample size for task 1 a)](#task1b)\n",
      "    - [1 c) Estimated density, window width, and sample size](#task1c)\n",
      "- [Task 4](#task4)\n",
      "    - [4 a) Maximum Likelihood Estimates](#task4a)\n",
      "    - [4 b) Bayes decision boundary from estimated parameters](#task4a)\n",
      "    - [4 c) Bayes decision boundary from true parameters](#task4c)\n",
      "    - [4 d) Repeat (a) - (c) after generating 1,000 and 10,000 random training samples](#task4d)\n",
      "- [Task 5](#task5)\n",
      "    - [5 a) Principal Component Analysis on the Iris Dataset](#task5a)\n",
      "    - [5 b) Multiple Discriminant Analysis on the Iris Dataset](#task5b)"
     ]
    },
    {
     "cell_type": "markdown",
     "metadata": {},
     "source": [
      "<a name='task1'></a>\n",
      "#Task 1"
     ]
    },
    {
     "cell_type": "markdown",
     "metadata": {},
     "source": [
      "<a name='task1_descr'></a>\n",
      "### Task 1 Description\n",
      "Generate 100 random training points from each of the following two distributions: N(20,5) and N(35,5). Write a program that employs the Parzen window technique with a Gaussian kernel to estimate the density, $\\hat{p}(x)$, using *all* 200 points. Note that this density conforms to a bimodal distribution."
     ]
    },
    {
     "cell_type": "markdown",
     "metadata": {},
     "source": [
      "<a name='gen_training'></a>\n",
      "### Generating Random Training Points"
     ]
    },
    {
     "cell_type": "code",
     "collapsed": false,
     "input": [
      "# Parameters\n",
      "mu_1 = 20\n",
      "mu_2 = 35\n",
      "sigma_1_sqr = 5\n",
      "sigma_2_sqr = 5\n",
      "\n",
      "# Generating 10 random samples drawn from a Normal Distribution for class 1 & 2\n",
      "x1_samples = sigma_1_sqr**0.5 * np.random.randn(100) + mu_1\n",
      "x2_samples = sigma_2_sqr**0.5 * np.random.randn(100) + mu_2\n",
      "\n",
      "samples = {}\n",
      "samples[1] = np.append(x1_samples.reshape(100,1), np.zeros((100,1))+1, axis=1)\n",
      "samples[2] = np.append(x2_samples.reshape(100,1), np.zeros((100,1))+2, axis=1)\n",
      "\n",
      "all_samples = np.append(samples[1], samples[2], axis=0)"
     ],
     "language": "python",
     "metadata": {},
     "outputs": [],
     "prompt_number": 36
    },
    {
     "cell_type": "code",
     "collapsed": false,
     "input": [
      "# Plotting sample data \n",
      "\n",
      "#%pylab inline\n",
      "\n",
      "import numpy as np\n",
      "from matplotlib import pyplot as plt\n",
      "\n",
      "y = [0 for i in range(100)]\n",
      "\n",
      "f, ax = plt.subplots(figsize=(5, 5))\n",
      "ax.scatter(samples[1][:,0], y, marker='o', color='green', s=40, alpha=0.5)\n",
      "ax.scatter(samples[2][:,0], y, marker='^', color='blue', s=40, alpha=0.5)\n",
      "plt.title('100 random for two 2 classes')\n",
      "plt.ylabel('P(x)')\n",
      "plt.xlabel('random variable x')\n",
      "plt.legend(['$\\omega_1$', '$\\omega_2$'], loc='upper right')\n",
      "\n",
      "ftext = 'p(x|w_1) ~ N(mu_1=20), {sigma_1}^2=5) \\n p(x|w_2) ~ N(mu_2=35), {sigma_2}^2=5)'\n",
      "plt.figtext(.15,.2, ftext, fontsize=11, ha='left')\n",
      "\n",
      "plt.show()"
     ],
     "language": "python",
     "metadata": {},
     "outputs": [
      {
       "metadata": {},
       "output_type": "display_data",
       "png": "[encoded data removed]",
       "text": [
        "<matplotlib.figure.Figure at 0x10b1e51d0>"
       ]
      }
     ],
     "prompt_number": 38
    },
    {
     "cell_type": "markdown",
     "metadata": {},
     "source": [
      "<br>\n",
      "<br>\n",
      "<a name=\"task1a\"></a>\n",
      "## Task 1 a)"
     ]
    },
    {
     "cell_type": "markdown",
     "metadata": {},
     "source": [
      "[20 points] Plot the estimated density function for each of the following window widths: h = 0.01,0.1,1,10. [Note: You can estimate the density at discrete values of x in the [0,55] interval with a step-size of 1.]"
     ]
    },
    {
     "cell_type": "markdown",
     "metadata": {},
     "source": [
      "### Gaussian kernel density estimation for different window widths"
     ]
    },
    {
     "cell_type": "code",
     "collapsed": false,
     "input": [
      "all_samples.shape"
     ],
     "language": "python",
     "metadata": {},
     "outputs": [
      {
       "metadata": {},
       "output_type": "pyout",
       "prompt_number": 37,
       "text": [
        "(200, 2)"
       ]
      }
     ],
     "prompt_number": 37
    },
    {
     "cell_type": "code",
     "collapsed": false,
     "input": [
      "from scipy.stats import kde\n",
      "\n",
      "kdes = {}\n",
      "\n",
      "for i in [0.01, 0.1, 1, 10]:\n",
      "    gkde = kde.gaussian_kde(all_samples[:,0], bw_method=i)\n",
      "    kdes[i] = gkde"
     ],
     "language": "python",
     "metadata": {},
     "outputs": [],
     "prompt_number": 41
    },
    {
     "cell_type": "code",
     "collapsed": false,
     "input": [
      "#%pylab inline\n",
      "\n",
      "import numpy as np\n",
      "from matplotlib import pyplot as plt\n",
      "\n",
      "x = np.arange(0, 56, 1)\n",
      "\n",
      "plt.figure(figsize=(10,8))\n",
      "for h,l in zip([0.01, 0.1, 1, 10], ['-', '--', ':', '-']):\n",
      "    y = kdes[h](x)\n",
      "    plt.plot(x, y, l, lw=2, alpha=0.7)\n",
      "plt.title('Density for different window widths')\n",
      "plt.ylabel('p(x)')\n",
      "plt.xlabel('random variable x')\n",
      "plt.legend(['h=0.01', 'h=0.1', 'h=1', 'h=10'], loc='upper right')\n",
      "plt.show()"
     ],
     "language": "python",
     "metadata": {},
     "outputs": [
      {
       "metadata": {},
       "output_type": "display_data",
       "png": "[encoded data removed]",
       "text": [
        "<matplotlib.figure.Figure at 0x108c0e710>"
       ]
      }
     ],
     "prompt_number": 57
    },
    {
     "cell_type": "markdown",
     "metadata": {},
     "source": [
      "<br>\n",
      "<br>\n",
      "<a name=\"task1b\"></a>\n",
      "## Task 1 b)"
     ]
    },
    {
     "cell_type": "markdown",
     "metadata": {},
     "source": [
      "[5 points] Repeat the above after generating 1000 training points from each of the two distributions."
     ]
    },
    {
     "cell_type": "markdown",
     "metadata": {},
     "source": [
      "### Generating 1000 random samples"
     ]
    },
    {
     "cell_type": "code",
     "collapsed": false,
     "input": [
      "import numpy as np\n",
      "\n",
      "# Parameters\n",
      "mu_1 = 20\n",
      "mu_2 = 35\n",
      "sigma_1_sqr = 5\n",
      "sigma_2_sqr = 5\n",
      "\n",
      "# Generating 10 random samples drawn from a Normal Distribution for class 1 & 2\n",
      "x1_samples = sigma_1_sqr**0.5 * np.random.randn(1000) + mu_1\n",
      "x2_samples = sigma_2_sqr**0.5 * np.random.randn(1000) + mu_2\n",
      "\n",
      "samples = {}\n",
      "samples[1] = np.append(x1_samples.reshape(1000,1), np.zeros((1000,1))+1, axis=1)\n",
      "samples[2] = np.append(x2_samples.reshape(1000,1), np.zeros((1000,1))+2, axis=1)\n",
      "\n",
      "all_samples = np.append(samples[1], samples[2], axis=0)"
     ],
     "language": "python",
     "metadata": {},
     "outputs": [],
     "prompt_number": 2
    },
    {
     "cell_type": "code",
     "collapsed": false,
     "input": [
      "from scipy.stats import kde\n",
      "\n",
      "kdes = {}\n",
      "\n",
      "for i in [0.01, 0.1, 1, 10]:\n",
      "    gkde = kde.gaussian_kde(all_samples[:,0], bw_method=i)\n",
      "    kdes[i] = gkde"
     ],
     "language": "python",
     "metadata": {},
     "outputs": [],
     "prompt_number": 7
    },
    {
     "cell_type": "code",
     "collapsed": false,
     "input": [
      "# Plotting sample data \n",
      "\n",
      "#%pylab inline\n",
      "\n",
      "import numpy as np\n",
      "from matplotlib import pyplot as plt\n",
      "\n",
      "x = np.arange(0, 56, 1)\n",
      "\n",
      "plt.figure(figsize=(10,8))\n",
      "for h,l in zip([0.01, 0.1, 1, 10], ['-', '--', ':', '-']):\n",
      "    y = kdes[h](x)\n",
      "    plt.plot(x, y, l, lw=2, alpha=0.7)\n",
      "plt.title('Density for different window widths')\n",
      "plt.ylabel('p(x)')\n",
      "plt.xlabel('random variable x')\n",
      "plt.legend(['h=0.01', 'h=0.1', 'h=1', 'h=10'], loc='upper right')\n",
      "plt.show()"
     ],
     "language": "python",
     "metadata": {},
     "outputs": [
      {
       "metadata": {},
       "output_type": "display_data",
       "png": "[encoded data removed]",
       "text": [
        "<matplotlib.figure.Figure at 0x106abfb70>"
       ]
      }
     ],
     "prompt_number": 8
    },
    {
     "cell_type": "markdown",
     "metadata": {},
     "source": [
      "<br>\n",
      "<br>\n",
      "<a name=\"task1c\"></a>\n",
      "## Task 1 c)"
     ]
    },
    {
     "cell_type": "markdown",
     "metadata": {},
     "source": [
      "[5 points] Discuss how the estimated density changes as a function of the window width and the number of training points"
     ]
    },
    {
     "cell_type": "markdown",
     "metadata": {},
     "source": [
      "The window width is a function of the number of training samples,  \n",
      "\n",
      "$h_n \\propto \\frac{1}{\\sqrt{n}}$  \n",
      "\n",
      "But why $\\sqrt{n}$, not just $n$?  \n",
      "This is because the number of $k_n$ points within a window grows much smaller than the number of training samples, although  \n",
      "\n",
      "$\\lim\\limits_{n \\rightarrow \\infty}{k_n} = \\infty$   \n",
      "\n",
      "we have:\n",
      "$ k < n$\n",
      "\n",
      "\n",
      "This is also one of the biggest drawbacks of the Parzen-window technique, since in practice, the number of training data is usually (too) small, which makes the choice of an 'optimal' window size difficult.  \n",
      "\n",
      "**In practice, one would choose different window widths and analyze which one results in the best performance of the derived classifier.** The only guideline we have is that we assume that the 'optimal' window width shrinks with the number of training samples."
     ]
    },
    {
     "cell_type": "markdown",
     "metadata": {},
     "source": [
      "If we would choose a window width that is \"too small\", this would result in local spikes, and a window width that is \"too big\" would average over the whole distribution as we have seen in [1 a)](#task_1a) and [1 b)](#task_1b). And as we see in [1 b)](#task_1b), the smallest window width h=0.01, became less 'spiky' when we increased the sample size."
     ]
    },
    {
     "cell_type": "markdown",
     "metadata": {},
     "source": [
      "<br>\n",
      "<br>\n",
      "<a name=\"task4\"></a>\n",
      "# Task 4"
     ]
    },
    {
     "cell_type": "markdown",
     "metadata": {},
     "source": [
      "Consider a two-category ($\\omega_1$ and $\\omega_2$) classification problem with equal priors. Each feature is a two-dimensional vector   \n",
      "$\\pmb x = (x_1, x_2)^t$. \n",
      "\n",
      "The class-conditional densities are:\n",
      "\n",
      "\n",
      "$p(\\pmb x|\\omega_1) \u223c N(\\mu_1 = [0,0]^t,\\Sigma_1 = I), \\\\\n",
      "p(\\pmb x|\\omega_2) \u223c N(\\mu_2 = [3,3]^t,\\Sigma_2 = I).$\n",
      "\n",
      "\n",
      "Generate 50 bivariate random training samples from each of the two densities."
     ]
    },
    {
     "cell_type": "code",
     "collapsed": false,
     "input": [
      "import numpy as np\n",
      "\n",
      "# Generate 50 random 2D-patterns for class 1\n",
      "mu_vec1 = np.array([0,0])\n",
      "cov_mat1 = np.array([[1,0],[0,1]])\n",
      "x_2Dgauss1 = np.random.multivariate_normal(mu_vec1, cov_mat1, 50)\n",
      "mu_vec_1 = mu_vec1.reshape(2,1)\n",
      "\n",
      "# Generate 50 random 2D-patterns for class 2\n",
      "mu_vec2 = np.array([3,3])\n",
      "cov_mat2 = np.array([[1,0],[0,1]])\n",
      "x_2Dgauss2 = np.random.multivariate_normal(mu_vec2, cov_mat2, 50)\n",
      "mu_vec_2 = mu_vec2.reshape(2,1)\n",
      "\n",
      "print(x_2Dgauss1.shape)\n",
      "print(x_2Dgauss2.shape)"
     ],
     "language": "python",
     "metadata": {},
     "outputs": [
      {
       "output_type": "stream",
       "stream": "stdout",
       "text": [
        "(50, 2)\n",
        "(50, 2)\n"
       ]
      }
     ],
     "prompt_number": 1
    },
    {
     "cell_type": "code",
     "collapsed": false,
     "input": [
      "#%pylab inline\n",
      "\n",
      "import numpy as np\n",
      "from matplotlib import pyplot as plt\n",
      "\n",
      "f, ax = plt.subplots(figsize=(7, 7))\n",
      "ax.scatter(x_2Dgauss1[:,0], x_2Dgauss1[:,1], \\\n",
      "           marker='o', color='green', s=40, alpha=0.5, label='$\\omega_1$')\n",
      "ax.scatter(x_2Dgauss2[:,0], x_2Dgauss2[:,1], \\\n",
      "           marker='^', color='red', s=40, alpha=0.5, label='$\\omega_2$')\n",
      "plt.ylabel('$x_2$', size=20)\n",
      "plt.xlabel('$x_1$', size=20)\n",
      "plt.title('50 bivariate random training samples per class')\n",
      "plt.legend(loc='upper right') \n",
      "plt.show()"
     ],
     "language": "python",
     "metadata": {},
     "outputs": [
      {
       "metadata": {},
       "output_type": "display_data",
       "png": "[encoded data removed]",
       "text": [
        "<matplotlib.figure.Figure at 0x10547ccf8>"
       ]
      }
     ],
     "prompt_number": 101
    },
    {
     "cell_type": "markdown",
     "metadata": {},
     "source": [
      "<br>\n",
      "<br>\n",
      "<a name=\"task4a\"></a>\n",
      "## Task 4 a)\n",
      "\n",
      "[10 points] Find the values for the maximum likelihood estimates of $\\mu_1$, $\\mu_2$, $\\Sigma_1$, and $\\Sigma_2$\n",
      "using these training samples"
     ]
    },
    {
     "cell_type": "markdown",
     "metadata": {},
     "source": [
      "### MLE of the mean vector $\\pmb \\mu$\n",
      "\n",
      "The MLE of the parameter $\\pmb\\mu$ is given by the equation:  \n",
      "${\\hat{\\pmb\\mu}} = \\frac{1}{n} \\sum\\limits_{k=1}^{n} \\pmb x_k$"
     ]
    },
    {
     "cell_type": "code",
     "collapsed": false,
     "input": [
      "import numpy as np\n",
      "np.random.seed(123456)"
     ],
     "language": "python",
     "metadata": {},
     "outputs": [],
     "prompt_number": 199
    },
    {
     "cell_type": "code",
     "collapsed": false,
     "input": [
      "mu_est_1 = np.sum(x_2Dgauss1, axis=0)/len(x_2Dgauss1)\n",
      "mu_est_1 = mu_est_1[0:2].reshape(2,1)\n",
      "mu_est_2 = np.sum(x_2Dgauss2, axis=0)/len(x_2Dgauss2)\n",
      "mu_est_2 = mu_est_2[0:2].reshape(2,1)"
     ],
     "language": "python",
     "metadata": {},
     "outputs": [],
     "prompt_number": 43
    },
    {
     "cell_type": "code",
     "collapsed": false,
     "input": [
      "import prettytable\n",
      "\n",
      "mu_mle = prettytable.PrettyTable([\"\", \"mu_1\", \"mu_2\"])\n",
      "mu_mle.add_row([\"MLE\",mu_est_1, mu_est_2])\n",
      "mu_mle.add_row([\"actual\",mu_vec_1, mu_vec_2])\n",
      "\n",
      "print(mu_mle)"
     ],
     "language": "python",
     "metadata": {},
     "outputs": [
      {
       "output_type": "stream",
       "stream": "stdout",
       "text": [
        "+--------+-----------------+-----------------+\n",
        "|        |       mu_1      |       mu_2      |\n",
        "+--------+-----------------+-----------------+\n",
        "|  MLE   |  [[ 0.1119459 ] |  [[ 2.91210616] |\n",
        "|        |  [-0.25737747]] |  [ 2.9119147 ]] |\n",
        "| actual |       [[0]      |       [[3]      |\n",
        "|        |       [0]]      |       [3]]      |\n",
        "+--------+-----------------+-----------------+\n"
       ]
      }
     ],
     "prompt_number": 44
    },
    {
     "cell_type": "markdown",
     "metadata": {},
     "source": [
      "### MLE of the covariance matrix $\\pmb \\Sigma$\n",
      "\n",
      "The MLE of the parameter $\\pmb\\Sigma$ is given by the equation:  \n",
      "${\\hat{\\pmb\\Sigma}} = \\frac{1}{n} \\sum\\limits_{k=1}^{n} (\\pmb x_k - \\hat{\\mu})(\\pmb x_k - \\hat{\\mu})^t$"
     ]
    },
    {
     "cell_type": "code",
     "collapsed": false,
     "input": [
      "import prettytable\n",
      "\n",
      "def mle_est_cov(x_samples, mu_est):\n",
      "    \"\"\"\n",
      "    Calculates the Maximum Likelihood Estimate for the covariance matrix.\n",
      "    \n",
      "    Keyword Arguments:\n",
      "        x_samples: np.array of the samples for 1 class, n x d dimensional \n",
      "        mu_est: np.array of the mean MLE, d x 1 dimensional\n",
      "        \n",
      "    Returns the MLE for the covariance matrix as d x d numpy array.\n",
      "    \n",
      "    \"\"\"\n",
      "    cov_est = np.zeros((2,2))\n",
      "    for x_vec in x_samples:\n",
      "        x_vec = x_vec.reshape(2,1)\n",
      "        assert(x_vec.shape == mu_est.shape), 'mean and x vector hmust be of equal shape'\n",
      "        cov_est += (x_vec - mu_est).dot((x_vec - mu_est).T)\n",
      "    return cov_est / len(x_samples)\n",
      "\n",
      "\n",
      "\n",
      "cov_est_1 = mle_est_cov(x_2Dgauss1, mu_est_1)\n",
      "cov_est_2 = mle_est_cov(x_2Dgauss2, mu_est_2)\n",
      "\n",
      "cov_mle = prettytable.PrettyTable([\"\", \"covariance_matrix_1\", \"covariance_matrix_2\"])\n",
      "cov_mle.add_row([\"MLE\", cov_est_1, cov_est_2])\n",
      "cov_mle.add_row(['','',''])\n",
      "cov_mle.add_row([\"actual\", cov_mat1, cov_mat2])\n",
      "\n",
      "print(cov_mle)"
     ],
     "language": "python",
     "metadata": {},
     "outputs": [
      {
       "output_type": "stream",
       "stream": "stdout",
       "text": [
        "+--------+-----------------------------+-----------------------------+\n",
        "|        |     covariance_matrix_1     |     covariance_matrix_2     |\n",
        "+--------+-----------------------------+-----------------------------+\n",
        "|  MLE   |  [[ 0.94928105  0.15039944] |  [[ 1.01108959  0.10767731] |\n",
        "|        |  [ 0.15039944  0.95437723]] |  [ 0.10767731  1.22040042]] |\n",
        "|        |                             |                             |\n",
        "| actual |            [[1 0]           |            [[1 0]           |\n",
        "|        |            [0 1]]           |            [0 1]]           |\n",
        "+--------+-----------------------------+-----------------------------+\n"
       ]
      }
     ],
     "prompt_number": 45
    },
    {
     "cell_type": "markdown",
     "metadata": {},
     "source": [
      "<br>\n",
      "<br>\n",
      "<a name=\"task4b\"></a>\n",
      "## Task 4 b)\n",
      "\n",
      "[10 points] Compute the Bayes decision boundary using the estimated parameters and plot it along with the training samples. What is the empirical error rate on the training samples?"
     ]
    },
    {
     "cell_type": "code",
     "collapsed": false,
     "input": [
      "def discriminant_function(x_vec, cov_mat, mu_vec):\n",
      "    \"\"\"\n",
      "    Calculates the value of the discriminant function for a dx1 dimensional\n",
      "    sample given covariance matrix and mean vector.\n",
      "    \n",
      "    Keyword arguments:\n",
      "        x_vec: A dx1 dimensional numpy array representing the sample.\n",
      "        cov_mat: numpy array of the covariance matrix.\n",
      "        mu_vec: dx1 dimensional numpy array of the sample mean.\n",
      "    \n",
      "    Returns a float value as result of the discriminant function.\n",
      "    \n",
      "    \"\"\"\n",
      "    W_i = (-1/2) * np.linalg.inv(cov_mat)\n",
      "    assert(W_i.shape[0] > 1 and W_i.shape[1] > 1), 'W_i must be a matrix'\n",
      "    \n",
      "    w_i = np.linalg.inv(cov_mat).dot(mu_vec)\n",
      "    assert(w_i.shape[0] > 1 and w_i.shape[1] == 1), 'w_i must be a column vector'\n",
      "    \n",
      "    omega_i_p1 = (((-1/2) * (mu_vec).T).dot(np.linalg.inv(cov_mat))).dot(mu_vec)\n",
      "    omega_i_p2 = (-1/2) * np.log(np.linalg.det(cov_mat))\n",
      "    omega_i = omega_i_p1 - omega_i_p2\n",
      "    assert(omega_i.shape == (1, 1)), 'omega_i must be a scalar'\n",
      "    \n",
      "    g = ((x_vec.T).dot(W_i)).dot(x_vec) + (w_i.T).dot(x_vec) + omega_i\n",
      "    return float(g)"
     ],
     "language": "python",
     "metadata": {},
     "outputs": [],
     "prompt_number": 3
    },
    {
     "cell_type": "code",
     "collapsed": false,
     "input": [
      "import operator\n",
      "\n",
      "def classify_data(x_vec, g, mu_vecs, cov_mats):\n",
      "    \"\"\"\n",
      "    Classifies an input sample into 1 out of x classes determined by\n",
      "    maximizing the discriminant function g_i().\n",
      "    \n",
      "    Keyword arguments:\n",
      "        x_vec: A dx1 dimensional numpy array representing the sample.\n",
      "        g: The discriminant function.\n",
      "        mu_vecs: A list of mean vectors as input for g.\n",
      "        cov_mats: A list of covariance matrices as input for g.\n",
      "    \n",
      "    Returns a tuple (g_i()_value, class label).\n",
      "    \n",
      "    \"\"\"\n",
      "    assert(len(mu_vecs) == len(cov_mats)), 'Number of mu_vecs and cov_mats must be equal.'\n",
      "    \n",
      "    g_vals = []\n",
      "    for m,c in zip(mu_vecs, cov_mats): \n",
      "        g_vals.append(g(x_vec, mu_vec=m, cov_mat=c))\n",
      "    \n",
      "    max_index, max_value = max(enumerate(g_vals), key=operator.itemgetter(1))\n",
      "    return (max_value, max_index + 1)"
     ],
     "language": "python",
     "metadata": {},
     "outputs": [],
     "prompt_number": 193
    },
    {
     "cell_type": "code",
     "collapsed": false,
     "input": [
      "def empirical_error(data_set, classes, classifier_func, classifier_func_args):\n",
      "    \"\"\"\n",
      "    Keyword arguments:\n",
      "        data_set: 'n x d'- dimensional numpy array, class label in the last column.\n",
      "        classes: List of the class labels.\n",
      "        classifier_func: Function that returns the max argument from the discriminant function.\n",
      "            evaluation and the class label as a tuple.\n",
      "        classifier_func_args: List of arguments for the 'classifier_func'.\n",
      "    \n",
      "    Returns a tuple, consisting of a dictionary withthe classif. counts and the error.\n",
      "    \n",
      "    e.g., ( {1: {1: 321, 2: 5}, 2: {1: 0, 2: 317}}, 0.05)\n",
      "    where keys are class labels, and values are sub-dicts counting for which class (key)\n",
      "    how many samples where classified as such.\n",
      "    \n",
      "    \"\"\"\n",
      "    class_dict = {i:{j:0 for j in classes} for i in classes}\n",
      "\n",
      "    for cl in classes:\n",
      "        for row in data_set[data_set[:,-1] == cl][:,:-1]:\n",
      "            g = classifier_func(row, *classifier_func_args)\n",
      "            class_dict[cl][g[1]] += 1\n",
      "    \n",
      "    correct = 0\n",
      "    for i in classes:\n",
      "        correct += class_dict[i][i]\n",
      "    \n",
      "    misclass = data_set.shape[0] - correct\n",
      "    return (class_dict, misclass / data_set.shape[0])"
     ],
     "language": "python",
     "metadata": {},
     "outputs": [],
     "prompt_number": 194
    },
    {
     "cell_type": "code",
     "collapsed": false,
     "input": [
      "all_samples = np.vstack((np.hstack((x_2Dgauss1,np.zeros((50,1))+1)),\n",
      "        np.hstack((x_2Dgauss2,np.zeros((50,1))+2))))\n",
      "all_samples.shape"
     ],
     "language": "python",
     "metadata": {},
     "outputs": [
      {
       "metadata": {},
       "output_type": "pyout",
       "prompt_number": 196,
       "text": [
        "(100, 3)"
       ]
      }
     ],
     "prompt_number": 196
    },
    {
     "cell_type": "markdown",
     "metadata": {},
     "source": [
      "### Calculating the empirical error"
     ]
    },
    {
     "cell_type": "code",
     "collapsed": false,
     "input": [
      "import prettytable\n",
      "\n",
      "classification_dict, error = empirical_error(all_samples, [1,2], classify_data, [discriminant_function,\\\n",
      "        [mu_est_1, mu_est_2],\n",
      "        [cov_est_1, cov_est_2]])\n",
      "\n",
      "labels_predicted = ['w{} (predicted)'.format(i) for i in [1,2]]\n",
      "labels_predicted.insert(0,'training dataset')\n",
      "\n",
      "train_conf_mat = prettytable.PrettyTable(labels_predicted)\n",
      "for i in [1,2]:\n",
      "    a, b = [classification_dict[i][j] for j in [1,2]]\n",
      "    # workaround to unpack (since Python does not support just '*a')\n",
      "    train_conf_mat.add_row(['w{} (actual)'.format(i), a, b])\n",
      "print(train_conf_mat)\n",
      "print('Empirical Error: {:.2f} ({:.2f}%)'.format(error, error * 100))"
     ],
     "language": "python",
     "metadata": {},
     "outputs": [
      {
       "output_type": "stream",
       "stream": "stdout",
       "text": [
        "+------------------+----------------+----------------+\n",
        "| training dataset | w1 (predicted) | w2 (predicted) |\n",
        "+------------------+----------------+----------------+\n",
        "|   w1 (actual)    |       49       |       1        |\n",
        "|   w2 (actual)    |       1        |       49       |\n",
        "+------------------+----------------+----------------+\n",
        "Empirical Error: 0.02 (2.00%)\n"
       ]
      }
     ],
     "prompt_number": 204
    },
    {
     "cell_type": "code",
     "collapsed": false,
     "input": [
      "def dec_bound(x):\n",
      "    x_vec = np.array([[x],[1.2]])\n",
      "    g1 = discriminant_function(x_vec, cov_mat1, mu_vec_1)\n",
      "    g2 = discriminant_function(x_vec, cov_mat2, mu_vec_2)\n",
      "    return g1 - g2\n",
      "\n",
      "def create_dec_bound(x):\n",
      "    def diff(y):\n",
      "        return g1(x,y) - g2(x,y)\n",
      "    return diff\n",
      "\n",
      "\n",
      "\n",
      "fsolve(dec_bound_test, 0)"
     ],
     "language": "python",
     "metadata": {},
     "outputs": [
      {
       "metadata": {},
       "output_type": "pyout",
       "prompt_number": 16,
       "text": [
        "array([ 1.8])"
       ]
      }
     ],
     "prompt_number": 16
    },
    {
     "cell_type": "code",
     "collapsed": false,
     "input": [
      "def discr_func(x, y, cov_mat, mu_vec):\n",
      "    \"\"\"\n",
      "    Calculates the value of the discriminant function for a dx1 dimensional\n",
      "    sample given covariance matrix and mean vector.\n",
      "    \n",
      "    Keyword arguments:\n",
      "        x_vec: A dx1 dimensional numpy array representing the sample.\n",
      "        cov_mat: numpy array of the covariance matrix.\n",
      "        mu_vec: dx1 dimensional numpy array of the sample mean.\n",
      "    \n",
      "    Returns a float value as result of the discriminant function.\n",
      "    \n",
      "    \"\"\"\n",
      "    x_vec = np.array([[x],[y]])\n",
      "    \n",
      "    W_i = (-1/2) * np.linalg.inv(cov_mat)\n",
      "    assert(W_i.shape[0] > 1 and W_i.shape[1] > 1), 'W_i must be a matrix'\n",
      "    \n",
      "    w_i = np.linalg.inv(cov_mat).dot(mu_vec)\n",
      "    assert(w_i.shape[0] > 1 and w_i.shape[1] == 1), 'w_i must be a column vector'\n",
      "    \n",
      "    omega_i_p1 = (((-1/2) * (mu_vec).T).dot(np.linalg.inv(cov_mat))).dot(mu_vec)\n",
      "    omega_i_p2 = (-1/2) * np.log(np.linalg.det(cov_mat))\n",
      "    omega_i = omega_i_p1 - omega_i_p2\n",
      "    assert(omega_i.shape == (1, 1)), 'omega_i must be a scalar'\n",
      "    \n",
      "    g = ((x_vec.T).dot(W_i)).dot(x_vec) + (w_i.T).dot(x_vec) + omega_i\n",
      "    return float(g)"
     ],
     "language": "python",
     "metadata": {},
     "outputs": [],
     "prompt_number": 38
    },
    {
     "cell_type": "code",
     "collapsed": false,
     "input": [
      "from scipy.optimize import fsolve\n",
      "x = list(np.arange(-2, 6, 0.1))\n",
      "y = [fsolve(lambda y: discr_func(i, y, cov_mat=cov_mat1, mu_vec=mu_vec_1) - \\\n",
      "                 discr_func(i, y, cov_mat=cov_mat2, mu_vec=mu_vec_2), 0) for i in x]"
     ],
     "language": "python",
     "metadata": {},
     "outputs": [],
     "prompt_number": 26
    },
    {
     "cell_type": "code",
     "collapsed": false,
     "input": [
      "# Plot decision boundary\n",
      "\n",
      "f, ax = plt.subplots(figsize=(7, 7))\n",
      "ax.scatter(x_2Dgauss1[:,0], x_2Dgauss1[:,1], \\\n",
      "           marker='o', color='green', s=40, alpha=0.5, label='$\\omega_1$')\n",
      "ax.scatter(x_2Dgauss2[:,0], x_2Dgauss2[:,1], \\\n",
      "           marker='^', color='red', s=40, alpha=0.5, label='$\\omega_2$')\n",
      "plt.ylabel('$x_2$', size=20)\n",
      "plt.xlabel('$x_1$', size=20)\n",
      "plt.title('50 bivariate random training samples per class')\n",
      "plt.legend(loc='upper right') \n",
      "\n",
      "plt.plot(x, y, 'r--', lw=4)\n",
      "plt.show()"
     ],
     "language": "python",
     "metadata": {},
     "outputs": [
      {
       "metadata": {},
       "output_type": "display_data",
       "png": "[encoded data removed]",
       "text": [
        "<matplotlib.figure.Figure at 0x1074cdbd0>"
       ]
      }
     ],
     "prompt_number": 40
    },
    {
     "cell_type": "markdown",
     "metadata": {},
     "source": [
      "<br>\n",
      "<br>\n",
      "<a name=\"task4c\"></a>\n",
      "# Task 4 c)"
     ]
    },
    {
     "cell_type": "markdown",
     "metadata": {},
     "source": [
      "[10 points] Compute the Bayes decision boundary using the true parameters and plot it on the same graph. What is the empirical error rate on the training samples?"
     ]
    },
    {
     "cell_type": "markdown",
     "metadata": {},
     "source": [
      "### Calculating the empirical error"
     ]
    },
    {
     "cell_type": "code",
     "collapsed": false,
     "input": [
      "from scipy.optimize import fsolve\n",
      "x = list(np.arange(-2, 6, 0.1))\n",
      "y = [fsolve(lambda y: discr_func(i, y, cov_mat=cov_est_1, mu_vec=mu_est_1) - \\\n",
      "                 discr_func(i, y, cov_mat=cov_est_2, mu_vec=mu_est_2), 0) for i in x]"
     ],
     "language": "python",
     "metadata": {},
     "outputs": [
      {
       "output_type": "stream",
       "stream": "stderr",
       "text": [
        "/Library/Frameworks/Python.framework/Versions/3.3/lib/python3.3/site-packages/scipy/optimize/minpack.py:236: RuntimeWarning: The iteration is not making good progress, as measured by the \n",
        "  improvement from the last ten iterations.\n",
        "  warnings.warn(msg, RuntimeWarning)\n",
        "/Library/Frameworks/Python.framework/Versions/3.3/lib/python3.3/site-packages/scipy/optimize/minpack.py:236: RuntimeWarning: The iteration is not making good progress, as measured by the \n",
        "  improvement from the last five Jacobian evaluations.\n",
        "  warnings.warn(msg, RuntimeWarning)\n"
       ]
      }
     ],
     "prompt_number": 46
    },
    {
     "cell_type": "code",
     "collapsed": false,
     "input": [
      "import prettytable\n",
      "\n",
      "classification_dict, error = empirical_error(all_samples, [1,2], classify_data, [discriminant_function,\\\n",
      "        [mu_vec_1, mu_vec_2],\n",
      "        [cov_mat1, cov_mat2]])\n",
      "\n",
      "labels_predicted = ['w{} (predicted)'.format(i) for i in [1,2]]\n",
      "labels_predicted.insert(0,'training dataset')\n",
      "\n",
      "train_conf_mat = prettytable.PrettyTable(labels_predicted)\n",
      "for i in [1,2]:\n",
      "    a, b = [classification_dict[i][j] for j in [1,2]]\n",
      "    # workaround to unpack (since Python does not support just '*a')\n",
      "    train_conf_mat.add_row(['w{} (actual)'.format(i), a, b])\n",
      "print(train_conf_mat)\n",
      "print('Empirical Error: {:.2f} ({:.2f}%)'.format(error, error * 100))"
     ],
     "language": "python",
     "metadata": {},
     "outputs": [
      {
       "output_type": "stream",
       "stream": "stdout",
       "text": [
        "+------------------+----------------+----------------+\n",
        "| training dataset | w1 (predicted) | w2 (predicted) |\n",
        "+------------------+----------------+----------------+\n",
        "|   w1 (actual)    |       49       |       1        |\n",
        "|   w2 (actual)    |       1        |       49       |\n",
        "+------------------+----------------+----------------+\n",
        "Empirical Error: 0.02 (2.00%)\n"
       ]
      }
     ],
     "prompt_number": 205
    },
    {
     "cell_type": "markdown",
     "metadata": {},
     "source": [
      "<br>\n",
      "<br>\n",
      "<a name=\"task4d\"></a>\n",
      "# Task 4 d)"
     ]
    },
    {
     "cell_type": "markdown",
     "metadata": {},
     "source": [
      "#### Generating samples"
     ]
    },
    {
     "cell_type": "code",
     "collapsed": false,
     "input": [
      "# Generate 50 random 2D-patterns for class 1\n",
      "mu_vec1 = np.array([0,0])\n",
      "cov_mat1 = np.array([[1,0],[0,1]])\n",
      "samples_c1 = {}\n",
      "for i in [50, 1000, 10000]:\n",
      "    samples_c1[i] = np.random.multivariate_normal(mu_vec1, cov_mat1, i)\n",
      "mu_vec_1 = mu_vec1.reshape(2,1)\n",
      "\n",
      "# Generate 50 random 2D-patterns for class 2\n",
      "mu_vec2 = np.array([3,3])\n",
      "cov_mat2 = np.array([[1,0],[0,1]])\n",
      "samples_c2 = {}\n",
      "for i in [50, 1000, 10000]:\n",
      "    samples_c2[i] = np.random.multivariate_normal(mu_vec2, cov_mat2, i)\n",
      "mu_vec_2 = mu_vec2.reshape(2,1)"
     ],
     "language": "python",
     "metadata": {},
     "outputs": [],
     "prompt_number": 208
    },
    {
     "cell_type": "markdown",
     "metadata": {},
     "source": [
      "#### Adding class labels"
     ]
    },
    {
     "cell_type": "code",
     "collapsed": false,
     "input": [
      "samples_all = {}\n",
      "for i in [50, 1000, 10000]:  \n",
      "    samples_all[i] = np.vstack((np.hstack((samples_c1[i], np.zeros((i,1))+1)),\n",
      "        np.hstack((samples_c2[i],np.zeros((i,1))+2))))"
     ],
     "language": "python",
     "metadata": {},
     "outputs": [],
     "prompt_number": 221
    },
    {
     "cell_type": "markdown",
     "metadata": {},
     "source": [
      "#### Estimating $\\pmb \\mu$"
     ]
    },
    {
     "cell_type": "code",
     "collapsed": false,
     "input": [
      "mu1_ests = {}\n",
      "mu2_ests = {}\n",
      "for i in [50, 1000, 10000]:\n",
      "    mu_est_1 = np.sum(samples_c1[i], axis=0)/len(samples_c1[i])\n",
      "    mu1_ests[i] = mu_est_1[0:2].reshape(2,1)\n",
      "    \n",
      "    mu_est_2 = np.sum(samples_c2[i], axis=0)/len(samples_c2[i])\n",
      "    mu2_ests[i] = mu_est_2[0:2].reshape(2,1)"
     ],
     "language": "python",
     "metadata": {},
     "outputs": [],
     "prompt_number": 214
    },
    {
     "cell_type": "code",
     "collapsed": false,
     "input": [
      "import prettytable\n",
      "\n",
      "mu_mle = prettytable.PrettyTable([\"\", \"mu_1\", \"mu_2\"])\n",
      "mu_mle.add_row([\"actual\", mu_vec_1, mu_vec_2])\n",
      "for i in [50, 1000, 10000]:\n",
      "    mu_mle.add_row([\"MLE n={}\".format(i), mu1_ests[i], mu2_ests[i]])\n",
      "\n",
      "print(mu_mle)"
     ],
     "language": "python",
     "metadata": {},
     "outputs": [
      {
       "output_type": "stream",
       "stream": "stdout",
       "text": [
        "+-------------+-----------------+-----------------+\n",
        "|             |       mu_1      |       mu_2      |\n",
        "+-------------+-----------------+-----------------+\n",
        "|    actual   |       [[0]      |       [[3]      |\n",
        "|             |       [0]]      |       [3]]      |\n",
        "|   MLE n=50  |  [[-0.20972814] |  [[ 2.86991458] |\n",
        "|             |  [-0.2166692 ]] |  [ 3.13739131]] |\n",
        "|  MLE n=1000 |  [[-0.05685322] |  [[ 3.02009924] |\n",
        "|             |  [ 0.03915327]] |  [ 2.98160437]] |\n",
        "| MLE n=10000 |  [[-0.00409495] |  [[ 2.99700614] |\n",
        "|             |  [ 0.00822208]] |  [ 3.01206585]] |\n",
        "+-------------+-----------------+-----------------+\n"
       ]
      }
     ],
     "prompt_number": 215
    },
    {
     "cell_type": "markdown",
     "metadata": {},
     "source": [
      "#### Estimating $\\Sigma$"
     ]
    },
    {
     "cell_type": "code",
     "collapsed": false,
     "input": [
      "def mle_est_cov(x_samples, mu_est):\n",
      "    \"\"\"\n",
      "    Calculates the Maximum Likelihood Estimate for the covariance matrix.\n",
      "    \n",
      "    Keyword Arguments:\n",
      "        x_samples: np.array of the samples for 1 class, n x d dimensional \n",
      "        mu_est: np.array of the mean MLE, d x 1 dimensional\n",
      "        \n",
      "    Returns the MLE for the covariance matrix as d x d numpy array.\n",
      "    \n",
      "    \"\"\"\n",
      "    cov_est = np.zeros((2,2))\n",
      "    for x_vec in x_samples:\n",
      "        x_vec = x_vec.reshape(2,1)\n",
      "        assert(x_vec.shape == mu_est.shape), 'mean and x vector hmust be of equal shape'\n",
      "        cov_est += (x_vec - mu_est).dot((x_vec - mu_est).T)\n",
      "    return cov_est / len(x_samples)\n",
      "\n",
      "\n",
      "cov1_ests = {}\n",
      "cov2_ests = {}\n",
      "for i in [50, 1000, 10000]:\n",
      "    cov1_ests[i] = mle_est_cov(samples_c1[i], mu1_ests[i])\n",
      "    cov2_ests[i] = mle_est_cov(samples_c2[i], mu2_ests[i])"
     ],
     "language": "python",
     "metadata": {},
     "outputs": [],
     "prompt_number": 216
    },
    {
     "cell_type": "code",
     "collapsed": false,
     "input": [
      "import prettytable\n",
      "\n",
      "cov_mle = prettytable.PrettyTable([\"\", \"cov_1\", \"cov_2\"])\n",
      "cov_mle.add_row([\"actual\", cov_mat1, cov_mat2])\n",
      "for i in [50, 1000, 10000]:\n",
      "    cov_mle.add_row([\"MLE n={}\".format(i), cov1_ests[i], cov2_ests[i]])\n",
      "\n",
      "print(cov_mle)"
     ],
     "language": "python",
     "metadata": {},
     "outputs": [
      {
       "output_type": "stream",
       "stream": "stdout",
       "text": [
        "+-------------+-----------------------------+-----------------------------+\n",
        "|             |            cov_1            |            cov_2            |\n",
        "+-------------+-----------------------------+-----------------------------+\n",
        "|    actual   |            [[1 0]           |            [[1 0]           |\n",
        "|             |            [0 1]]           |            [0 1]]           |\n",
        "|   MLE n=50  |  [[ 0.95662876 -0.16819136] |  [[ 0.99369476  0.16054607] |\n",
        "|             |  [-0.16819136  1.03292333]] |  [ 0.16054607  1.28133194]] |\n",
        "|  MLE n=1000 |  [[ 1.12558671  0.00115809] |  [[ 0.94201278 -0.00459944] |\n",
        "|             |  [ 0.00115809  0.96679661]] |  [-0.00459944  1.04418924]] |\n",
        "| MLE n=10000 |  [[ 1.00251856  0.00984184] |  [[ 0.99485499 -0.01550208] |\n",
        "|             |  [ 0.00984184  1.02297844]] |  [-0.01550208  0.96024747]] |\n",
        "+-------------+-----------------------------+-----------------------------+\n"
       ]
      }
     ],
     "prompt_number": 217
    },
    {
     "cell_type": "markdown",
     "metadata": {},
     "source": [
      "#### Calculating the empirical error"
     ]
    },
    {
     "cell_type": "code",
     "collapsed": false,
     "input": [
      "errors_true = {}\n",
      "errors_mle = {}\n",
      "for i in [50, 1000, 10000]:\n",
      "    c_dict, errors_true[i] = empirical_error(samples_all[i], [1,2], classify_data, [discriminant_function,\\\n",
      "        [mu_vec_1, mu_vec_2],\n",
      "        [cov_mat1, cov_mat2]])\n",
      "    c_dict, errors_mle[i] = empirical_error(samples_all[i], [1,2], classify_data, [discriminant_function,\\\n",
      "        [mu1_ests[i], mu2_ests[i]],\n",
      "        [cov1_ests[i], cov2_ests[i]]])\n",
      "    "
     ],
     "language": "python",
     "metadata": {},
     "outputs": [],
     "prompt_number": 222
    },
    {
     "cell_type": "code",
     "collapsed": false,
     "input": [
      "errors_true_mle = prettytable.PrettyTable([\"Empirical Errors\", \"true parameters\", \"MLE parameters\"])\n",
      "for i in [50, 1000, 10000]:\n",
      "    errors_true_mle.add_row([\"MLE n={}\".format(i), errors_true[i], errors_mle[i]])\n",
      "print(errors_true_mle)"
     ],
     "language": "python",
     "metadata": {},
     "outputs": [
      {
       "output_type": "stream",
       "stream": "stdout",
       "text": [
        "+------------------+-----------------+----------------+\n",
        "| Empirical Errors | true parameters | MLE parameters |\n",
        "+------------------+-----------------+----------------+\n",
        "|     MLE n=50     |       0.01      |      0.02      |\n",
        "|    MLE n=1000    |      0.0165     |     0.016      |\n",
        "|   MLE n=10000    |     0.01605     |     0.0163     |\n",
        "+------------------+-----------------+----------------+\n"
       ]
      }
     ],
     "prompt_number": 223
    },
    {
     "cell_type": "code",
     "collapsed": false,
     "input": [
      "true_err"
     ],
     "language": "python",
     "metadata": {},
     "outputs": [
      {
       "metadata": {},
       "output_type": "pyout",
       "prompt_number": 229,
       "text": [
        "[0.02, 0.016, 0.0163]"
       ]
      }
     ],
     "prompt_number": 229
    },
    {
     "cell_type": "code",
     "collapsed": false,
     "input": [
      "#%pylab inline\n",
      "import matplotlib.pyplot as plt\n",
      "\n",
      "mle_err = []\n",
      "true_err = []\n",
      "for i in [50, 1000, 10000]:\n",
      "    mle_err.append(errors_true[i])\n",
      "    true_err.append(errors_mle[i])\n",
      "    \n",
      "\n",
      "plt.plot([50, 1000, 10000], mle_err, 'o', label=\"MLE parameters\")\n",
      "plt.plot([50, 1000, 10000], true_err, 's', label=\"True parameters\")\n",
      "plt.xlabel('training set size')\n",
      "plt.ylabel('Error rate')\n",
      "plt.xlim([-300,10300])\n",
      "plt.ylim([0,0.03])\n",
      "plt.legend()\n",
      "plt.title('Error rate for MLE and true parameters on different training set sizes')\n",
      "plt.show()"
     ],
     "language": "python",
     "metadata": {},
     "outputs": [
      {
       "metadata": {},
       "output_type": "display_data",
       "png": "[encoded data removed]",
       "text": [
        "<matplotlib.figure.Figure at 0x1079d59e8>"
       ]
      }
     ],
     "prompt_number": 246
    },
    {
     "cell_type": "markdown",
     "metadata": {},
     "source": [
      "<br>\n",
      "<br>\n",
      "<a name=\"task5\"></a>\n",
      "# Task 5"
     ]
    },
    {
     "cell_type": "markdown",
     "metadata": {},
     "source": [
      "The iris (flower) dataset consists of 150 4-dimensional patterns belonging to three classes (setosa, versicolor, and virginica). There are 50 patterns per class. The 4 features correspond to (a) sepal length in cm, (b) sepal width in cm, (c) petal length in cm, and (d) petal width in cm. The data can be accessed [here](./data/iris.txt). Note that the class labels are indicated at the end of every pattern.\n"
     ]
    },
    {
     "cell_type": "code",
     "collapsed": false,
     "input": [
      "import numpy as np\n",
      "\n",
      "all_samples = np.genfromtxt('./data/iris.txt').T\n",
      "print(all_samples.shape)"
     ],
     "language": "python",
     "metadata": {},
     "outputs": [
      {
       "output_type": "stream",
       "stream": "stdout",
       "text": [
        "(5, 150)\n"
       ]
      }
     ],
     "prompt_number": 163
    },
    {
     "cell_type": "markdown",
     "metadata": {},
     "source": [
      "<br>\n",
      "<br>\n",
      "<a name=\"task5a\"></a>\n",
      "# Task 5 a)"
     ]
    },
    {
     "cell_type": "markdown",
     "metadata": {},
     "source": [
      " [10 points] Write a program to project these four-dimensional points onto a two-dimensional plane using PCA (the top 2 eigenvectors). Report the two projection vectors estimated by the technique. Plot the entire dataset in two dimensions using these projection vectors. Use different markers to distinguish the patterns belonging to different classes."
     ]
    },
    {
     "cell_type": "markdown",
     "metadata": {},
     "source": [
      "### Computing the d-dimensional mean vector"
     ]
    },
    {
     "cell_type": "code",
     "collapsed": false,
     "input": [
      "mean_d1 = np.mean(all_samples[0,:])\n",
      "mean_d2 = np.mean(all_samples[1,:])\n",
      "mean_d3 = np.mean(all_samples[2,:])\n",
      "mean_d4 = np.mean(all_samples[3,:])\n",
      "\n",
      "mean_vector = np.array([[mean_d1],[mean_d2],[mean_d3], [mean_d4]])\n",
      "\n",
      "print('Mean Vector:\\n', mean_vector)"
     ],
     "language": "python",
     "metadata": {},
     "outputs": [
      {
       "output_type": "stream",
       "stream": "stdout",
       "text": [
        "Mean Vector:\n",
        " [[ 5.84333333]\n",
        " [ 3.054     ]\n",
        " [ 3.75866667]\n",
        " [ 1.19866667]]\n"
       ]
      }
     ],
     "prompt_number": 164
    },
    {
     "cell_type": "markdown",
     "metadata": {},
     "source": [
      "### Computing the Scatter Matrix"
     ]
    },
    {
     "cell_type": "code",
     "collapsed": false,
     "input": [
      "scatter_matrix = np.zeros((4,4))\n",
      "for i in range(all_samples.shape[1]):\n",
      "    scatter_matrix += (all_samples[0:4,i].reshape(4,1) - mean_vector).dot((all_samples[0:4,i].reshape(4,1) - mean_vector).T)\n",
      "print('Scatter Matrix:\\n', scatter_matrix)"
     ],
     "language": "python",
     "metadata": {},
     "outputs": [
      {
       "output_type": "stream",
       "stream": "stdout",
       "text": [
        "Scatter Matrix:\n",
        " [[ 102.16833333   -5.851       189.77866667   77.01866667]\n",
        " [  -5.851        28.0126      -47.9352      -17.5792    ]\n",
        " [ 189.77866667  -47.9352      463.86373333  193.16173333]\n",
        " [  77.01866667  -17.5792      193.16173333   86.77973333]]\n"
       ]
      }
     ],
     "prompt_number": 165
    },
    {
     "cell_type": "markdown",
     "metadata": {},
     "source": [
      "### Computing eigenvectors and corresponding eigenvalues"
     ]
    },
    {
     "cell_type": "code",
     "collapsed": false,
     "input": [
      "# eigenvectors and eigenvalues from the scatter matrix\n",
      "eig_vals, eig_vecs = np.linalg.eig(scatter_matrix)\n",
      "\n",
      "for i in range(len(eig_vals)):\n",
      "    eigvec_sc = eig_vecs[:,i].reshape(1,4).T    \n",
      "    print('\\nEigenvector {}: \\n{}'.format(i+1, eigvec_sc))\n",
      "    print('Eigenvalue {}: {}'.format(i+1, eig_vals[i]))"
     ],
     "language": "python",
     "metadata": {},
     "outputs": [
      {
       "output_type": "stream",
       "stream": "stdout",
       "text": [
        "\n",
        "Eigenvector 1: \n",
        "[[ 0.36158968]\n",
        " [-0.08226889]\n",
        " [ 0.85657211]\n",
        " [ 0.35884393]]\n",
        "Eigenvalue 1: 629.5012744796966\n",
        "\n",
        "Eigenvector 2: \n",
        "[[-0.65653988]\n",
        " [-0.72971237]\n",
        " [ 0.1757674 ]\n",
        " [ 0.07470647]]\n",
        "Eigenvalue 2: 36.09429217249981\n",
        "\n",
        "Eigenvector 3: \n",
        "[[-0.58099728]\n",
        " [ 0.59641809]\n",
        " [ 0.07252408]\n",
        " [ 0.54906091]]\n",
        "Eigenvalue 3: 11.70006230602906\n",
        "\n",
        "Eigenvector 4: \n",
        "[[ 0.31725455]\n",
        " [-0.32409435]\n",
        " [-0.47971899]\n",
        " [ 0.75112056]]\n",
        "Eigenvalue 4: 3.5287710417741676\n"
       ]
      }
     ],
     "prompt_number": 166
    },
    {
     "cell_type": "markdown",
     "metadata": {},
     "source": [
      "### Checking the eigenvector-eigenvalue calculation\n",
      "\n",
      "Let us quickly check that the eigenvector-eigenvalue calculation is correct and satisfy the equation\n",
      "\n",
      " $ \\pmb\\Sigma\\pmb{v} =  \\lambda\\pmb{v} $  \n",
      "\n",
      "<br>\n",
      "where  \n",
      "$ \\pmb\\Sigma = Covariance \\; matrix, \\; \\pmb{v} = \\; Eigenvector, \\; \\lambda = \\; Eigenvalue$"
     ]
    },
    {
     "cell_type": "code",
     "collapsed": false,
     "input": [
      "for i in range(len(eig_vals)):\n",
      "    eigv = eig_vecs[:,i].reshape(1,4).T\n",
      "    np.testing.assert_array_almost_equal(scatter_matrix.dot(eigv), eig_vals[i] * eigv, \n",
      "                                         decimal=6, err_msg='', verbose=True)\n",
      "print('ok')"
     ],
     "language": "python",
     "metadata": {},
     "outputs": [
      {
       "output_type": "stream",
       "stream": "stdout",
       "text": [
        "ok\n"
       ]
      }
     ],
     "prompt_number": 167
    },
    {
     "cell_type": "markdown",
     "metadata": {},
     "source": [
      "### Sorting the eigenvectors by decreasing eigenvalues"
     ]
    },
    {
     "cell_type": "code",
     "collapsed": false,
     "input": [
      "# Make a list of (eigenvalue, eigenvector) tuples\n",
      "eig_pairs = [(np.abs(eig_vals[i]), eig_vecs[:,i]) for i in range(len(eig_vals))]\n",
      "\n",
      "# Sort the (eigenvalue, eigenvector) tuples from high to low\n",
      "eig_pairs.sort()\n",
      "eig_pairs.reverse()\n",
      "\n",
      "# Visually confirm that the list is correctly sorted by decreasing eigenvalues\n",
      "for i in eig_pairs:\n",
      "    print(i[0])"
     ],
     "language": "python",
     "metadata": {},
     "outputs": [
      {
       "output_type": "stream",
       "stream": "stdout",
       "text": [
        "629.50127448\n",
        "36.0942921725\n",
        "11.700062306\n",
        "3.52877104177\n"
       ]
      }
     ],
     "prompt_number": 168
    },
    {
     "cell_type": "markdown",
     "metadata": {},
     "source": [
      "### Choosing *k* eigenvectors with the largest eigenvalues\n",
      "Here, for reducing a 4-dimensional feature space to a 2-dimensional feature subspace, we are combining the two eigenvectors with the highest eigenvalues to construct our $d \\times k$-dimensional eigenvector matrix $\\pmb W$."
     ]
    },
    {
     "cell_type": "code",
     "collapsed": false,
     "input": [
      "matrix_w = np.hstack((eig_pairs[0][1].reshape(4,1), eig_pairs[1][1].reshape(4,1)))\n",
      "print('Matrix W:\\n', matrix_w)"
     ],
     "language": "python",
     "metadata": {},
     "outputs": [
      {
       "output_type": "stream",
       "stream": "stdout",
       "text": [
        "Matrix W:\n",
        " [[ 0.36158968 -0.65653988]\n",
        " [-0.08226889 -0.72971237]\n",
        " [ 0.85657211  0.1757674 ]\n",
        " [ 0.35884393  0.07470647]]\n"
       ]
      }
     ],
     "prompt_number": 169
    },
    {
     "cell_type": "markdown",
     "metadata": {},
     "source": [
      "### Transforming the samples onto the new subspace"
     ]
    },
    {
     "cell_type": "code",
     "collapsed": false,
     "input": [
      "transformed = matrix_w.T.dot(all_samples[0:4,:])"
     ],
     "language": "python",
     "metadata": {},
     "outputs": [],
     "prompt_number": 170
    },
    {
     "cell_type": "code",
     "collapsed": false,
     "input": [
      "fig = plt.figure(figsize=(8,8))\n",
      "plt.plot(transformed[0,0:50], transformed[1,0:50], 'o', markersize=7, color='blue', alpha=0.5, label='class1')\n",
      "plt.plot(transformed[0,50:100], transformed[1,50:100], '^', markersize=7, color='red', alpha=0.5, label='class2')\n",
      "plt.plot(transformed[0,100:150], transformed[1,100:150], 's', markersize=7, color='green', alpha=0.5, label='class3')\n",
      "plt.xlabel('x_values')\n",
      "plt.ylabel('y_values')\n",
      "plt.legend()\n",
      "plt.title('Transformed samples with class labels')\n",
      "\n",
      "plt.show()"
     ],
     "language": "python",
     "metadata": {},
     "outputs": [
      {
       "metadata": {},
       "output_type": "display_data",
       "png": "[encoded data removed]",
       "text": [
        "<matplotlib.figure.Figure at 0x1058bd240>"
       ]
      }
     ],
     "prompt_number": 172
    },
    {
     "cell_type": "markdown",
     "metadata": {},
     "source": [
      "<br>\n",
      "<br>\n",
      "<a name=\"task5b\"></a>\n",
      "# Task 5 b)"
     ]
    },
    {
     "cell_type": "code",
     "collapsed": false,
     "input": [
      "import numpy as np\n",
      "\n",
      "all_samples = np.genfromtxt('./data/iris.txt')"
     ],
     "language": "python",
     "metadata": {},
     "outputs": [],
     "prompt_number": 173
    },
    {
     "cell_type": "markdown",
     "metadata": {},
     "source": [
      "### Computing the d-dimensional mean vectors"
     ]
    },
    {
     "cell_type": "code",
     "collapsed": false,
     "input": [
      "mean_vecs = {}\n",
      "\n",
      "for i in range(1,4):\n",
      "    mean_d1 = np.mean(all_samples[all_samples[:,4] == i][:,0])\n",
      "    mean_d2 = np.mean(all_samples[all_samples[:,4] == i][:,1])\n",
      "    mean_d3 = np.mean(all_samples[all_samples[:,4] == i][:,2])\n",
      "    mean_d4 = np.mean(all_samples[all_samples[:,4] == i][:,3])\n",
      "    mean_vector = np.array([[mean_d1],[mean_d2],[mean_d3],[mean_d4]])\n",
      "    mean_vecs[i] = mean_vector\n",
      "    \n",
      "for i in range(1,4):\n",
      "    print('\\nMean vector class {}'.format(i))\n",
      "    print(mean_vecs[i])"
     ],
     "language": "python",
     "metadata": {},
     "outputs": [
      {
       "output_type": "stream",
       "stream": "stdout",
       "text": [
        "\n",
        "Mean vector class 1\n",
        "[[ 5.006]\n",
        " [ 3.418]\n",
        " [ 1.464]\n",
        " [ 0.244]]\n",
        "\n",
        "Mean vector class 2\n",
        "[[ 5.936]\n",
        " [ 2.77 ]\n",
        " [ 4.26 ]\n",
        " [ 1.326]]\n",
        "\n",
        "Mean vector class 3\n",
        "[[ 6.588]\n",
        " [ 2.974]\n",
        " [ 5.552]\n",
        " [ 2.026]]\n"
       ]
      }
     ],
     "prompt_number": 174
    },
    {
     "cell_type": "markdown",
     "metadata": {},
     "source": [
      "## Computing the Scatter Matrices"
     ]
    },
    {
     "cell_type": "markdown",
     "metadata": {},
     "source": [
      "### Within-class scatter matrix $S_W$\n",
      "\n",
      "The **within-class scatter** matrix $S_W$ is computed by the following equation:  \n",
      "\n",
      "$S_W = \\sum\\limits_{i=1}^{c} S_i$\n",
      "\n",
      "where  \n",
      "$S_i = \\sum\\limits_{\\pmb x \\in D_i}^n (\\pmb x - \\pmb m_i)\\;(\\pmb x - \\pmb m_i)^T$  \n",
      "(scatter matrix for every class) \n",
      "\n",
      "and $\\pmb m_i$ is the mean vector    \n",
      "$\\pmb m_i = \\frac{1}{n_i} \\sum\\limits_{\\pmb x \\in D_i}^n \\; \\pmb x_k$"
     ]
    },
    {
     "cell_type": "code",
     "collapsed": false,
     "input": [
      "class1_sample = all_samples[all_samples[:,4] == 1][:,0:4].T\n",
      "scatter_matrix_w1 = np.zeros((4,4))\n",
      "for i in range(class1_sample.shape[1]):\n",
      "    scatter_matrix_w1 += (class1_sample[:,i].reshape(4,1) - \\\n",
      "                        mean_vecs[1]).dot((class1_sample[:,i].reshape(4,1) - mean_vecs[1]).T)\n",
      "print('within-class Scatter Matrix 1:\\n', scatter_matrix_w1)\n",
      "\n",
      "class2_sample = all_samples[all_samples[:,4] == 2][:,0:4].T\n",
      "scatter_matrix_w2 = np.zeros((4,4))\n",
      "for i in range(class2_sample.shape[1]):\n",
      "    scatter_matrix_w2 += (class2_sample[:,i].reshape(4,1) - \\\n",
      "                        mean_vecs[2]).dot((class2_sample[:,i].reshape(4,1) - mean_vecs[2]).T)\n",
      "print('\\nwithin-class Scatter Matrix 2:\\n', scatter_matrix_w2)\n",
      "\n",
      "class3_sample = all_samples[all_samples[:,4] == 3][:,0:4].T\n",
      "scatter_matrix_w3 = np.zeros((4,4))\n",
      "for i in range(class3_sample.shape[1]):\n",
      "    scatter_matrix_w3 += (class3_sample[:,i].reshape(4,1) - \\\n",
      "                        mean_vecs[3]).dot((class3_sample[:,i].reshape(4,1) - mean_vecs[3]).T)\n",
      "print('\\nwithin-class Scatter Matrix 3:\\n', scatter_matrix_w3)"
     ],
     "language": "python",
     "metadata": {},
     "outputs": [
      {
       "output_type": "stream",
       "stream": "stdout",
       "text": [
        "within-class Scatter Matrix 1:\n",
        " [[ 6.0882  4.9146  0.7908  0.5168]\n",
        " [ 4.9146  7.1138  0.5724  0.5604]\n",
        " [ 0.7908  0.5724  1.4752  0.2792]\n",
        " [ 0.5168  0.5604  0.2792  0.5632]]\n",
        "\n",
        "within-class Scatter Matrix 2:\n",
        " [[ 13.0552   4.174    8.962    2.7332]\n",
        " [  4.174    4.825    4.05     2.019 ]\n",
        " [  8.962    4.05    10.82     3.582 ]\n",
        " [  2.7332   2.019    3.582    1.9162]]\n",
        "\n",
        "within-class Scatter Matrix 3:\n",
        " [[ 19.8128   4.5944  14.8612   2.4056]\n",
        " [  4.5944   5.0962   3.4976   2.3338]\n",
        " [ 14.8612   3.4976  14.9248   2.3924]\n",
        " [  2.4056   2.3338   2.3924   3.6962]]\n"
       ]
      }
     ],
     "prompt_number": 175
    },
    {
     "cell_type": "code",
     "collapsed": false,
     "input": [
      "S_W = scatter_matrix_w1 + scatter_matrix_w2 + scatter_matrix_w3\n",
      "\n",
      "print('within-class Scatter Matrix (S_W):\\n', S_W)"
     ],
     "language": "python",
     "metadata": {},
     "outputs": [
      {
       "output_type": "stream",
       "stream": "stdout",
       "text": [
        "within-class Scatter Matrix (S_W):\n",
        " [[ 38.9562  13.683   24.614    5.6556]\n",
        " [ 13.683   17.035    8.12     4.9132]\n",
        " [ 24.614    8.12    27.22     6.2536]\n",
        " [  5.6556   4.9132   6.2536   6.1756]]\n"
       ]
      }
     ],
     "prompt_number": 176
    },
    {
     "cell_type": "markdown",
     "metadata": {},
     "source": [
      "<br>\n",
      "<br>\n",
      "### Between-class scatter matrix $S_B$"
     ]
    },
    {
     "cell_type": "markdown",
     "metadata": {},
     "source": [
      "The **between-class scatter** matrix $S_B$ is computed by the following equation:  \n",
      "\n",
      "$S_B = \\sum\\limits_{i=1}^{c} (\\pmb m_i - \\pmb m) (\\pmb m_i - \\pmb m)^T$\n",
      "\n",
      "where  \n",
      " $\\pmb m$ is the overall mean."
     ]
    },
    {
     "cell_type": "code",
     "collapsed": false,
     "input": [
      "overall_mean = (mean_vecs[1] + mean_vecs[2] + mean_vecs[3])/3\n",
      "\n",
      "S_B1 = (mean_vecs[1] - overall_mean).dot((mean_vecs[1] - overall_mean).T)\n",
      "S_B2 = (mean_vecs[2] - overall_mean).dot((mean_vecs[2] - overall_mean).T)\n",
      "S_B3 = (mean_vecs[3] - overall_mean).dot((mean_vecs[3] - overall_mean).T)\n",
      "\n",
      "S_B = S_B1 + S_B2 + S_B3\n",
      "\n",
      "print('between-class Scatter Matrix (S_B):\\n', S_B)"
     ],
     "language": "python",
     "metadata": {},
     "outputs": [
      {
       "output_type": "stream",
       "stream": "stdout",
       "text": [
        "between-class Scatter Matrix (S_B):\n",
        " [[ 1.26424267 -0.39068     3.30329333  1.42726133]\n",
        " [-0.39068     0.219552   -1.121104   -0.449848  ]\n",
        " [ 3.30329333 -1.121104    8.73287467  3.73816267]\n",
        " [ 1.42726133 -0.449848    3.73816267  1.61208267]]\n"
       ]
      }
     ],
     "prompt_number": 177
    },
    {
     "cell_type": "markdown",
     "metadata": {},
     "source": [
      "## Solving the generalized eigenvalue problem for the matrix $S_{W}^{-1}S_B$\n",
      "\n",
      "Next, we will solve the generalized eigenvalue problem for the matrix $S_{W}^{-1}S_B$ , which yields Fisher's Linear Discriminant.$"
     ]
    },
    {
     "cell_type": "code",
     "collapsed": false,
     "input": [
      "eig_vals, eig_vecs = np.linalg.eig(np.linalg.inv(S_W).dot(S_B))\n",
      "\n",
      "for i in range(len(eig_vals)):\n",
      "    eigvec_sc = eig_vecs[:,i].reshape(1,4).T    \n",
      "    print('\\nEigenvector {}: \\n{}'.format(i+1, eigvec_sc))\n",
      "    print('Eigenvalue {}: {}'.format(i+1, eig_vals[i]))"
     ],
     "language": "python",
     "metadata": {},
     "outputs": [
      {
       "output_type": "stream",
       "stream": "stdout",
       "text": [
        "\n",
        "Eigenvector 1: \n",
        "[[-0.20490976+0.j]\n",
        " [-0.38714331+0.j]\n",
        " [ 0.54648218+0.j]\n",
        " [ 0.71378517+0.j]]\n",
        "Eigenvalue 1: (0.6454391559945969+0j)\n",
        "\n",
        "Eigenvector 2: \n",
        "[[ 0.00898234+0.j]\n",
        " [ 0.58899857+0.j]\n",
        " [-0.25428655+0.j]\n",
        " [ 0.76703217+0.j]]\n",
        "Eigenvalue 2: (0.0055513372768009155+0j)\n",
        "\n",
        "Eigenvector 3: \n",
        "[[  6.59552794e-01-0.13533881j]\n",
        " [ -4.16463275e-04+0.05974984j]\n",
        " [  6.37294021e-02+0.05886373j]\n",
        " [ -7.31831215e-01+0.j        ]]\n",
        "Eigenvalue 3: (-7.646306958843808e-17+7.71672067875626e-18j)\n",
        "\n",
        "Eigenvector 4: \n",
        "[[  6.59552794e-01+0.13533881j]\n",
        " [ -4.16463275e-04-0.05974984j]\n",
        " [  6.37294021e-02-0.05886373j]\n",
        " [ -7.31831215e-01-0.j        ]]\n",
        "Eigenvalue 4: (-7.646306958843808e-17-7.71672067875626e-18j)\n"
       ]
      }
     ],
     "prompt_number": 178
    },
    {
     "cell_type": "markdown",
     "metadata": {},
     "source": [
      "### Checking the eigenvector-eigenvalue calculation\n",
      "\n",
      "Let us quickly check that the eigenvector-eigenvalue calculation is correct and satisfy the equation\n",
      "\n",
      " $ \\pmb A\\pmb{v} =  \\lambda\\pmb{v} $  \n",
      "\n",
      "<br>\n",
      "where  \n",
      "$ \\pmb A = S_{W}^{-1}S_B  \\;,\\; \\pmb{v} = \\; Eigenvector, \\; \\lambda = \\; Eigenvalue$"
     ]
    },
    {
     "cell_type": "code",
     "collapsed": false,
     "input": [
      "for i in range(len(eig_vals)):\n",
      "    eigv = eig_vecs[:,i].reshape(1,4).T\n",
      "    np.testing.assert_array_almost_equal(np.linalg.inv(S_W).dot(S_B).dot(eigv), eig_vals[i] * eigv, \n",
      "                                         decimal=6, err_msg='', verbose=True)\n",
      "print('ok')"
     ],
     "language": "python",
     "metadata": {},
     "outputs": [
      {
       "output_type": "stream",
       "stream": "stdout",
       "text": [
        "ok\n"
       ]
      }
     ],
     "prompt_number": 179
    },
    {
     "cell_type": "markdown",
     "metadata": {},
     "source": [
      "<br>\n",
      "##Sorting the eigenvectors by decreasing eigenvalues"
     ]
    },
    {
     "cell_type": "code",
     "collapsed": false,
     "input": [
      "# Make a list of (eigenvalue, eigenvector) tuples\n",
      "eig_pairs = [(np.abs(eig_vals[i]), eig_vecs[:,i]) for i in range(len(eig_vals))]\n",
      "\n",
      "# Sort the (eigenvalue, eigenvector) tuples from high to low\n",
      "eig_pairs = sorted(eig_pairs, key=lambda x: x[0])\n",
      "eig_pairs.reverse()\n",
      "\n",
      "# Visually confirm that the list is correctly sorted by decreasing eigenvalues\n",
      "for i in eig_pairs:\n",
      "    print(i[0])"
     ],
     "language": "python",
     "metadata": {},
     "outputs": [
      {
       "output_type": "stream",
       "stream": "stdout",
       "text": [
        "0.645439155995\n",
        "0.0055513372768\n",
        "7.68514722625e-17\n",
        "7.68514722625e-17\n"
       ]
      }
     ],
     "prompt_number": 180
    },
    {
     "cell_type": "markdown",
     "metadata": {},
     "source": [
      "### Choosing k eigenvectors with the largest eigenvalue"
     ]
    },
    {
     "cell_type": "code",
     "collapsed": false,
     "input": [
      "matrix_w = np.hstack((eig_pairs[0][1].reshape(4,1), eig_pairs[1][1].reshape(4,1)))\n",
      "print('Matrix W:\\n', matrix_w)"
     ],
     "language": "python",
     "metadata": {},
     "outputs": [
      {
       "output_type": "stream",
       "stream": "stdout",
       "text": [
        "Matrix W:\n",
        " [[-0.20490976+0.j  0.00898234+0.j]\n",
        " [-0.38714331+0.j  0.58899857+0.j]\n",
        " [ 0.54648218+0.j -0.25428655+0.j]\n",
        " [ 0.71378517+0.j  0.76703217+0.j]]\n"
       ]
      }
     ],
     "prompt_number": 181
    },
    {
     "cell_type": "markdown",
     "metadata": {},
     "source": [
      "\n",
      "## Transforming the samples onto the new subspace\n",
      "In the last step, we use the $2 \\times 4$-dimensional matrix $\\pmb W$ that we just computed to transform our samples onto the new subspace via the equation  $\\pmb y = \\pmb W^T \\times \\pmb x$."
     ]
    },
    {
     "cell_type": "code",
     "collapsed": false,
     "input": [
      "c1_transformed = matrix_w.T.dot(class1_sample)\n",
      "c2_transformed = matrix_w.T.dot(class2_sample)\n",
      "c3_transformed = matrix_w.T.dot(class3_sample)"
     ],
     "language": "python",
     "metadata": {},
     "outputs": [],
     "prompt_number": 182
    },
    {
     "cell_type": "code",
     "collapsed": false,
     "input": [
      "def plot_mda():\n",
      "    fig = plt.figure(figsize=(8,8))\n",
      "    plt.plot(c1_transformed[0,:], c1_transformed[1,], 'o', markersize=7, color='blue', alpha=0.5, label='class1')\n",
      "    plt.plot(c2_transformed[0,:], c2_transformed[1,], '^', markersize=7, color='red', alpha=0.5, label='class2')\n",
      "    plt.plot(c3_transformed[0,:], c3_transformed[1,], 's', markersize=7, color='green', alpha=0.5, label='class3')\n",
      "    plt.xlabel('x_values')\n",
      "    plt.ylabel('y_values')\n",
      "    plt.legend()\n",
      "    plt.title('Iris 4D samples onto the new 2D-subspace after MDA')\n",
      "    \n",
      "    plt.show()\n",
      "    \n",
      "plot_mda()"
     ],
     "language": "python",
     "metadata": {},
     "outputs": [
      {
       "metadata": {},
       "output_type": "display_data",
       "png": "[encoded data removed]",
       "text": [
        "<matplotlib.figure.Figure at 0x1079869b0>"
       ]
      }
     ],
     "prompt_number": 184
    },
    {
     "cell_type": "code",
     "collapsed": false,
     "input": [],
     "language": "python",
     "metadata": {},
     "outputs": []
    }
   ],
   "metadata": {}
  }
 ]
}