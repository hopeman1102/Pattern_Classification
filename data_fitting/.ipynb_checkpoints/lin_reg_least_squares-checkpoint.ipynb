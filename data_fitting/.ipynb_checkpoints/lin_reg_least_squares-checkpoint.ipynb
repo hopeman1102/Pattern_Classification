{
 "metadata": {
  "name": "",
  "signature": "sha256:31eb26fecdd2c5ba3d0118b4ef83a3c706cb6a705b0feea63dff75ab13ec6828"
 },
 "nbformat": 3,
 "nbformat_minor": 0,
 "worksheets": [
  {
   "cells": [
    {
     "cell_type": "markdown",
     "metadata": {},
     "source": [
      "Sebastian Raschka  \n",
      "last updated: 05/04/2014\n",
      "\n",
      "[Link to this IPython Notebook on GitHub](https://github.com/rasbt/python_reference/blob/master/not_so_obvious_python_stuff.ipynb)\n"
     ]
    },
    {
     "cell_type": "markdown",
     "metadata": {},
     "source": [
      "<hr>\n",
      "I am really looking forward to your comments and suggestions to improve and  \n",
      "extend this little collection! Just send me a quick note   \n",
      "via Twitter: [&#64;rasbt](https://twitter.com/rasbt)  \n",
      "or Email: [bluewoodtree@gmail.com](mailto:bluewoodtree@gmail.com)\n",
      "<hr>"
     ]
    },
    {
     "cell_type": "markdown",
     "metadata": {},
     "source": [
      "#### All code was executed in Python 3.4"
     ]
    },
    {
     "cell_type": "markdown",
     "metadata": {},
     "source": [
      "# Linear regression -  data fitting via the least squares approach"
     ]
    },
    {
     "cell_type": "markdown",
     "metadata": {},
     "source": [
      "A mathematical procedure for finding the best-fitting curve to a given set of points by minimizing the sum of the squares of the offsets (\"the residuals\") of the points from the curve. The sum of the squares of the offsets is used instead of the offset absolute values because this allows the residuals to be treated as a continuous differentiable quantity. However, because squares of the offsets are used, outlying points can have a disproportionate effect on the fit, a property which may or may not be desirable depending on the problem at hand."
     ]
    },
    {
     "cell_type": "markdown",
     "metadata": {},
     "source": [
      "![](../../Images/least_squares_vertical.png)\n",
      "![](../../Images/least_squares_perpendicular.png)"
     ]
    },
    {
     "cell_type": "markdown",
     "metadata": {},
     "source": [
      "The goal is to compute the best fit to *n* points $(x_i, y_i)$ with $i=1,2,...n,$ via linear equation of the form  \n",
      "$f(x) = a + bx$.  \n",
      "Here, we assume that the y-component is  functionally dependent on the x-component.  \n",
      "In a cartesian coordinate system, *a* is the intercept of the straight line with the y-axis, and *b* is the slope of this line."
     ]
    },
    {
     "cell_type": "markdown",
     "metadata": {},
     "source": [
      "To compute the best fit, the approach of the least-squares method is to minimize the squared distance for each point to the straight line.  \n",
      "In terms of mathematical equations, the slope *b* and the intercept *a* can be expressed as follows:"
     ]
    },
    {
     "cell_type": "markdown",
     "metadata": {},
     "source": [
      "$b = \\frac{covariance_{x,y}}{variance_x}$  \n",
      "\n",
      "\n",
      "$a = \\bar{y} - b\\bar{x}$"
     ]
    },
    {
     "cell_type": "markdown",
     "metadata": {},
     "source": [
      "with  \n",
      "\n",
      "\n",
      "$covariance_{x,y} = S_{xy} = \\sum_{i=1}^{n} (x_i - \\bar{x})(y_i - \\bar{y})$  \n",
      "\n",
      "\n",
      "$variance_{x} = \\sigma^2 = \\sum_{i=1}^{n} (x_i - \\bar{x})^2$"
     ]
    },
    {
     "cell_type": "markdown",
     "metadata": {},
     "source": [
      "<a name='sample_data'></a>\n",
      "<br>\n",
      "<br>"
     ]
    },
    {
     "cell_type": "markdown",
     "metadata": {},
     "source": [
      "## Generating sample data"
     ]
    },
    {
     "cell_type": "markdown",
     "metadata": {},
     "source": [
      "First, we will generate some sample data:\n",
      "- 100 sample points for the x-component within the range [0,100)  \n",
      "- 100 sample points for the y-component within the range [50,150)  \n",
      "where each sample point is multiplied by a random value within\n",
      "the range [0.8, 12)."
     ]
    },
    {
     "cell_type": "code",
     "collapsed": false,
     "input": [
      "import random\n",
      "random.seed(1234)\n",
      "\n",
      "x = [x_i*random.randrange(8,12)/10 for x_i in range(100)]\n",
      "y = [y_i*random.randrange(8,12)/10 for y_i in range(50,150)]"
     ],
     "language": "python",
     "metadata": {},
     "outputs": [],
     "prompt_number": 67
    },
    {
     "cell_type": "markdown",
     "metadata": {},
     "source": [
      "## A step-by-step solution using standard library functions"
     ]
    },
    {
     "cell_type": "markdown",
     "metadata": {},
     "source": [
      "In order to solve the linear equation $f(x) = a + bx$ of the least-squares fit, let us step-wise define some simple functions."
     ]
    },
    {
     "cell_type": "code",
     "collapsed": false,
     "input": [
      "def calc_cov(x, y):\n",
      "    \"\"\" Calculates the covariance between to lists of values. \"\"\"\n",
      "    x_avg = sum(x)/len(x)\n",
      "    y_avg = sum(y)/len(y)\n",
      "    return sum([(x_i - x_avg)*(y_i - y_avg) for x_i,y_i in zip(x,y)])"
     ],
     "language": "python",
     "metadata": {},
     "outputs": [],
     "prompt_number": 29
    },
    {
     "cell_type": "code",
     "collapsed": false,
     "input": [
      "def calc_var(x):\n",
      "    \"\"\" Calculates the variance from a list of values. \"\"\"\n",
      "    x_avg = sum(x)/len(x)\n",
      "    return sum([(x_i - x_avg)**2 for x_i in x])"
     ],
     "language": "python",
     "metadata": {},
     "outputs": [],
     "prompt_number": 9
    },
    {
     "cell_type": "code",
     "collapsed": false,
     "input": [
      "def calc_slope(cov_xy, var_x):\n",
      "    \"\"\" Calculates the linear slope based on covariance and variance. \"\"\"\n",
      "    return cov_xy / var_x"
     ],
     "language": "python",
     "metadata": {},
     "outputs": [],
     "prompt_number": 6
    },
    {
     "cell_type": "code",
     "collapsed": false,
     "input": [
      "def calc_y_intercept(x, y, slope):\n",
      "    \"\"\" Calculates the y-axis intercept of a straight line. \"\"\"\n",
      "    x_avg = sum(x)/len(x)\n",
      "    y_avg = sum(y)/len(y)\n",
      "    return y_avg - slope*x_avg"
     ],
     "language": "python",
     "metadata": {},
     "outputs": [],
     "prompt_number": 7
    },
    {
     "cell_type": "code",
     "collapsed": false,
     "input": [
      "def linear_fit(x, y):\n",
      "    \"\"\" Calculates slope and y-axis intercept for a 2D least-squares fit. \"\"\"\n",
      "    cov_xy = calc_cov(x, y)\n",
      "    var_x = calc_var(x)\n",
      "    slope = calc_slope(cov_xy, var_x)\n",
      "    y_interc = calc_y_intercept(x, y, slope)\n",
      "    return {'slope':slope, 'y_intercept': y_interc}"
     ],
     "language": "python",
     "metadata": {},
     "outputs": [],
     "prompt_number": 14
    },
    {
     "cell_type": "code",
     "collapsed": false,
     "input": [
      "def fit_line(x, slope, y_intercept):\n",
      "    return y_intercept + x*slope"
     ],
     "language": "python",
     "metadata": {},
     "outputs": [],
     "prompt_number": 17
    },
    {
     "cell_type": "code",
     "collapsed": false,
     "input": [
      "fit = linear_fit(x, y)\n",
      "\n",
      "ftext = 'y = a + bx = {:.3f} + {:.3f}x'\\\n",
      "        .format(fit['y_intercept'], \n",
      "                fit['slope'])\n",
      "print(ftext)"
     ],
     "language": "python",
     "metadata": {},
     "outputs": [
      {
       "output_type": "stream",
       "stream": "stdout",
       "text": [
        "y = a + bx = 50.093 + 0.981x\n"
       ]
      }
     ],
     "prompt_number": 47
    },
    {
     "cell_type": "code",
     "collapsed": false,
     "input": [
      "%pylab inline\n",
      "from matplotlib import pyplot as plt\n",
      "\n",
      "line_x = list(range(round(max(x)) + 1))\n",
      "line_y = [fit_line(x_i, fit['slope'], fit['y_intercept']) for x_i in line_x]\n",
      "\n",
      "plt.figure(figsize=(10,10))\n",
      "plt.scatter(x,y)\n",
      "plt.plot(line_x, line_y, color='red', lw='2')\n",
      "\n",
      "plt.ylabel('y')\n",
      "plt.xlabel('x')\n",
      "plt.figtext(.15,.8, ftext, fontsize=11, ha='left')\n",
      "\n",
      "plt.show()"
     ],
     "language": "python",
     "metadata": {},
     "outputs": [
      {
       "output_type": "stream",
       "stream": "stdout",
       "text": [
        "Populating the interactive namespace from numpy and matplotlib\n"
       ]
      },
      {
       "metadata": {},
       "output_type": "display_data",
       "png": "[encoded data removed]",
       "text": [
        "<matplotlib.figure.Figure at 0x1059c1ef0>"
       ]
      }
     ],
     "prompt_number": 60
    },
    {
     "cell_type": "markdown",
     "metadata": {},
     "source": [
      "## Linear regression via least-squares fit using numpy"
     ]
    },
    {
     "cell_type": "code",
     "collapsed": false,
     "input": [
      "import numpy as np\n",
      "\n",
      "A = np.vstack([x, np.ones(len(x))]).T\n",
      "np_slope, np_y_interc = np.linalg.lstsq(A,y)[0]"
     ],
     "language": "python",
     "metadata": {},
     "outputs": [],
     "prompt_number": 62
    },
    {
     "cell_type": "code",
     "collapsed": false,
     "input": [
      "ftext = 'y = a + bx = {:.3f} + {:.3f}x'\\\n",
      "        .format(np_y_interc, np_slope)\n",
      "print(ftext)"
     ],
     "language": "python",
     "metadata": {},
     "outputs": [
      {
       "output_type": "stream",
       "stream": "stdout",
       "text": [
        "y = a + bx = 50.093 + 0.981x\n"
       ]
      }
     ],
     "prompt_number": 57
    },
    {
     "cell_type": "code",
     "collapsed": false,
     "input": [
      "%pylab inline\n",
      "from matplotlib import pyplot as plt\n",
      "\n",
      "line_x = list(range(round(max(x)) + 1))\n",
      "line_y = [fit_line(x_i, np_slope, np_y_interc) for x_i in line_x]\n",
      "\n",
      "plt.figure(figsize=(10,10))\n",
      "plt.scatter(x,y)\n",
      "plt.plot(line_x, line_y, color='red', lw='2')\n",
      "\n",
      "plt.ylabel('y')\n",
      "plt.xlabel('x')\n",
      "plt.figtext(.15,.8, ftext, fontsize=11, ha='left')\n",
      "\n",
      "plt.show()"
     ],
     "language": "python",
     "metadata": {},
     "outputs": [
      {
       "output_type": "stream",
       "stream": "stdout",
       "text": [
        "Populating the interactive namespace from numpy and matplotlib\n"
       ]
      },
      {
       "metadata": {},
       "output_type": "display_data",
       "png": "[encoded data removed]",
       "text": [
        "<matplotlib.figure.Figure at 0x10595bf60>"
       ]
      }
     ],
     "prompt_number": 63
    },
    {
     "cell_type": "markdown",
     "metadata": {},
     "source": [
      "## Benchmarking the step-by-step and numpy approach"
     ]
    },
    {
     "cell_type": "code",
     "collapsed": false,
     "input": [
      "import random\n",
      "random.seed(12345)\n",
      "\n",
      "x = [x_i*random.randrange(8,12)/10 for x_i in range(10000)]\n",
      "y = [y_i*random.randrange(8,12)/10 for y_i in range(500,10500)]"
     ],
     "language": "python",
     "metadata": {},
     "outputs": [],
     "prompt_number": 71
    },
    {
     "cell_type": "code",
     "collapsed": false,
     "input": [
      "import numpy as np\n",
      "\n",
      "def time_linear_fit(x, y):\n",
      "    \"\"\" Calculates slope and y-axis intercept for a 2D least-squares fit. \"\"\"\n",
      "    \n",
      "    x_avg = sum(x)/len(x)\n",
      "    y_avg = sum(y)/len(y)\n",
      "    \n",
      "    var_x = sum([(x_i - x_avg)**2 for x_i in x])\n",
      "    cov_xy = sum([(x_i - x_avg)*(y_i - y_avg) for x_i,y_i in zip(x,y)])\n",
      "    slope = cov_xy / var_x\n",
      "    y_interc = y_avg - slope*x_avg\n",
      "    return slope, y_interc\n",
      "\n",
      "def time_np_fit(x, y):\n",
      "    A = np.vstack([x, np.ones(len(x))]).T\n",
      "    return np.linalg.lstsq(A,y)[0]"
     ],
     "language": "python",
     "metadata": {},
     "outputs": [],
     "prompt_number": 76
    },
    {
     "cell_type": "code",
     "collapsed": false,
     "input": [
      "import prettytable\n",
      "\n",
      "slope, y_interc = time_linear_fit(x, y)\n",
      "np_slope, np_y_interc = time_np_fit(x, y)\n",
      "\n",
      "fit_table = prettytable.PrettyTable([\"\", \"slope\", \"y-intercept\"])\n",
      "fit_table.add_row([\"std. lib.\", slope, y_interc])\n",
      "fit_table.add_row([\"numpy\", np_slope, np_y_interc])\n",
      "\n",
      "print(fit_table)"
     ],
     "language": "python",
     "metadata": {},
     "outputs": [
      {
       "output_type": "stream",
       "stream": "stdout",
       "text": [
        "+-----------+----------------+--------------+\n",
        "|           |     slope      | y-intercept  |\n",
        "+-----------+----------------+--------------+\n",
        "| std. lib. | 0.947546873146 | 739.24494137 |\n",
        "|   numpy   | 0.947546873146 | 739.24494137 |\n",
        "+-----------+----------------+--------------+\n"
       ]
      }
     ],
     "prompt_number": 77
    },
    {
     "cell_type": "code",
     "collapsed": false,
     "input": [
      "import timeit\n",
      "\n",
      "%timeit time_linear_fit(x, y)\n",
      "%timeit time_np_fit(x, y)"
     ],
     "language": "python",
     "metadata": {},
     "outputs": [
      {
       "output_type": "stream",
       "stream": "stdout",
       "text": [
        "10 loops, best of 3: 51.3 ms per loop\n",
        "100 loops, best of 3: 2.83 ms per loop"
       ]
      },
      {
       "output_type": "stream",
       "stream": "stdout",
       "text": [
        "\n"
       ]
      }
     ],
     "prompt_number": 78
    },
    {
     "cell_type": "code",
     "collapsed": false,
     "input": [
      "%load_ext cythonmagic\n",
      "%%cython"
     ],
     "language": "python",
     "metadata": {},
     "outputs": [
      {
       "ename": "SyntaxError",
       "evalue": "invalid syntax (<ipython-input-80-d68c98e32e88>, line 2)",
       "output_type": "pyerr",
       "traceback": [
        "\u001b[0;36m  File \u001b[0;32m\"<ipython-input-80-d68c98e32e88>\"\u001b[0;36m, line \u001b[0;32m2\u001b[0m\n\u001b[0;31m    %%cython\u001b[0m\n\u001b[0m    ^\u001b[0m\n\u001b[0;31mSyntaxError\u001b[0m\u001b[0;31m:\u001b[0m invalid syntax\n"
       ]
      }
     ],
     "prompt_number": 80
    },
    {
     "cell_type": "code",
     "collapsed": false,
     "input": [],
     "language": "python",
     "metadata": {},
     "outputs": []
    }
   ],
   "metadata": {}
  }
 ]
}